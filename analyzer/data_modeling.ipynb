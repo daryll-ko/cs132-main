{
 "cells": [
  {
   "attachments": {},
   "cell_type": "markdown",
   "metadata": {
    "id": "R_EdFgghIf99"
   },
   "source": [
    "# Hello again!\n",
    "\n",
    "This is Group 9's Jupyter Notebook for data modeling & analysis. Now that we've cleaned up and explored our data, it's time to make use of machine learning models to figure out trends in the data.\n",
    "\n",
    "As always, we'll try to make this fun to read through. Enjoy!\n",
    "\n",
    "(Disclaimer: The graphs here have minute differences from those shown in our poster, since we did some further cleaning and fine-tuning. The main results are exactly the same, though.)\n",
    "\n",
    "---\n",
    "\n",
    "As always, let's import the things that we need:"
   ]
  },
  {
   "cell_type": "code",
   "execution_count": 100,
   "metadata": {},
   "outputs": [
    {
     "name": "stdout",
     "output_type": "stream",
     "text": [
      "Requirement already satisfied: emoji in /Users/macintoshhd/.pyenv/versions/3.11.0/lib/python3.11/site-packages (2.6.0)\n",
      "Note: you may need to restart the kernel to use updated packages.\n",
      "Requirement already satisfied: pyspellchecker in /Users/macintoshhd/.pyenv/versions/3.11.0/lib/python3.11/site-packages (0.7.2)\n",
      "Note: you may need to restart the kernel to use updated packages.\n"
     ]
    }
   ],
   "source": [
    "%pip install emoji --upgrade\n",
    "%pip install pyspellchecker"
   ]
  },
  {
   "cell_type": "code",
   "execution_count": 101,
   "metadata": {
    "id": "Bt0Tkc9hYUKQ"
   },
   "outputs": [],
   "source": [
    "import emoji\n",
    "import matplotlib.pyplot as plt\n",
    "import nltk\n",
    "import numpy as np\n",
    "import pandas as pd\n",
    "import plotly.express as px\n",
    "import re\n",
    "import seaborn as sns\n",
    "import statsmodels.api as sm\n",
    "import textwrap\n",
    "\n",
    "from nltk.corpus import stopwords\n",
    "from nltk.stem import PorterStemmer, WordNetLemmatizer\n",
    "from nltk.tokenize import word_tokenize\n",
    "from sklearn import decomposition\n",
    "from sklearn.cluster import KMeans\n",
    "from sklearn.decomposition import LatentDirichletAllocation\n",
    "from sklearn.feature_extraction.text import CountVectorizer, TfidfVectorizer\n",
    "from sklearn.linear_model import LinearRegression\n",
    "from sklearn.manifold import TSNE\n",
    "from sklearn.metrics import r2_score, mean_squared_error\n",
    "from spellchecker import SpellChecker\n",
    "from textblob import TextBlob"
   ]
  },
  {
   "attachments": {},
   "cell_type": "markdown",
   "metadata": {
    "id": "z3LLbWcWSxGl"
   },
   "source": [
    "# Machine Learning\n",
    "\n",
    "### Describe the structure and mechanism of the chosen model\n",
    "\n",
    "The machine learning model we'll use is called __Latent Dirichlet Allocation (LDA)__. You know how a tweet is made up of __tokens__ from data exploration? If we assign a set number of __topics__, then each topic has a bunch of tokens that belong to it. Once we know the tokens related to each topic, we can classify our tweets by these topics.\n",
    "\n",
    "Before going further, we need the processed dataset from data exploration. This is again hosted in one of Daryll's GitHub repositories, so we'll yoink that into this notebook:"
   ]
  },
  {
   "cell_type": "code",
   "execution_count": 113,
   "metadata": {
    "id": "uOTM15B5Z1G8"
   },
   "outputs": [],
   "source": [
    "CSV_PATH = \"https://raw.githubusercontent.com/daryll-ko/cs132-main/main/analyzer/processed_data_.csv\""
   ]
  },
  {
   "cell_type": "code",
   "execution_count": 114,
   "metadata": {
    "colab": {
     "base_uri": "https://localhost:8080/"
    },
    "id": "VQ3A_MjyZ42Z",
    "outputId": "ff978c53-e9ab-4dc7-de44-8387abae1478"
   },
   "outputs": [
    {
     "ename": "HTTPError",
     "evalue": "HTTP Error 404: Not Found",
     "output_type": "error",
     "traceback": [
      "\u001b[0;31m---------------------------------------------------------------------------\u001b[0m",
      "\u001b[0;31mHTTPError\u001b[0m                                 Traceback (most recent call last)",
      "Cell \u001b[0;32mIn[114], line 1\u001b[0m\n\u001b[0;32m----> 1\u001b[0m df \u001b[39m=\u001b[39m pd\u001b[39m.\u001b[39;49mread_csv(CSV_PATH)\n",
      "File \u001b[0;32m~/.pyenv/versions/3.11.0/lib/python3.11/site-packages/pandas/util/_decorators.py:211\u001b[0m, in \u001b[0;36mdeprecate_kwarg.<locals>._deprecate_kwarg.<locals>.wrapper\u001b[0;34m(*args, **kwargs)\u001b[0m\n\u001b[1;32m    209\u001b[0m     \u001b[39melse\u001b[39;00m:\n\u001b[1;32m    210\u001b[0m         kwargs[new_arg_name] \u001b[39m=\u001b[39m new_arg_value\n\u001b[0;32m--> 211\u001b[0m \u001b[39mreturn\u001b[39;00m func(\u001b[39m*\u001b[39;49margs, \u001b[39m*\u001b[39;49m\u001b[39m*\u001b[39;49mkwargs)\n",
      "File \u001b[0;32m~/.pyenv/versions/3.11.0/lib/python3.11/site-packages/pandas/util/_decorators.py:331\u001b[0m, in \u001b[0;36mdeprecate_nonkeyword_arguments.<locals>.decorate.<locals>.wrapper\u001b[0;34m(*args, **kwargs)\u001b[0m\n\u001b[1;32m    325\u001b[0m \u001b[39mif\u001b[39;00m \u001b[39mlen\u001b[39m(args) \u001b[39m>\u001b[39m num_allow_args:\n\u001b[1;32m    326\u001b[0m     warnings\u001b[39m.\u001b[39mwarn(\n\u001b[1;32m    327\u001b[0m         msg\u001b[39m.\u001b[39mformat(arguments\u001b[39m=\u001b[39m_format_argument_list(allow_args)),\n\u001b[1;32m    328\u001b[0m         \u001b[39mFutureWarning\u001b[39;00m,\n\u001b[1;32m    329\u001b[0m         stacklevel\u001b[39m=\u001b[39mfind_stack_level(),\n\u001b[1;32m    330\u001b[0m     )\n\u001b[0;32m--> 331\u001b[0m \u001b[39mreturn\u001b[39;00m func(\u001b[39m*\u001b[39;49margs, \u001b[39m*\u001b[39;49m\u001b[39m*\u001b[39;49mkwargs)\n",
      "File \u001b[0;32m~/.pyenv/versions/3.11.0/lib/python3.11/site-packages/pandas/io/parsers/readers.py:950\u001b[0m, in \u001b[0;36mread_csv\u001b[0;34m(filepath_or_buffer, sep, delimiter, header, names, index_col, usecols, squeeze, prefix, mangle_dupe_cols, dtype, engine, converters, true_values, false_values, skipinitialspace, skiprows, skipfooter, nrows, na_values, keep_default_na, na_filter, verbose, skip_blank_lines, parse_dates, infer_datetime_format, keep_date_col, date_parser, dayfirst, cache_dates, iterator, chunksize, compression, thousands, decimal, lineterminator, quotechar, quoting, doublequote, escapechar, comment, encoding, encoding_errors, dialect, error_bad_lines, warn_bad_lines, on_bad_lines, delim_whitespace, low_memory, memory_map, float_precision, storage_options)\u001b[0m\n\u001b[1;32m    935\u001b[0m kwds_defaults \u001b[39m=\u001b[39m _refine_defaults_read(\n\u001b[1;32m    936\u001b[0m     dialect,\n\u001b[1;32m    937\u001b[0m     delimiter,\n\u001b[0;32m   (...)\u001b[0m\n\u001b[1;32m    946\u001b[0m     defaults\u001b[39m=\u001b[39m{\u001b[39m\"\u001b[39m\u001b[39mdelimiter\u001b[39m\u001b[39m\"\u001b[39m: \u001b[39m\"\u001b[39m\u001b[39m,\u001b[39m\u001b[39m\"\u001b[39m},\n\u001b[1;32m    947\u001b[0m )\n\u001b[1;32m    948\u001b[0m kwds\u001b[39m.\u001b[39mupdate(kwds_defaults)\n\u001b[0;32m--> 950\u001b[0m \u001b[39mreturn\u001b[39;00m _read(filepath_or_buffer, kwds)\n",
      "File \u001b[0;32m~/.pyenv/versions/3.11.0/lib/python3.11/site-packages/pandas/io/parsers/readers.py:605\u001b[0m, in \u001b[0;36m_read\u001b[0;34m(filepath_or_buffer, kwds)\u001b[0m\n\u001b[1;32m    602\u001b[0m _validate_names(kwds\u001b[39m.\u001b[39mget(\u001b[39m\"\u001b[39m\u001b[39mnames\u001b[39m\u001b[39m\"\u001b[39m, \u001b[39mNone\u001b[39;00m))\n\u001b[1;32m    604\u001b[0m \u001b[39m# Create the parser.\u001b[39;00m\n\u001b[0;32m--> 605\u001b[0m parser \u001b[39m=\u001b[39m TextFileReader(filepath_or_buffer, \u001b[39m*\u001b[39;49m\u001b[39m*\u001b[39;49mkwds)\n\u001b[1;32m    607\u001b[0m \u001b[39mif\u001b[39;00m chunksize \u001b[39mor\u001b[39;00m iterator:\n\u001b[1;32m    608\u001b[0m     \u001b[39mreturn\u001b[39;00m parser\n",
      "File \u001b[0;32m~/.pyenv/versions/3.11.0/lib/python3.11/site-packages/pandas/io/parsers/readers.py:1442\u001b[0m, in \u001b[0;36mTextFileReader.__init__\u001b[0;34m(self, f, engine, **kwds)\u001b[0m\n\u001b[1;32m   1439\u001b[0m     \u001b[39mself\u001b[39m\u001b[39m.\u001b[39moptions[\u001b[39m\"\u001b[39m\u001b[39mhas_index_names\u001b[39m\u001b[39m\"\u001b[39m] \u001b[39m=\u001b[39m kwds[\u001b[39m\"\u001b[39m\u001b[39mhas_index_names\u001b[39m\u001b[39m\"\u001b[39m]\n\u001b[1;32m   1441\u001b[0m \u001b[39mself\u001b[39m\u001b[39m.\u001b[39mhandles: IOHandles \u001b[39m|\u001b[39m \u001b[39mNone\u001b[39;00m \u001b[39m=\u001b[39m \u001b[39mNone\u001b[39;00m\n\u001b[0;32m-> 1442\u001b[0m \u001b[39mself\u001b[39m\u001b[39m.\u001b[39m_engine \u001b[39m=\u001b[39m \u001b[39mself\u001b[39;49m\u001b[39m.\u001b[39;49m_make_engine(f, \u001b[39mself\u001b[39;49m\u001b[39m.\u001b[39;49mengine)\n",
      "File \u001b[0;32m~/.pyenv/versions/3.11.0/lib/python3.11/site-packages/pandas/io/parsers/readers.py:1735\u001b[0m, in \u001b[0;36mTextFileReader._make_engine\u001b[0;34m(self, f, engine)\u001b[0m\n\u001b[1;32m   1733\u001b[0m     \u001b[39mif\u001b[39;00m \u001b[39m\"\u001b[39m\u001b[39mb\u001b[39m\u001b[39m\"\u001b[39m \u001b[39mnot\u001b[39;00m \u001b[39min\u001b[39;00m mode:\n\u001b[1;32m   1734\u001b[0m         mode \u001b[39m+\u001b[39m\u001b[39m=\u001b[39m \u001b[39m\"\u001b[39m\u001b[39mb\u001b[39m\u001b[39m\"\u001b[39m\n\u001b[0;32m-> 1735\u001b[0m \u001b[39mself\u001b[39m\u001b[39m.\u001b[39mhandles \u001b[39m=\u001b[39m get_handle(\n\u001b[1;32m   1736\u001b[0m     f,\n\u001b[1;32m   1737\u001b[0m     mode,\n\u001b[1;32m   1738\u001b[0m     encoding\u001b[39m=\u001b[39;49m\u001b[39mself\u001b[39;49m\u001b[39m.\u001b[39;49moptions\u001b[39m.\u001b[39;49mget(\u001b[39m\"\u001b[39;49m\u001b[39mencoding\u001b[39;49m\u001b[39m\"\u001b[39;49m, \u001b[39mNone\u001b[39;49;00m),\n\u001b[1;32m   1739\u001b[0m     compression\u001b[39m=\u001b[39;49m\u001b[39mself\u001b[39;49m\u001b[39m.\u001b[39;49moptions\u001b[39m.\u001b[39;49mget(\u001b[39m\"\u001b[39;49m\u001b[39mcompression\u001b[39;49m\u001b[39m\"\u001b[39;49m, \u001b[39mNone\u001b[39;49;00m),\n\u001b[1;32m   1740\u001b[0m     memory_map\u001b[39m=\u001b[39;49m\u001b[39mself\u001b[39;49m\u001b[39m.\u001b[39;49moptions\u001b[39m.\u001b[39;49mget(\u001b[39m\"\u001b[39;49m\u001b[39mmemory_map\u001b[39;49m\u001b[39m\"\u001b[39;49m, \u001b[39mFalse\u001b[39;49;00m),\n\u001b[1;32m   1741\u001b[0m     is_text\u001b[39m=\u001b[39;49mis_text,\n\u001b[1;32m   1742\u001b[0m     errors\u001b[39m=\u001b[39;49m\u001b[39mself\u001b[39;49m\u001b[39m.\u001b[39;49moptions\u001b[39m.\u001b[39;49mget(\u001b[39m\"\u001b[39;49m\u001b[39mencoding_errors\u001b[39;49m\u001b[39m\"\u001b[39;49m, \u001b[39m\"\u001b[39;49m\u001b[39mstrict\u001b[39;49m\u001b[39m\"\u001b[39;49m),\n\u001b[1;32m   1743\u001b[0m     storage_options\u001b[39m=\u001b[39;49m\u001b[39mself\u001b[39;49m\u001b[39m.\u001b[39;49moptions\u001b[39m.\u001b[39;49mget(\u001b[39m\"\u001b[39;49m\u001b[39mstorage_options\u001b[39;49m\u001b[39m\"\u001b[39;49m, \u001b[39mNone\u001b[39;49;00m),\n\u001b[1;32m   1744\u001b[0m )\n\u001b[1;32m   1745\u001b[0m \u001b[39massert\u001b[39;00m \u001b[39mself\u001b[39m\u001b[39m.\u001b[39mhandles \u001b[39mis\u001b[39;00m \u001b[39mnot\u001b[39;00m \u001b[39mNone\u001b[39;00m\n\u001b[1;32m   1746\u001b[0m f \u001b[39m=\u001b[39m \u001b[39mself\u001b[39m\u001b[39m.\u001b[39mhandles\u001b[39m.\u001b[39mhandle\n",
      "File \u001b[0;32m~/.pyenv/versions/3.11.0/lib/python3.11/site-packages/pandas/io/common.py:713\u001b[0m, in \u001b[0;36mget_handle\u001b[0;34m(path_or_buf, mode, encoding, compression, memory_map, is_text, errors, storage_options)\u001b[0m\n\u001b[1;32m    710\u001b[0m     codecs\u001b[39m.\u001b[39mlookup_error(errors)\n\u001b[1;32m    712\u001b[0m \u001b[39m# open URLs\u001b[39;00m\n\u001b[0;32m--> 713\u001b[0m ioargs \u001b[39m=\u001b[39m _get_filepath_or_buffer(\n\u001b[1;32m    714\u001b[0m     path_or_buf,\n\u001b[1;32m    715\u001b[0m     encoding\u001b[39m=\u001b[39;49mencoding,\n\u001b[1;32m    716\u001b[0m     compression\u001b[39m=\u001b[39;49mcompression,\n\u001b[1;32m    717\u001b[0m     mode\u001b[39m=\u001b[39;49mmode,\n\u001b[1;32m    718\u001b[0m     storage_options\u001b[39m=\u001b[39;49mstorage_options,\n\u001b[1;32m    719\u001b[0m )\n\u001b[1;32m    721\u001b[0m handle \u001b[39m=\u001b[39m ioargs\u001b[39m.\u001b[39mfilepath_or_buffer\n\u001b[1;32m    722\u001b[0m handles: \u001b[39mlist\u001b[39m[BaseBuffer]\n",
      "File \u001b[0;32m~/.pyenv/versions/3.11.0/lib/python3.11/site-packages/pandas/io/common.py:363\u001b[0m, in \u001b[0;36m_get_filepath_or_buffer\u001b[0;34m(filepath_or_buffer, encoding, compression, mode, storage_options)\u001b[0m\n\u001b[1;32m    361\u001b[0m \u001b[39m# assuming storage_options is to be interpreted as headers\u001b[39;00m\n\u001b[1;32m    362\u001b[0m req_info \u001b[39m=\u001b[39m urllib\u001b[39m.\u001b[39mrequest\u001b[39m.\u001b[39mRequest(filepath_or_buffer, headers\u001b[39m=\u001b[39mstorage_options)\n\u001b[0;32m--> 363\u001b[0m \u001b[39mwith\u001b[39;00m urlopen(req_info) \u001b[39mas\u001b[39;00m req:\n\u001b[1;32m    364\u001b[0m     content_encoding \u001b[39m=\u001b[39m req\u001b[39m.\u001b[39mheaders\u001b[39m.\u001b[39mget(\u001b[39m\"\u001b[39m\u001b[39mContent-Encoding\u001b[39m\u001b[39m\"\u001b[39m, \u001b[39mNone\u001b[39;00m)\n\u001b[1;32m    365\u001b[0m     \u001b[39mif\u001b[39;00m content_encoding \u001b[39m==\u001b[39m \u001b[39m\"\u001b[39m\u001b[39mgzip\u001b[39m\u001b[39m\"\u001b[39m:\n\u001b[1;32m    366\u001b[0m         \u001b[39m# Override compression based on Content-Encoding header\u001b[39;00m\n",
      "File \u001b[0;32m~/.pyenv/versions/3.11.0/lib/python3.11/site-packages/pandas/io/common.py:265\u001b[0m, in \u001b[0;36murlopen\u001b[0;34m(*args, **kwargs)\u001b[0m\n\u001b[1;32m    259\u001b[0m \u001b[39m\u001b[39m\u001b[39m\"\"\"\u001b[39;00m\n\u001b[1;32m    260\u001b[0m \u001b[39mLazy-import wrapper for stdlib urlopen, as that imports a big chunk of\u001b[39;00m\n\u001b[1;32m    261\u001b[0m \u001b[39mthe stdlib.\u001b[39;00m\n\u001b[1;32m    262\u001b[0m \u001b[39m\"\"\"\u001b[39;00m\n\u001b[1;32m    263\u001b[0m \u001b[39mimport\u001b[39;00m \u001b[39murllib\u001b[39;00m\u001b[39m.\u001b[39;00m\u001b[39mrequest\u001b[39;00m\n\u001b[0;32m--> 265\u001b[0m \u001b[39mreturn\u001b[39;00m urllib\u001b[39m.\u001b[39;49mrequest\u001b[39m.\u001b[39;49murlopen(\u001b[39m*\u001b[39;49margs, \u001b[39m*\u001b[39;49m\u001b[39m*\u001b[39;49mkwargs)\n",
      "File \u001b[0;32m~/.pyenv/versions/3.11.0/lib/python3.11/urllib/request.py:216\u001b[0m, in \u001b[0;36murlopen\u001b[0;34m(url, data, timeout, cafile, capath, cadefault, context)\u001b[0m\n\u001b[1;32m    214\u001b[0m \u001b[39melse\u001b[39;00m:\n\u001b[1;32m    215\u001b[0m     opener \u001b[39m=\u001b[39m _opener\n\u001b[0;32m--> 216\u001b[0m \u001b[39mreturn\u001b[39;00m opener\u001b[39m.\u001b[39;49mopen(url, data, timeout)\n",
      "File \u001b[0;32m~/.pyenv/versions/3.11.0/lib/python3.11/urllib/request.py:525\u001b[0m, in \u001b[0;36mOpenerDirector.open\u001b[0;34m(self, fullurl, data, timeout)\u001b[0m\n\u001b[1;32m    523\u001b[0m \u001b[39mfor\u001b[39;00m processor \u001b[39min\u001b[39;00m \u001b[39mself\u001b[39m\u001b[39m.\u001b[39mprocess_response\u001b[39m.\u001b[39mget(protocol, []):\n\u001b[1;32m    524\u001b[0m     meth \u001b[39m=\u001b[39m \u001b[39mgetattr\u001b[39m(processor, meth_name)\n\u001b[0;32m--> 525\u001b[0m     response \u001b[39m=\u001b[39m meth(req, response)\n\u001b[1;32m    527\u001b[0m \u001b[39mreturn\u001b[39;00m response\n",
      "File \u001b[0;32m~/.pyenv/versions/3.11.0/lib/python3.11/urllib/request.py:634\u001b[0m, in \u001b[0;36mHTTPErrorProcessor.http_response\u001b[0;34m(self, request, response)\u001b[0m\n\u001b[1;32m    631\u001b[0m \u001b[39m# According to RFC 2616, \"2xx\" code indicates that the client's\u001b[39;00m\n\u001b[1;32m    632\u001b[0m \u001b[39m# request was successfully received, understood, and accepted.\u001b[39;00m\n\u001b[1;32m    633\u001b[0m \u001b[39mif\u001b[39;00m \u001b[39mnot\u001b[39;00m (\u001b[39m200\u001b[39m \u001b[39m<\u001b[39m\u001b[39m=\u001b[39m code \u001b[39m<\u001b[39m \u001b[39m300\u001b[39m):\n\u001b[0;32m--> 634\u001b[0m     response \u001b[39m=\u001b[39m \u001b[39mself\u001b[39;49m\u001b[39m.\u001b[39;49mparent\u001b[39m.\u001b[39;49merror(\n\u001b[1;32m    635\u001b[0m         \u001b[39m'\u001b[39;49m\u001b[39mhttp\u001b[39;49m\u001b[39m'\u001b[39;49m, request, response, code, msg, hdrs)\n\u001b[1;32m    637\u001b[0m \u001b[39mreturn\u001b[39;00m response\n",
      "File \u001b[0;32m~/.pyenv/versions/3.11.0/lib/python3.11/urllib/request.py:563\u001b[0m, in \u001b[0;36mOpenerDirector.error\u001b[0;34m(self, proto, *args)\u001b[0m\n\u001b[1;32m    561\u001b[0m \u001b[39mif\u001b[39;00m http_err:\n\u001b[1;32m    562\u001b[0m     args \u001b[39m=\u001b[39m (\u001b[39mdict\u001b[39m, \u001b[39m'\u001b[39m\u001b[39mdefault\u001b[39m\u001b[39m'\u001b[39m, \u001b[39m'\u001b[39m\u001b[39mhttp_error_default\u001b[39m\u001b[39m'\u001b[39m) \u001b[39m+\u001b[39m orig_args\n\u001b[0;32m--> 563\u001b[0m     \u001b[39mreturn\u001b[39;00m \u001b[39mself\u001b[39;49m\u001b[39m.\u001b[39;49m_call_chain(\u001b[39m*\u001b[39;49margs)\n",
      "File \u001b[0;32m~/.pyenv/versions/3.11.0/lib/python3.11/urllib/request.py:496\u001b[0m, in \u001b[0;36mOpenerDirector._call_chain\u001b[0;34m(self, chain, kind, meth_name, *args)\u001b[0m\n\u001b[1;32m    494\u001b[0m \u001b[39mfor\u001b[39;00m handler \u001b[39min\u001b[39;00m handlers:\n\u001b[1;32m    495\u001b[0m     func \u001b[39m=\u001b[39m \u001b[39mgetattr\u001b[39m(handler, meth_name)\n\u001b[0;32m--> 496\u001b[0m     result \u001b[39m=\u001b[39m func(\u001b[39m*\u001b[39;49margs)\n\u001b[1;32m    497\u001b[0m     \u001b[39mif\u001b[39;00m result \u001b[39mis\u001b[39;00m \u001b[39mnot\u001b[39;00m \u001b[39mNone\u001b[39;00m:\n\u001b[1;32m    498\u001b[0m         \u001b[39mreturn\u001b[39;00m result\n",
      "File \u001b[0;32m~/.pyenv/versions/3.11.0/lib/python3.11/urllib/request.py:643\u001b[0m, in \u001b[0;36mHTTPDefaultErrorHandler.http_error_default\u001b[0;34m(self, req, fp, code, msg, hdrs)\u001b[0m\n\u001b[1;32m    642\u001b[0m \u001b[39mdef\u001b[39;00m \u001b[39mhttp_error_default\u001b[39m(\u001b[39mself\u001b[39m, req, fp, code, msg, hdrs):\n\u001b[0;32m--> 643\u001b[0m     \u001b[39mraise\u001b[39;00m HTTPError(req\u001b[39m.\u001b[39mfull_url, code, msg, hdrs, fp)\n",
      "\u001b[0;31mHTTPError\u001b[0m: HTTP Error 404: Not Found"
     ]
    }
   ],
   "source": [
    "df = pd.read_csv(CSV_PATH)"
   ]
  },
  {
   "attachments": {},
   "cell_type": "markdown",
   "metadata": {
    "id": "ldxI_IoeYhth"
   },
   "source": [
    "### Train the model using the training data\n",
    "\n",
    "Before we put in our training data, we'll do a bit more preprocessing.\n",
    "\n",
    "To make sure"
   ]
  },
  {
   "cell_type": "code",
   "execution_count": null,
   "metadata": {
    "colab": {
     "base_uri": "https://localhost:8080/",
     "height": 613
    },
    "id": "2TDH6YvhJV2e",
    "outputId": "30b7beb4-a2e0-4137-de46-f78f8929c41b"
   },
   "outputs": [],
   "source": [
    "# https://scikit-learn.org/stable/auto_examples/applications/plot_topics_extraction_with_nmf_lda.html#sphx-glr-auto-examples-applications-plot-topics-extraction-with-nmf-lda-py\n",
    "\n",
    "n_components = 3\n",
    "\n",
    "final_dates = []\n",
    "final_samples = []\n",
    "\n",
    "\n",
    "def clean_date_unit(s):\n",
    "    if len(s) == 1:\n",
    "        return f\"0{s}\"\n",
    "    elif len(s) == 4:\n",
    "        return s[-2:]\n",
    "    else:\n",
    "        return s\n",
    "\n",
    "\n",
    "def valid_month(s):\n",
    "    return 1 <= int(s) <= 12\n",
    "\n",
    "\n",
    "bad_date = \"00-00-00\"\n",
    "\n",
    "\n",
    "def purify(date):\n",
    "    matches = re.search(r\"^(\\d+)/(\\d+)/(\\d+) .+$\", date)\n",
    "    if matches:\n",
    "        d, m, y = matches.groups()\n",
    "        if not valid_month(m):\n",
    "            d, m = m, d\n",
    "        m = str((int(m) - 1) // 3 * 3 + 1)\n",
    "        return f\"{clean_date_unit(y)}-{clean_date_unit(m)}\"\n",
    "    else:\n",
    "        return bad_date\n",
    "\n",
    "\n",
    "data_samples = df[[\"Date posted\", \"Tweet (processed)\"]]\n",
    "for index, row in data_samples.iterrows():\n",
    "    date, sample = row[\"Date posted\"], row[\"Tweet (processed)\"]\n",
    "    if isinstance(sample, str):\n",
    "        tokens = list(\n",
    "            filter(\n",
    "                lambda token: token not in [\"leni\", \"robredo\", \"hahaha\"],\n",
    "                map(lambda token: token[1:-1], sample[1:-1].split(\", \")),\n",
    "            )\n",
    "        )\n",
    "        purified_date = purify(date)\n",
    "        if len(tokens) > 0 and purified_date != bad_date:\n",
    "            final_dates.append(purified_date)\n",
    "            final_samples.append(\" \".join(tokens))"
   ]
  },
  {
   "cell_type": "code",
   "execution_count": null,
   "metadata": {
    "id": "IQ2z_iOTJAVK"
   },
   "outputs": [],
   "source": [
    "%%capture\n",
    "\n",
    "nltk.download(\"punkt\")\n",
    "nltk.download(\"stopwords\")\n",
    "nltk.download(\"wordnet\")\n",
    "stop_words = set(stopwords.words(\"english\"))\n",
    "stemmer = PorterStemmer()\n",
    "lemmatizer = WordNetLemmatizer()\n",
    "spell = SpellChecker()"
   ]
  },
  {
   "cell_type": "code",
   "execution_count": null,
   "metadata": {
    "id": "dzPhLZErJXxT"
   },
   "outputs": [],
   "source": [
    "# Topic modeling via LDA\n",
    "# Source: https://www.kaggle.com/code/infamouscoder/lda-topic-modeling-features\n",
    "\n",
    "stemmer = PorterStemmer()\n",
    "lemmatizer = WordNetLemmatizer()\n",
    "\n",
    "\n",
    "# Custom tokenizer\n",
    "def tokenizer(text):\n",
    "    text = emoji.replace_emoji(text, replace=\"\")  # remove emojis\n",
    "    text = re.sub(r\"http\\S+\", \"\", text)  # remove URLs\n",
    "    text = re.sub(r\"[^\\w\\s]\", \"\", text)  # remove whitespaces\n",
    "    tokens = [\n",
    "        word for word in word_tokenize(text) if len(word) > 3\n",
    "    ]  # keep only 4+-length words\n",
    "    lemmatized_tokens = [lemmatizer.lemmatize(token) for token in tokens]\n",
    "    filtered_tokens = [\n",
    "        token for token in lemmatized_tokens if token.lower() not in stop_words\n",
    "    ]\n",
    "    # stemmed_tokens = [stemmer.stem(item) for item in tokens]\n",
    "    return filtered_tokens\n",
    "\n",
    "\n",
    "# Generate features\n",
    "tf_vectorizer = TfidfVectorizer(\n",
    "    tokenizer=tokenizer,\n",
    "    max_df=0.75,\n",
    "    max_features=10000,\n",
    "    use_idf=True,\n",
    "    norm=None,\n",
    "    token_pattern=None,\n",
    ")\n",
    "tf_vectors = tf_vectorizer.fit_transform(final_samples)\n",
    "\n",
    "n_topics = 3\n",
    "lda = decomposition.LatentDirichletAllocation(\n",
    "    n_components=n_topics,\n",
    "    max_iter=10,\n",
    "    learning_method=\"online\",\n",
    "    learning_offset=50,\n",
    "    n_jobs=1,\n",
    "    random_state=42,\n",
    ")\n",
    "W = lda.fit_transform(tf_vectors)\n",
    "H = lda.components_\n",
    "\n",
    "num_words = 12\n",
    "vocab = np.array(tf_vectorizer.get_feature_names_out())\n",
    "top_words = lambda t: [vocab[i] for i in np.argsort(t)[: -num_words - 1 : -1]]\n",
    "topic_words = [top_words(t) for t in H]\n",
    "topics = [\" \".join(t) for t in topic_words]\n",
    "df_topics = pd.DataFrame(topics, columns=[\"Keywords\"])\n",
    "df_topics[\"Topic ID\"] = range(1, len(topics) + 1)"
   ]
  },
  {
   "cell_type": "code",
   "execution_count": null,
   "metadata": {
    "colab": {
     "base_uri": "https://localhost:8080/",
     "height": 363
    },
    "id": "X34AhpTrJmUh",
    "outputId": "82144eb3-e9ca-4e3d-cd2d-e5efd014e8c0"
   },
   "outputs": [
    {
     "data": {
      "text/html": [
       "<div>\n",
       "<style scoped>\n",
       "    .dataframe tbody tr th:only-of-type {\n",
       "        vertical-align: middle;\n",
       "    }\n",
       "\n",
       "    .dataframe tbody tr th {\n",
       "        vertical-align: top;\n",
       "    }\n",
       "\n",
       "    .dataframe thead th {\n",
       "        text-align: right;\n",
       "    }\n",
       "</style>\n",
       "<table border=\"1\" class=\"dataframe\">\n",
       "  <thead>\n",
       "    <tr style=\"text-align: right;\">\n",
       "      <th></th>\n",
       "      <th>Topic1</th>\n",
       "      <th>Topic2</th>\n",
       "      <th>Topic3</th>\n",
       "      <th>dominant_topic</th>\n",
       "      <th>breakdown</th>\n",
       "      <th>date</th>\n",
       "    </tr>\n",
       "  </thead>\n",
       "  <tbody>\n",
       "    <tr>\n",
       "      <th>Tweet1</th>\n",
       "      <td>0.01</td>\n",
       "      <td>0.99</td>\n",
       "      <td>0.01</td>\n",
       "      <td>2</td>\n",
       "      <td>Topic2: 0.99\\nTopic1: 0.01\\nTopic3: 0.01</td>\n",
       "      <td>2022-01-01</td>\n",
       "    </tr>\n",
       "    <tr>\n",
       "      <th>Tweet2</th>\n",
       "      <td>0.18</td>\n",
       "      <td>0.01</td>\n",
       "      <td>0.81</td>\n",
       "      <td>3</td>\n",
       "      <td>Topic3: 0.81\\nTopic1: 0.18\\nTopic2: 0.01</td>\n",
       "      <td>2022-10-01</td>\n",
       "    </tr>\n",
       "    <tr>\n",
       "      <th>Tweet3</th>\n",
       "      <td>0.98</td>\n",
       "      <td>0.01</td>\n",
       "      <td>0.01</td>\n",
       "      <td>1</td>\n",
       "      <td>Topic1: 0.98\\nTopic2: 0.01\\nTopic3: 0.01</td>\n",
       "      <td>2022-10-01</td>\n",
       "    </tr>\n",
       "    <tr>\n",
       "      <th>Tweet4</th>\n",
       "      <td>0.99</td>\n",
       "      <td>0.00</td>\n",
       "      <td>0.00</td>\n",
       "      <td>1</td>\n",
       "      <td>Topic1: 0.99</td>\n",
       "      <td>2022-10-01</td>\n",
       "    </tr>\n",
       "    <tr>\n",
       "      <th>Tweet5</th>\n",
       "      <td>0.99</td>\n",
       "      <td>0.00</td>\n",
       "      <td>0.00</td>\n",
       "      <td>1</td>\n",
       "      <td>Topic1: 0.99</td>\n",
       "      <td>2022-10-01</td>\n",
       "    </tr>\n",
       "    <tr>\n",
       "      <th>Tweet6</th>\n",
       "      <td>1.00</td>\n",
       "      <td>0.00</td>\n",
       "      <td>0.00</td>\n",
       "      <td>1</td>\n",
       "      <td>Topic1: 1.0</td>\n",
       "      <td>2022-10-01</td>\n",
       "    </tr>\n",
       "    <tr>\n",
       "      <th>Tweet7</th>\n",
       "      <td>0.99</td>\n",
       "      <td>0.00</td>\n",
       "      <td>0.00</td>\n",
       "      <td>1</td>\n",
       "      <td>Topic1: 0.99</td>\n",
       "      <td>2022-10-01</td>\n",
       "    </tr>\n",
       "    <tr>\n",
       "      <th>Tweet8</th>\n",
       "      <td>1.00</td>\n",
       "      <td>0.00</td>\n",
       "      <td>0.00</td>\n",
       "      <td>1</td>\n",
       "      <td>Topic1: 1.0</td>\n",
       "      <td>2022-10-01</td>\n",
       "    </tr>\n",
       "    <tr>\n",
       "      <th>Tweet9</th>\n",
       "      <td>0.99</td>\n",
       "      <td>0.00</td>\n",
       "      <td>0.00</td>\n",
       "      <td>1</td>\n",
       "      <td>Topic1: 0.99</td>\n",
       "      <td>2022-10-01</td>\n",
       "    </tr>\n",
       "    <tr>\n",
       "      <th>Tweet10</th>\n",
       "      <td>0.01</td>\n",
       "      <td>0.99</td>\n",
       "      <td>0.01</td>\n",
       "      <td>2</td>\n",
       "      <td>Topic2: 0.99\\nTopic1: 0.01\\nTopic3: 0.01</td>\n",
       "      <td>2022-04-01</td>\n",
       "    </tr>\n",
       "  </tbody>\n",
       "</table>\n",
       "</div>"
      ],
      "text/plain": [
       "         Topic1  Topic2  Topic3  dominant_topic  \\\n",
       "Tweet1     0.01    0.99    0.01               2   \n",
       "Tweet2     0.18    0.01    0.81               3   \n",
       "Tweet3     0.98    0.01    0.01               1   \n",
       "Tweet4     0.99    0.00    0.00               1   \n",
       "Tweet5     0.99    0.00    0.00               1   \n",
       "Tweet6     1.00    0.00    0.00               1   \n",
       "Tweet7     0.99    0.00    0.00               1   \n",
       "Tweet8     1.00    0.00    0.00               1   \n",
       "Tweet9     0.99    0.00    0.00               1   \n",
       "Tweet10    0.01    0.99    0.01               2   \n",
       "\n",
       "                                        breakdown       date  \n",
       "Tweet1   Topic2: 0.99\\nTopic1: 0.01\\nTopic3: 0.01 2022-01-01  \n",
       "Tweet2   Topic3: 0.81\\nTopic1: 0.18\\nTopic2: 0.01 2022-10-01  \n",
       "Tweet3   Topic1: 0.98\\nTopic2: 0.01\\nTopic3: 0.01 2022-10-01  \n",
       "Tweet4                               Topic1: 0.99 2022-10-01  \n",
       "Tweet5                               Topic1: 0.99 2022-10-01  \n",
       "Tweet6                                Topic1: 1.0 2022-10-01  \n",
       "Tweet7                               Topic1: 0.99 2022-10-01  \n",
       "Tweet8                                Topic1: 1.0 2022-10-01  \n",
       "Tweet9                               Topic1: 0.99 2022-10-01  \n",
       "Tweet10  Topic2: 0.99\\nTopic1: 0.01\\nTopic3: 0.01 2022-04-01  "
      ]
     },
     "execution_count": 107,
     "metadata": {},
     "output_type": "execute_result"
    }
   ],
   "source": [
    "# Assign topic to each tweet\n",
    "topicid = [\"Topic\" + str(i + 1) for i in range(lda.n_components)]\n",
    "tweetid = [\"Tweet\" + str(i + 1) for i in range(len(final_samples))]\n",
    "\n",
    "df_topics_lda = pd.DataFrame(np.round(W, 2), columns=topicid, index=tweetid)\n",
    "significanttopic = np.argmax(df_topics_lda.values, axis=1) + 1\n",
    "\n",
    "df_topics_lda[\"dominant_topic\"] = significanttopic\n",
    "df_topics_lda[\"breakdown\"] = df_topics_lda.apply(\n",
    "    lambda row: \"\\n\".join(\n",
    "        [\n",
    "            f\"{col}: {row[col]}\"\n",
    "            for col in sorted(df_topics_lda.columns, key=lambda x: row[x], reverse=True)\n",
    "            if row[col] > 0 and col != \"dominant_topic\"\n",
    "        ]\n",
    "    ),\n",
    "    axis=1,\n",
    ")\n",
    "df_topics_lda[\"date\"] = pd.to_datetime(np.array(final_dates), format=\"%y-%m\")\n",
    "df_topics_lda.head(10)"
   ]
  },
  {
   "cell_type": "code",
   "execution_count": null,
   "metadata": {
    "id": "3CH1RGxrJzYt"
   },
   "outputs": [],
   "source": [
    "# Apply t-SNE for dimensionality reduction\n",
    "tsne = TSNE(n_components=2, random_state=42)\n",
    "tsne_result = tsne.fit_transform(df_topics_lda.iloc[:, :n_topics])\n",
    "\n",
    "# Apply K-means clustering\n",
    "n_topics = 3\n",
    "kmeans = KMeans(n_clusters=n_topics, n_init=3, random_state=42)\n",
    "cluster_labels = kmeans.fit_predict(df_topics_lda.iloc[:, :n_topics])"
   ]
  },
  {
   "cell_type": "code",
   "execution_count": null,
   "metadata": {
    "colab": {
     "base_uri": "https://localhost:8080/",
     "height": 459
    },
    "id": "iJd-_hPwJ2qT",
    "outputId": "d2c02db3-f9fd-4651-b39f-69dc0b2bdc78"
   },
   "outputs": [
    {
     "data": {
      "text/html": [
       "<div>\n",
       "<style scoped>\n",
       "    .dataframe tbody tr th:only-of-type {\n",
       "        vertical-align: middle;\n",
       "    }\n",
       "\n",
       "    .dataframe tbody tr th {\n",
       "        vertical-align: top;\n",
       "    }\n",
       "\n",
       "    .dataframe thead th {\n",
       "        text-align: right;\n",
       "    }\n",
       "</style>\n",
       "<table border=\"1\" class=\"dataframe\">\n",
       "  <thead>\n",
       "    <tr style=\"text-align: right;\">\n",
       "      <th></th>\n",
       "      <th>X</th>\n",
       "      <th>Y</th>\n",
       "      <th>Tweet</th>\n",
       "      <th>Cluster</th>\n",
       "      <th>Breakdown</th>\n",
       "    </tr>\n",
       "  </thead>\n",
       "  <tbody>\n",
       "    <tr>\n",
       "      <th>0</th>\n",
       "      <td>298.178467</td>\n",
       "      <td>7.713855</td>\n",
       "      <td>wala alam foreign policy alam presidente&lt;br&gt;au...</td>\n",
       "      <td>2</td>\n",
       "      <td>Topic2: 0.99&lt;br&gt;Topic1: 0.01&lt;br&gt;Topic3: 0.01</td>\n",
       "    </tr>\n",
       "    <tr>\n",
       "      <th>1</th>\n",
       "      <td>-9.562243</td>\n",
       "      <td>-167.772293</td>\n",
       "      <td>walang ambag maritime industry years vp&lt;br&gt;nev...</td>\n",
       "      <td>3</td>\n",
       "      <td>Topic3: 0.81&lt;br&gt;Topic1: 0.18&lt;br&gt;Topic2: 0.01</td>\n",
       "    </tr>\n",
       "    <tr>\n",
       "      <th>2</th>\n",
       "      <td>-65.672173</td>\n",
       "      <td>236.693085</td>\n",
       "      <td>inggit walang ambag moro chaka</td>\n",
       "      <td>1</td>\n",
       "      <td>Topic1: 0.98&lt;br&gt;Topic2: 0.01&lt;br&gt;Topic3: 0.01</td>\n",
       "    </tr>\n",
       "    <tr>\n",
       "      <th>3</th>\n",
       "      <td>-232.575562</td>\n",
       "      <td>128.228119</td>\n",
       "      <td>wala kasing ibang topic alam walang alam&lt;br&gt;ph...</td>\n",
       "      <td>1</td>\n",
       "      <td>Topic1: 0.99</td>\n",
       "    </tr>\n",
       "    <tr>\n",
       "      <th>4</th>\n",
       "      <td>-185.964722</td>\n",
       "      <td>142.602844</td>\n",
       "      <td>vovo matagal walang galaw unilever&lt;br&gt;ngayon g...</td>\n",
       "      <td>1</td>\n",
       "      <td>Topic1: 0.99</td>\n",
       "    </tr>\n",
       "    <tr>\n",
       "      <th>5</th>\n",
       "      <td>-307.257843</td>\n",
       "      <td>38.150402</td>\n",
       "      <td>engot buhay nalang ngayon flops lutang&lt;br&gt;wala...</td>\n",
       "      <td>1</td>\n",
       "      <td>Topic1: 1.0</td>\n",
       "    </tr>\n",
       "    <tr>\n",
       "      <th>6</th>\n",
       "      <td>-271.088531</td>\n",
       "      <td>155.887909</td>\n",
       "      <td>ayan nasimulan aminin nalang kakampwets&lt;br&gt;inf...</td>\n",
       "      <td>1</td>\n",
       "      <td>Topic1: 0.99</td>\n",
       "    </tr>\n",
       "    <tr>\n",
       "      <th>7</th>\n",
       "      <td>-286.644409</td>\n",
       "      <td>19.719458</td>\n",
       "      <td>bwahaha hahahaha parallel universe&lt;br&gt;gobyerno...</td>\n",
       "      <td>1</td>\n",
       "      <td>Topic1: 1.0</td>\n",
       "    </tr>\n",
       "    <tr>\n",
       "      <th>8</th>\n",
       "      <td>-275.752014</td>\n",
       "      <td>121.414734</td>\n",
       "      <td>huwag ibase respeto credentials tao&lt;br&gt;kahit s...</td>\n",
       "      <td>1</td>\n",
       "      <td>Topic1: 0.99</td>\n",
       "    </tr>\n",
       "    <tr>\n",
       "      <th>9</th>\n",
       "      <td>298.178467</td>\n",
       "      <td>7.713855</td>\n",
       "      <td>nasa posisyon habang pandemya nagawan&lt;br&gt;paraa...</td>\n",
       "      <td>2</td>\n",
       "      <td>Topic2: 0.99&lt;br&gt;Topic1: 0.01&lt;br&gt;Topic3: 0.01</td>\n",
       "    </tr>\n",
       "  </tbody>\n",
       "</table>\n",
       "</div>"
      ],
      "text/plain": [
       "            X           Y                                              Tweet  \\\n",
       "0  298.178467    7.713855  wala alam foreign policy alam presidente<br>au...   \n",
       "1   -9.562243 -167.772293  walang ambag maritime industry years vp<br>nev...   \n",
       "2  -65.672173  236.693085                     inggit walang ambag moro chaka   \n",
       "3 -232.575562  128.228119  wala kasing ibang topic alam walang alam<br>ph...   \n",
       "4 -185.964722  142.602844  vovo matagal walang galaw unilever<br>ngayon g...   \n",
       "5 -307.257843   38.150402  engot buhay nalang ngayon flops lutang<br>wala...   \n",
       "6 -271.088531  155.887909  ayan nasimulan aminin nalang kakampwets<br>inf...   \n",
       "7 -286.644409   19.719458  bwahaha hahahaha parallel universe<br>gobyerno...   \n",
       "8 -275.752014  121.414734  huwag ibase respeto credentials tao<br>kahit s...   \n",
       "9  298.178467    7.713855  nasa posisyon habang pandemya nagawan<br>paraa...   \n",
       "\n",
       "  Cluster                                     Breakdown  \n",
       "0       2  Topic2: 0.99<br>Topic1: 0.01<br>Topic3: 0.01  \n",
       "1       3  Topic3: 0.81<br>Topic1: 0.18<br>Topic2: 0.01  \n",
       "2       1  Topic1: 0.98<br>Topic2: 0.01<br>Topic3: 0.01  \n",
       "3       1                                  Topic1: 0.99  \n",
       "4       1                                  Topic1: 0.99  \n",
       "5       1                                   Topic1: 1.0  \n",
       "6       1                                  Topic1: 0.99  \n",
       "7       1                                   Topic1: 1.0  \n",
       "8       1                                  Topic1: 0.99  \n",
       "9       2  Topic2: 0.99<br>Topic1: 0.01<br>Topic3: 0.01  "
      ]
     },
     "execution_count": 109,
     "metadata": {},
     "output_type": "execute_result"
    }
   ],
   "source": [
    "# Create a new dataframe with t-SNE coordinates and cluster labels\n",
    "\n",
    "\n",
    "def split_text(text, max_length):\n",
    "    lines = textwrap.wrap(text, width=max_length, break_long_words=False)\n",
    "    return \"<br>\".join(lines)\n",
    "\n",
    "\n",
    "df_topics_cluster = pd.DataFrame(\n",
    "    {\n",
    "        \"X\": tsne_result[:, 0],\n",
    "        \"Y\": tsne_result[:, 1],\n",
    "        \"Tweet\": final_samples,\n",
    "        \"Cluster\": df_topics_lda.reset_index()[\"dominant_topic\"].astype(\n",
    "            str\n",
    "        ),  # topics via LDA\n",
    "        # 'Cluster': cluster_labels},                                         # clusters via K-means\n",
    "        \"Breakdown\": df_topics_lda.reset_index()[\"breakdown\"],\n",
    "    }\n",
    ")\n",
    "\n",
    "df_topics_cluster[\"Tweet\"] = df_topics_cluster[\"Tweet\"].apply(\n",
    "    lambda x: split_text(x, 40)\n",
    ")\n",
    "df_topics_cluster[\"Breakdown\"] = df_topics_cluster[\"Breakdown\"].str.replace(\n",
    "    \"\\n\", \"<br>\"\n",
    ")\n",
    "\n",
    "df_topics_cluster.head(10)"
   ]
  },
  {
   "cell_type": "code",
   "execution_count": null,
   "metadata": {
    "colab": {
     "base_uri": "https://localhost:8080/",
     "height": 727
    },
    "id": "iC1-cOZUJ3HT",
    "outputId": "17dbc93a-915c-40ce-e112-5ebba91de007"
   },
   "outputs": [
    {
     "data": {
      "application/vnd.plotly.v1+json": {
       "config": {
        "plotlyServerURL": "https://plot.ly"
       },
       "data": [
        {
         "customdata": [
          [
           "1",
           "",
           "Topic1: 0.33<br>Topic2: 0.33<br>Topic3: 0.33"
          ],
          [
           "1",
           "kelan iimbestigahan",
           "Topic1: 0.95<br>Topic2: 0.03<br>Topic3: 0.03"
          ],
          [
           "1",
           "like thief night mom boba stole votes<br>filipinos mom became via pcos machine<br>promisedand planned shame dad even hero<br>boba mom made museum using gov funds",
           "Topic1: 0.99"
          ],
          [
           "1",
           "",
           "Topic1: 0.33<br>Topic2: 0.33<br>Topic3: 0.33"
          ],
          [
           "1",
           "",
           "Topic1: 0.33<br>Topic2: 0.33<br>Topic3: 0.33"
          ],
          [
           "1",
           "pla tnutukoy pnapatamaan oraaayytt",
           "Topic1: 0.97<br>Topic2: 0.02<br>Topic3: 0.02"
          ],
          [
           "1",
           "",
           "Topic1: 0.33<br>Topic2: 0.33<br>Topic3: 0.33"
          ],
          [
           "1",
           "utak",
           "Topic1: 0.88<br>Topic2: 0.06<br>Topic3: 0.06"
          ],
          [
           "1",
           "kamusta dilawan mayatanda katulad tatay<br>henerasyong ngayon walang alam hidni<br>nakikita pinapakita social media<br>sakanila aral aral libro ineng toy",
           "Topic1: 0.99"
          ],
          [
           "1",
           "style npa npa talaga hindi welga<br>ginagawa harapan establishment ayaw<br>kundi spreading bad leaflet lumang style<br>pang bundok",
           "Topic1: 0.99"
          ],
          [
           "1",
           "hindi bago balita tungkol alyansang<br>hindi nakakagulat ibinunyag isang dating<br>miyembro nasabing teroristang grupo<br>kandidatong pambato manok rebelde",
           "Topic1: 0.99"
          ],
          [
           "1",
           "lol npa tlga dilwan pinklawan c cory<br>nagpalaya da npa n nag martial law dhil<br>pagbomba terorista n",
           "Topic1: 0.99<br>Topic2: 0.01<br>Topic3: 0.01"
          ],
          [
           "1",
           "like boto",
           "Topic1: 0.92<br>Topic2: 0.04<br>Topic3: 0.04"
          ],
          [
           "1",
           "boto",
           "Topic1: 0.85<br>Topic2: 0.07<br>Topic3: 0.07"
          ],
          [
           "1",
           "",
           "Topic1: 0.33<br>Topic2: 0.33<br>Topic3: 0.33"
          ],
          [
           "1",
           "tangina puro reklamo wala namang<br>naiambag lipunan dilawan salot lipunan<br>isama lugaw walang ambag pres matanda<br>ginawa lahat atin ambag magreklamo",
           "Topic1: 0.99"
          ],
          [
           "1",
           "anong nagawa fake vp<br>hahahahahahahahabahaha walang ambag tpos<br>vp naghahanap gobyerno dba saan pala nag<br>ttrabahong tanga",
           "Topic1: 0.99<br>Topic2: 0.01<br>Topic3: 0.01"
          ],
          [
           "1",
           "wala namang kwenta bang ambag nyan puro<br>contradictions ginagawa tas walang<br>kwentang comments situation",
           "Topic1: 0.99"
          ],
          [
           "1",
           "hahahah iwan kuba bat bobo kakampwet<br>marami nabang recuit bata marami nabang<br>masisira kinabukasan pinaggagawa gusto<br>sakupin bansa gagaka npa",
           "Topic1: 0.99"
          ],
          [
           "1",
           "inggit walang ambag moro chaka",
           "Topic1: 0.98<br>Topic2: 0.01<br>Topic3: 0.01"
          ],
          [
           "1",
           "wala kasing ibang topic alam walang alam<br>phil law economics local governance<br>sayang hype description ambag drug war<br>pandemic response wala subject harvard<br>best photo ops",
           "Topic1: 0.99"
          ],
          [
           "1",
           "vovo matagal walang galaw unilever<br>ngayon ganyan kalaki nakikita nila<br>potential administrasyong marcos panahon<br>pnoy wala tatak palpak dilaw magkano<br>ambag ekonomiya tae tae",
           "Topic1: 0.99"
          ],
          [
           "1",
           "engot buhay nalang ngayon flops lutang<br>walang supporta oligarchs sinong<br>susupporta isang kagaya puro paninira<br>sariling bansa ambag pinag gagawa ngayon<br>pagkakalat us akala naka points pinoys",
           "Topic1: 1.0"
          ],
          [
           "1",
           "ayan nasimulan aminin nalang kakampwets<br>inflation rereklamo walang ambag<br>solusyon walang nagawa magawa utak utak<br>saan meron walaaaa",
           "Topic1: 0.99"
          ],
          [
           "1",
           "bwahaha hahahaha parallel universe<br>gobyerno never heard realidad kumbaga<br>walang epek peke wala ngang ambag trust<br>approval rating bagsak natural filipino<br>citizen k magbigay award hindi iilan",
           "Topic1: 1.0"
          ],
          [
           "1",
           "",
           "Topic1: 0.33<br>Topic2: 0.33<br>Topic3: 0.33"
          ],
          [
           "1",
           "",
           "Topic1: 0.33<br>Topic2: 0.33<br>Topic3: 0.33"
          ],
          [
           "1",
           "nasaan pondo bat pinatayo bugok corrupt<br>choose lutang pareho kayong bobo inutil<br>teh walang nagaw puro epal photo ops<br>nagawa",
           "Topic1: 0.99"
          ],
          [
           "1",
           "ubos confidential funds padre inubos<br>inutil madumb kampanya",
           "Topic1: 0.99<br>Topic2: 0.01<br>Topic3: 0.01"
          ],
          [
           "1",
           "peke",
           "Topic1: 0.88<br>Topic2: 0.06<br>Topic3: 0.05"
          ],
          [
           "1",
           "sino mandaraya diba garapalan lantaran<br>pandaray tangang lutang",
           "Topic1: 0.98<br>Topic2: 0.01<br>Topic3: 0.01"
          ],
          [
           "1",
           "pandaraya gawain wag niyong ibahin<br>totoong mandaraya",
           "Topic1: 0.98<br>Topic2: 0.01<br>Topic3: 0.01"
          ],
          [
           "1",
           "",
           "Topic1: 0.33<br>Topic2: 0.33<br>Topic3: 0.33"
          ],
          [
           "1",
           "",
           "Topic1: 0.33<br>Topic2: 0.33<br>Topic3: 0.33"
          ],
          [
           "1",
           "daya madam rt source ballots<br>municipality baao camarines sur<br>discovered",
           "Topic1: 0.99<br>Topic2: 0.01<br>Topic3: 0.01"
          ],
          [
           "1",
           "e announce bobang",
           "Topic1: 0.94<br>Topic2: 0.03<br>Topic3: 0.03"
          ],
          [
           "1",
           "asan puro bias media goosebumps<br>mandaraya magnanakaw boto uulitin",
           "Topic1: 0.99<br>Topic2: 0.01<br>Topic3: 0.01"
          ],
          [
           "1",
           "",
           "Topic1: 0.33<br>Topic2: 0.33<br>Topic3: 0.33"
          ],
          [
           "1",
           "kampo ulit mandaraya katulad kc kulelat<br>frontrunner bang kailangan mandaya",
           "Topic1: 0.99<br>Topic2: 0.01<br>Topic3: 0.01"
          ],
          [
           "1",
           "punyeta lugaw lutang puppet boba<br>mandaraya noon ginamit panot aquino<br>drilon hindi maka upo bbm ngayon wala<br>kayong power kahit dayain ninyo bbm<br>hindi ninyo agaw ulit panalo",
           "Topic1: 0.99"
          ],
          [
           "1",
           "sana maamin nio sarili nio nanalo c bbm<br>election mandaraya tlg hnde nio aaminin<br>nandaya aaminin nio marami bumoto<br>lumipat marcos",
           "Topic1: 0.99"
          ],
          [
           "1",
           "",
           "Topic1: 0.33<br>Topic2: 0.33<br>Topic3: 0.33"
          ],
          [
           "1",
           "",
           "Topic1: 0.33<br>Topic2: 0.33<br>Topic3: 0.33"
          ],
          [
           "1",
           "",
           "Topic1: 0.33<br>Topic2: 0.33<br>Topic3: 0.33"
          ],
          [
           "1",
           "lp tunay magnanakaw kaban taong bayan<br>leading panot aquino lp trolls huli",
           "Topic1: 0.99<br>Topic2: 0.01<br>Topic3: 0.01"
          ],
          [
           "1",
           "",
           "Topic1: 0.33<br>Topic2: 0.33<br>Topic3: 0.33"
          ],
          [
           "1",
           "tingin hindi pagpapakita pagiging<br>desperado",
           "Topic1: 0.97<br>Topic2: 0.01<br>Topic3: 0.01"
          ],
          [
           "1",
           "",
           "Topic1: 0.33<br>Topic2: 0.33<br>Topic3: 0.33"
          ],
          [
           "1",
           "",
           "Topic1: 0.33<br>Topic2: 0.33<br>Topic3: 0.33"
          ],
          [
           "1",
           "nakarma kakampinks",
           "Topic1: 0.95<br>Topic2: 0.03<br>Topic3: 0.03"
          ],
          [
           "1",
           "",
           "Topic1: 0.33<br>Topic2: 0.33<br>Topic3: 0.33"
          ],
          [
           "1",
           "salot k lipunan",
           "Topic1: 0.95<br>Topic2: 0.03<br>Topic3: 0.03"
          ],
          [
           "1",
           "patay diyan lenie principles values lp<br>kakapitan pinoys mauulit n<br>kawalanghiyaan n pinaggawa boto",
           "Topic1: 0.99<br>Topic2: 0.01<br>Topic3: 0.01"
          ],
          [
           "1",
           "boto",
           "Topic1: 0.85<br>Topic2: 0.07<br>Topic3: 0.07"
          ],
          [
           "1",
           "",
           "Topic1: 0.33<br>Topic2: 0.33<br>Topic3: 0.33"
          ],
          [
           "1",
           "mainit balita bong bong marcos hinamon<br>vp kanyang p",
           "Topic1: 0.98<br>Topic2: 0.01<br>Topic3: 0.01"
          ],
          [
           "1",
           "tukoy bongbong marcos lugar naganap<br>pandaraya ro",
           "Topic1: 0.98<br>Topic2: 0.01<br>Topic3: 0.01"
          ],
          [
           "1",
           "bukod tanging presidentiable npa<br>partylist tapos sasabihin wala kang<br>ugnayan senatorial lineup halos kasapi<br>npa ate shawie nmn bumuka bunganga sabay<br>kabig gawin bobbooo tao vp",
           "Topic1: 0.99"
          ],
          [
           "1",
           "unless dimwit condemns criminal acts<br>committed years communist terrorist<br>sympathizer enabler",
           "Topic1: 0.99<br>Topic2: 0.01<br>Topic3: 0.01"
          ],
          [
           "1",
           "nakita narinig bale hindi talaga<br>maririnig atty magsalita ganoon mahinang<br>klase lutang eka tandaan hindi binibeybe<br>komunista galamay nito dapat pinipisak",
           "Topic1: 0.99"
          ],
          [
           "1",
           "magnanakaw benefitted yolanda fund last<br>equally magnanakaw magnanakaw boto<br>despite degrees tanga bet even answer<br>prof clarita first question",
           "Topic1: 0.99"
          ],
          [
           "1",
           "degree tanga salita gawa paanu earn<br>degree lutang lutang katangahan<br>nakinabang yolanda funds magnanakaw",
           "Topic1: 0.99"
          ],
          [
           "1",
           "paano magawa trabaho ninanakaw pagka vp<br>tuloy",
           "Topic1: 0.98<br>Topic2: 0.01<br>Topic3: 0.01"
          ],
          [
           "1",
           "sus miyo day magtrabaho dami satsat anu",
           "Topic1: 0.97<br>Topic2: 0.01<br>Topic3: 0.01"
          ],
          [
           "1",
           "ahwww inform mandaraya mama",
           "Topic1: 0.97<br>Topic2: 0.02<br>Topic3: 0.02"
          ],
          [
           "1",
           "unang fake vp kahit hindi apologists mas<br>pinili marcos mandaraya",
           "Topic1: 0.8<br>Topic2: 0.19<br>Topic3: 0.01"
          ],
          [
           "1",
           "eversince diba alam ramdam ayaw kanya<br>karamihan bobo boto tatak niyang kayang<br>iwasan",
           "Topic1: 0.99<br>Topic2: 0.01"
          ],
          [
           "1",
           "",
           "Topic1: 0.33<br>Topic2: 0.33<br>Topic3: 0.33"
          ],
          [
           "1",
           "p aasahan peke boto ninakaw kaban bayan",
           "Topic1: 0.98<br>Topic2: 0.01<br>Topic3: 0.01"
          ],
          [
           "1",
           "totoong nanalo madam dapat wala syang<br>takot ipaulit pagbilang padin nanalo<br>abay kahiyahiya ayaw madam malalaman<br>tayong bago",
           "Topic1: 0.99"
          ],
          [
           "1",
           "big contrast indeed prrd working hardto<br>improve life vp photo op improve image<br>tainted cheatingin election",
           "Topic1: 0.99"
          ],
          [
           "1",
           "madam puro publicity nanaman mahina<br>network makatulong kunti tapos nanaman<br>media original pink marcos lol nasaan<br>pangulo lol madam alam namin gawain",
           "Topic1: 0.99"
          ],
          [
           "1",
           "sige takot siya",
           "Topic1: 0.96<br>Topic2: 0.02<br>Topic3: 0.02"
          ],
          [
           "1",
           "like thief night natulog vp",
           "Topic1: 0.97<br>Topic2: 0.02<br>Topic3: 0.02"
          ],
          [
           "1",
           "deceived people becoming vp like thief<br>night",
           "Topic1: 0.81<br>Topic2: 0.18<br>Topic3: 0.01"
          ],
          [
           "1",
           "panahon kukunin ninakaw simulan",
           "Topic1: 0.97<br>Topic2: 0.01<br>Topic3: 0.01"
          ],
          [
           "1",
           "masasaktan totoo namang nandaya wala man<br>nagawa puro panira gobyerno prrd",
           "Topic1: 0.99<br>Topic2: 0.01<br>Topic3: 0.01"
          ],
          [
           "1",
           "daya kapal muka pandaraya mananalo http",
           "Topic1: 0.98<br>Topic2: 0.01<br>Topic3: 0.01"
          ],
          [
           "1",
           "inept doctors choose inept moronic",
           "Topic1: 0.97<br>Topic3: 0.02<br>Topic2: 0.01"
          ],
          [
           "1",
           "hope realize inept",
           "Topic1: 0.96<br>Topic2: 0.02<br>Topic3: 0.02"
          ],
          [
           "1",
           "inept candidates isko bobo hindi<br>nakapasa anong national exam noard bar<br>incompetent least pacquiao even college<br>degree omg anong mangyari pagsila ihalal",
           "Topic1: 0.99"
          ],
          [
           "1",
           "",
           "Topic1: 0.33<br>Topic2: 0.33<br>Topic3: 0.33"
          ],
          [
           "1",
           "mas tamad c photo opps alam fyi kawatan",
           "Topic1: 0.97<br>Topic2: 0.01<br>Topic3: 0.01"
          ],
          [
           "1",
           "alam drug lord pamilyang ask fled<br>country drug war hahahaha",
           "Topic1: 0.56<br>Topic3: 0.43<br>Topic2: 0.01"
          ],
          [
           "1",
           "uh oh proud dh marangal trabaho wala<br>akong inaapakang tao nagnanakaw<br>nakakatulong bansa nakakatulong anyway<br>back fake vp puro pakitang tao<br>magnanakaw boto kapal mukha",
           "Topic1: 0.99"
          ],
          [
           "1",
           "oi haha sirang sira sakin simula namatay<br>asawa nyan lagi kong naririnig tatay<br>wala syang pinagka iba cory pinatay<br>asawa makilala haha lalo aquino<br>trililing iba pang kilalang tao",
           "Topic1: 1.0"
          ],
          [
           "1",
           "ganda pic hubby think campaigning time<br>tanong madam kamusta kaso pagkamatay<br>asawa alledged mr bolet life",
           "Topic1: 0.99"
          ],
          [
           "1",
           "sabi fake vp kanyang video namatay asawa<br>hindi wala akong boyfriend wala akong<br>boyfriend",
           "Topic1: 0.99<br>Topic2: 0.01<br>Topic3: 0.01"
          ],
          [
           "1",
           "pwede bang recount since nakita kayong<br>andy magkasama isang motel hotel yon<br>elctn",
           "Topic1: 0.99<br>Topic3: 0.01"
          ],
          [
           "1",
           "smartmatic bad reputation countries<br>infact banned us countries ayan meron<br>tayong u c",
           "Topic1: 0.99<br>Topic2: 0.01<br>Topic3: 0.01"
          ],
          [
           "1",
           "meron sex video anak sabi mismo napaka<br>gross ina magpakalat tsimis sinegundahan<br>paeng ipen",
           "Topic1: 0.99"
          ],
          [
           "1",
           "true puppet lp win pcs machine<br>manipulated panot aquino",
           "Topic1: 0.98<br>Topic2: 0.01<br>Topic3: 0.01"
          ],
          [
           "1",
           "",
           "Topic1: 0.33<br>Topic2: 0.33<br>Topic3: 0.33"
          ],
          [
           "1",
           "fy pcs machine garbage politician puppet<br>panot aquino oligarchs",
           "Topic1: 0.98<br>Topic2: 0.01<br>Topic3: 0.01"
          ],
          [
           "1",
           "wakas makakasohan pekeng vp garbage<br>politician",
           "Topic1: 0.98<br>Topic2: 0.01<br>Topic3: 0.01"
          ],
          [
           "1",
           "dapat sino pagnanakaw boto sus",
           "Topic1: 0.96<br>Topic2: 0.02<br>Topic3: 0.02"
          ],
          [
           "1",
           "hindi lng sabit kayong lahat mandaraya",
           "Topic1: 0.97<br>Topic2: 0.01<br>Topic3: 0.01"
          ],
          [
           "1",
           "pgkatapos mismo election bbm pangalawang<br>pangulo",
           "Topic1: 0.97<br>Topic2: 0.01<br>Topic3: 0.01"
          ],
          [
           "1",
           "bkit mas pinili bbm simple ayaw bbm npa<br>samantalang npa p endorser gets",
           "Topic1: 0.98<br>Topic2: 0.01<br>Topic3: 0.01"
          ],
          [
           "1",
           "npa walang alam batas",
           "Topic1: 0.95<br>Topic2: 0.02<br>Topic3: 0.02"
          ],
          [
           "1",
           "bat puro martial law npa npa sumira<br>plano marcos marahas martial law",
           "Topic1: 0.98<br>Topic2: 0.01<br>Topic3: 0.01"
          ],
          [
           "1",
           "walang sikretong nabubunyag ung binabato<br>paratang years nakakalipas lahat junked<br>turn returning favor",
           "Topic1: 0.99"
          ],
          [
           "1",
           "clear searches oligarchs vote buying<br>komunista lutang",
           "Topic1: 0.98<br>Topic2: 0.01<br>Topic3: 0.01"
          ],
          [
           "1",
           "ridiculed motherhood really absurd<br>kakampwets still supports saint kahit<br>komunista issues iba talaga kapag aquino<br>apologist lp fanatics devotees woke<br>bulag bulag",
           "Topic1: 0.99"
          ],
          [
           "1",
           "karapat dpat kdahilanang wla syang long<br>term plan pra ating bayan unlike bbm<br>meron agad maishare taumbayan dhil<br>kakampi terorista ating bansa mabilis<br>mauto simpleng sagot magawa daming",
           "Topic1: 1.0"
          ],
          [
           "1",
           "deadma pink tamud tangang nanay accused<br>terrorists supporters gusto nila<br>magulong bansa walang unity terrorists<br>drug addicts high crime rates",
           "Topic1: 0.5<br>Topic2: 0.5"
          ],
          [
           "1",
           "npa",
           "Topic1: 0.33<br>Topic2: 0.33<br>Topic3: 0.33"
          ],
          [
           "1",
           "alam bang wala akong pake aquino sino<br>pang politiko pare parehas silang<br>politiko kurakot tulad duterte pasensiya<br>hindi katulad sumasamba politiko",
           "Topic1: 0.99"
          ],
          [
           "1",
           "walang kwenta bobo anong sibasabi walang<br>bahid kurakot mama laki kinulimbat pera<br>nag hire private lawyer kuno baka<br>kunwari makakuha pera sino ngayon<br>kawatan pera bayan best",
           "Topic1: 1.0"
          ],
          [
           "1",
           "basura yang ht",
           "Topic1: 0.94<br>Topic2: 0.03<br>Topic3: 0.03"
          ],
          [
           "1",
           "medalya kabobohan kalutangan yang lutang<br>pati naging bugok kna inutil walang<br>nagawa bayan mabuti vp sara duterte days<br>office dami nyang nagawa",
           "Topic1: 0.99"
          ],
          [
           "1",
           "trabaho sara gaya kunyariam trabaho<br>tapos todo picture siguro sanay lol",
           "Topic1: 0.99<br>Topic2: 0.01<br>Topic3: 0.01"
          ],
          [
           "1",
           "oh talaga kayong kakarampot kakampinks<br>nakakaramdam administrasyon sanay niyong<br>basura photo ops alam gawin difficult<br>times wala talagang nagagawa eeew",
           "Topic1: 0.99"
          ],
          [
           "1",
           "sanay ghurl taong nagtatrabaho walang<br>bitbit camera media taong epal ksp<br>nasanay lugaw mamimigay spaghetti<br>matching lights camera action<br>hahahaduken",
           "Topic1: 0.99"
          ],
          [
           "1",
           "",
           "Topic1: 0.33<br>Topic2: 0.33<br>Topic3: 0.33"
          ],
          [
           "1",
           "",
           "Topic1: 0.33<br>Topic2: 0.33<br>Topic3: 0.33"
          ],
          [
           "1",
           "",
           "Topic1: 0.33<br>Topic2: 0.33<br>Topic3: 0.33"
          ],
          [
           "1",
           "tanga bobo mama niu mandaraya way back<br>election bulag bulagan katotohanan alam<br>niu ung totoo",
           "Topic1: 0.99<br>Topic2: 0.01<br>Topic3: 0.01"
          ],
          [
           "1",
           "comparison kapang nalalaman dapat<br>ipaglaban mandaraya dikit nmn laban<br>nagtimpla kape lumamang muslim remote<br>area hahah lams eto malaki agwat<br>landslide milyon kayang dayain hahha<br>gudluk ngo pang nalalaman npa kamo",
           "Topic1: 1.0"
          ],
          [
           "1",
           "hindi mahina kominikasyon walang<br>experience governance kaalyado legal<br>fronts komunista gustong ipatanggal<br>gustong itigil laban droga maraming<br>nakapalibot dilaw palaging kontra<br>gobyerno",
           "Topic1: 0.99"
          ],
          [
           "1",
           "ate girl mas dictator papa commanding<br>ban jordanian journalist mas thief mama<br>magnanakaw boto like said like thief<br>night",
           "Topic1: 0.99"
          ],
          [
           "1",
           "mukang pinaghuhugutan miss tukad ginawa<br>ina natulog gising",
           "Topic1: 0.98<br>Topic2: 0.01<br>Topic3: 0.01"
          ],
          [
           "1",
           "ulol talaga mananalo kapag mandaraya<br>ulit tulad nong gising namin vp",
           "Topic1: 0.46<br>Topic2: 0.41<br>Topic3: 0.14"
          ],
          [
           "1",
           "mandadaya dinaya election nanalo hindi<br>narin aq magtataka manalo ulit mandaraya<br>hahahahahahhaha mauulit lng panahon cory<br>nanalo",
           "Topic1: 0.99"
          ],
          [
           "1",
           "anong cheapan dirty tactics wg ipasa<br>samin maryosep hahahaha yang hail full<br>disgrace ninyo mandaraya since tanda<br>angat kpa",
           "Topic1: 0.99"
          ],
          [
           "1",
           "baka mandaya team dilawan mahirap gaya<br>mandaraya pinoy hindi uupo wala pinoy<br>nakarma dilawan",
           "Topic1: 0.99"
          ],
          [
           "1",
           "kapag nakakakita pink nakikita hanggat<br>natatapos eleksiyon never wear pink",
           "Topic1: 0.99<br>Topic2: 0.01<br>Topic3: 0.01"
          ],
          [
           "1",
           "",
           "Topic1: 0.33<br>Topic2: 0.33<br>Topic3: 0.33"
          ],
          [
           "1",
           "dinaya dapat marcos naging vp hindi<br>lugaw walang ambag",
           "Topic1: 0.98<br>Topic2: 0.01<br>Topic3: 0.01"
          ],
          [
           "1",
           "sinasabi namin dina nakakatulong<br>nangugulo ipamukha gobyerno marunong<br>dapat unahin kasuhan",
           "Topic1: 0.99<br>Topic2: 0.01<br>Topic3: 0.01"
          ],
          [
           "1",
           "qualify boba second backer magnanakaw<br>kupetero druglord protektor silay<br>kakutsaba npa dahilan ayaw mamamayan",
           "Topic1: 0.99"
          ],
          [
           "1",
           "huwag ibase respeto credentials tao<br>kahit sandamakmak award natanggap<br>sinungaling sinisiraan sariling bansa<br>pagkatalo election tandaan mananatili<br>kang talunan walang ambag lipunan",
           "Topic1: 0.99"
          ],
          [
           "1",
           "survive covid magaling gobyerno ngayon<br>pangulo baka palpak yolanda nagawan<br>paraan ooops",
           "Topic1: 0.99<br>Topic2: 0.01<br>Topic3: 0.01"
          ],
          [
           "1",
           "desperado npa kumunista gagawa gulo<br>kakampi hudas sagabal unlad bansa utak<br>sindikato",
           "Topic1: 0.99<br>Topic2: 0.01<br>Topic3: 0.01"
          ],
          [
           "1",
           "meme totoo walang ambag bansa batin puro<br>bash nagagawa nyan presindenti natin<br>pres digs dapat pasasalamatan natin todo",
           "Topic1: 0.99"
          ],
          [
           "1",
           "hahahah maka tawa manko oy ambag sis<br>sige man siya mama walang gawa",
           "Topic1: 0.99<br>Topic2: 0.01<br>Topic3: 0.01"
          ],
          [
           "1",
           "billion galing nakaw sabi marcos<br>magnanakaw mas masahol buwan",
           "Topic1: 0.98<br>Topic2: 0.01<br>Topic3: 0.01"
          ],
          [
           "1",
           "sorry ligtas tao npa alliance siya lalo<br>nilayo loob mamamayan",
           "Topic1: 0.98<br>Topic2: 0.01<br>Topic3: 0.01"
          ],
          [
           "1",
           "girl anong dapat png hinayaangan isang<br>mas utak kmi syo alam nmin boba isang<br>alam nmin n disgrazia komunista<br>protektor druglord walang alam protektor<br>oligarchs mg isip k muna puppet",
           "Topic1: 0.99"
          ],
          [
           "1",
           "least pakialam ping supporters<br>kinampihan baka jan mismo maghasik<br>kaguluhan ibintang kalaban",
           "Topic1: 0.99<br>Topic2: 0.01<br>Topic3: 0.01"
          ]
         ],
         "hovertemplate": "<b>%{hovertext}</b><br><br>Breakdown=%{customdata[2]}<extra></extra>",
         "hovertext": [
          "",
          "kelan iimbestigahan",
          "like thief night mom boba stole votes<br>filipinos mom became via pcos machine<br>promisedand planned shame dad even hero<br>boba mom made museum using gov funds",
          "",
          "",
          "pla tnutukoy pnapatamaan oraaayytt",
          "",
          "utak",
          "kamusta dilawan mayatanda katulad tatay<br>henerasyong ngayon walang alam hidni<br>nakikita pinapakita social media<br>sakanila aral aral libro ineng toy",
          "style npa npa talaga hindi welga<br>ginagawa harapan establishment ayaw<br>kundi spreading bad leaflet lumang style<br>pang bundok",
          "hindi bago balita tungkol alyansang<br>hindi nakakagulat ibinunyag isang dating<br>miyembro nasabing teroristang grupo<br>kandidatong pambato manok rebelde",
          "lol npa tlga dilwan pinklawan c cory<br>nagpalaya da npa n nag martial law dhil<br>pagbomba terorista n",
          "like boto",
          "boto",
          "",
          "tangina puro reklamo wala namang<br>naiambag lipunan dilawan salot lipunan<br>isama lugaw walang ambag pres matanda<br>ginawa lahat atin ambag magreklamo",
          "anong nagawa fake vp<br>hahahahahahahahabahaha walang ambag tpos<br>vp naghahanap gobyerno dba saan pala nag<br>ttrabahong tanga",
          "wala namang kwenta bang ambag nyan puro<br>contradictions ginagawa tas walang<br>kwentang comments situation",
          "hahahah iwan kuba bat bobo kakampwet<br>marami nabang recuit bata marami nabang<br>masisira kinabukasan pinaggagawa gusto<br>sakupin bansa gagaka npa",
          "inggit walang ambag moro chaka",
          "wala kasing ibang topic alam walang alam<br>phil law economics local governance<br>sayang hype description ambag drug war<br>pandemic response wala subject harvard<br>best photo ops",
          "vovo matagal walang galaw unilever<br>ngayon ganyan kalaki nakikita nila<br>potential administrasyong marcos panahon<br>pnoy wala tatak palpak dilaw magkano<br>ambag ekonomiya tae tae",
          "engot buhay nalang ngayon flops lutang<br>walang supporta oligarchs sinong<br>susupporta isang kagaya puro paninira<br>sariling bansa ambag pinag gagawa ngayon<br>pagkakalat us akala naka points pinoys",
          "ayan nasimulan aminin nalang kakampwets<br>inflation rereklamo walang ambag<br>solusyon walang nagawa magawa utak utak<br>saan meron walaaaa",
          "bwahaha hahahaha parallel universe<br>gobyerno never heard realidad kumbaga<br>walang epek peke wala ngang ambag trust<br>approval rating bagsak natural filipino<br>citizen k magbigay award hindi iilan",
          "",
          "",
          "nasaan pondo bat pinatayo bugok corrupt<br>choose lutang pareho kayong bobo inutil<br>teh walang nagaw puro epal photo ops<br>nagawa",
          "ubos confidential funds padre inubos<br>inutil madumb kampanya",
          "peke",
          "sino mandaraya diba garapalan lantaran<br>pandaray tangang lutang",
          "pandaraya gawain wag niyong ibahin<br>totoong mandaraya",
          "",
          "",
          "daya madam rt source ballots<br>municipality baao camarines sur<br>discovered",
          "e announce bobang",
          "asan puro bias media goosebumps<br>mandaraya magnanakaw boto uulitin",
          "",
          "kampo ulit mandaraya katulad kc kulelat<br>frontrunner bang kailangan mandaya",
          "punyeta lugaw lutang puppet boba<br>mandaraya noon ginamit panot aquino<br>drilon hindi maka upo bbm ngayon wala<br>kayong power kahit dayain ninyo bbm<br>hindi ninyo agaw ulit panalo",
          "sana maamin nio sarili nio nanalo c bbm<br>election mandaraya tlg hnde nio aaminin<br>nandaya aaminin nio marami bumoto<br>lumipat marcos",
          "",
          "",
          "",
          "lp tunay magnanakaw kaban taong bayan<br>leading panot aquino lp trolls huli",
          "",
          "tingin hindi pagpapakita pagiging<br>desperado",
          "",
          "",
          "nakarma kakampinks",
          "",
          "salot k lipunan",
          "patay diyan lenie principles values lp<br>kakapitan pinoys mauulit n<br>kawalanghiyaan n pinaggawa boto",
          "boto",
          "",
          "mainit balita bong bong marcos hinamon<br>vp kanyang p",
          "tukoy bongbong marcos lugar naganap<br>pandaraya ro",
          "bukod tanging presidentiable npa<br>partylist tapos sasabihin wala kang<br>ugnayan senatorial lineup halos kasapi<br>npa ate shawie nmn bumuka bunganga sabay<br>kabig gawin bobbooo tao vp",
          "unless dimwit condemns criminal acts<br>committed years communist terrorist<br>sympathizer enabler",
          "nakita narinig bale hindi talaga<br>maririnig atty magsalita ganoon mahinang<br>klase lutang eka tandaan hindi binibeybe<br>komunista galamay nito dapat pinipisak",
          "magnanakaw benefitted yolanda fund last<br>equally magnanakaw magnanakaw boto<br>despite degrees tanga bet even answer<br>prof clarita first question",
          "degree tanga salita gawa paanu earn<br>degree lutang lutang katangahan<br>nakinabang yolanda funds magnanakaw",
          "paano magawa trabaho ninanakaw pagka vp<br>tuloy",
          "sus miyo day magtrabaho dami satsat anu",
          "ahwww inform mandaraya mama",
          "unang fake vp kahit hindi apologists mas<br>pinili marcos mandaraya",
          "eversince diba alam ramdam ayaw kanya<br>karamihan bobo boto tatak niyang kayang<br>iwasan",
          "",
          "p aasahan peke boto ninakaw kaban bayan",
          "totoong nanalo madam dapat wala syang<br>takot ipaulit pagbilang padin nanalo<br>abay kahiyahiya ayaw madam malalaman<br>tayong bago",
          "big contrast indeed prrd working hardto<br>improve life vp photo op improve image<br>tainted cheatingin election",
          "madam puro publicity nanaman mahina<br>network makatulong kunti tapos nanaman<br>media original pink marcos lol nasaan<br>pangulo lol madam alam namin gawain",
          "sige takot siya",
          "like thief night natulog vp",
          "deceived people becoming vp like thief<br>night",
          "panahon kukunin ninakaw simulan",
          "masasaktan totoo namang nandaya wala man<br>nagawa puro panira gobyerno prrd",
          "daya kapal muka pandaraya mananalo http",
          "inept doctors choose inept moronic",
          "hope realize inept",
          "inept candidates isko bobo hindi<br>nakapasa anong national exam noard bar<br>incompetent least pacquiao even college<br>degree omg anong mangyari pagsila ihalal",
          "",
          "mas tamad c photo opps alam fyi kawatan",
          "alam drug lord pamilyang ask fled<br>country drug war hahahaha",
          "uh oh proud dh marangal trabaho wala<br>akong inaapakang tao nagnanakaw<br>nakakatulong bansa nakakatulong anyway<br>back fake vp puro pakitang tao<br>magnanakaw boto kapal mukha",
          "oi haha sirang sira sakin simula namatay<br>asawa nyan lagi kong naririnig tatay<br>wala syang pinagka iba cory pinatay<br>asawa makilala haha lalo aquino<br>trililing iba pang kilalang tao",
          "ganda pic hubby think campaigning time<br>tanong madam kamusta kaso pagkamatay<br>asawa alledged mr bolet life",
          "sabi fake vp kanyang video namatay asawa<br>hindi wala akong boyfriend wala akong<br>boyfriend",
          "pwede bang recount since nakita kayong<br>andy magkasama isang motel hotel yon<br>elctn",
          "smartmatic bad reputation countries<br>infact banned us countries ayan meron<br>tayong u c",
          "meron sex video anak sabi mismo napaka<br>gross ina magpakalat tsimis sinegundahan<br>paeng ipen",
          "true puppet lp win pcs machine<br>manipulated panot aquino",
          "",
          "fy pcs machine garbage politician puppet<br>panot aquino oligarchs",
          "wakas makakasohan pekeng vp garbage<br>politician",
          "dapat sino pagnanakaw boto sus",
          "hindi lng sabit kayong lahat mandaraya",
          "pgkatapos mismo election bbm pangalawang<br>pangulo",
          "bkit mas pinili bbm simple ayaw bbm npa<br>samantalang npa p endorser gets",
          "npa walang alam batas",
          "bat puro martial law npa npa sumira<br>plano marcos marahas martial law",
          "walang sikretong nabubunyag ung binabato<br>paratang years nakakalipas lahat junked<br>turn returning favor",
          "clear searches oligarchs vote buying<br>komunista lutang",
          "ridiculed motherhood really absurd<br>kakampwets still supports saint kahit<br>komunista issues iba talaga kapag aquino<br>apologist lp fanatics devotees woke<br>bulag bulag",
          "karapat dpat kdahilanang wla syang long<br>term plan pra ating bayan unlike bbm<br>meron agad maishare taumbayan dhil<br>kakampi terorista ating bansa mabilis<br>mauto simpleng sagot magawa daming",
          "deadma pink tamud tangang nanay accused<br>terrorists supporters gusto nila<br>magulong bansa walang unity terrorists<br>drug addicts high crime rates",
          "npa",
          "alam bang wala akong pake aquino sino<br>pang politiko pare parehas silang<br>politiko kurakot tulad duterte pasensiya<br>hindi katulad sumasamba politiko",
          "walang kwenta bobo anong sibasabi walang<br>bahid kurakot mama laki kinulimbat pera<br>nag hire private lawyer kuno baka<br>kunwari makakuha pera sino ngayon<br>kawatan pera bayan best",
          "basura yang ht",
          "medalya kabobohan kalutangan yang lutang<br>pati naging bugok kna inutil walang<br>nagawa bayan mabuti vp sara duterte days<br>office dami nyang nagawa",
          "trabaho sara gaya kunyariam trabaho<br>tapos todo picture siguro sanay lol",
          "oh talaga kayong kakarampot kakampinks<br>nakakaramdam administrasyon sanay niyong<br>basura photo ops alam gawin difficult<br>times wala talagang nagagawa eeew",
          "sanay ghurl taong nagtatrabaho walang<br>bitbit camera media taong epal ksp<br>nasanay lugaw mamimigay spaghetti<br>matching lights camera action<br>hahahaduken",
          "",
          "",
          "",
          "tanga bobo mama niu mandaraya way back<br>election bulag bulagan katotohanan alam<br>niu ung totoo",
          "comparison kapang nalalaman dapat<br>ipaglaban mandaraya dikit nmn laban<br>nagtimpla kape lumamang muslim remote<br>area hahah lams eto malaki agwat<br>landslide milyon kayang dayain hahha<br>gudluk ngo pang nalalaman npa kamo",
          "hindi mahina kominikasyon walang<br>experience governance kaalyado legal<br>fronts komunista gustong ipatanggal<br>gustong itigil laban droga maraming<br>nakapalibot dilaw palaging kontra<br>gobyerno",
          "ate girl mas dictator papa commanding<br>ban jordanian journalist mas thief mama<br>magnanakaw boto like said like thief<br>night",
          "mukang pinaghuhugutan miss tukad ginawa<br>ina natulog gising",
          "ulol talaga mananalo kapag mandaraya<br>ulit tulad nong gising namin vp",
          "mandadaya dinaya election nanalo hindi<br>narin aq magtataka manalo ulit mandaraya<br>hahahahahahhaha mauulit lng panahon cory<br>nanalo",
          "anong cheapan dirty tactics wg ipasa<br>samin maryosep hahahaha yang hail full<br>disgrace ninyo mandaraya since tanda<br>angat kpa",
          "baka mandaya team dilawan mahirap gaya<br>mandaraya pinoy hindi uupo wala pinoy<br>nakarma dilawan",
          "kapag nakakakita pink nakikita hanggat<br>natatapos eleksiyon never wear pink",
          "",
          "dinaya dapat marcos naging vp hindi<br>lugaw walang ambag",
          "sinasabi namin dina nakakatulong<br>nangugulo ipamukha gobyerno marunong<br>dapat unahin kasuhan",
          "qualify boba second backer magnanakaw<br>kupetero druglord protektor silay<br>kakutsaba npa dahilan ayaw mamamayan",
          "huwag ibase respeto credentials tao<br>kahit sandamakmak award natanggap<br>sinungaling sinisiraan sariling bansa<br>pagkatalo election tandaan mananatili<br>kang talunan walang ambag lipunan",
          "survive covid magaling gobyerno ngayon<br>pangulo baka palpak yolanda nagawan<br>paraan ooops",
          "desperado npa kumunista gagawa gulo<br>kakampi hudas sagabal unlad bansa utak<br>sindikato",
          "meme totoo walang ambag bansa batin puro<br>bash nagagawa nyan presindenti natin<br>pres digs dapat pasasalamatan natin todo",
          "hahahah maka tawa manko oy ambag sis<br>sige man siya mama walang gawa",
          "billion galing nakaw sabi marcos<br>magnanakaw mas masahol buwan",
          "sorry ligtas tao npa alliance siya lalo<br>nilayo loob mamamayan",
          "girl anong dapat png hinayaangan isang<br>mas utak kmi syo alam nmin boba isang<br>alam nmin n disgrazia komunista<br>protektor druglord walang alam protektor<br>oligarchs mg isip k muna puppet",
          "least pakialam ping supporters<br>kinampihan baka jan mismo maghasik<br>kaguluhan ibintang kalaban"
         ],
         "legendgroup": "1",
         "marker": {
          "color": "#636efa",
          "symbol": "circle"
         },
         "mode": "markers",
         "name": "1",
         "orientation": "v",
         "showlegend": true,
         "type": "scatter",
         "x": [
          181.54739379882812,
          60.421836853027344,
          -218.6424102783203,
          181.54739379882812,
          181.54739379882812,
          -0.29255804419517517,
          181.54739379882812,
          67.09839630126953,
          -232.5755615234375,
          -232.5755615234375,
          -218.6424102783203,
          -37.72285079956055,
          71.12446594238281,
          47.0208854675293,
          181.54739379882812,
          -186.52085876464844,
          -37.72285079956055,
          -232.5755615234375,
          -251.4171905517578,
          -65.67217254638672,
          -232.5755615234375,
          -185.9647216796875,
          -307.2578430175781,
          -271.0885314941406,
          -286.6444091796875,
          181.54739379882812,
          181.54739379882812,
          -200.98379516601562,
          -37.72285079956055,
          48.075740814208984,
          -65.67217254638672,
          -65.67217254638672,
          181.54739379882812,
          181.54739379882812,
          -37.72285079956055,
          46.77835464477539,
          -37.72285079956055,
          181.54739379882812,
          -63.81586456298828,
          -184.24827575683594,
          -293.03741455078125,
          181.54739379882812,
          181.54739379882812,
          181.54739379882812,
          -37.72285079956055,
          181.54739379882812,
          -64.102294921875,
          181.54739379882812,
          181.54739379882812,
          60.421836853027344,
          181.54739379882812,
          60.421836853027344,
          -37.72285079956055,
          47.0208854675293,
          181.54739379882812,
          -65.67217254638672,
          -65.67217254638672,
          -232.5755615234375,
          -37.72285079956055,
          -232.5755615234375,
          -232.5755615234375,
          -232.5755615234375,
          -65.67217254638672,
          -39.63850402832031,
          -0.29255804419517517,
          38.0203971862793,
          -127.78173828125,
          181.54739379882812,
          -65.67217254638672,
          -232.5755615234375,
          -232.5755615234375,
          -292.0811767578125,
          18.623794555664062,
          -0.29255804419517517,
          54.526092529296875,
          -64.102294921875,
          -37.72285079956055,
          -65.67217254638672,
          -24.65097427368164,
          18.623794555664062,
          -232.5755615234375,
          181.54739379882812,
          -64.102294921875,
          149.649169921875,
          -252.99319458007812,
          -307.2578430175781,
          -185.9647216796875,
          -37.72285079956055,
          -136.08273315429688,
          -63.81586456298828,
          -232.5755615234375,
          -65.67217254638672,
          181.54739379882812,
          -65.67217254638672,
          -65.67217254638672,
          18.623794555664062,
          -39.63850402832031,
          -64.102294921875,
          -65.67217254638672,
          44.776588439941406,
          -65.67217254638672,
          -232.5755615234375,
          -65.67217254638672,
          -232.5755615234375,
          -286.6444091796875,
          235.12631225585938,
          181.54739379882812,
          -232.5755615234375,
          -286.6444091796875,
          46.77835464477539,
          -232.5755615234375,
          -37.72285079956055,
          -186.52085876464844,
          -232.5755615234375,
          181.54739379882812,
          181.54739379882812,
          181.54739379882812,
          -37.72285079956055,
          -307.2578430175781,
          -232.5755615234375,
          -218.6424102783203,
          -65.67217254638672,
          229.13699340820312,
          -262.5342102050781,
          -262.5342102050781,
          -225.61155700683594,
          -37.72285079956055,
          181.54739379882812,
          -65.67217254638672,
          -76.84191131591797,
          -226.24525451660156,
          -275.75201416015625,
          -76.84191131591797,
          -63.81586456298828,
          -232.5755615234375,
          -76.84191131591797,
          -65.67217254638672,
          -65.67217254638672,
          -218.6424102783203,
          -37.72285079956055
         ],
         "xaxis": "x",
         "y": [
          -216.58175659179688,
          303.58319091796875,
          83.03753662109375,
          -216.58175659179688,
          -216.58175659179688,
          290.05938720703125,
          -216.58175659179688,
          231.10003662109375,
          128.22811889648438,
          128.22811889648438,
          83.03753662109375,
          140.873291015625,
          264.9012756347656,
          218.3202667236328,
          -216.58175659179688,
          109.18668365478516,
          140.873291015625,
          128.22811889648438,
          65.8887939453125,
          236.69308471679688,
          128.22811889648438,
          142.60284423828125,
          38.1504020690918,
          155.88790893554688,
          19.719457626342773,
          -216.58175659179688,
          -216.58175659179688,
          169.45631408691406,
          140.873291015625,
          241.18670654296875,
          236.69308471679688,
          236.69308471679688,
          -216.58175659179688,
          -216.58175659179688,
          140.873291015625,
          279.4121398925781,
          140.873291015625,
          -216.58175659179688,
          111.24781799316406,
          78.44895935058594,
          139.87677001953125,
          -216.58175659179688,
          -216.58175659179688,
          -216.58175659179688,
          140.873291015625,
          -216.58175659179688,
          302.9678649902344,
          -216.58175659179688,
          -216.58175659179688,
          303.58319091796875,
          -216.58175659179688,
          303.58319091796875,
          140.873291015625,
          218.3202667236328,
          -216.58175659179688,
          236.69308471679688,
          236.69308471679688,
          128.22811889648438,
          140.873291015625,
          128.22811889648438,
          128.22811889648438,
          128.22811889648438,
          236.69308471679688,
          286.6426086425781,
          290.05938720703125,
          183.8702392578125,
          103.4075698852539,
          -216.58175659179688,
          236.69308471679688,
          128.22811889648438,
          128.22811889648438,
          100.76789093017578,
          316.4856872558594,
          290.05938720703125,
          183.69041442871094,
          302.9678649902344,
          140.873291015625,
          236.69308471679688,
          317.6651306152344,
          316.4856872558594,
          128.22811889648438,
          -216.58175659179688,
          302.9678649902344,
          -267.1492919921875,
          175.27716064453125,
          38.1504020690918,
          142.60284423828125,
          140.873291015625,
          151.89056396484375,
          111.24781799316406,
          128.22811889648438,
          236.69308471679688,
          -216.58175659179688,
          236.69308471679688,
          236.69308471679688,
          316.4856872558594,
          286.6426086425781,
          302.9678649902344,
          236.69308471679688,
          329.0447692871094,
          236.69308471679688,
          128.22811889648438,
          236.69308471679688,
          128.22811889648438,
          19.719457626342773,
          -171.55282592773438,
          -216.58175659179688,
          128.22811889648438,
          19.719457626342773,
          279.4121398925781,
          128.22811889648438,
          140.873291015625,
          109.18668365478516,
          128.22811889648438,
          -216.58175659179688,
          -216.58175659179688,
          -216.58175659179688,
          140.873291015625,
          38.1504020690918,
          128.22811889648438,
          83.03753662109375,
          236.69308471679688,
          -194.51309204101562,
          91.52644348144531,
          91.52644348144531,
          50.887306213378906,
          140.873291015625,
          -216.58175659179688,
          236.69308471679688,
          147.37400817871094,
          177.2313232421875,
          121.41473388671875,
          147.37400817871094,
          111.24781799316406,
          128.22811889648438,
          147.37400817871094,
          236.69308471679688,
          236.69308471679688,
          83.03753662109375,
          140.873291015625
         ],
         "yaxis": "y"
        },
        {
         "customdata": [
          [
           "2",
           "nagmamagaling hahahahah",
           "Topic2: 0.95<br>Topic1: 0.02<br>Topic3: 0.02"
          ],
          [
           "2",
           "mahusay magtrabaho nagawa bilang vp wala<br>kondi panay kontra projects president<br>halip tumulong naninira san makakita vp<br>ganyan philippines npa supporter",
           "Topic2: 0.99"
          ],
          [
           "2",
           "fyi live smni jong top mindanao<br>surrenders confirms komunista alliance",
           "Topic2: 0.99<br>Topic1: 0.01<br>Topic3: 0.01"
          ],
          [
           "2",
           "tong walang bahid pagsisisi walang<br>kahihiyan mandaraya",
           "Topic2: 0.98<br>Topic1: 0.01<br>Topic3: 0.01"
          ],
          [
           "2",
           "hindi kelangan sambayanang pilipino kang<br>mandaraya eleksyon peke magresign",
           "Topic2: 0.98<br>Topic1: 0.01<br>Topic3: 0.01"
          ],
          [
           "2",
           "pet kumusta usad kaso laban dayaan<br>nangyari eleksyon",
           "Topic2: 0.98<br>Topic1: 0.01<br>Topic3: 0.01"
          ],
          [
           "2",
           "talunan nanga nagiging bobo kapa kapa<br>kame masaya resulta mandaya baka mas<br>mataas million vote bbm mandaraya since",
           "Topic2: 0.99"
          ],
          [
           "2",
           "talagang hindi mandaraya nong ms hindi<br>ulitin ngayong darating election",
           "Topic2: 0.98<br>Topic1: 0.01<br>Topic3: 0.01"
          ],
          [
           "2",
           "habang tulog pilipinas gising mandaraya<br>rather president like prrd kahit tulog<br>gumagalaw kanyang departamento hindi<br>kailangang gising presidente<br>makapagserbisyo gobyerno service",
           "Topic2: 0.99"
          ],
          [
           "2",
           "tanga kahit ihampas yang degree bobo<br>parin isang truck tulong ilang pamilya<br>mabibigyan nun tapos sasabihin pwede<br>tigilan kabobohan sanay photo ops kahit<br>sapat tulong boba",
           "Topic2: 0.86<br>Topic1: 0.14"
          ],
          [
           "2",
           "hahahahahshshshs",
           "Topic2: 0.91<br>Topic1: 0.05<br>Topic3: 0.05"
          ],
          [
           "2",
           "okay ganyan talaga kurakot adik kampi<br>npa walang nagawa bansa bobo",
           "Topic2: 0.99<br>Topic1: 0.01<br>Topic3: 0.01"
          ],
          [
           "2",
           "talaga kurakot vp totoo kaban bayan<br>ginamit nyu",
           "Topic2: 0.97<br>Topic1: 0.01<br>Topic3: 0.01"
          ],
          [
           "2",
           "nakakahiya kang fake vp wonder katiting<br>wala akong makitang maganda pagkatao<br>nakakahiya photoshoot alam puro ngawa<br>wala gawa",
           "Topic2: 0.99"
          ],
          [
           "2",
           "nman common sense pinagsasabi sure ung<br>mama walang bahid kasinungalingan<br>corruption ethical politics nia araw<br>araw k b nia nakakasama pra masigurado<br>kng nman pala masigurado ur shit",
           "Topic2: 0.99"
          ],
          [
           "2",
           "another reason love prrd next president<br>lot tapos vote walang ibang ginawa kundi<br>siraan prrd last years common sense<br>diyan pinklawans judicious vote bbm sara<br>way go",
           "Topic2: 0.99"
          ],
          [
           "2",
           "walang common sense aling ganun maski<br>siguro panis bigay donors e distribute<br>tutal bigay donors tiga distribute<br>masabing tumulong",
           "Topic2: 0.99"
          ],
          [
           "2",
           "tingin kumikilos pbbm naive palibhasa<br>sanay ke puro imbes mangutya dyan<br>pagdasal natin bansa natin",
           "Topic2: 0.99"
          ],
          [
           "2",
           "myghad talaga teh",
           "Topic2: 0.94<br>Topic1: 0.03<br>Topic3: 0.03"
          ],
          [
           "2",
           "kasali npa liberal party npa ngayon<br>sabihin mu hindi kasali ayaw namin taong<br>naniniwala kumunista",
           "Topic2: 0.83<br>Topic1: 0.17<br>Topic3: 0.01"
          ],
          [
           "2",
           "intending natinnang",
           "Topic2: 0.95<br>Topic1: 0.02<br>Topic3: 0.02"
          ],
          [
           "2",
           "wawa oh napakadesente nanay lugaw",
           "Topic2: 0.97<br>Topic1: 0.02<br>Topic3: 0.01"
          ],
          [
           "2",
           "sir please interview ph cheat maam",
           "Topic2: 0.97<br>Topic1: 0.01<br>Topic3: 0.01"
          ],
          [
           "2",
           "oo pugar mahimbing masaya natulog panalo<br>bise sabay gising hrs puta nag iba peke<br>talaga",
           "Topic2: 0.99<br>Topic1: 0.01<br>Topic3: 0.01"
          ],
          [
           "2",
           "paano bibigyan dignidad bumoto<br>smartmatic seating vp said dignify<br>people voted right vp owe citizens<br>philippines bbm look dark soul",
           "Topic2: 0.99"
          ],
          [
           "2",
           "dejavu philippine elections vp stopped<br>counting due computers go someone else<br>slim margin",
           "Topic2: 0.99<br>Topic1: 0.01<br>Topic3: 0.01"
          ],
          [
           "2",
           "spread disimformation daugther aika sex<br>video accused pbbm height campaign<br>period else believe highest level manay<br>harder",
           "Topic2: 0.99"
          ],
          [
           "2",
           "foul play pagkamatay jesse tinulugan<br>fake vp html",
           "Topic2: 0.98<br>Topic1: 0.01<br>Topic3: 0.01"
          ],
          [
           "2",
           "obviously illicit love affair married<br>man congressman bolet want confirm deny",
           "Topic2: 0.99<br>Topic1: 0.01<br>Topic3: 0.01"
          ],
          [
           "2",
           "pormal inanunsyo vice president<br>inakusahan pandaraya eleksyon<br>kinakaharap kaso pet kaugnay eleksyon<br>dating asawa pinatay ala aksidente<br>eroplano jesse nagsabi",
           "Topic2: 0.99"
          ],
          [
           "2",
           "atty kumusta impeachment case",
           "Topic2: 0.97<br>Topic1: 0.01<br>Topic3: 0.01"
          ],
          [
           "2",
           "bwesit asawa npa taga supporta tulad<br>kiko habang ambush sundao puma palakpa<br>wala puso",
           "Topic2: 0.99"
          ],
          [
           "2",
           "totoo unang asawa bago namatay nabasa<br>kumander npa kanyang unang nasirang<br>asawa",
           "Topic2: 0.99<br>Topic1: 0.01<br>Topic3: 0.01"
          ],
          [
           "2",
           "pala nag tatago ibang bansa boyfriend<br>founder npa joma sison",
           "Topic2: 0.98<br>Topic1: 0.01<br>Topic3: 0.01"
          ],
          [
           "2",
           "hipocrita fake louis vuitton fake",
           "Topic2: 0.97<br>Topic1: 0.01<br>Topic3: 0.01"
          ],
          [
           "2",
           "totoo talaga fake fake louis vuitton",
           "Topic2: 0.98<br>Topic1: 0.01<br>Topic3: 0.01"
          ],
          [
           "2",
           "sinong maniniwalang bumoto mantakin<br>million lng lamang prrd kanya terms<br>numbers",
           "Topic2: 0.99<br>Topic1: 0.01<br>Topic3: 0.01"
          ],
          [
           "2",
           "therefore conclude pwedeng maging<br>presidente bise pinatay asawa",
           "Topic2: 0.72<br>Topic3: 0.27<br>Topic1: 0.01"
          ],
          [
           "2",
           "galit c vp r unang asawa npa pintay",
           "Topic2: 0.97<br>Topic1: 0.02<br>Topic3: 0.02"
          ],
          [
           "2",
           "jesse died carrying drug money lp<br>cleaned mess staged saint favoring<br>future use html",
           "Topic2: 0.99<br>Topic3: 0.01"
          ],
          [
           "2",
           "hay tatamad tamad pala president",
           "Topic2: 0.97<br>Topic1: 0.02<br>Topic3: 0.02"
          ],
          [
           "2",
           "inang unfit public service nation<br>witnessed awful performance better get<br>experienced social worker knew role<br>services government people proven inept<br>incompetent place public services",
           "Topic2: 0.99"
          ],
          [
           "2",
           "truly intelligent suppose gather million<br>votes instead nation witnessed<br>incompetent low iq awful performance<br>sweet lips congee spaghetti solve issue<br>signs weakness inept public services",
           "Topic2: 0.99"
          ],
          [
           "2",
           "dds time make contributions country",
           "Topic2: 0.97<br>Topic1: 0.02<br>Topic3: 0.02"
          ],
          [
           "2",
           "people philippines speaks louis vuitton<br>fake",
           "Topic2: 0.98<br>Topic1: 0.01<br>Topic3: 0.01"
          ],
          [
           "2",
           "let correct people vote picos worries<br>comes never first place",
           "Topic2: 0.65<br>Topic3: 0.35<br>Topic1: 0.01"
          ],
          [
           "2",
           "inconsequential inept idiotic politician<br>philippines complains getting called<br>moronic ideas madame nakakapikon<br>kabobohan ninyo pinangangalandakan ninyo<br>msm",
           "Topic2: 0.99"
          ],
          [
           "2",
           "inept fake vp philippines history",
           "Topic2: 0.96<br>Topic1: 0.02<br>Topic3: 0.02"
          ],
          [
           "2",
           "eto napanood",
           "Topic2: 0.91<br>Topic1: 0.05<br>Topic3: 0.05"
          ],
          [
           "2",
           "talaga tamad talaga huy mas kilala bbm c<br>bbm hindi pinabayaan proyekto katulad<br>nagiging vp siya diba haba bakasyon<br>amerika pinabayaan proyekto",
           "Topic2: 0.99"
          ],
          [
           "2",
           "tamad bbm batugan protect pbbm",
           "Topic2: 0.97<br>Topic1: 0.01<br>Topic3: 0.01"
          ],
          [
           "2",
           "gagamitin eleksyon nalololoko ginamit<br>dayaan tas gagamitin uli",
           "Topic2: 0.98<br>Topic1: 0.01<br>Topic3: 0.01"
          ],
          [
           "2",
           "ninakaw karamihan votes malinis sabi<br>shunga pinkliars",
           "Topic2: 0.81<br>Topic1: 0.18<br>Topic3: 0.01"
          ],
          [
           "2",
           "kulelat ina nyong shunga nandaya nun<br>ngayon lalaban patas gusto dq leniloser<br>sure ctto",
           "Topic2: 0.99<br>Topic1: 0.01<br>Topic3: 0.01"
          ],
          [
           "2",
           "even exist head president inept<br>hypocritical liar encourages cancel<br>culture spreads fake news knowingly<br>misinforms public disrespects church<br>among things dangerous dats por bidyo",
           "Topic2: 0.99"
          ],
          [
           "2",
           "oh need know inept effective incumbent<br>know running party threatened extinct<br>teka eloquent talaga ngayon layo<br>impromptu interviews nagdududa talaga",
           "Topic2: 0.99"
          ],
          [
           "2",
           "bobita tapos pinklawans claim<br>napakatalino nila yuck malaking<br>yuucccckkk inept lutang palagi maawa<br>pinas",
           "Topic2: 0.99"
          ],
          [
           "2",
           "day robbed millions votes filipinos",
           "Topic2: 0.97<br>Topic1: 0.02<br>Topic3: 0.02"
          ],
          [
           "2",
           "election votes amazing well known<br>candidate coming suffer ultimate ever<br>happen entire life",
           "Topic2: 0.99"
          ],
          [
           "2",
           "pandaraya kampo eleksyon",
           "Topic2: 0.96<br>Topic1: 0.02<br>Topic3: 0.02"
          ],
          [
           "2",
           "hindi umupo bbm siya walang humpay<br>tawaging",
           "Topic2: 0.98<br>Topic1: 0.01<br>Topic3: 0.01"
          ],
          [
           "2",
           "lp mandaraya election imagine franklin<br>drillon votes joel villanueva kiko de<br>lima patunay malawakan pandaraya lp last<br>election walang gusto nanalo paano hindi<br>kilala pilipinas",
           "Topic2: 0.99"
          ],
          [
           "2",
           "talaga",
           "Topic2: 0.85<br>Topic1: 0.07<br>Topic3: 0.07"
          ],
          [
           "2",
           "boba mandaraya remember election",
           "Topic2: 0.96<br>Topic1: 0.02<br>Topic3: 0.02"
          ],
          [
           "2",
           "mandaraya nahuli nandaya election<br>inilabas video walang nakakilala nun<br>kapal pagmumukha ninyo hipocrita corrupt",
           "Topic2: 0.9<br>Topic3: 0.09<br>Topic1: 0.01"
          ],
          [
           "2",
           "kahihiyaan palamura nanay siya sumira<br>pilipino international coomunity nasaan<br>utak huwag baliktarin nanay maninira<br>atty gadon palamura minumura<br>karapatdapat murahin",
           "Topic2: 0.99"
          ],
          [
           "2",
           "speaking mandaraya wayback throw<br>accusations towards bbm people narrow<br>minded voted one deserves throne",
           "Topic2: 0.99"
          ],
          [
           "2",
           "mandaraya hoy nong matanggap talo",
           "Topic2: 0.97<br>Topic1: 0.02<br>Topic3: 0.02"
          ],
          [
           "2",
           "think mama malinis everyone mandaraya<br>dont forget bbm voters lamang brownout<br>saka biglang lumamang",
           "Topic2: 0.99"
          ],
          [
           "2",
           "pre shaded mandaraya talaga since<br>haaaysss",
           "Topic2: 0.97<br>Topic1: 0.01<br>Topic3: 0.01"
          ],
          [
           "2",
           "signing kidding slitting throat chos",
           "Topic2: 0.98<br>Topic1: 0.01<br>Topic3: 0.01"
          ],
          [
           "2",
           "accused bbm pulling publicity stunts lol<br>used accusing others crimes committed",
           "Topic2: 0.99<br>Topic1: 0.01<br>Topic3: 0.01"
          ],
          [
           "2",
           "sadly mas pinili supreme court<br>integridad election kesa katotohanan<br>nandaya election dyan lalabas<br>katotohanan nanalo noon daya matalo<br>makikilala mandaraya fake vp",
           "Topic2: 0.72<br>Topic3: 0.2<br>Topic1: 0.08"
          ],
          [
           "2",
           "agree kasali gobyernong binabatos<br>oopppsss pala talaga kasali gobyernong<br>hinalal taong bayan samrtautomatic nag<br>halal kanya",
           "Topic2: 0.99"
          ],
          [
           "2",
           "anything duterte bec fil public embraced<br>warmly shown campaign trail instructed<br>smartmatic hocus pocus vp race",
           "Topic2: 0.99"
          ],
          [
           "2",
           "nalulungkot nababahala nangangamba<br>napakalaking bilang naniniwala hindi<br>vice president aling",
           "Topic2: 0.99<br>Topic1: 0.01<br>Topic3: 0.01"
          ],
          [
           "2",
           "itapon mandaraya election ninakaw boto",
           "Topic2: 0.97<br>Topic1: 0.02<br>Topic3: 0.01"
          ],
          [
           "2",
           "favoring",
           "Topic2: 0.9<br>Topic1: 0.05<br>Topic3: 0.05"
          ],
          [
           "2",
           "remembering chaos huh impurity called<br>cheating",
           "Topic2: 0.98<br>Topic1: 0.01<br>Topic3: 0.01"
          ],
          [
           "2",
           "solid evidence prove dinaya wrong making<br>protest dapat expose pandaraya demonyong<br>dilaw mapa hiya peki nyong vp",
           "Topic2: 0.82<br>Topic1: 0.18"
          ],
          [
           "2",
           "software company magically elected fake<br>vice president magical thing",
           "Topic2: 0.99<br>Topic1: 0.01<br>Topic3: 0.01"
          ],
          [
           "2",
           "pinanigan supreme court year nalang<br>natitira election masisira integridad<br>malinaw dayaan election nila nadaya<br>digong landslide pagkapanalo alam noynoy<br>andy bautista yang ginawa nila",
           "Topic2: 0.99"
          ],
          [
           "2",
           "believed cheated pbbm elections<br>insinuated harvard lecture file election<br>protest pet like pbbm isip dinaya<br>nangdaya nun",
           "Topic2: 0.99"
          ],
          [
           "2",
           "mas mandaraya c",
           "Topic2: 0.82<br>Topic1: 0.09<br>Topic3: 0.09"
          ],
          [
           "2",
           "yeah number one sinungaling magnanakaw<br>boto sure net approval low survey san<br>galing boto last election yolanda funds<br>oops nakinabang pagnanakaw magnanakaw<br>right",
           "Topic2: 0.99"
          ],
          [
           "2",
           "hihintayin namin madaling araw bilangn<br>boto daming kaso malaya marcoses common<br>sense left room",
           "Topic2: 0.99"
          ],
          [
           "2",
           "vp bayan tulong",
           "Topic2: 0.94<br>Topic1: 0.03<br>Topic3: 0.03"
          ],
          [
           "2",
           "correct dyan real vice president",
           "Topic2: 0.97<br>Topic1: 0.01<br>Topic3: 0.01"
          ],
          [
           "2",
           "china wellknown fake products<br>philippines fake vp",
           "Topic2: 0.98<br>Topic1: 0.01<br>Topic3: 0.01"
          ],
          [
           "2",
           "nostradamus prediction president duterte<br>weprotectprrd matter",
           "Topic2: 0.98<br>Topic1: 0.01<br>Topic3: 0.01"
          ],
          [
           "2",
           "confirmed dinaya bbm election",
           "Topic2: 0.96<br>Topic1: 0.02<br>Topic3: 0.02"
          ],
          [
           "2",
           "kesa magnanakaw boto laki lamang ibig<br>sabihin nanakaw",
           "Topic2: 0.98<br>Topic1: 0.01<br>Topic3: 0.01"
          ],
          [
           "2",
           "psst yang script ipasa troll farm tugma<br>nginangawa nginangawa nila ulopong bobo<br>script hindi maayos ayos problema<br>barangay lahi",
           "Topic2: 0.99"
          ],
          [
           "2",
           "hypocrite soliciting help st scho nuns<br>issue kang hudas iskaryote god knows<br>hudas cheating",
           "Topic2: 0.99"
          ],
          [
           "2",
           "sinong ginagago atty makalintal beauty<br>automated election system ginamit hocus<br>pcos tanga makalinta isauli license gaya<br>kliyente",
           "Topic2: 0.99"
          ],
          [
           "2",
           "remembered mandaraya fake vp people<br>spoken overwhelmingly almost double<br>votes congrats bbm",
           "Topic2: 0.99<br>Topic1: 0.01<br>Topic3: 0.01"
          ],
          [
           "2",
           "kapal pagmumukha",
           "Topic2: 0.94<br>Topic1: 0.03<br>Topic3: 0.03"
          ],
          [
           "2",
           "hands pointed cheated election",
           "Topic2: 0.97<br>Topic3: 0.02<br>Topic1: 0.01"
          ],
          [
           "2",
           "uh trolls everything fake days fake news<br>fake supporters knows even",
           "Topic2: 0.98<br>Topic1: 0.01<br>Topic3: 0.01"
          ],
          [
           "2",
           "pala ung voters thief nakaboto via<br>glitch",
           "Topic2: 0.97<br>Topic1: 0.01<br>Topic3: 0.01"
          ],
          [
           "2",
           "dilawan ung presidente vp dinwalang<br>nagawa tumambay hahhahha nanay pang<br>palengke",
           "Topic2: 0.73<br>Topic1: 0.27<br>Topic3: 0.01"
          ],
          [
           "2",
           "ht bukas fake vp pilipinas",
           "Topic2: 0.96<br>Topic1: 0.02<br>Topic3: 0.02"
          ],
          [
           "2",
           "goodbye lugaw mandaraya elections",
           "Topic2: 0.96<br>Topic1: 0.02<br>Topic3: 0.02"
          ],
          [
           "2",
           "vp lamang galit ganti puso bbm kanino<br>lalaban bbm plataporma adbokasiya pra<br>ikakaunlad pilipinas namin nakakalimutan<br>dinaya elections ngayon hindi mangyayari",
           "Topic2: 0.99"
          ],
          [
           "2",
           "laban kasinungalingan",
           "Topic2: 0.94<br>Topic1: 0.03<br>Topic3: 0.03"
          ],
          [
           "2",
           "retweeted cranes kalokohan ipagpalagay<br>natin kampo nagprotesta tingin<br>idodownplay nila wet ballots lalo php",
           "Topic2: 0.99"
          ],
          [
           "2",
           "matino mahusay lies walang alam traidor<br>bayan limos ibinibigay pilipino dakot<br>bigas patis lugaw sasa gustong<br>magbarilan pilipino nasaan husay<br>katinuan",
           "Topic2: 0.99"
          ],
          [
           "2",
           "complete opposite talaga incomparable<br>achievements pangulo kesa vp trust<br>ratings shown e vp yata trust rating<br>youtube channel cannot even draw<br>thousand views nasaan bomoto kanya nuong",
           "Topic2: 0.99"
          ],
          [
           "2",
           "respect true people pagtakpan bastusin<br>lokohin",
           "Topic2: 0.98<br>Topic1: 0.01<br>Topic3: 0.01"
          ],
          [
           "2",
           "mother talaga mahirap nasa ibang bansa<br>naloloko naghahasik lagim magawa pinas<br>buking eleksyon nagbigay fake info un",
           "Topic2: 0.99"
          ],
          [
           "2",
           "nakakahiya tong fake vp natin",
           "Topic2: 0.97<br>Topic1: 0.02<br>Topic3: 0.02"
          ],
          [
           "2",
           "half million iyaaaaaaaaaaaakkkkk",
           "Topic2: 0.96<br>Topic1: 0.02<br>Topic3: 0.02"
          ],
          [
           "2",
           "bbm dati hindi siya jsojo bbm solid",
           "Topic2: 0.97<br>Topic1: 0.01<br>Topic3: 0.01"
          ],
          [
           "2",
           "vp kabilang lovers pastor apollo c<br>quiboloy buong detalye",
           "Topic2: 0.98<br>Topic1: 0.01<br>Topic3: 0.01"
          ],
          [
           "2",
           "pareho ugali leah navarro kiko<br>pangilinan buong liberal party election<br>vote people associated group tunay<br>magnanakaw bayang pilipinas bistado",
           "Topic2: 0.99"
          ],
          [
           "2",
           "belat konti nlang naloloko mas kapani<br>paniwala magnanakaw amo nyong aquino",
           "Topic2: 0.99<br>Topic1: 0.01<br>Topic3: 0.01"
          ],
          [
           "2",
           "sampal pagmumukha tanga",
           "Topic2: 0.96<br>Topic1: 0.02<br>Topic3: 0.02"
          ],
          [
           "2",
           "natransfer personal bank account<br>donations bagyong odette",
           "Topic2: 0.98<br>Topic1: 0.01<br>Topic3: 0.01"
          ],
          [
           "2",
           "nasa posisyon habang pandemya nagawan<br>paraan hindi sapat natatanggap<br>frontliners",
           "Topic2: 0.99<br>Topic1: 0.01<br>Topic3: 0.01"
          ],
          [
           "2",
           "todo kng nakaw donations sabay pasok<br>sariling account pro suportado p",
           "Topic2: 0.98<br>Topic1: 0.01<br>Topic3: 0.01"
          ],
          [
           "2",
           "hoy ninyo",
           "Topic2: 0.88<br>Topic1: 0.06<br>Topic3: 0.06"
          ],
          [
           "2",
           "wala alam foreign policy alam presidente<br>author foreign policy",
           "Topic2: 0.99<br>Topic1: 0.01<br>Topic3: 0.01"
          ],
          [
           "2",
           "oh tapos sasabihin redtag",
           "Topic2: 0.96<br>Topic1: 0.02<br>Topic3: 0.02"
          ]
         ],
         "hovertemplate": "<b>%{hovertext}</b><br><br>Breakdown=%{customdata[2]}<extra></extra>",
         "hovertext": [
          "nagmamagaling hahahahah",
          "mahusay magtrabaho nagawa bilang vp wala<br>kondi panay kontra projects president<br>halip tumulong naninira san makakita vp<br>ganyan philippines npa supporter",
          "fyi live smni jong top mindanao<br>surrenders confirms komunista alliance",
          "tong walang bahid pagsisisi walang<br>kahihiyan mandaraya",
          "hindi kelangan sambayanang pilipino kang<br>mandaraya eleksyon peke magresign",
          "pet kumusta usad kaso laban dayaan<br>nangyari eleksyon",
          "talunan nanga nagiging bobo kapa kapa<br>kame masaya resulta mandaya baka mas<br>mataas million vote bbm mandaraya since",
          "talagang hindi mandaraya nong ms hindi<br>ulitin ngayong darating election",
          "habang tulog pilipinas gising mandaraya<br>rather president like prrd kahit tulog<br>gumagalaw kanyang departamento hindi<br>kailangang gising presidente<br>makapagserbisyo gobyerno service",
          "tanga kahit ihampas yang degree bobo<br>parin isang truck tulong ilang pamilya<br>mabibigyan nun tapos sasabihin pwede<br>tigilan kabobohan sanay photo ops kahit<br>sapat tulong boba",
          "hahahahahshshshs",
          "okay ganyan talaga kurakot adik kampi<br>npa walang nagawa bansa bobo",
          "talaga kurakot vp totoo kaban bayan<br>ginamit nyu",
          "nakakahiya kang fake vp wonder katiting<br>wala akong makitang maganda pagkatao<br>nakakahiya photoshoot alam puro ngawa<br>wala gawa",
          "nman common sense pinagsasabi sure ung<br>mama walang bahid kasinungalingan<br>corruption ethical politics nia araw<br>araw k b nia nakakasama pra masigurado<br>kng nman pala masigurado ur shit",
          "another reason love prrd next president<br>lot tapos vote walang ibang ginawa kundi<br>siraan prrd last years common sense<br>diyan pinklawans judicious vote bbm sara<br>way go",
          "walang common sense aling ganun maski<br>siguro panis bigay donors e distribute<br>tutal bigay donors tiga distribute<br>masabing tumulong",
          "tingin kumikilos pbbm naive palibhasa<br>sanay ke puro imbes mangutya dyan<br>pagdasal natin bansa natin",
          "myghad talaga teh",
          "kasali npa liberal party npa ngayon<br>sabihin mu hindi kasali ayaw namin taong<br>naniniwala kumunista",
          "intending natinnang",
          "wawa oh napakadesente nanay lugaw",
          "sir please interview ph cheat maam",
          "oo pugar mahimbing masaya natulog panalo<br>bise sabay gising hrs puta nag iba peke<br>talaga",
          "paano bibigyan dignidad bumoto<br>smartmatic seating vp said dignify<br>people voted right vp owe citizens<br>philippines bbm look dark soul",
          "dejavu philippine elections vp stopped<br>counting due computers go someone else<br>slim margin",
          "spread disimformation daugther aika sex<br>video accused pbbm height campaign<br>period else believe highest level manay<br>harder",
          "foul play pagkamatay jesse tinulugan<br>fake vp html",
          "obviously illicit love affair married<br>man congressman bolet want confirm deny",
          "pormal inanunsyo vice president<br>inakusahan pandaraya eleksyon<br>kinakaharap kaso pet kaugnay eleksyon<br>dating asawa pinatay ala aksidente<br>eroplano jesse nagsabi",
          "atty kumusta impeachment case",
          "bwesit asawa npa taga supporta tulad<br>kiko habang ambush sundao puma palakpa<br>wala puso",
          "totoo unang asawa bago namatay nabasa<br>kumander npa kanyang unang nasirang<br>asawa",
          "pala nag tatago ibang bansa boyfriend<br>founder npa joma sison",
          "hipocrita fake louis vuitton fake",
          "totoo talaga fake fake louis vuitton",
          "sinong maniniwalang bumoto mantakin<br>million lng lamang prrd kanya terms<br>numbers",
          "therefore conclude pwedeng maging<br>presidente bise pinatay asawa",
          "galit c vp r unang asawa npa pintay",
          "jesse died carrying drug money lp<br>cleaned mess staged saint favoring<br>future use html",
          "hay tatamad tamad pala president",
          "inang unfit public service nation<br>witnessed awful performance better get<br>experienced social worker knew role<br>services government people proven inept<br>incompetent place public services",
          "truly intelligent suppose gather million<br>votes instead nation witnessed<br>incompetent low iq awful performance<br>sweet lips congee spaghetti solve issue<br>signs weakness inept public services",
          "dds time make contributions country",
          "people philippines speaks louis vuitton<br>fake",
          "let correct people vote picos worries<br>comes never first place",
          "inconsequential inept idiotic politician<br>philippines complains getting called<br>moronic ideas madame nakakapikon<br>kabobohan ninyo pinangangalandakan ninyo<br>msm",
          "inept fake vp philippines history",
          "eto napanood",
          "talaga tamad talaga huy mas kilala bbm c<br>bbm hindi pinabayaan proyekto katulad<br>nagiging vp siya diba haba bakasyon<br>amerika pinabayaan proyekto",
          "tamad bbm batugan protect pbbm",
          "gagamitin eleksyon nalololoko ginamit<br>dayaan tas gagamitin uli",
          "ninakaw karamihan votes malinis sabi<br>shunga pinkliars",
          "kulelat ina nyong shunga nandaya nun<br>ngayon lalaban patas gusto dq leniloser<br>sure ctto",
          "even exist head president inept<br>hypocritical liar encourages cancel<br>culture spreads fake news knowingly<br>misinforms public disrespects church<br>among things dangerous dats por bidyo",
          "oh need know inept effective incumbent<br>know running party threatened extinct<br>teka eloquent talaga ngayon layo<br>impromptu interviews nagdududa talaga",
          "bobita tapos pinklawans claim<br>napakatalino nila yuck malaking<br>yuucccckkk inept lutang palagi maawa<br>pinas",
          "day robbed millions votes filipinos",
          "election votes amazing well known<br>candidate coming suffer ultimate ever<br>happen entire life",
          "pandaraya kampo eleksyon",
          "hindi umupo bbm siya walang humpay<br>tawaging",
          "lp mandaraya election imagine franklin<br>drillon votes joel villanueva kiko de<br>lima patunay malawakan pandaraya lp last<br>election walang gusto nanalo paano hindi<br>kilala pilipinas",
          "talaga",
          "boba mandaraya remember election",
          "mandaraya nahuli nandaya election<br>inilabas video walang nakakilala nun<br>kapal pagmumukha ninyo hipocrita corrupt",
          "kahihiyaan palamura nanay siya sumira<br>pilipino international coomunity nasaan<br>utak huwag baliktarin nanay maninira<br>atty gadon palamura minumura<br>karapatdapat murahin",
          "speaking mandaraya wayback throw<br>accusations towards bbm people narrow<br>minded voted one deserves throne",
          "mandaraya hoy nong matanggap talo",
          "think mama malinis everyone mandaraya<br>dont forget bbm voters lamang brownout<br>saka biglang lumamang",
          "pre shaded mandaraya talaga since<br>haaaysss",
          "signing kidding slitting throat chos",
          "accused bbm pulling publicity stunts lol<br>used accusing others crimes committed",
          "sadly mas pinili supreme court<br>integridad election kesa katotohanan<br>nandaya election dyan lalabas<br>katotohanan nanalo noon daya matalo<br>makikilala mandaraya fake vp",
          "agree kasali gobyernong binabatos<br>oopppsss pala talaga kasali gobyernong<br>hinalal taong bayan samrtautomatic nag<br>halal kanya",
          "anything duterte bec fil public embraced<br>warmly shown campaign trail instructed<br>smartmatic hocus pocus vp race",
          "nalulungkot nababahala nangangamba<br>napakalaking bilang naniniwala hindi<br>vice president aling",
          "itapon mandaraya election ninakaw boto",
          "favoring",
          "remembering chaos huh impurity called<br>cheating",
          "solid evidence prove dinaya wrong making<br>protest dapat expose pandaraya demonyong<br>dilaw mapa hiya peki nyong vp",
          "software company magically elected fake<br>vice president magical thing",
          "pinanigan supreme court year nalang<br>natitira election masisira integridad<br>malinaw dayaan election nila nadaya<br>digong landslide pagkapanalo alam noynoy<br>andy bautista yang ginawa nila",
          "believed cheated pbbm elections<br>insinuated harvard lecture file election<br>protest pet like pbbm isip dinaya<br>nangdaya nun",
          "mas mandaraya c",
          "yeah number one sinungaling magnanakaw<br>boto sure net approval low survey san<br>galing boto last election yolanda funds<br>oops nakinabang pagnanakaw magnanakaw<br>right",
          "hihintayin namin madaling araw bilangn<br>boto daming kaso malaya marcoses common<br>sense left room",
          "vp bayan tulong",
          "correct dyan real vice president",
          "china wellknown fake products<br>philippines fake vp",
          "nostradamus prediction president duterte<br>weprotectprrd matter",
          "confirmed dinaya bbm election",
          "kesa magnanakaw boto laki lamang ibig<br>sabihin nanakaw",
          "psst yang script ipasa troll farm tugma<br>nginangawa nginangawa nila ulopong bobo<br>script hindi maayos ayos problema<br>barangay lahi",
          "hypocrite soliciting help st scho nuns<br>issue kang hudas iskaryote god knows<br>hudas cheating",
          "sinong ginagago atty makalintal beauty<br>automated election system ginamit hocus<br>pcos tanga makalinta isauli license gaya<br>kliyente",
          "remembered mandaraya fake vp people<br>spoken overwhelmingly almost double<br>votes congrats bbm",
          "kapal pagmumukha",
          "hands pointed cheated election",
          "uh trolls everything fake days fake news<br>fake supporters knows even",
          "pala ung voters thief nakaboto via<br>glitch",
          "dilawan ung presidente vp dinwalang<br>nagawa tumambay hahhahha nanay pang<br>palengke",
          "ht bukas fake vp pilipinas",
          "goodbye lugaw mandaraya elections",
          "vp lamang galit ganti puso bbm kanino<br>lalaban bbm plataporma adbokasiya pra<br>ikakaunlad pilipinas namin nakakalimutan<br>dinaya elections ngayon hindi mangyayari",
          "laban kasinungalingan",
          "retweeted cranes kalokohan ipagpalagay<br>natin kampo nagprotesta tingin<br>idodownplay nila wet ballots lalo php",
          "matino mahusay lies walang alam traidor<br>bayan limos ibinibigay pilipino dakot<br>bigas patis lugaw sasa gustong<br>magbarilan pilipino nasaan husay<br>katinuan",
          "complete opposite talaga incomparable<br>achievements pangulo kesa vp trust<br>ratings shown e vp yata trust rating<br>youtube channel cannot even draw<br>thousand views nasaan bomoto kanya nuong",
          "respect true people pagtakpan bastusin<br>lokohin",
          "mother talaga mahirap nasa ibang bansa<br>naloloko naghahasik lagim magawa pinas<br>buking eleksyon nagbigay fake info un",
          "nakakahiya tong fake vp natin",
          "half million iyaaaaaaaaaaaakkkkk",
          "bbm dati hindi siya jsojo bbm solid",
          "vp kabilang lovers pastor apollo c<br>quiboloy buong detalye",
          "pareho ugali leah navarro kiko<br>pangilinan buong liberal party election<br>vote people associated group tunay<br>magnanakaw bayang pilipinas bistado",
          "belat konti nlang naloloko mas kapani<br>paniwala magnanakaw amo nyong aquino",
          "sampal pagmumukha tanga",
          "natransfer personal bank account<br>donations bagyong odette",
          "nasa posisyon habang pandemya nagawan<br>paraan hindi sapat natatanggap<br>frontliners",
          "todo kng nakaw donations sabay pasok<br>sariling account pro suportado p",
          "hoy ninyo",
          "wala alam foreign policy alam presidente<br>author foreign policy",
          "oh tapos sasabihin redtag"
         ],
         "legendgroup": "2",
         "marker": {
          "color": "#EF553B",
          "symbol": "circle"
         },
         "mode": "markers",
         "name": "2",
         "orientation": "v",
         "showlegend": true,
         "type": "scatter",
         "x": [
          18.498868942260742,
          253.1750946044922,
          298.178466796875,
          210.21258544921875,
          210.21258544921875,
          210.21258544921875,
          253.1750946044922,
          210.21258544921875,
          237.8275604248047,
          94.37740325927734,
          48.50373458862305,
          298.178466796875,
          134.60684204101562,
          172.11695861816406,
          231.3682403564453,
          145.09474182128906,
          202.0370330810547,
          197.6413116455078,
          16.879993438720703,
          80.6107177734375,
          18.498868942260742,
          132.23171997070312,
          143.3762969970703,
          298.178466796875,
          211.0453643798828,
          298.178466796875,
          192.2916259765625,
          210.21258544921875,
          298.178466796875,
          170.454345703125,
          143.3762969970703,
          211.0453643798828,
          298.178466796875,
          210.21258544921875,
          143.3762969970703,
          210.21258544921875,
          298.178466796875,
          1.9268561601638794,
          91.7669906616211,
          272.2118835449219,
          91.7669906616211,
          170.93185424804688,
          152.74057006835938,
          91.7669906616211,
          210.21258544921875,
          -3.5456552505493164,
          192.2916259765625,
          57.41229248046875,
          48.50373458862305,
          130.9541778564453,
          134.60684204101562,
          210.21258544921875,
          80.7397689819336,
          298.178466796875,
          192.2916259765625,
          222.94534301757812,
          167.6102294921875,
          86.97686767578125,
          170.93185424804688,
          48.145694732666016,
          220.5675048828125,
          170.93185424804688,
          49.19953918457031,
          48.145694732666016,
          13.886676788330078,
          124.01546478271484,
          211.0453643798828,
          91.7669906616211,
          211.0453643798828,
          143.3762969970703,
          210.21258544921875,
          298.178466796875,
          19.84258270263672,
          211.0453643798828,
          170.93185424804688,
          298.178466796875,
          132.23171997070312,
          36.92801284790039,
          210.21258544921875,
          100.16041564941406,
          298.178466796875,
          211.0453643798828,
          211.0453643798828,
          50.27170944213867,
          152.74057006835938,
          237.8275604248047,
          16.879993438720703,
          143.3762969970703,
          210.21258544921875,
          210.21258544921875,
          57.41229248046875,
          210.21258544921875,
          192.2916259765625,
          229.3260498046875,
          170.93185424804688,
          298.178466796875,
          16.879993438720703,
          101.82975769042969,
          210.21258544921875,
          143.3762969970703,
          99.80455780029297,
          48.145694732666016,
          48.145694732666016,
          170.93185424804688,
          16.879993438720703,
          202.0370330810547,
          197.82456970214844,
          145.4691162109375,
          210.21258544921875,
          211.0453643798828,
          91.7669906616211,
          57.41229248046875,
          143.3762969970703,
          210.21258544921875,
          256.8785705566406,
          298.178466796875,
          57.41229248046875,
          220.5675048828125,
          298.178466796875,
          220.5675048828125,
          60.4458122253418,
          298.178466796875,
          48.145694732666016
         ],
         "xaxis": "x",
         "y": [
          -71.0235824584961,
          166.85508728027344,
          7.713855266571045,
          -22.24531364440918,
          -22.24531364440918,
          -22.24531364440918,
          166.85508728027344,
          -22.24531364440918,
          135.98854064941406,
          35.03526306152344,
          -4.916153907775879,
          7.713855266571045,
          -12.887284278869629,
          223.7152099609375,
          198.34408569335938,
          212.44532775878906,
          207.91505432128906,
          237.52760314941406,
          -33.84611129760742,
          49.28581619262695,
          -71.0235824584961,
          -90.29031372070312,
          -43.786285400390625,
          7.713855266571045,
          167.71763610839844,
          7.713855266571045,
          131.34730529785156,
          -22.24531364440918,
          7.713855266571045,
          151.98597717285156,
          -43.786285400390625,
          167.71763610839844,
          7.713855266571045,
          -22.24531364440918,
          -43.786285400390625,
          -22.24531364440918,
          7.713855266571045,
          57.831600189208984,
          -85.3127212524414,
          89.65137481689453,
          -85.3127212524414,
          184.5046844482422,
          130.59942626953125,
          -85.3127212524414,
          -22.24531364440918,
          41.18757247924805,
          131.34730529785156,
          -61.04212951660156,
          -4.916153907775879,
          183.99444580078125,
          -12.887284278869629,
          -22.24531364440918,
          68.50286865234375,
          7.713855266571045,
          131.34730529785156,
          111.2523193359375,
          103.70590209960938,
          -113.29595947265625,
          184.5046844482422,
          -93.25963592529297,
          -60.95314025878906,
          184.5046844482422,
          36.02173614501953,
          -93.25963592529297,
          7.648056983947754,
          147.20896911621094,
          167.71763610839844,
          -85.3127212524414,
          167.71763610839844,
          -43.786285400390625,
          -22.24531364440918,
          7.713855266571045,
          54.24678039550781,
          167.71763610839844,
          184.5046844482422,
          7.713855266571045,
          -90.29031372070312,
          13.557229042053223,
          -22.24531364440918,
          56.49706268310547,
          7.713855266571045,
          167.71763610839844,
          167.71763610839844,
          56.26411437988281,
          130.59942626953125,
          135.98854064941406,
          -33.84611129760742,
          -43.786285400390625,
          -22.24531364440918,
          -22.24531364440918,
          -61.04212951660156,
          -22.24531364440918,
          131.34730529785156,
          225.37326049804688,
          184.5046844482422,
          7.713855266571045,
          -33.84611129760742,
          -44.07344055175781,
          -22.24531364440918,
          -43.786285400390625,
          80.7469711303711,
          -93.25963592529297,
          -93.25963592529297,
          184.5046844482422,
          -33.84611129760742,
          207.91505432128906,
          97.49728393554688,
          160.72119140625,
          -22.24531364440918,
          167.71763610839844,
          -85.3127212524414,
          -61.04212951660156,
          -43.786285400390625,
          -22.24531364440918,
          199.5972900390625,
          7.713855266571045,
          -61.04212951660156,
          -60.95314025878906,
          7.713855266571045,
          -60.95314025878906,
          17.438852310180664,
          7.713855266571045,
          -93.25963592529297
         ],
         "yaxis": "y"
        },
        {
         "customdata": [
          [
           "3",
           "leody npa joma hindi connectado npa<br>inendorsed ahahahaha",
           "Topic3: 0.98<br>Topic1: 0.01<br>Topic2: 0.01"
          ],
          [
           "3",
           "npa kalaban pinoprotektahan npa<br>pumapatay nag nanakaw",
           "Topic3: 0.97<br>Topic1: 0.01<br>Topic2: 0.01"
          ],
          [
           "3",
           "given choices son npa casted votes<br>someone prosper npas",
           "Topic3: 0.98<br>Topic1: 0.01<br>Topic2: 0.01"
          ],
          [
           "3",
           "edit amp npa",
           "Topic3: 0.91<br>Topic1: 0.05<br>Topic2: 0.05"
          ],
          [
           "3",
           "tama binoto namen npa baka maging north<br>korea pilipinas",
           "Topic3: 0.98<br>Topic1: 0.01<br>Topic2: 0.01"
          ],
          [
           "3",
           "mas masahol npa nasa rally endorsed npa",
           "Topic3: 0.97<br>Topic1: 0.01<br>Topic2: 0.01"
          ],
          [
           "3",
           "ofcourse npa",
           "Topic3: 0.91<br>Topic1: 0.05<br>Topic2: 0.05"
          ],
          [
           "3",
           "endorsed presence npa lugar takot mayors<br>tirahin npa inendorso",
           "Topic3: 0.98<br>Topic1: 0.01<br>Topic2: 0.01"
          ],
          [
           "3",
           "start joma endorsed",
           "Topic3: 0.96<br>Topic1: 0.02<br>Topic2: 0.02"
          ],
          [
           "3",
           "tama right pinklawan know puppet<br>oligarchs never achieved good governance<br>reign late cory late ramos late<br>dilawpinks presidents puppets oligarchs",
           "Topic3: 0.99"
          ],
          [
           "3",
           "push sabihing answer nakita kayong kulto<br>reason siya tako pinipilit magaling siya<br>wala tlaga siyang maipakitang proof<br>mgaling siya puppet",
           "Topic3: 0.99"
          ],
          [
           "3",
           "martial law saved us communist npa<br>kumunista aktivista",
           "Topic3: 0.97<br>Topic1: 0.01<br>Topic2: 0.01"
          ],
          [
           "3",
           "father tanga oy ayaw namin st kiko kase<br>ayaw namin manloloko bobo tanga kurakot<br>walang kakayahan higit lahat terorista<br>ganto masaya today subo burat angat<br>buhay",
           "Topic3: 0.99"
          ],
          [
           "3",
           "lol nasanay mapagpanggap dilawan busit<br>kala aatras bagyo papresscon bbm sanay<br>photo op queen kasagasagan bagyo<br>hometown nasa new york nagshoshopping<br>mahagilap uwi nagyoga",
           "Topic3: 0.99"
          ],
          [
           "3",
           "pinag uusapan kurakot magnanakaw<br>sinungaling",
           "Topic3: 0.97<br>Topic1: 0.01<br>Topic2: 0.01"
          ],
          [
           "3",
           "sayang pera madumb buti nun walang<br>budget lng office nakaka punta asulok<br>sulok ghost employees nanaman kurakot",
           "Topic3: 0.99"
          ],
          [
           "3",
           "bantayan magnanakaw",
           "Topic3: 0.94<br>Topic1: 0.03<br>Topic2: 0.03"
          ],
          [
           "3",
           "well edited pics nagawa walang kakwenta<br>pababanguhin media alagad gagawan nila<br>istorya sabay mumurahin pangulo sino<br>bitter",
           "Topic3: 0.99"
          ],
          [
           "3",
           "tahimik magpapakita feel niyang masiraan<br>pangulo",
           "Topic3: 0.98<br>Topic1: 0.01<br>Topic2: 0.01"
          ],
          [
           "3",
           "kaylan sarah kelan nasa serbisyo paka<br>selective memory kelangan mamatay asawa<br>bago gawin cory lol kumag mandaraya<br>tumakbo matalo nandaya mandurugas layo<br>lamang ngayon",
           "Topic3: 0.99"
          ],
          [
           "3",
           "mandaraya never forget",
           "Topic3: 0.95<br>Topic1: 0.03<br>Topic2: 0.03"
          ],
          [
           "3",
           "wala isyung malaki unused ballot<br>malaking isyu gamit balota ibig sabihin<br>nito isyu credibility pagiging bise<br>tangkang pandaraya oo sino maghusga",
           "Topic3: 0.99"
          ],
          [
           "3",
           "sobra sobra pandaraya ngayon katotohanan<br>pilipinas utak macalintal nito",
           "Topic3: 0.98<br>Topic1: 0.01<br>Topic2: 0.01"
          ],
          [
           "3",
           "succeeds comelec still doubtful hands<br>contract smartmatic still push plan b<br>deep dooh dooh",
           "Topic3: 0.99"
          ],
          [
           "3",
           "thank sharing news thank letting us know<br>confident win recount already tampered<br>everything hayup hayup",
           "Topic3: 0.99"
          ],
          [
           "3",
           "nandaya smartmatic ngayon wet wet balota<br>haysss buti nakakatulog",
           "Topic3: 0.98<br>Topic1: 0.01<br>Topic2: 0.01"
          ],
          [
           "3",
           "april fools",
           "Topic3: 0.95<br>Topic1: 0.02<br>Topic2: 0.02"
          ],
          [
           "3",
           "katotohanan",
           "Topic3: 0.89<br>Topic1: 0.06<br>Topic2: 0.05"
          ],
          [
           "3",
           "asking dumb expect answers came<br>obscurity unknown inexperienced beating<br>proven public servants like bbm know<br>anything governance says hindi yata<br>dapat faking",
           "Topic3: 0.99"
          ],
          [
           "3",
           "manual recount karon vp basa ubang<br>ballots fishy kaayo nilabay naa ballot<br>boxes daun basa karon wala lugar nauga<br>laaams naah",
           "Topic3: 0.99"
          ],
          [
           "3",
           "dear never forget hash code transmitting<br>clear violation law facebook php",
           "Topic3: 0.99<br>Topic1: 0.01<br>Topic2: 0.01"
          ],
          [
           "3",
           "ilan patunay dayaang nangyari kada boto<br>mahalaga",
           "Topic3: 0.98<br>Topic1: 0.01<br>Topic2: 0.01"
          ],
          [
           "3",
           "pelaez madumb fake vp mandaraya yikes",
           "Topic3: 0.97<br>Topic2: 0.02<br>Topic1: 0.01"
          ],
          [
           "3",
           "ginamitan smartmatic sinira balotang<br>ebidensya pandaraya",
           "Topic3: 0.98<br>Topic1: 0.01<br>Topic2: 0.01"
          ],
          [
           "3",
           "teacher sino nandaya election mam",
           "Topic3: 0.8<br>Topic2: 0.18<br>Topic1: 0.02"
          ],
          [
           "3",
           "grinch grinch grinch stole christmas<br>lugaw stole vice presidency seat",
           "Topic3: 0.99<br>Topic1: 0.01<br>Topic2: 0.01"
          ],
          [
           "3",
           "lol disgrasya pinas patunay mandaraya<br>sinungaling hahahaha",
           "Topic3: 0.98<br>Topic1: 0.01<br>Topic2: 0.01"
          ],
          [
           "3",
           "agree noynoy appointed sereno cj<br>conching sandigan bayan bautista comelec<br>chairman manipulate everything including<br>cheating seat regain power absolve<br>corruption lawsuits looking ahead",
           "Topic3: 0.99"
          ],
          [
           "3",
           "madam well oiled pcos machine choice<br>napansin mukhang hindi alam meaning",
           "Topic3: 0.72<br>Topic1: 0.27<br>Topic2: 0.01"
          ],
          [
           "3",
           "meron multo bumoto sobra talaga<br>pagkakasemento mukha aling",
           "Topic3: 0.98<br>Topic1: 0.01<br>Topic2: 0.01"
          ],
          [
           "3",
           "fuck ideas",
           "Topic3: 0.95<br>Topic1: 0.03<br>Topic2: 0.03"
          ],
          [
           "3",
           "even know federalism deserve true vp<br>plus cheater",
           "Topic3: 0.98<br>Topic1: 0.01<br>Topic2: 0.01"
          ],
          [
           "3",
           "tama talagang maganda ala tiwal sayo tao<br>never namin pinagkatiwalaan",
           "Topic3: 0.98<br>Topic1: 0.01<br>Topic2: 0.01"
          ],
          [
           "3",
           "abangan update zombie naka boto",
           "Topic3: 0.98<br>Topic1: 0.01<br>Topic2: 0.01"
          ],
          [
           "3",
           "ata nag diba bayaw nun drug lord naga",
           "Topic3: 0.97<br>Topic1: 0.01<br>Topic2: 0.01"
          ],
          [
           "3",
           "intelligent much qualified congressman<br>good role model youth unlike kabit home<br>wreaker",
           "Topic3: 0.99"
          ],
          [
           "3",
           "evidently denying bcoz know impact<br>denial joma withdrew statement known<br>drug lord naga maybe investigate death<br>lol autopsy even made typical pinoy<br>teleserye outcome",
           "Topic3: 0.99"
          ],
          [
           "3",
           "correct shud genuine vp office means<br>chouse",
           "Topic3: 0.98<br>Topic1: 0.01<br>Topic2: 0.01"
          ],
          [
           "3",
           "jesse extremely dangerous vp involvement<br>drugs smuggling jueteng murders",
           "Topic3: 0.99<br>Topic1: 0.01<br>Topic2: 0.01"
          ],
          [
           "3",
           "read news inquirer drug suspects<br>arrested yesterday caught naga city<br>duterte right naga hotbed shabu made<br>happened butch make philippines hotbed<br>twimg twimg",
           "Topic3: 0.99"
          ],
          [
           "3",
           "dumb inendorso magnanakaw traidor pare<br>parehas dumb kase magnanakaw sinungaling<br>traidor druglord protector npa terorista<br>suporter",
           "Topic3: 0.99"
          ],
          [
           "3",
           "sana vp unang aatupagin sino nagpa<br>papatay asawa",
           "Topic3: 0.98<br>Topic1: 0.01<br>Topic2: 0.01"
          ],
          [
           "3",
           "oo manaig katotohanan nagpundo drug<br>cartel bayaw pinatay asawa jessie drug<br>generals kalaban manaig sabi manaig<br>katutuhan huwag utoutoin alam namin<br>katuthanan",
           "Topic3: 0.99"
          ],
          [
           "3",
           "sino paco ojeda pinatay ninyo nadiskurbe<br>anomalya kapanahon asawa",
           "Topic3: 0.99<br>Topic1: 0.01<br>Topic2: 0.01"
          ],
          [
           "3",
           "hwag kalimutan namatay asawa pinatay<br>kanyang bayaw territoryo droga masyadong<br>greedy asawa naging presidente lalakas<br>power bayaw matutuloy magiging capital<br>shabu pilipinas",
           "Topic3: 0.99"
          ],
          [
           "3",
           "tanong relatives naga nag dodroga tanong<br>pinatay kanyang asawa drug protector<br>wahahhah",
           "Topic3: 0.99<br>Topic1: 0.01<br>Topic2: 0.01"
          ],
          [
           "3",
           "panu iboboto taong galit galit kagaya vp<br>vp galit pinatay unang asawa npa alam b<br>nila",
           "Topic3: 0.72<br>Topic1: 0.28<br>Topic2: 0.01"
          ],
          [
           "3",
           "butch brother jessie drug lord wanted<br>pdea one narcos drugs watchlists fake vp<br>really drug lord protector",
           "Topic3: 0.99"
          ],
          [
           "3",
           "admits elago daughter w fling jover<br>daughter admits affair denies<br>presidential ambitions baraan bautista<br>hiding netherlands jim kaloi sonny<br>caught menage troie pldt",
           "Topic3: 0.99"
          ],
          [
           "3",
           "affair laila de dayan immoral rape<br>remark joke non existent",
           "Topic3: 0.99<br>Topic1: 0.01<br>Topic2: 0.01"
          ],
          [
           "3",
           "ahemmm druglords caught september brgy<br>tabuco naga city hiding skirt feeling<br>drug czar bolet",
           "Topic3: 0.99"
          ],
          [
           "3",
           "guys asawa pala taga cebu npa omg<br>someone tell image twimg",
           "Topic3: 0.99<br>Topic1: 0.01<br>Topic2: 0.01"
          ],
          [
           "3",
           "ndi kilala ndi kilala tao lumitaw n lng<br>namatay asawa ewan pinatay yatang sadya<br>plano naka todo ngiti burol asawa<br>pakanta kanta mging vp xa pangdaraya<br>nila andy sino kumpara",
           "Topic3: 0.99"
          ],
          [
           "3",
           "throwback iboboto sinungaling nuna<br>nangyari daughter girl",
           "Topic3: 0.98<br>Topic1: 0.01<br>Topic2: 0.01"
          ],
          [
           "3",
           "campaign team trying market aika victim<br>sexual abuse victim someone sex video<br>nobody internet could find aika sex<br>video figment imagination exist",
           "Topic3: 0.99"
          ],
          [
           "3",
           "vp drug lord bayaw dba call resign call<br>jesse r dilg secretary brother drug lord<br>lamitan mayor drug lord tinangal siya<br>pwesto",
           "Topic3: 0.99"
          ],
          [
           "3",
           "saint kabit cya banal",
           "Topic3: 0.96<br>Topic1: 0.02<br>Topic2: 0.02"
          ],
          [
           "3",
           "start call end text",
           "Topic3: 0.96<br>Topic1: 0.02<br>Topic2: 0.02"
          ],
          [
           "3",
           "really concern country philippines",
           "Topic3: 0.97<br>Topic1: 0.02<br>Topic2: 0.02"
          ],
          [
           "3",
           "infairness consistent lead bbm nahiya<br>kase comelec tssk",
           "Topic3: 0.98<br>Topic1: 0.01<br>Topic2: 0.01"
          ],
          [
           "3",
           "newly selected vp rep philippines shame",
           "Topic3: 0.97<br>Topic1: 0.01<br>Topic2: 0.01"
          ],
          [
           "3",
           "using magic like way made vp magic",
           "Topic3: 0.98<br>Topic1: 0.01<br>Topic2: 0.01"
          ],
          [
           "3",
           "itong bobang nagnakaw votes corrupt",
           "Topic3: 0.97<br>Topic1: 0.01<br>Topic2: 0.01"
          ],
          [
           "3",
           "inept incompetent knew nothing governing<br>complicated society like philippines<br>perfect puppet yellows thus pillaged<br>rest history clone",
           "Topic3: 0.99"
          ],
          [
           "3",
           "say crazy inept leaders must mean fvp<br>hypocrite partymates",
           "Topic3: 0.98<br>Topic1: 0.01<br>Topic2: 0.01"
          ],
          [
           "3",
           "edwin dear incompetent strategically<br>inept qualities woman qualities person<br>magkaiba gma also woman competent<br>strategic",
           "Topic3: 0.99"
          ],
          [
           "3",
           "ben kingsley hopelessly inept even aura<br>lacks luster",
           "Topic3: 0.98<br>Topic1: 0.01<br>Topic2: 0.01"
          ],
          [
           "3",
           "prrd tinukoy bayaw drug lord naga city<br>smni news",
           "Topic3: 0.61<br>Topic2: 0.38<br>Topic1: 0.01"
          ],
          [
           "3",
           "almost years vice president could enough<br>catapult front bid highest position land<br>nothing done right opposite everything<br>shows shallow inept incapable leader",
           "Topic3: 0.99"
          ],
          [
           "3",
           "keeps dilawans seeing weak leader stupid<br>inept puppet yet see clearly manny<br>practically",
           "Topic3: 0.99<br>Topic1: 0.01<br>Topic2: 0.01"
          ],
          [
           "3",
           "seen clearly shows political puppet<br>liberal party failure congresswoman<br>totally inept vp logic worse junkie weed<br>yorme call fake leader fake colors<br>goodness",
           "Topic3: 0.99"
          ],
          [
           "3",
           "c okay sinayang incompetent inept good<br>riddance",
           "Topic3: 0.98<br>Topic1: 0.01<br>Topic2: 0.01"
          ],
          [
           "3",
           "really meant never prez philippines<br>takes reality say god saved lie actually<br>philippines god saved inept incompetent<br>individual good riddance",
           "Topic3: 0.99"
          ],
          [
           "3",
           "supported candidacy thats daughters<br>fault knew start mother inept vp inept<br>political figure totally still decided<br>anyway vie presidency coud mistake",
           "Topic3: 0.99"
          ],
          [
           "3",
           "sinungaling kapatid magnanakaw",
           "Topic3: 0.96<br>Topic1: 0.02<br>Topic2: 0.02"
          ],
          [
           "3",
           "karugtong",
           "Topic3: 0.91<br>Topic1: 0.05<br>Topic2: 0.05"
          ],
          [
           "3",
           "totoo almost vice pres supporters lakas<br>loob nila marcoses click comment section<br>turned oops",
           "Topic3: 0.99"
          ],
          [
           "3",
           "luto balota naka ready mandaya retweet<br>maging aware lahat",
           "Topic3: 0.99<br>Topic1: 0.01<br>Topic2: 0.01"
          ],
          [
           "3",
           "magnanakaw",
           "Topic3: 0.84<br>Topic1: 0.08<br>Topic2: 0.07"
          ],
          [
           "3",
           "nag uumpisa",
           "Topic3: 0.91<br>Topic1: 0.05<br>Topic2: 0.05"
          ],
          [
           "3",
           "kikilabutan talaga jan kasqma kaluliwang<br>boboto botahan",
           "Topic3: 0.98<br>Topic1: 0.01<br>Topic2: 0.01"
          ],
          [
           "3",
           "admit tha bobang fvp nandaya magnanakaw<br>boto hirap talaga tangapin katituhanan",
           "Topic3: 0.99<br>Topic1: 0.01<br>Topic2: 0.01"
          ],
          [
           "3",
           "means good luck philippines another<br>basahan",
           "Topic3: 0.98<br>Topic1: 0.01<br>Topic2: 0.01"
          ],
          [
           "3",
           "supported colmenares chiding bbm trying<br>put bbm shame implying bbm death threat<br>thru tiktok komunistang komunista da<br>moves hehehe",
           "Topic3: 0.99"
          ],
          [
           "3",
           "oo mananalo mandaraya ulit kasabwst<br>smartmatic comelec tulad",
           "Topic3: 0.98<br>Topic1: 0.01<br>Topic2: 0.01"
          ],
          [
           "3",
           "careful words girl might shoot mom<br>directly ass one year ago votes stolen",
           "Topic3: 0.99<br>Topic1: 0.01<br>Topic2: 0.01"
          ],
          [
           "3",
           "e mandaraya election ultimo tuldok<br>binilang counted fake nanay sino justice<br>leonen apointed noynoy sino justice<br>caguioa apointed noynoy ayaw magnanakaw<br>gusto mandaraya",
           "Topic3: 0.99"
          ],
          [
           "3",
           "bayot k lakas pumukol pmutak wlang<br>evidence nanay mandaraya plng gawain n",
           "Topic3: 0.99<br>Topic1: 0.01<br>Topic2: 0.01"
          ],
          [
           "3",
           "fake vp cheater betrayed country<br>political ambition youll never become<br>president",
           "Topic3: 0.99<br>Topic1: 0.01<br>Topic2: 0.01"
          ],
          [
           "3",
           "resign",
           "Topic3: 0.9<br>Topic1: 0.05<br>Topic2: 0.05"
          ],
          [
           "3",
           "worry hindi namin iboboto safe",
           "Topic3: 0.97<br>Topic1: 0.01<br>Topic2: 0.01"
          ],
          [
           "3",
           "uy pambayad blogger panget troll",
           "Topic3: 0.97<br>Topic1: 0.01<br>Topic2: 0.01"
          ],
          [
           "3",
           "sino magnanakaw gahaman pwesto pati boto<br>tao",
           "Topic3: 0.98<br>Topic1: 0.01<br>Topic2: 0.01"
          ],
          [
           "3",
           "ulol kau hindi masagot tama tanong dun",
           "Topic3: 0.97<br>Topic1: 0.01<br>Topic2: 0.01"
          ],
          [
           "3",
           "putang ina bukod napakabobo<br>napakasinungaling magnanakaw druglord<br>protector npa terorista suporter makita<br>kita personal sabunutan talaga kita<br>demonyo pagmuugali kase putang ina kang",
           "Topic3: 0.99"
          ],
          [
           "3",
           "hindi corrupt kailan naging daang<br>matuwid nick name babaeng hindi siya<br>corrupt kinailangan niyang mangampanya<br>loob botohan gamitin balota",
           "Topic3: 0.99"
          ],
          [
           "3",
           "bobo spokesperson mana nanay lutang yong<br>brain nasa pwet inidoro",
           "Topic3: 0.99<br>Topic1: 0.01<br>Topic2: 0.01"
          ],
          [
           "3",
           "magresearch tabogo upang maging matalino",
           "Topic3: 0.98<br>Topic1: 0.01<br>Topic2: 0.01"
          ],
          [
           "3",
           "gusto reference",
           "Topic3: 0.94<br>Topic1: 0.03<br>Topic2: 0.03"
          ],
          [
           "3",
           "taena talaga hayup boba kabaro pala taga<br>coa noon nahuhuthutan bigyan mataas<br>taenang magnanakaw",
           "Topic3: 0.99<br>Topic1: 0.01<br>Topic2: 0.01"
          ],
          [
           "3",
           "hoy nadadagdagan kapalpakan sayo taena",
           "Topic3: 0.97<br>Topic1: 0.01<br>Topic2: 0.01"
          ],
          [
           "3",
           "matagal pala problema sabi hindi<br>tumulong nuong vp years",
           "Topic3: 0.98<br>Topic1: 0.01<br>Topic2: 0.01"
          ],
          [
           "3",
           "vp kaalyado badoy",
           "Topic3: 0.95<br>Topic1: 0.03<br>Topic2: 0.03"
          ],
          [
           "3",
           "walang ambag maritime industry years vp<br>never siyang ginawa industriya tama man<br>sure akong utak tama",
           "Topic3: 0.81<br>Topic1: 0.18<br>Topic2: 0.01"
          ]
         ],
         "hovertemplate": "<b>%{hovertext}</b><br><br>Breakdown=%{customdata[2]}<extra></extra>",
         "hovertext": [
          "leody npa joma hindi connectado npa<br>inendorsed ahahahaha",
          "npa kalaban pinoprotektahan npa<br>pumapatay nag nanakaw",
          "given choices son npa casted votes<br>someone prosper npas",
          "edit amp npa",
          "tama binoto namen npa baka maging north<br>korea pilipinas",
          "mas masahol npa nasa rally endorsed npa",
          "ofcourse npa",
          "endorsed presence npa lugar takot mayors<br>tirahin npa inendorso",
          "start joma endorsed",
          "tama right pinklawan know puppet<br>oligarchs never achieved good governance<br>reign late cory late ramos late<br>dilawpinks presidents puppets oligarchs",
          "push sabihing answer nakita kayong kulto<br>reason siya tako pinipilit magaling siya<br>wala tlaga siyang maipakitang proof<br>mgaling siya puppet",
          "martial law saved us communist npa<br>kumunista aktivista",
          "father tanga oy ayaw namin st kiko kase<br>ayaw namin manloloko bobo tanga kurakot<br>walang kakayahan higit lahat terorista<br>ganto masaya today subo burat angat<br>buhay",
          "lol nasanay mapagpanggap dilawan busit<br>kala aatras bagyo papresscon bbm sanay<br>photo op queen kasagasagan bagyo<br>hometown nasa new york nagshoshopping<br>mahagilap uwi nagyoga",
          "pinag uusapan kurakot magnanakaw<br>sinungaling",
          "sayang pera madumb buti nun walang<br>budget lng office nakaka punta asulok<br>sulok ghost employees nanaman kurakot",
          "bantayan magnanakaw",
          "well edited pics nagawa walang kakwenta<br>pababanguhin media alagad gagawan nila<br>istorya sabay mumurahin pangulo sino<br>bitter",
          "tahimik magpapakita feel niyang masiraan<br>pangulo",
          "kaylan sarah kelan nasa serbisyo paka<br>selective memory kelangan mamatay asawa<br>bago gawin cory lol kumag mandaraya<br>tumakbo matalo nandaya mandurugas layo<br>lamang ngayon",
          "mandaraya never forget",
          "wala isyung malaki unused ballot<br>malaking isyu gamit balota ibig sabihin<br>nito isyu credibility pagiging bise<br>tangkang pandaraya oo sino maghusga",
          "sobra sobra pandaraya ngayon katotohanan<br>pilipinas utak macalintal nito",
          "succeeds comelec still doubtful hands<br>contract smartmatic still push plan b<br>deep dooh dooh",
          "thank sharing news thank letting us know<br>confident win recount already tampered<br>everything hayup hayup",
          "nandaya smartmatic ngayon wet wet balota<br>haysss buti nakakatulog",
          "april fools",
          "katotohanan",
          "asking dumb expect answers came<br>obscurity unknown inexperienced beating<br>proven public servants like bbm know<br>anything governance says hindi yata<br>dapat faking",
          "manual recount karon vp basa ubang<br>ballots fishy kaayo nilabay naa ballot<br>boxes daun basa karon wala lugar nauga<br>laaams naah",
          "dear never forget hash code transmitting<br>clear violation law facebook php",
          "ilan patunay dayaang nangyari kada boto<br>mahalaga",
          "pelaez madumb fake vp mandaraya yikes",
          "ginamitan smartmatic sinira balotang<br>ebidensya pandaraya",
          "teacher sino nandaya election mam",
          "grinch grinch grinch stole christmas<br>lugaw stole vice presidency seat",
          "lol disgrasya pinas patunay mandaraya<br>sinungaling hahahaha",
          "agree noynoy appointed sereno cj<br>conching sandigan bayan bautista comelec<br>chairman manipulate everything including<br>cheating seat regain power absolve<br>corruption lawsuits looking ahead",
          "madam well oiled pcos machine choice<br>napansin mukhang hindi alam meaning",
          "meron multo bumoto sobra talaga<br>pagkakasemento mukha aling",
          "fuck ideas",
          "even know federalism deserve true vp<br>plus cheater",
          "tama talagang maganda ala tiwal sayo tao<br>never namin pinagkatiwalaan",
          "abangan update zombie naka boto",
          "ata nag diba bayaw nun drug lord naga",
          "intelligent much qualified congressman<br>good role model youth unlike kabit home<br>wreaker",
          "evidently denying bcoz know impact<br>denial joma withdrew statement known<br>drug lord naga maybe investigate death<br>lol autopsy even made typical pinoy<br>teleserye outcome",
          "correct shud genuine vp office means<br>chouse",
          "jesse extremely dangerous vp involvement<br>drugs smuggling jueteng murders",
          "read news inquirer drug suspects<br>arrested yesterday caught naga city<br>duterte right naga hotbed shabu made<br>happened butch make philippines hotbed<br>twimg twimg",
          "dumb inendorso magnanakaw traidor pare<br>parehas dumb kase magnanakaw sinungaling<br>traidor druglord protector npa terorista<br>suporter",
          "sana vp unang aatupagin sino nagpa<br>papatay asawa",
          "oo manaig katotohanan nagpundo drug<br>cartel bayaw pinatay asawa jessie drug<br>generals kalaban manaig sabi manaig<br>katutuhan huwag utoutoin alam namin<br>katuthanan",
          "sino paco ojeda pinatay ninyo nadiskurbe<br>anomalya kapanahon asawa",
          "hwag kalimutan namatay asawa pinatay<br>kanyang bayaw territoryo droga masyadong<br>greedy asawa naging presidente lalakas<br>power bayaw matutuloy magiging capital<br>shabu pilipinas",
          "tanong relatives naga nag dodroga tanong<br>pinatay kanyang asawa drug protector<br>wahahhah",
          "panu iboboto taong galit galit kagaya vp<br>vp galit pinatay unang asawa npa alam b<br>nila",
          "butch brother jessie drug lord wanted<br>pdea one narcos drugs watchlists fake vp<br>really drug lord protector",
          "admits elago daughter w fling jover<br>daughter admits affair denies<br>presidential ambitions baraan bautista<br>hiding netherlands jim kaloi sonny<br>caught menage troie pldt",
          "affair laila de dayan immoral rape<br>remark joke non existent",
          "ahemmm druglords caught september brgy<br>tabuco naga city hiding skirt feeling<br>drug czar bolet",
          "guys asawa pala taga cebu npa omg<br>someone tell image twimg",
          "ndi kilala ndi kilala tao lumitaw n lng<br>namatay asawa ewan pinatay yatang sadya<br>plano naka todo ngiti burol asawa<br>pakanta kanta mging vp xa pangdaraya<br>nila andy sino kumpara",
          "throwback iboboto sinungaling nuna<br>nangyari daughter girl",
          "campaign team trying market aika victim<br>sexual abuse victim someone sex video<br>nobody internet could find aika sex<br>video figment imagination exist",
          "vp drug lord bayaw dba call resign call<br>jesse r dilg secretary brother drug lord<br>lamitan mayor drug lord tinangal siya<br>pwesto",
          "saint kabit cya banal",
          "start call end text",
          "really concern country philippines",
          "infairness consistent lead bbm nahiya<br>kase comelec tssk",
          "newly selected vp rep philippines shame",
          "using magic like way made vp magic",
          "itong bobang nagnakaw votes corrupt",
          "inept incompetent knew nothing governing<br>complicated society like philippines<br>perfect puppet yellows thus pillaged<br>rest history clone",
          "say crazy inept leaders must mean fvp<br>hypocrite partymates",
          "edwin dear incompetent strategically<br>inept qualities woman qualities person<br>magkaiba gma also woman competent<br>strategic",
          "ben kingsley hopelessly inept even aura<br>lacks luster",
          "prrd tinukoy bayaw drug lord naga city<br>smni news",
          "almost years vice president could enough<br>catapult front bid highest position land<br>nothing done right opposite everything<br>shows shallow inept incapable leader",
          "keeps dilawans seeing weak leader stupid<br>inept puppet yet see clearly manny<br>practically",
          "seen clearly shows political puppet<br>liberal party failure congresswoman<br>totally inept vp logic worse junkie weed<br>yorme call fake leader fake colors<br>goodness",
          "c okay sinayang incompetent inept good<br>riddance",
          "really meant never prez philippines<br>takes reality say god saved lie actually<br>philippines god saved inept incompetent<br>individual good riddance",
          "supported candidacy thats daughters<br>fault knew start mother inept vp inept<br>political figure totally still decided<br>anyway vie presidency coud mistake",
          "sinungaling kapatid magnanakaw",
          "karugtong",
          "totoo almost vice pres supporters lakas<br>loob nila marcoses click comment section<br>turned oops",
          "luto balota naka ready mandaya retweet<br>maging aware lahat",
          "magnanakaw",
          "nag uumpisa",
          "kikilabutan talaga jan kasqma kaluliwang<br>boboto botahan",
          "admit tha bobang fvp nandaya magnanakaw<br>boto hirap talaga tangapin katituhanan",
          "means good luck philippines another<br>basahan",
          "supported colmenares chiding bbm trying<br>put bbm shame implying bbm death threat<br>thru tiktok komunistang komunista da<br>moves hehehe",
          "oo mananalo mandaraya ulit kasabwst<br>smartmatic comelec tulad",
          "careful words girl might shoot mom<br>directly ass one year ago votes stolen",
          "e mandaraya election ultimo tuldok<br>binilang counted fake nanay sino justice<br>leonen apointed noynoy sino justice<br>caguioa apointed noynoy ayaw magnanakaw<br>gusto mandaraya",
          "bayot k lakas pumukol pmutak wlang<br>evidence nanay mandaraya plng gawain n",
          "fake vp cheater betrayed country<br>political ambition youll never become<br>president",
          "resign",
          "worry hindi namin iboboto safe",
          "uy pambayad blogger panget troll",
          "sino magnanakaw gahaman pwesto pati boto<br>tao",
          "ulol kau hindi masagot tama tanong dun",
          "putang ina bukod napakabobo<br>napakasinungaling magnanakaw druglord<br>protector npa terorista suporter makita<br>kita personal sabunutan talaga kita<br>demonyo pagmuugali kase putang ina kang",
          "hindi corrupt kailan naging daang<br>matuwid nick name babaeng hindi siya<br>corrupt kinailangan niyang mangampanya<br>loob botohan gamitin balota",
          "bobo spokesperson mana nanay lutang yong<br>brain nasa pwet inidoro",
          "magresearch tabogo upang maging matalino",
          "gusto reference",
          "taena talaga hayup boba kabaro pala taga<br>coa noon nahuhuthutan bigyan mataas<br>taenang magnanakaw",
          "hoy nadadagdagan kapalpakan sayo taena",
          "matagal pala problema sabi hindi<br>tumulong nuong vp years",
          "vp kaalyado badoy",
          "walang ambag maritime industry years vp<br>never siyang ginawa industriya tama man<br>sure akong utak tama"
         ],
         "legendgroup": "3",
         "marker": {
          "color": "#00cc96",
          "symbol": "circle"
         },
         "mode": "markers",
         "name": "3",
         "orientation": "v",
         "showlegend": true,
         "type": "scatter",
         "x": [
          -128.8631134033203,
          -68.65795135498047,
          -128.8631134033203,
          19.9158878326416,
          -128.8631134033203,
          -68.65795135498047,
          19.9158878326416,
          -128.8631134033203,
          10.264335632324219,
          -136.1531524658203,
          -136.1531524658203,
          -68.65795135498047,
          -175.98574829101562,
          -116.56372833251953,
          -68.65795135498047,
          -193.27310180664062,
          39.044776916503906,
          -97.83678436279297,
          -128.8631134033203,
          -136.1531524658203,
          12.149575233459473,
          -73.649658203125,
          -128.8631134033203,
          -136.1531524658203,
          -149.4363555908203,
          -128.8631134033203,
          33.75834274291992,
          3.154423475265503,
          -90.85633087158203,
          -116.56372833251953,
          -241.60440063476562,
          -128.8631134033203,
          -43.0655403137207,
          -128.8631134033203,
          54.359580993652344,
          -241.60440063476562,
          -128.8631134033203,
          -71.1041259765625,
          -32.68671417236328,
          -128.8631134033203,
          12.149575233459473,
          -128.8631134033203,
          -128.8631134033203,
          -128.8631134033203,
          -68.65795135498047,
          -71.1041259765625,
          -103.07086181640625,
          -128.8631134033203,
          -241.60440063476562,
          -100.01622772216797,
          -175.98574829101562,
          -128.8631134033203,
          -136.1531524658203,
          -241.60440063476562,
          -78.22635650634766,
          -241.60440063476562,
          -28.492996215820312,
          -78.22635650634766,
          -175.49708557128906,
          -241.60440063476562,
          -136.1531524658203,
          -241.60440063476562,
          -136.1531524658203,
          -128.8631134033203,
          -125.76298522949219,
          -137.67843627929688,
          10.264335632324219,
          10.264335632324219,
          -14.254975318908691,
          -128.8631134033203,
          -68.65795135498047,
          -128.8631134033203,
          -68.65795135498047,
          -122.56070709228516,
          -128.8631134033203,
          -100.01622772216797,
          -128.8631134033203,
          81.86402130126953,
          -116.56372833251953,
          -241.60440063476562,
          -168.1286163330078,
          -128.8631134033203,
          -116.56372833251953,
          -100.01622772216797,
          -9.811139106750488,
          19.9158878326416,
          -156.9288330078125,
          -241.60440063476562,
          23.97806739807129,
          19.9158878326416,
          -128.8631134033203,
          -241.60440063476562,
          -128.8631134033203,
          -136.1531524658203,
          -128.8631134033203,
          -241.60440063476562,
          -136.1531524658203,
          -241.60440063476562,
          -241.60440063476562,
          -6.9484052658081055,
          -68.65795135498047,
          -68.65795135498047,
          -128.8631134033203,
          -68.65795135498047,
          -150.2666473388672,
          -116.56372833251953,
          -241.60440063476562,
          -128.8631134033203,
          39.044776916503906,
          -212.62181091308594,
          -68.65795135498047,
          -128.8631134033203,
          12.149575233459473,
          -9.56224250793457
         ],
         "xaxis": "x",
         "y": [
          -225.5731964111328,
          -297.2038269042969,
          -225.5731964111328,
          -218.81997680664062,
          -225.5731964111328,
          -297.2038269042969,
          -218.81997680664062,
          -225.5731964111328,
          -310.8684387207031,
          -33.775299072265625,
          -33.775299072265625,
          -297.2038269042969,
          -21.979171752929688,
          -70.67178344726562,
          -297.2038269042969,
          -50.27709197998047,
          -261.0522766113281,
          -45.01789474487305,
          -225.5731964111328,
          -33.775299072265625,
          -268.9919738769531,
          0.5757114291191101,
          -225.5731964111328,
          -33.775299072265625,
          -94.89579010009766,
          -225.5731964111328,
          -293.3739318847656,
          -197.40956115722656,
          -96.24801635742188,
          -70.67178344726562,
          -166.1154327392578,
          -225.5731964111328,
          -332.95947265625,
          -225.5731964111328,
          -193.17922973632812,
          -166.1154327392578,
          -225.5731964111328,
          -34.69796371459961,
          -169.94065856933594,
          -225.5731964111328,
          -268.9919738769531,
          -225.5731964111328,
          -225.5731964111328,
          -225.5731964111328,
          -297.2038269042969,
          -34.69796371459961,
          16.93292999267578,
          -225.5731964111328,
          -166.1154327392578,
          -16.08489227294922,
          -21.979171752929688,
          -225.5731964111328,
          -33.775299072265625,
          -166.1154327392578,
          -66.98207092285156,
          -166.1154327392578,
          -153.81903076171875,
          -66.98207092285156,
          -78.91569519042969,
          -166.1154327392578,
          -33.775299072265625,
          -166.1154327392578,
          -33.775299072265625,
          -225.5731964111328,
          1.434863805770874,
          21.899215698242188,
          -310.8684387207031,
          -310.8684387207031,
          -327.5543212890625,
          -225.5731964111328,
          -297.2038269042969,
          -225.5731964111328,
          -297.2038269042969,
          -104.68598175048828,
          -225.5731964111328,
          -16.08489227294922,
          -225.5731964111328,
          -195.4464569091797,
          -70.67178344726562,
          -166.1154327392578,
          -52.883811950683594,
          -225.5731964111328,
          -70.67178344726562,
          -16.08489227294922,
          -295.8691711425781,
          -218.81997680664062,
          1.6760183572769165,
          -166.1154327392578,
          -182.03302001953125,
          -218.81997680664062,
          -225.5731964111328,
          -166.1154327392578,
          -225.5731964111328,
          -33.775299072265625,
          -225.5731964111328,
          -166.1154327392578,
          -33.775299072265625,
          -166.1154327392578,
          -166.1154327392578,
          -219.12875366210938,
          -297.2038269042969,
          -297.2038269042969,
          -225.5731964111328,
          -297.2038269042969,
          -70.01234436035156,
          -70.67178344726562,
          -166.1154327392578,
          -225.5731964111328,
          -261.0522766113281,
          -144.83547973632812,
          -297.2038269042969,
          -225.5731964111328,
          -268.9919738769531,
          -167.7722930908203
         ],
         "yaxis": "y"
        }
       ],
       "layout": {
        "annotations": [
         {
          "align": "left",
          "font": {
           "color": "#636efa"
          },
          "showarrow": false,
          "text": "Topic 1: walang, hindi, wala, alam, ambag, mandaraya, boto, puro, dapat, marcos, lutang, magnanakaw",
          "x": 0,
          "xref": "paper",
          "y": -0.08,
          "yref": "paper"
         },
         {
          "align": "left",
          "font": {
           "color": "#EF553B"
          },
          "showarrow": false,
          "text": "Topic 2: election, fake, mandaraya, talaga, vote, hindi, president, people, eleksyon, walang, philippine, service",
          "x": 0,
          "xref": "paper",
          "y": -0.12000000000000001,
          "yref": "paper"
         },
         {
          "align": "left",
          "font": {
           "color": "#00cc96"
          },
          "showarrow": false,
          "text": "Topic 3: drug, asawa, lord, inept, magnanakaw, sino, never, naga, philippine, tama, pinatay, puppet",
          "x": 0,
          "xref": "paper",
          "y": -0.16000000000000003,
          "yref": "paper"
         }
        ],
        "height": 710,
        "legend": {
         "font": {
          "color": "black"
         },
         "title": {
          "text": "Topic"
         },
         "tracegroupgap": 0
        },
        "margin": {
         "b": 200
        },
        "paper_bgcolor": "white",
        "template": {
         "data": {
          "bar": [
           {
            "error_x": {
             "color": "#2a3f5f"
            },
            "error_y": {
             "color": "#2a3f5f"
            },
            "marker": {
             "line": {
              "color": "#E5ECF6",
              "width": 0.5
             },
             "pattern": {
              "fillmode": "overlay",
              "size": 10,
              "solidity": 0.2
             }
            },
            "type": "bar"
           }
          ],
          "barpolar": [
           {
            "marker": {
             "line": {
              "color": "#E5ECF6",
              "width": 0.5
             },
             "pattern": {
              "fillmode": "overlay",
              "size": 10,
              "solidity": 0.2
             }
            },
            "type": "barpolar"
           }
          ],
          "carpet": [
           {
            "aaxis": {
             "endlinecolor": "#2a3f5f",
             "gridcolor": "white",
             "linecolor": "white",
             "minorgridcolor": "white",
             "startlinecolor": "#2a3f5f"
            },
            "baxis": {
             "endlinecolor": "#2a3f5f",
             "gridcolor": "white",
             "linecolor": "white",
             "minorgridcolor": "white",
             "startlinecolor": "#2a3f5f"
            },
            "type": "carpet"
           }
          ],
          "choropleth": [
           {
            "colorbar": {
             "outlinewidth": 0,
             "ticks": ""
            },
            "type": "choropleth"
           }
          ],
          "contour": [
           {
            "colorbar": {
             "outlinewidth": 0,
             "ticks": ""
            },
            "colorscale": [
             [
              0,
              "#0d0887"
             ],
             [
              0.1111111111111111,
              "#46039f"
             ],
             [
              0.2222222222222222,
              "#7201a8"
             ],
             [
              0.3333333333333333,
              "#9c179e"
             ],
             [
              0.4444444444444444,
              "#bd3786"
             ],
             [
              0.5555555555555556,
              "#d8576b"
             ],
             [
              0.6666666666666666,
              "#ed7953"
             ],
             [
              0.7777777777777778,
              "#fb9f3a"
             ],
             [
              0.8888888888888888,
              "#fdca26"
             ],
             [
              1,
              "#f0f921"
             ]
            ],
            "type": "contour"
           }
          ],
          "contourcarpet": [
           {
            "colorbar": {
             "outlinewidth": 0,
             "ticks": ""
            },
            "type": "contourcarpet"
           }
          ],
          "heatmap": [
           {
            "colorbar": {
             "outlinewidth": 0,
             "ticks": ""
            },
            "colorscale": [
             [
              0,
              "#0d0887"
             ],
             [
              0.1111111111111111,
              "#46039f"
             ],
             [
              0.2222222222222222,
              "#7201a8"
             ],
             [
              0.3333333333333333,
              "#9c179e"
             ],
             [
              0.4444444444444444,
              "#bd3786"
             ],
             [
              0.5555555555555556,
              "#d8576b"
             ],
             [
              0.6666666666666666,
              "#ed7953"
             ],
             [
              0.7777777777777778,
              "#fb9f3a"
             ],
             [
              0.8888888888888888,
              "#fdca26"
             ],
             [
              1,
              "#f0f921"
             ]
            ],
            "type": "heatmap"
           }
          ],
          "heatmapgl": [
           {
            "colorbar": {
             "outlinewidth": 0,
             "ticks": ""
            },
            "colorscale": [
             [
              0,
              "#0d0887"
             ],
             [
              0.1111111111111111,
              "#46039f"
             ],
             [
              0.2222222222222222,
              "#7201a8"
             ],
             [
              0.3333333333333333,
              "#9c179e"
             ],
             [
              0.4444444444444444,
              "#bd3786"
             ],
             [
              0.5555555555555556,
              "#d8576b"
             ],
             [
              0.6666666666666666,
              "#ed7953"
             ],
             [
              0.7777777777777778,
              "#fb9f3a"
             ],
             [
              0.8888888888888888,
              "#fdca26"
             ],
             [
              1,
              "#f0f921"
             ]
            ],
            "type": "heatmapgl"
           }
          ],
          "histogram": [
           {
            "marker": {
             "pattern": {
              "fillmode": "overlay",
              "size": 10,
              "solidity": 0.2
             }
            },
            "type": "histogram"
           }
          ],
          "histogram2d": [
           {
            "colorbar": {
             "outlinewidth": 0,
             "ticks": ""
            },
            "colorscale": [
             [
              0,
              "#0d0887"
             ],
             [
              0.1111111111111111,
              "#46039f"
             ],
             [
              0.2222222222222222,
              "#7201a8"
             ],
             [
              0.3333333333333333,
              "#9c179e"
             ],
             [
              0.4444444444444444,
              "#bd3786"
             ],
             [
              0.5555555555555556,
              "#d8576b"
             ],
             [
              0.6666666666666666,
              "#ed7953"
             ],
             [
              0.7777777777777778,
              "#fb9f3a"
             ],
             [
              0.8888888888888888,
              "#fdca26"
             ],
             [
              1,
              "#f0f921"
             ]
            ],
            "type": "histogram2d"
           }
          ],
          "histogram2dcontour": [
           {
            "colorbar": {
             "outlinewidth": 0,
             "ticks": ""
            },
            "colorscale": [
             [
              0,
              "#0d0887"
             ],
             [
              0.1111111111111111,
              "#46039f"
             ],
             [
              0.2222222222222222,
              "#7201a8"
             ],
             [
              0.3333333333333333,
              "#9c179e"
             ],
             [
              0.4444444444444444,
              "#bd3786"
             ],
             [
              0.5555555555555556,
              "#d8576b"
             ],
             [
              0.6666666666666666,
              "#ed7953"
             ],
             [
              0.7777777777777778,
              "#fb9f3a"
             ],
             [
              0.8888888888888888,
              "#fdca26"
             ],
             [
              1,
              "#f0f921"
             ]
            ],
            "type": "histogram2dcontour"
           }
          ],
          "mesh3d": [
           {
            "colorbar": {
             "outlinewidth": 0,
             "ticks": ""
            },
            "type": "mesh3d"
           }
          ],
          "parcoords": [
           {
            "line": {
             "colorbar": {
              "outlinewidth": 0,
              "ticks": ""
             }
            },
            "type": "parcoords"
           }
          ],
          "pie": [
           {
            "automargin": true,
            "type": "pie"
           }
          ],
          "scatter": [
           {
            "fillpattern": {
             "fillmode": "overlay",
             "size": 10,
             "solidity": 0.2
            },
            "type": "scatter"
           }
          ],
          "scatter3d": [
           {
            "line": {
             "colorbar": {
              "outlinewidth": 0,
              "ticks": ""
             }
            },
            "marker": {
             "colorbar": {
              "outlinewidth": 0,
              "ticks": ""
             }
            },
            "type": "scatter3d"
           }
          ],
          "scattercarpet": [
           {
            "marker": {
             "colorbar": {
              "outlinewidth": 0,
              "ticks": ""
             }
            },
            "type": "scattercarpet"
           }
          ],
          "scattergeo": [
           {
            "marker": {
             "colorbar": {
              "outlinewidth": 0,
              "ticks": ""
             }
            },
            "type": "scattergeo"
           }
          ],
          "scattergl": [
           {
            "marker": {
             "colorbar": {
              "outlinewidth": 0,
              "ticks": ""
             }
            },
            "type": "scattergl"
           }
          ],
          "scattermapbox": [
           {
            "marker": {
             "colorbar": {
              "outlinewidth": 0,
              "ticks": ""
             }
            },
            "type": "scattermapbox"
           }
          ],
          "scatterpolar": [
           {
            "marker": {
             "colorbar": {
              "outlinewidth": 0,
              "ticks": ""
             }
            },
            "type": "scatterpolar"
           }
          ],
          "scatterpolargl": [
           {
            "marker": {
             "colorbar": {
              "outlinewidth": 0,
              "ticks": ""
             }
            },
            "type": "scatterpolargl"
           }
          ],
          "scatterternary": [
           {
            "marker": {
             "colorbar": {
              "outlinewidth": 0,
              "ticks": ""
             }
            },
            "type": "scatterternary"
           }
          ],
          "surface": [
           {
            "colorbar": {
             "outlinewidth": 0,
             "ticks": ""
            },
            "colorscale": [
             [
              0,
              "#0d0887"
             ],
             [
              0.1111111111111111,
              "#46039f"
             ],
             [
              0.2222222222222222,
              "#7201a8"
             ],
             [
              0.3333333333333333,
              "#9c179e"
             ],
             [
              0.4444444444444444,
              "#bd3786"
             ],
             [
              0.5555555555555556,
              "#d8576b"
             ],
             [
              0.6666666666666666,
              "#ed7953"
             ],
             [
              0.7777777777777778,
              "#fb9f3a"
             ],
             [
              0.8888888888888888,
              "#fdca26"
             ],
             [
              1,
              "#f0f921"
             ]
            ],
            "type": "surface"
           }
          ],
          "table": [
           {
            "cells": {
             "fill": {
              "color": "#EBF0F8"
             },
             "line": {
              "color": "white"
             }
            },
            "header": {
             "fill": {
              "color": "#C8D4E3"
             },
             "line": {
              "color": "white"
             }
            },
            "type": "table"
           }
          ]
         },
         "layout": {
          "annotationdefaults": {
           "arrowcolor": "#2a3f5f",
           "arrowhead": 0,
           "arrowwidth": 1
          },
          "autotypenumbers": "strict",
          "coloraxis": {
           "colorbar": {
            "outlinewidth": 0,
            "ticks": ""
           }
          },
          "colorscale": {
           "diverging": [
            [
             0,
             "#8e0152"
            ],
            [
             0.1,
             "#c51b7d"
            ],
            [
             0.2,
             "#de77ae"
            ],
            [
             0.3,
             "#f1b6da"
            ],
            [
             0.4,
             "#fde0ef"
            ],
            [
             0.5,
             "#f7f7f7"
            ],
            [
             0.6,
             "#e6f5d0"
            ],
            [
             0.7,
             "#b8e186"
            ],
            [
             0.8,
             "#7fbc41"
            ],
            [
             0.9,
             "#4d9221"
            ],
            [
             1,
             "#276419"
            ]
           ],
           "sequential": [
            [
             0,
             "#0d0887"
            ],
            [
             0.1111111111111111,
             "#46039f"
            ],
            [
             0.2222222222222222,
             "#7201a8"
            ],
            [
             0.3333333333333333,
             "#9c179e"
            ],
            [
             0.4444444444444444,
             "#bd3786"
            ],
            [
             0.5555555555555556,
             "#d8576b"
            ],
            [
             0.6666666666666666,
             "#ed7953"
            ],
            [
             0.7777777777777778,
             "#fb9f3a"
            ],
            [
             0.8888888888888888,
             "#fdca26"
            ],
            [
             1,
             "#f0f921"
            ]
           ],
           "sequentialminus": [
            [
             0,
             "#0d0887"
            ],
            [
             0.1111111111111111,
             "#46039f"
            ],
            [
             0.2222222222222222,
             "#7201a8"
            ],
            [
             0.3333333333333333,
             "#9c179e"
            ],
            [
             0.4444444444444444,
             "#bd3786"
            ],
            [
             0.5555555555555556,
             "#d8576b"
            ],
            [
             0.6666666666666666,
             "#ed7953"
            ],
            [
             0.7777777777777778,
             "#fb9f3a"
            ],
            [
             0.8888888888888888,
             "#fdca26"
            ],
            [
             1,
             "#f0f921"
            ]
           ]
          },
          "colorway": [
           "#636efa",
           "#EF553B",
           "#00cc96",
           "#ab63fa",
           "#FFA15A",
           "#19d3f3",
           "#FF6692",
           "#B6E880",
           "#FF97FF",
           "#FECB52"
          ],
          "font": {
           "color": "#2a3f5f"
          },
          "geo": {
           "bgcolor": "white",
           "lakecolor": "white",
           "landcolor": "#E5ECF6",
           "showlakes": true,
           "showland": true,
           "subunitcolor": "white"
          },
          "hoverlabel": {
           "align": "left"
          },
          "hovermode": "closest",
          "mapbox": {
           "style": "light"
          },
          "paper_bgcolor": "white",
          "plot_bgcolor": "#E5ECF6",
          "polar": {
           "angularaxis": {
            "gridcolor": "white",
            "linecolor": "white",
            "ticks": ""
           },
           "bgcolor": "#E5ECF6",
           "radialaxis": {
            "gridcolor": "white",
            "linecolor": "white",
            "ticks": ""
           }
          },
          "scene": {
           "xaxis": {
            "backgroundcolor": "#E5ECF6",
            "gridcolor": "white",
            "gridwidth": 2,
            "linecolor": "white",
            "showbackground": true,
            "ticks": "",
            "zerolinecolor": "white"
           },
           "yaxis": {
            "backgroundcolor": "#E5ECF6",
            "gridcolor": "white",
            "gridwidth": 2,
            "linecolor": "white",
            "showbackground": true,
            "ticks": "",
            "zerolinecolor": "white"
           },
           "zaxis": {
            "backgroundcolor": "#E5ECF6",
            "gridcolor": "white",
            "gridwidth": 2,
            "linecolor": "white",
            "showbackground": true,
            "ticks": "",
            "zerolinecolor": "white"
           }
          },
          "shapedefaults": {
           "line": {
            "color": "#2a3f5f"
           }
          },
          "ternary": {
           "aaxis": {
            "gridcolor": "white",
            "linecolor": "white",
            "ticks": ""
           },
           "baxis": {
            "gridcolor": "white",
            "linecolor": "white",
            "ticks": ""
           },
           "bgcolor": "#E5ECF6",
           "caxis": {
            "gridcolor": "white",
            "linecolor": "white",
            "ticks": ""
           }
          },
          "title": {
           "x": 0.05
          },
          "xaxis": {
           "automargin": true,
           "gridcolor": "white",
           "linecolor": "white",
           "ticks": "",
           "title": {
            "standoff": 15
           },
           "zerolinecolor": "white",
           "zerolinewidth": 2
          },
          "yaxis": {
           "automargin": true,
           "gridcolor": "white",
           "linecolor": "white",
           "ticks": "",
           "title": {
            "standoff": 15
           },
           "zerolinecolor": "white",
           "zerolinewidth": 2
          }
         }
        },
        "title": {
         "font": {
          "color": "black"
         },
         "text": "Topic Clustering using LDA and t-SNE"
        },
        "xaxis": {
         "anchor": "y",
         "domain": [
          0,
          1
         ],
         "title": {
          "text": ""
         }
        },
        "yaxis": {
         "anchor": "x",
         "domain": [
          0,
          1
         ],
         "title": {
          "text": ""
         }
        }
       }
      }
     },
     "metadata": {},
     "output_type": "display_data"
    }
   ],
   "source": [
    "# Plot tweets as colored points\n",
    "df_topics_cluster.sort_values(\n",
    "    \"Cluster\", key=lambda x: pd.to_numeric(x, errors=\"coerce\"), inplace=True\n",
    ")\n",
    "\n",
    "fig = px.scatter(\n",
    "    df_topics_cluster,\n",
    "    x=\"X\",\n",
    "    y=\"Y\",\n",
    "    color=\"Cluster\",\n",
    "    title=\"Topic Clustering using LDA and t-SNE\",\n",
    "    hover_name=\"Tweet\",\n",
    "    hover_data={\n",
    "        \"X\": False,\n",
    "        \"Y\": False,\n",
    "        \"Cluster\": False,\n",
    "        \"Tweet\": False,\n",
    "        \"Breakdown\": True,\n",
    "    },\n",
    ")\n",
    "\n",
    "for i, keyword in enumerate(df_topics[\"Keywords\"]):\n",
    "    fig.add_annotation(\n",
    "        x=0,\n",
    "        y=-0.2 * (i / 5) - 0.08,\n",
    "        text=\"Topic %d: %s\" % (i + 1, keyword.replace(\" \", \", \")),\n",
    "        showarrow=False,\n",
    "        xref=\"paper\",\n",
    "        yref=\"paper\",\n",
    "        align=\"left\",\n",
    "        font=dict(color=fig.data[i].marker[\"color\"]),\n",
    "    )\n",
    "\n",
    "fig.update_layout(\n",
    "    height=710,\n",
    "    xaxis_title=\"\",\n",
    "    yaxis_title=\"\",\n",
    "    margin=dict(b=200),\n",
    "    paper_bgcolor=\"white\",\n",
    "    title=dict(font=dict(color=\"black\")),\n",
    "    legend=dict(title=\"Topic\", font=dict(color=\"black\")),\n",
    ")\n",
    "fig.show()"
   ]
  },
  {
   "attachments": {},
   "cell_type": "markdown",
   "metadata": {},
   "source": [
    "### Evaluate the model's performance using the appropriate evaluation metrics\n",
    "\n",
    "Each cluster can be associated with a corresponding theme:\n",
    "\n",
    "- __Red__: This cluster may be related to __marginalization__. There are words like \n",
    "- __Blue__: This cluster may be related to __competence__.　We see words like \"bobo\", \"lutang\", \"nagawa\", and \"ambag\", which we may attribute to Leni's contribution (and thus, competence) during her term as VP."
   ]
  },
  {
   "attachments": {},
   "cell_type": "markdown",
   "metadata": {},
   "source": [
    "### Evaluation results"
   ]
  },
  {
   "attachments": {},
   "cell_type": "markdown",
   "metadata": {
    "id": "DYGPKGVopG9s"
   },
   "source": [
    "# Statistical Hypothesis Test (Linear Regression)"
   ]
  },
  {
   "attachments": {},
   "cell_type": "markdown",
   "metadata": {
    "id": "mqcZE0fWk8fr"
   },
   "source": [
    "### Perform the appropriate statistical test based on the hypothesis."
   ]
  },
  {
   "attachments": {},
   "cell_type": "markdown",
   "metadata": {
    "id": "p1v6dsWyk95i"
   },
   "source": [
    "### Identify and validate the assumptions of the chosen statistical model. Discuss any violations of assumptions and their potential impact on the results."
   ]
  },
  {
   "attachments": {},
   "cell_type": "markdown",
   "metadata": {
    "id": "A2MHCmhDlAmn"
   },
   "source": [
    "### Clearly report the test statistics, p-values, and any effect size measures."
   ]
  },
  {
   "attachments": {},
   "cell_type": "markdown",
   "metadata": {
    "id": "zIrAdCzqlED2"
   },
   "source": [
    "### Interpret the results and provide a conclusion based on the hypothesis test."
   ]
  },
  {
   "cell_type": "code",
   "execution_count": null,
   "metadata": {
    "colab": {
     "base_uri": "https://localhost:8080/",
     "height": 1000
    },
    "id": "M5fLr-UHoJbu",
    "outputId": "cfb81391-7fc3-4f40-9e35-9b6ded8dc288"
   },
   "outputs": [
    {
     "data": {
      "image/png": "[encoded data removed]",
      "text/plain": [
       "<Figure size 1600x800 with 1 Axes>"
      ]
     },
     "metadata": {},
     "output_type": "display_data"
    },
    {
     "data": {
      "image/png": "[encoded data removed]",
      "text/plain": [
       "<Figure size 1600x800 with 1 Axes>"
      ]
     },
     "metadata": {},
     "output_type": "display_data"
    },
    {
     "data": {
      "image/png": "[encoded data removed]",
      "text/plain": [
       "<Figure size 1600x800 with 1 Axes>"
      ]
     },
     "metadata": {},
     "output_type": "display_data"
    }
   ],
   "source": [
    "for topic in range(1, 3 + 1):\n",
    "    topic_df = df_topics_lda[df_topics_lda[\"dominant_topic\"] == topic]\n",
    "\n",
    "    date_dict = {}\n",
    "    for index, row in topic_df.iterrows():\n",
    "        if row[\"date\"] in date_dict:\n",
    "            date_dict[row[\"date\"]] += 1\n",
    "        else:\n",
    "            date_dict[row[\"date\"]] = 1\n",
    "\n",
    "    date_df_dict = {\"date\": date_dict.keys(), \"count\": date_dict.values()}\n",
    "    date_df = pd.DataFrame.from_dict(date_df_dict)\n",
    "\n",
    "    plt.figure(figsize=(16, 8))\n",
    "    sns.lineplot(data=date_df, x=\"date\", y=\"count\")\n",
    "\n",
    "    plt.ticklabel_format(style=\"plain\", axis=\"y\")\n",
    "    plt.xlabel(\"Date\")\n",
    "    plt.ylabel(\"Number of Tweets\")\n",
    "    plt.title(f\"Topic {topic} date trend (3 month intervals)\", size=18, y=1.02)\n",
    "\n",
    "    plt.show()"
   ]
  },
  {
   "cell_type": "code",
   "execution_count": null,
   "metadata": {
    "colab": {
     "base_uri": "https://localhost:8080/",
     "height": 1000
    },
    "id": "6kXSIuEBpQ8D",
    "outputId": "59b839ae-1061-409f-9f89-0afed76537ca"
   },
   "outputs": [
    {
     "name": "stdout",
     "output_type": "stream",
     "text": [
      "Model Evaluation\n",
      "\n",
      "Linear Regression: RMSE=5.72, R2=0.20\n",
      "P(x1): 0.03152470273053718\n",
      "There is no significant relationship between the predictor and the response\n",
      "\n"
     ]
    },
    {
     "data": {
      "application/vnd.plotly.v1+json": {
       "config": {
        "plotlyServerURL": "https://plot.ly"
       },
       "data": [
        {
         "marker": {
          "color": "blue",
          "opacity": 0.3
         },
         "mode": "markers",
         "name": "Actual",
         "type": "scatter",
         "x": [
          "22-10",
          "20-04",
          "20-01",
          "19-04",
          "19-10",
          "21-10",
          "22-07",
          "17-01",
          "21-04",
          "22-01",
          "22-04",
          "17-07",
          "21-07",
          "18-10",
          "17-04",
          "18-04",
          "18-01",
          "20-07",
          "20-10",
          "16-04",
          "16-10",
          "17-10",
          "23-01"
         ],
         "y": [
          14,
          5,
          2,
          1,
          1,
          17,
          9,
          4,
          2,
          20,
          24,
          6,
          3,
          1,
          8,
          3,
          7,
          2,
          1,
          1,
          3,
          4,
          2
         ]
        },
        {
         "line": {
          "color": "#ee563b",
          "dash": "dash"
         },
         "mode": "lines",
         "name": "LR",
         "type": "scatter",
         "x": [
          "22-10",
          "20-04",
          "20-01",
          "19-04",
          "19-10",
          "21-10",
          "22-07",
          "17-01",
          "21-04",
          "22-01",
          "22-04",
          "17-07",
          "21-07",
          "18-10",
          "17-04",
          "18-04",
          "18-01",
          "20-07",
          "20-10",
          "16-04",
          "16-10",
          "17-10",
          "23-01"
         ],
         "y": [
          10.176379566051445,
          6.731230143460003,
          6.387847232774554,
          5.350151623560258,
          6.0406908835101305,
          8.79907448473066,
          9.829223216787035,
          2.2559319888122005,
          8.108535224780788,
          9.146230833995084,
          9.485840306101572,
          2.938924371604152,
          8.45191813546625,
          4.66338580218936,
          2.595541460918703,
          3.9728465422394876,
          3.633237070132985,
          7.074613054145466,
          7.421769403409876,
          1.2182363795979114,
          1.908775639547791,
          3.2860807208685756,
          10.523535915315868
         ]
        }
       ],
       "layout": {
        "height": 600,
        "showlegend": true,
        "template": {
         "data": {
          "bar": [
           {
            "error_x": {
             "color": "#2a3f5f"
            },
            "error_y": {
             "color": "#2a3f5f"
            },
            "marker": {
             "line": {
              "color": "#E5ECF6",
              "width": 0.5
             },
             "pattern": {
              "fillmode": "overlay",
              "size": 10,
              "solidity": 0.2
             }
            },
            "type": "bar"
           }
          ],
          "barpolar": [
           {
            "marker": {
             "line": {
              "color": "#E5ECF6",
              "width": 0.5
             },
             "pattern": {
              "fillmode": "overlay",
              "size": 10,
              "solidity": 0.2
             }
            },
            "type": "barpolar"
           }
          ],
          "carpet": [
           {
            "aaxis": {
             "endlinecolor": "#2a3f5f",
             "gridcolor": "white",
             "linecolor": "white",
             "minorgridcolor": "white",
             "startlinecolor": "#2a3f5f"
            },
            "baxis": {
             "endlinecolor": "#2a3f5f",
             "gridcolor": "white",
             "linecolor": "white",
             "minorgridcolor": "white",
             "startlinecolor": "#2a3f5f"
            },
            "type": "carpet"
           }
          ],
          "choropleth": [
           {
            "colorbar": {
             "outlinewidth": 0,
             "ticks": ""
            },
            "type": "choropleth"
           }
          ],
          "contour": [
           {
            "colorbar": {
             "outlinewidth": 0,
             "ticks": ""
            },
            "colorscale": [
             [
              0,
              "#0d0887"
             ],
             [
              0.1111111111111111,
              "#46039f"
             ],
             [
              0.2222222222222222,
              "#7201a8"
             ],
             [
              0.3333333333333333,
              "#9c179e"
             ],
             [
              0.4444444444444444,
              "#bd3786"
             ],
             [
              0.5555555555555556,
              "#d8576b"
             ],
             [
              0.6666666666666666,
              "#ed7953"
             ],
             [
              0.7777777777777778,
              "#fb9f3a"
             ],
             [
              0.8888888888888888,
              "#fdca26"
             ],
             [
              1,
              "#f0f921"
             ]
            ],
            "type": "contour"
           }
          ],
          "contourcarpet": [
           {
            "colorbar": {
             "outlinewidth": 0,
             "ticks": ""
            },
            "type": "contourcarpet"
           }
          ],
          "heatmap": [
           {
            "colorbar": {
             "outlinewidth": 0,
             "ticks": ""
            },
            "colorscale": [
             [
              0,
              "#0d0887"
             ],
             [
              0.1111111111111111,
              "#46039f"
             ],
             [
              0.2222222222222222,
              "#7201a8"
             ],
             [
              0.3333333333333333,
              "#9c179e"
             ],
             [
              0.4444444444444444,
              "#bd3786"
             ],
             [
              0.5555555555555556,
              "#d8576b"
             ],
             [
              0.6666666666666666,
              "#ed7953"
             ],
             [
              0.7777777777777778,
              "#fb9f3a"
             ],
             [
              0.8888888888888888,
              "#fdca26"
             ],
             [
              1,
              "#f0f921"
             ]
            ],
            "type": "heatmap"
           }
          ],
          "heatmapgl": [
           {
            "colorbar": {
             "outlinewidth": 0,
             "ticks": ""
            },
            "colorscale": [
             [
              0,
              "#0d0887"
             ],
             [
              0.1111111111111111,
              "#46039f"
             ],
             [
              0.2222222222222222,
              "#7201a8"
             ],
             [
              0.3333333333333333,
              "#9c179e"
             ],
             [
              0.4444444444444444,
              "#bd3786"
             ],
             [
              0.5555555555555556,
              "#d8576b"
             ],
             [
              0.6666666666666666,
              "#ed7953"
             ],
             [
              0.7777777777777778,
              "#fb9f3a"
             ],
             [
              0.8888888888888888,
              "#fdca26"
             ],
             [
              1,
              "#f0f921"
             ]
            ],
            "type": "heatmapgl"
           }
          ],
          "histogram": [
           {
            "marker": {
             "pattern": {
              "fillmode": "overlay",
              "size": 10,
              "solidity": 0.2
             }
            },
            "type": "histogram"
           }
          ],
          "histogram2d": [
           {
            "colorbar": {
             "outlinewidth": 0,
             "ticks": ""
            },
            "colorscale": [
             [
              0,
              "#0d0887"
             ],
             [
              0.1111111111111111,
              "#46039f"
             ],
             [
              0.2222222222222222,
              "#7201a8"
             ],
             [
              0.3333333333333333,
              "#9c179e"
             ],
             [
              0.4444444444444444,
              "#bd3786"
             ],
             [
              0.5555555555555556,
              "#d8576b"
             ],
             [
              0.6666666666666666,
              "#ed7953"
             ],
             [
              0.7777777777777778,
              "#fb9f3a"
             ],
             [
              0.8888888888888888,
              "#fdca26"
             ],
             [
              1,
              "#f0f921"
             ]
            ],
            "type": "histogram2d"
           }
          ],
          "histogram2dcontour": [
           {
            "colorbar": {
             "outlinewidth": 0,
             "ticks": ""
            },
            "colorscale": [
             [
              0,
              "#0d0887"
             ],
             [
              0.1111111111111111,
              "#46039f"
             ],
             [
              0.2222222222222222,
              "#7201a8"
             ],
             [
              0.3333333333333333,
              "#9c179e"
             ],
             [
              0.4444444444444444,
              "#bd3786"
             ],
             [
              0.5555555555555556,
              "#d8576b"
             ],
             [
              0.6666666666666666,
              "#ed7953"
             ],
             [
              0.7777777777777778,
              "#fb9f3a"
             ],
             [
              0.8888888888888888,
              "#fdca26"
             ],
             [
              1,
              "#f0f921"
             ]
            ],
            "type": "histogram2dcontour"
           }
          ],
          "mesh3d": [
           {
            "colorbar": {
             "outlinewidth": 0,
             "ticks": ""
            },
            "type": "mesh3d"
           }
          ],
          "parcoords": [
           {
            "line": {
             "colorbar": {
              "outlinewidth": 0,
              "ticks": ""
             }
            },
            "type": "parcoords"
           }
          ],
          "pie": [
           {
            "automargin": true,
            "type": "pie"
           }
          ],
          "scatter": [
           {
            "fillpattern": {
             "fillmode": "overlay",
             "size": 10,
             "solidity": 0.2
            },
            "type": "scatter"
           }
          ],
          "scatter3d": [
           {
            "line": {
             "colorbar": {
              "outlinewidth": 0,
              "ticks": ""
             }
            },
            "marker": {
             "colorbar": {
              "outlinewidth": 0,
              "ticks": ""
             }
            },
            "type": "scatter3d"
           }
          ],
          "scattercarpet": [
           {
            "marker": {
             "colorbar": {
              "outlinewidth": 0,
              "ticks": ""
             }
            },
            "type": "scattercarpet"
           }
          ],
          "scattergeo": [
           {
            "marker": {
             "colorbar": {
              "outlinewidth": 0,
              "ticks": ""
             }
            },
            "type": "scattergeo"
           }
          ],
          "scattergl": [
           {
            "marker": {
             "colorbar": {
              "outlinewidth": 0,
              "ticks": ""
             }
            },
            "type": "scattergl"
           }
          ],
          "scattermapbox": [
           {
            "marker": {
             "colorbar": {
              "outlinewidth": 0,
              "ticks": ""
             }
            },
            "type": "scattermapbox"
           }
          ],
          "scatterpolar": [
           {
            "marker": {
             "colorbar": {
              "outlinewidth": 0,
              "ticks": ""
             }
            },
            "type": "scatterpolar"
           }
          ],
          "scatterpolargl": [
           {
            "marker": {
             "colorbar": {
              "outlinewidth": 0,
              "ticks": ""
             }
            },
            "type": "scatterpolargl"
           }
          ],
          "scatterternary": [
           {
            "marker": {
             "colorbar": {
              "outlinewidth": 0,
              "ticks": ""
             }
            },
            "type": "scatterternary"
           }
          ],
          "surface": [
           {
            "colorbar": {
             "outlinewidth": 0,
             "ticks": ""
            },
            "colorscale": [
             [
              0,
              "#0d0887"
             ],
             [
              0.1111111111111111,
              "#46039f"
             ],
             [
              0.2222222222222222,
              "#7201a8"
             ],
             [
              0.3333333333333333,
              "#9c179e"
             ],
             [
              0.4444444444444444,
              "#bd3786"
             ],
             [
              0.5555555555555556,
              "#d8576b"
             ],
             [
              0.6666666666666666,
              "#ed7953"
             ],
             [
              0.7777777777777778,
              "#fb9f3a"
             ],
             [
              0.8888888888888888,
              "#fdca26"
             ],
             [
              1,
              "#f0f921"
             ]
            ],
            "type": "surface"
           }
          ],
          "table": [
           {
            "cells": {
             "fill": {
              "color": "#EBF0F8"
             },
             "line": {
              "color": "white"
             }
            },
            "header": {
             "fill": {
              "color": "#C8D4E3"
             },
             "line": {
              "color": "white"
             }
            },
            "type": "table"
           }
          ]
         },
         "layout": {
          "annotationdefaults": {
           "arrowcolor": "#2a3f5f",
           "arrowhead": 0,
           "arrowwidth": 1
          },
          "autotypenumbers": "strict",
          "coloraxis": {
           "colorbar": {
            "outlinewidth": 0,
            "ticks": ""
           }
          },
          "colorscale": {
           "diverging": [
            [
             0,
             "#8e0152"
            ],
            [
             0.1,
             "#c51b7d"
            ],
            [
             0.2,
             "#de77ae"
            ],
            [
             0.3,
             "#f1b6da"
            ],
            [
             0.4,
             "#fde0ef"
            ],
            [
             0.5,
             "#f7f7f7"
            ],
            [
             0.6,
             "#e6f5d0"
            ],
            [
             0.7,
             "#b8e186"
            ],
            [
             0.8,
             "#7fbc41"
            ],
            [
             0.9,
             "#4d9221"
            ],
            [
             1,
             "#276419"
            ]
           ],
           "sequential": [
            [
             0,
             "#0d0887"
            ],
            [
             0.1111111111111111,
             "#46039f"
            ],
            [
             0.2222222222222222,
             "#7201a8"
            ],
            [
             0.3333333333333333,
             "#9c179e"
            ],
            [
             0.4444444444444444,
             "#bd3786"
            ],
            [
             0.5555555555555556,
             "#d8576b"
            ],
            [
             0.6666666666666666,
             "#ed7953"
            ],
            [
             0.7777777777777778,
             "#fb9f3a"
            ],
            [
             0.8888888888888888,
             "#fdca26"
            ],
            [
             1,
             "#f0f921"
            ]
           ],
           "sequentialminus": [
            [
             0,
             "#0d0887"
            ],
            [
             0.1111111111111111,
             "#46039f"
            ],
            [
             0.2222222222222222,
             "#7201a8"
            ],
            [
             0.3333333333333333,
             "#9c179e"
            ],
            [
             0.4444444444444444,
             "#bd3786"
            ],
            [
             0.5555555555555556,
             "#d8576b"
            ],
            [
             0.6666666666666666,
             "#ed7953"
            ],
            [
             0.7777777777777778,
             "#fb9f3a"
            ],
            [
             0.8888888888888888,
             "#fdca26"
            ],
            [
             1,
             "#f0f921"
            ]
           ]
          },
          "colorway": [
           "#636efa",
           "#EF553B",
           "#00cc96",
           "#ab63fa",
           "#FFA15A",
           "#19d3f3",
           "#FF6692",
           "#B6E880",
           "#FF97FF",
           "#FECB52"
          ],
          "font": {
           "color": "#2a3f5f"
          },
          "geo": {
           "bgcolor": "white",
           "lakecolor": "white",
           "landcolor": "#E5ECF6",
           "showlakes": true,
           "showland": true,
           "subunitcolor": "white"
          },
          "hoverlabel": {
           "align": "left"
          },
          "hovermode": "closest",
          "mapbox": {
           "style": "light"
          },
          "paper_bgcolor": "white",
          "plot_bgcolor": "#E5ECF6",
          "polar": {
           "angularaxis": {
            "gridcolor": "white",
            "linecolor": "white",
            "ticks": ""
           },
           "bgcolor": "#E5ECF6",
           "radialaxis": {
            "gridcolor": "white",
            "linecolor": "white",
            "ticks": ""
           }
          },
          "scene": {
           "xaxis": {
            "backgroundcolor": "#E5ECF6",
            "gridcolor": "white",
            "gridwidth": 2,
            "linecolor": "white",
            "showbackground": true,
            "ticks": "",
            "zerolinecolor": "white"
           },
           "yaxis": {
            "backgroundcolor": "#E5ECF6",
            "gridcolor": "white",
            "gridwidth": 2,
            "linecolor": "white",
            "showbackground": true,
            "ticks": "",
            "zerolinecolor": "white"
           },
           "zaxis": {
            "backgroundcolor": "#E5ECF6",
            "gridcolor": "white",
            "gridwidth": 2,
            "linecolor": "white",
            "showbackground": true,
            "ticks": "",
            "zerolinecolor": "white"
           }
          },
          "shapedefaults": {
           "line": {
            "color": "#2a3f5f"
           }
          },
          "ternary": {
           "aaxis": {
            "gridcolor": "white",
            "linecolor": "white",
            "ticks": ""
           },
           "baxis": {
            "gridcolor": "white",
            "linecolor": "white",
            "ticks": ""
           },
           "bgcolor": "#E5ECF6",
           "caxis": {
            "gridcolor": "white",
            "linecolor": "white",
            "ticks": ""
           }
          },
          "title": {
           "x": 0.05
          },
          "xaxis": {
           "automargin": true,
           "gridcolor": "white",
           "linecolor": "white",
           "ticks": "",
           "title": {
            "standoff": 15
           },
           "zerolinecolor": "white",
           "zerolinewidth": 2
          },
          "yaxis": {
           "automargin": true,
           "gridcolor": "white",
           "linecolor": "white",
           "ticks": "",
           "title": {
            "standoff": 15
           },
           "zerolinecolor": "white",
           "zerolinewidth": 2
          }
         }
        },
        "title": {
         "text": "Linear Regression Model for Topic 1"
        },
        "xaxis": {
         "tickfont": {
          "size": 20
         },
         "title": {
          "text": "Date"
         }
        },
        "yaxis": {
         "tickfont": {
          "size": 20
         },
         "title": {
          "font": {
           "size": 20
          },
          "text": "Tweet Count"
         }
        }
       }
      }
     },
     "metadata": {},
     "output_type": "display_data"
    },
    {
     "name": "stdout",
     "output_type": "stream",
     "text": [
      "Model Evaluation\n",
      "\n",
      "Linear Regression: RMSE=4.76, R2=0.14\n",
      "P(x1): 0.11146031295466753\n",
      "There is no significant relationship between the predictor and the response\n",
      "\n"
     ]
    },
    {
     "data": {
      "application/vnd.plotly.v1+json": {
       "config": {
        "plotlyServerURL": "https://plot.ly"
       },
       "data": [
        {
         "marker": {
          "color": "blue",
          "opacity": 0.3
         },
         "mode": "markers",
         "name": "Actual",
         "type": "scatter",
         "x": [
          "22-01",
          "22-04",
          "19-10",
          "21-10",
          "22-10",
          "21-01",
          "22-07",
          "17-04",
          "17-01",
          "18-07",
          "18-04",
          "17-10",
          "18-10",
          "18-01",
          "20-07",
          "20-10",
          "21-07",
          "16-04",
          "23-01"
         ],
         "y": [
          12,
          13,
          2,
          19,
          10,
          4,
          13,
          4,
          2,
          6,
          5,
          4,
          2,
          14,
          3,
          4,
          2,
          3,
          1
         ]
        },
        {
         "line": {
          "color": "#656ffa",
          "dash": "dash"
         },
         "mode": "lines",
         "name": "LR",
         "type": "scatter",
         "x": [
          "22-01",
          "22-04",
          "19-10",
          "21-10",
          "22-10",
          "21-01",
          "22-07",
          "17-04",
          "17-01",
          "18-07",
          "18-04",
          "17-10",
          "18-10",
          "18-01",
          "20-07",
          "20-10",
          "21-07",
          "16-04",
          "23-01"
         ],
         "y": [
          8.327537983697226,
          8.552734399987784,
          6.268241865840189,
          8.097337202600201,
          9.010633779778601,
          7.414241406518826,
          8.780432998681576,
          3.983749331692586,
          3.7585529154020207,
          5.12474450756477,
          4.897045908870979,
          4.441648711483396,
          5.3549452886617885,
          4.671849492580414,
          6.95383984432479,
          7.184040625421808,
          7.867136421503183,
          3.0704527545141858,
          9.24083456087562
         ]
        }
       ],
       "layout": {
        "height": 600,
        "showlegend": true,
        "template": {
         "data": {
          "bar": [
           {
            "error_x": {
             "color": "#2a3f5f"
            },
            "error_y": {
             "color": "#2a3f5f"
            },
            "marker": {
             "line": {
              "color": "#E5ECF6",
              "width": 0.5
             },
             "pattern": {
              "fillmode": "overlay",
              "size": 10,
              "solidity": 0.2
             }
            },
            "type": "bar"
           }
          ],
          "barpolar": [
           {
            "marker": {
             "line": {
              "color": "#E5ECF6",
              "width": 0.5
             },
             "pattern": {
              "fillmode": "overlay",
              "size": 10,
              "solidity": 0.2
             }
            },
            "type": "barpolar"
           }
          ],
          "carpet": [
           {
            "aaxis": {
             "endlinecolor": "#2a3f5f",
             "gridcolor": "white",
             "linecolor": "white",
             "minorgridcolor": "white",
             "startlinecolor": "#2a3f5f"
            },
            "baxis": {
             "endlinecolor": "#2a3f5f",
             "gridcolor": "white",
             "linecolor": "white",
             "minorgridcolor": "white",
             "startlinecolor": "#2a3f5f"
            },
            "type": "carpet"
           }
          ],
          "choropleth": [
           {
            "colorbar": {
             "outlinewidth": 0,
             "ticks": ""
            },
            "type": "choropleth"
           }
          ],
          "contour": [
           {
            "colorbar": {
             "outlinewidth": 0,
             "ticks": ""
            },
            "colorscale": [
             [
              0,
              "#0d0887"
             ],
             [
              0.1111111111111111,
              "#46039f"
             ],
             [
              0.2222222222222222,
              "#7201a8"
             ],
             [
              0.3333333333333333,
              "#9c179e"
             ],
             [
              0.4444444444444444,
              "#bd3786"
             ],
             [
              0.5555555555555556,
              "#d8576b"
             ],
             [
              0.6666666666666666,
              "#ed7953"
             ],
             [
              0.7777777777777778,
              "#fb9f3a"
             ],
             [
              0.8888888888888888,
              "#fdca26"
             ],
             [
              1,
              "#f0f921"
             ]
            ],
            "type": "contour"
           }
          ],
          "contourcarpet": [
           {
            "colorbar": {
             "outlinewidth": 0,
             "ticks": ""
            },
            "type": "contourcarpet"
           }
          ],
          "heatmap": [
           {
            "colorbar": {
             "outlinewidth": 0,
             "ticks": ""
            },
            "colorscale": [
             [
              0,
              "#0d0887"
             ],
             [
              0.1111111111111111,
              "#46039f"
             ],
             [
              0.2222222222222222,
              "#7201a8"
             ],
             [
              0.3333333333333333,
              "#9c179e"
             ],
             [
              0.4444444444444444,
              "#bd3786"
             ],
             [
              0.5555555555555556,
              "#d8576b"
             ],
             [
              0.6666666666666666,
              "#ed7953"
             ],
             [
              0.7777777777777778,
              "#fb9f3a"
             ],
             [
              0.8888888888888888,
              "#fdca26"
             ],
             [
              1,
              "#f0f921"
             ]
            ],
            "type": "heatmap"
           }
          ],
          "heatmapgl": [
           {
            "colorbar": {
             "outlinewidth": 0,
             "ticks": ""
            },
            "colorscale": [
             [
              0,
              "#0d0887"
             ],
             [
              0.1111111111111111,
              "#46039f"
             ],
             [
              0.2222222222222222,
              "#7201a8"
             ],
             [
              0.3333333333333333,
              "#9c179e"
             ],
             [
              0.4444444444444444,
              "#bd3786"
             ],
             [
              0.5555555555555556,
              "#d8576b"
             ],
             [
              0.6666666666666666,
              "#ed7953"
             ],
             [
              0.7777777777777778,
              "#fb9f3a"
             ],
             [
              0.8888888888888888,
              "#fdca26"
             ],
             [
              1,
              "#f0f921"
             ]
            ],
            "type": "heatmapgl"
           }
          ],
          "histogram": [
           {
            "marker": {
             "pattern": {
              "fillmode": "overlay",
              "size": 10,
              "solidity": 0.2
             }
            },
            "type": "histogram"
           }
          ],
          "histogram2d": [
           {
            "colorbar": {
             "outlinewidth": 0,
             "ticks": ""
            },
            "colorscale": [
             [
              0,
              "#0d0887"
             ],
             [
              0.1111111111111111,
              "#46039f"
             ],
             [
              0.2222222222222222,
              "#7201a8"
             ],
             [
              0.3333333333333333,
              "#9c179e"
             ],
             [
              0.4444444444444444,
              "#bd3786"
             ],
             [
              0.5555555555555556,
              "#d8576b"
             ],
             [
              0.6666666666666666,
              "#ed7953"
             ],
             [
              0.7777777777777778,
              "#fb9f3a"
             ],
             [
              0.8888888888888888,
              "#fdca26"
             ],
             [
              1,
              "#f0f921"
             ]
            ],
            "type": "histogram2d"
           }
          ],
          "histogram2dcontour": [
           {
            "colorbar": {
             "outlinewidth": 0,
             "ticks": ""
            },
            "colorscale": [
             [
              0,
              "#0d0887"
             ],
             [
              0.1111111111111111,
              "#46039f"
             ],
             [
              0.2222222222222222,
              "#7201a8"
             ],
             [
              0.3333333333333333,
              "#9c179e"
             ],
             [
              0.4444444444444444,
              "#bd3786"
             ],
             [
              0.5555555555555556,
              "#d8576b"
             ],
             [
              0.6666666666666666,
              "#ed7953"
             ],
             [
              0.7777777777777778,
              "#fb9f3a"
             ],
             [
              0.8888888888888888,
              "#fdca26"
             ],
             [
              1,
              "#f0f921"
             ]
            ],
            "type": "histogram2dcontour"
           }
          ],
          "mesh3d": [
           {
            "colorbar": {
             "outlinewidth": 0,
             "ticks": ""
            },
            "type": "mesh3d"
           }
          ],
          "parcoords": [
           {
            "line": {
             "colorbar": {
              "outlinewidth": 0,
              "ticks": ""
             }
            },
            "type": "parcoords"
           }
          ],
          "pie": [
           {
            "automargin": true,
            "type": "pie"
           }
          ],
          "scatter": [
           {
            "fillpattern": {
             "fillmode": "overlay",
             "size": 10,
             "solidity": 0.2
            },
            "type": "scatter"
           }
          ],
          "scatter3d": [
           {
            "line": {
             "colorbar": {
              "outlinewidth": 0,
              "ticks": ""
             }
            },
            "marker": {
             "colorbar": {
              "outlinewidth": 0,
              "ticks": ""
             }
            },
            "type": "scatter3d"
           }
          ],
          "scattercarpet": [
           {
            "marker": {
             "colorbar": {
              "outlinewidth": 0,
              "ticks": ""
             }
            },
            "type": "scattercarpet"
           }
          ],
          "scattergeo": [
           {
            "marker": {
             "colorbar": {
              "outlinewidth": 0,
              "ticks": ""
             }
            },
            "type": "scattergeo"
           }
          ],
          "scattergl": [
           {
            "marker": {
             "colorbar": {
              "outlinewidth": 0,
              "ticks": ""
             }
            },
            "type": "scattergl"
           }
          ],
          "scattermapbox": [
           {
            "marker": {
             "colorbar": {
              "outlinewidth": 0,
              "ticks": ""
             }
            },
            "type": "scattermapbox"
           }
          ],
          "scatterpolar": [
           {
            "marker": {
             "colorbar": {
              "outlinewidth": 0,
              "ticks": ""
             }
            },
            "type": "scatterpolar"
           }
          ],
          "scatterpolargl": [
           {
            "marker": {
             "colorbar": {
              "outlinewidth": 0,
              "ticks": ""
             }
            },
            "type": "scatterpolargl"
           }
          ],
          "scatterternary": [
           {
            "marker": {
             "colorbar": {
              "outlinewidth": 0,
              "ticks": ""
             }
            },
            "type": "scatterternary"
           }
          ],
          "surface": [
           {
            "colorbar": {
             "outlinewidth": 0,
             "ticks": ""
            },
            "colorscale": [
             [
              0,
              "#0d0887"
             ],
             [
              0.1111111111111111,
              "#46039f"
             ],
             [
              0.2222222222222222,
              "#7201a8"
             ],
             [
              0.3333333333333333,
              "#9c179e"
             ],
             [
              0.4444444444444444,
              "#bd3786"
             ],
             [
              0.5555555555555556,
              "#d8576b"
             ],
             [
              0.6666666666666666,
              "#ed7953"
             ],
             [
              0.7777777777777778,
              "#fb9f3a"
             ],
             [
              0.8888888888888888,
              "#fdca26"
             ],
             [
              1,
              "#f0f921"
             ]
            ],
            "type": "surface"
           }
          ],
          "table": [
           {
            "cells": {
             "fill": {
              "color": "#EBF0F8"
             },
             "line": {
              "color": "white"
             }
            },
            "header": {
             "fill": {
              "color": "#C8D4E3"
             },
             "line": {
              "color": "white"
             }
            },
            "type": "table"
           }
          ]
         },
         "layout": {
          "annotationdefaults": {
           "arrowcolor": "#2a3f5f",
           "arrowhead": 0,
           "arrowwidth": 1
          },
          "autotypenumbers": "strict",
          "coloraxis": {
           "colorbar": {
            "outlinewidth": 0,
            "ticks": ""
           }
          },
          "colorscale": {
           "diverging": [
            [
             0,
             "#8e0152"
            ],
            [
             0.1,
             "#c51b7d"
            ],
            [
             0.2,
             "#de77ae"
            ],
            [
             0.3,
             "#f1b6da"
            ],
            [
             0.4,
             "#fde0ef"
            ],
            [
             0.5,
             "#f7f7f7"
            ],
            [
             0.6,
             "#e6f5d0"
            ],
            [
             0.7,
             "#b8e186"
            ],
            [
             0.8,
             "#7fbc41"
            ],
            [
             0.9,
             "#4d9221"
            ],
            [
             1,
             "#276419"
            ]
           ],
           "sequential": [
            [
             0,
             "#0d0887"
            ],
            [
             0.1111111111111111,
             "#46039f"
            ],
            [
             0.2222222222222222,
             "#7201a8"
            ],
            [
             0.3333333333333333,
             "#9c179e"
            ],
            [
             0.4444444444444444,
             "#bd3786"
            ],
            [
             0.5555555555555556,
             "#d8576b"
            ],
            [
             0.6666666666666666,
             "#ed7953"
            ],
            [
             0.7777777777777778,
             "#fb9f3a"
            ],
            [
             0.8888888888888888,
             "#fdca26"
            ],
            [
             1,
             "#f0f921"
            ]
           ],
           "sequentialminus": [
            [
             0,
             "#0d0887"
            ],
            [
             0.1111111111111111,
             "#46039f"
            ],
            [
             0.2222222222222222,
             "#7201a8"
            ],
            [
             0.3333333333333333,
             "#9c179e"
            ],
            [
             0.4444444444444444,
             "#bd3786"
            ],
            [
             0.5555555555555556,
             "#d8576b"
            ],
            [
             0.6666666666666666,
             "#ed7953"
            ],
            [
             0.7777777777777778,
             "#fb9f3a"
            ],
            [
             0.8888888888888888,
             "#fdca26"
            ],
            [
             1,
             "#f0f921"
            ]
           ]
          },
          "colorway": [
           "#636efa",
           "#EF553B",
           "#00cc96",
           "#ab63fa",
           "#FFA15A",
           "#19d3f3",
           "#FF6692",
           "#B6E880",
           "#FF97FF",
           "#FECB52"
          ],
          "font": {
           "color": "#2a3f5f"
          },
          "geo": {
           "bgcolor": "white",
           "lakecolor": "white",
           "landcolor": "#E5ECF6",
           "showlakes": true,
           "showland": true,
           "subunitcolor": "white"
          },
          "hoverlabel": {
           "align": "left"
          },
          "hovermode": "closest",
          "mapbox": {
           "style": "light"
          },
          "paper_bgcolor": "white",
          "plot_bgcolor": "#E5ECF6",
          "polar": {
           "angularaxis": {
            "gridcolor": "white",
            "linecolor": "white",
            "ticks": ""
           },
           "bgcolor": "#E5ECF6",
           "radialaxis": {
            "gridcolor": "white",
            "linecolor": "white",
            "ticks": ""
           }
          },
          "scene": {
           "xaxis": {
            "backgroundcolor": "#E5ECF6",
            "gridcolor": "white",
            "gridwidth": 2,
            "linecolor": "white",
            "showbackground": true,
            "ticks": "",
            "zerolinecolor": "white"
           },
           "yaxis": {
            "backgroundcolor": "#E5ECF6",
            "gridcolor": "white",
            "gridwidth": 2,
            "linecolor": "white",
            "showbackground": true,
            "ticks": "",
            "zerolinecolor": "white"
           },
           "zaxis": {
            "backgroundcolor": "#E5ECF6",
            "gridcolor": "white",
            "gridwidth": 2,
            "linecolor": "white",
            "showbackground": true,
            "ticks": "",
            "zerolinecolor": "white"
           }
          },
          "shapedefaults": {
           "line": {
            "color": "#2a3f5f"
           }
          },
          "ternary": {
           "aaxis": {
            "gridcolor": "white",
            "linecolor": "white",
            "ticks": ""
           },
           "baxis": {
            "gridcolor": "white",
            "linecolor": "white",
            "ticks": ""
           },
           "bgcolor": "#E5ECF6",
           "caxis": {
            "gridcolor": "white",
            "linecolor": "white",
            "ticks": ""
           }
          },
          "title": {
           "x": 0.05
          },
          "xaxis": {
           "automargin": true,
           "gridcolor": "white",
           "linecolor": "white",
           "ticks": "",
           "title": {
            "standoff": 15
           },
           "zerolinecolor": "white",
           "zerolinewidth": 2
          },
          "yaxis": {
           "automargin": true,
           "gridcolor": "white",
           "linecolor": "white",
           "ticks": "",
           "title": {
            "standoff": 15
           },
           "zerolinecolor": "white",
           "zerolinewidth": 2
          }
         }
        },
        "title": {
         "text": "Linear Regression Model for Topic 2"
        },
        "xaxis": {
         "tickfont": {
          "size": 20
         },
         "title": {
          "text": "Date"
         }
        },
        "yaxis": {
         "tickfont": {
          "size": 20
         },
         "title": {
          "font": {
           "size": 20
          },
          "text": "Tweet Count"
         }
        }
       }
      }
     },
     "metadata": {},
     "output_type": "display_data"
    },
    {
     "name": "stdout",
     "output_type": "stream",
     "text": [
      "Model Evaluation\n",
      "\n",
      "Linear Regression: RMSE=4.46, R2=0.20\n",
      "P(x1): 0.03372456680991802\n",
      "There is no significant relationship between the predictor and the response\n",
      "\n"
     ]
    },
    {
     "data": {
      "application/vnd.plotly.v1+json": {
       "config": {
        "plotlyServerURL": "https://plot.ly"
       },
       "data": [
        {
         "marker": {
          "color": "blue",
          "opacity": 0.3
         },
         "mode": "markers",
         "name": "Actual",
         "type": "scatter",
         "x": [
          "22-10",
          "19-10",
          "20-10",
          "22-07",
          "22-01",
          "20-07",
          "21-10",
          "22-04",
          "17-01",
          "21-04",
          "20-01",
          "18-10",
          "18-04",
          "17-04",
          "21-07",
          "23-01",
          "20-04",
          "18-01",
          "18-07",
          "21-01",
          "16-04",
          "16-10",
          "17-10"
         ],
         "y": [
          7,
          2,
          4,
          8,
          19,
          5,
          14,
          16,
          3,
          1,
          2,
          2,
          8,
          1,
          2,
          3,
          1,
          7,
          2,
          1,
          2,
          2,
          2
         ]
        },
        {
         "line": {
          "color": "#00cd96",
          "dash": "dash"
         },
         "mode": "lines",
         "name": "LR",
         "type": "scatter",
         "x": [
          "22-10",
          "19-10",
          "20-10",
          "22-07",
          "22-01",
          "20-07",
          "21-10",
          "22-04",
          "17-01",
          "21-04",
          "20-01",
          "18-10",
          "18-04",
          "17-04",
          "21-07",
          "23-01",
          "20-04",
          "18-01",
          "18-07",
          "21-01",
          "16-04",
          "16-10",
          "17-10"
         ],
         "y": [
          8.010539894983154,
          4.792074607661448,
          5.866854074048078,
          7.740376750426954,
          7.208860129071816,
          5.596690929491871,
          6.938696984515616,
          7.473150161789839,
          1.8467090208150267,
          6.401307251322301,
          5.062237752217648,
          3.72023169719391,
          3.1828419640005947,
          2.1109990535330496,
          6.668533839959416,
          8.280703039539354,
          5.329464340854763,
          2.918551931282572,
          3.4500685526377026,
          6.137017218604278,
          1.0391561430655116,
          1.5765458762588267,
          2.6483887867263647
         ]
        }
       ],
       "layout": {
        "height": 600,
        "showlegend": true,
        "template": {
         "data": {
          "bar": [
           {
            "error_x": {
             "color": "#2a3f5f"
            },
            "error_y": {
             "color": "#2a3f5f"
            },
            "marker": {
             "line": {
              "color": "#E5ECF6",
              "width": 0.5
             },
             "pattern": {
              "fillmode": "overlay",
              "size": 10,
              "solidity": 0.2
             }
            },
            "type": "bar"
           }
          ],
          "barpolar": [
           {
            "marker": {
             "line": {
              "color": "#E5ECF6",
              "width": 0.5
             },
             "pattern": {
              "fillmode": "overlay",
              "size": 10,
              "solidity": 0.2
             }
            },
            "type": "barpolar"
           }
          ],
          "carpet": [
           {
            "aaxis": {
             "endlinecolor": "#2a3f5f",
             "gridcolor": "white",
             "linecolor": "white",
             "minorgridcolor": "white",
             "startlinecolor": "#2a3f5f"
            },
            "baxis": {
             "endlinecolor": "#2a3f5f",
             "gridcolor": "white",
             "linecolor": "white",
             "minorgridcolor": "white",
             "startlinecolor": "#2a3f5f"
            },
            "type": "carpet"
           }
          ],
          "choropleth": [
           {
            "colorbar": {
             "outlinewidth": 0,
             "ticks": ""
            },
            "type": "choropleth"
           }
          ],
          "contour": [
           {
            "colorbar": {
             "outlinewidth": 0,
             "ticks": ""
            },
            "colorscale": [
             [
              0,
              "#0d0887"
             ],
             [
              0.1111111111111111,
              "#46039f"
             ],
             [
              0.2222222222222222,
              "#7201a8"
             ],
             [
              0.3333333333333333,
              "#9c179e"
             ],
             [
              0.4444444444444444,
              "#bd3786"
             ],
             [
              0.5555555555555556,
              "#d8576b"
             ],
             [
              0.6666666666666666,
              "#ed7953"
             ],
             [
              0.7777777777777778,
              "#fb9f3a"
             ],
             [
              0.8888888888888888,
              "#fdca26"
             ],
             [
              1,
              "#f0f921"
             ]
            ],
            "type": "contour"
           }
          ],
          "contourcarpet": [
           {
            "colorbar": {
             "outlinewidth": 0,
             "ticks": ""
            },
            "type": "contourcarpet"
           }
          ],
          "heatmap": [
           {
            "colorbar": {
             "outlinewidth": 0,
             "ticks": ""
            },
            "colorscale": [
             [
              0,
              "#0d0887"
             ],
             [
              0.1111111111111111,
              "#46039f"
             ],
             [
              0.2222222222222222,
              "#7201a8"
             ],
             [
              0.3333333333333333,
              "#9c179e"
             ],
             [
              0.4444444444444444,
              "#bd3786"
             ],
             [
              0.5555555555555556,
              "#d8576b"
             ],
             [
              0.6666666666666666,
              "#ed7953"
             ],
             [
              0.7777777777777778,
              "#fb9f3a"
             ],
             [
              0.8888888888888888,
              "#fdca26"
             ],
             [
              1,
              "#f0f921"
             ]
            ],
            "type": "heatmap"
           }
          ],
          "heatmapgl": [
           {
            "colorbar": {
             "outlinewidth": 0,
             "ticks": ""
            },
            "colorscale": [
             [
              0,
              "#0d0887"
             ],
             [
              0.1111111111111111,
              "#46039f"
             ],
             [
              0.2222222222222222,
              "#7201a8"
             ],
             [
              0.3333333333333333,
              "#9c179e"
             ],
             [
              0.4444444444444444,
              "#bd3786"
             ],
             [
              0.5555555555555556,
              "#d8576b"
             ],
             [
              0.6666666666666666,
              "#ed7953"
             ],
             [
              0.7777777777777778,
              "#fb9f3a"
             ],
             [
              0.8888888888888888,
              "#fdca26"
             ],
             [
              1,
              "#f0f921"
             ]
            ],
            "type": "heatmapgl"
           }
          ],
          "histogram": [
           {
            "marker": {
             "pattern": {
              "fillmode": "overlay",
              "size": 10,
              "solidity": 0.2
             }
            },
            "type": "histogram"
           }
          ],
          "histogram2d": [
           {
            "colorbar": {
             "outlinewidth": 0,
             "ticks": ""
            },
            "colorscale": [
             [
              0,
              "#0d0887"
             ],
             [
              0.1111111111111111,
              "#46039f"
             ],
             [
              0.2222222222222222,
              "#7201a8"
             ],
             [
              0.3333333333333333,
              "#9c179e"
             ],
             [
              0.4444444444444444,
              "#bd3786"
             ],
             [
              0.5555555555555556,
              "#d8576b"
             ],
             [
              0.6666666666666666,
              "#ed7953"
             ],
             [
              0.7777777777777778,
              "#fb9f3a"
             ],
             [
              0.8888888888888888,
              "#fdca26"
             ],
             [
              1,
              "#f0f921"
             ]
            ],
            "type": "histogram2d"
           }
          ],
          "histogram2dcontour": [
           {
            "colorbar": {
             "outlinewidth": 0,
             "ticks": ""
            },
            "colorscale": [
             [
              0,
              "#0d0887"
             ],
             [
              0.1111111111111111,
              "#46039f"
             ],
             [
              0.2222222222222222,
              "#7201a8"
             ],
             [
              0.3333333333333333,
              "#9c179e"
             ],
             [
              0.4444444444444444,
              "#bd3786"
             ],
             [
              0.5555555555555556,
              "#d8576b"
             ],
             [
              0.6666666666666666,
              "#ed7953"
             ],
             [
              0.7777777777777778,
              "#fb9f3a"
             ],
             [
              0.8888888888888888,
              "#fdca26"
             ],
             [
              1,
              "#f0f921"
             ]
            ],
            "type": "histogram2dcontour"
           }
          ],
          "mesh3d": [
           {
            "colorbar": {
             "outlinewidth": 0,
             "ticks": ""
            },
            "type": "mesh3d"
           }
          ],
          "parcoords": [
           {
            "line": {
             "colorbar": {
              "outlinewidth": 0,
              "ticks": ""
             }
            },
            "type": "parcoords"
           }
          ],
          "pie": [
           {
            "automargin": true,
            "type": "pie"
           }
          ],
          "scatter": [
           {
            "fillpattern": {
             "fillmode": "overlay",
             "size": 10,
             "solidity": 0.2
            },
            "type": "scatter"
           }
          ],
          "scatter3d": [
           {
            "line": {
             "colorbar": {
              "outlinewidth": 0,
              "ticks": ""
             }
            },
            "marker": {
             "colorbar": {
              "outlinewidth": 0,
              "ticks": ""
             }
            },
            "type": "scatter3d"
           }
          ],
          "scattercarpet": [
           {
            "marker": {
             "colorbar": {
              "outlinewidth": 0,
              "ticks": ""
             }
            },
            "type": "scattercarpet"
           }
          ],
          "scattergeo": [
           {
            "marker": {
             "colorbar": {
              "outlinewidth": 0,
              "ticks": ""
             }
            },
            "type": "scattergeo"
           }
          ],
          "scattergl": [
           {
            "marker": {
             "colorbar": {
              "outlinewidth": 0,
              "ticks": ""
             }
            },
            "type": "scattergl"
           }
          ],
          "scattermapbox": [
           {
            "marker": {
             "colorbar": {
              "outlinewidth": 0,
              "ticks": ""
             }
            },
            "type": "scattermapbox"
           }
          ],
          "scatterpolar": [
           {
            "marker": {
             "colorbar": {
              "outlinewidth": 0,
              "ticks": ""
             }
            },
            "type": "scatterpolar"
           }
          ],
          "scatterpolargl": [
           {
            "marker": {
             "colorbar": {
              "outlinewidth": 0,
              "ticks": ""
             }
            },
            "type": "scatterpolargl"
           }
          ],
          "scatterternary": [
           {
            "marker": {
             "colorbar": {
              "outlinewidth": 0,
              "ticks": ""
             }
            },
            "type": "scatterternary"
           }
          ],
          "surface": [
           {
            "colorbar": {
             "outlinewidth": 0,
             "ticks": ""
            },
            "colorscale": [
             [
              0,
              "#0d0887"
             ],
             [
              0.1111111111111111,
              "#46039f"
             ],
             [
              0.2222222222222222,
              "#7201a8"
             ],
             [
              0.3333333333333333,
              "#9c179e"
             ],
             [
              0.4444444444444444,
              "#bd3786"
             ],
             [
              0.5555555555555556,
              "#d8576b"
             ],
             [
              0.6666666666666666,
              "#ed7953"
             ],
             [
              0.7777777777777778,
              "#fb9f3a"
             ],
             [
              0.8888888888888888,
              "#fdca26"
             ],
             [
              1,
              "#f0f921"
             ]
            ],
            "type": "surface"
           }
          ],
          "table": [
           {
            "cells": {
             "fill": {
              "color": "#EBF0F8"
             },
             "line": {
              "color": "white"
             }
            },
            "header": {
             "fill": {
              "color": "#C8D4E3"
             },
             "line": {
              "color": "white"
             }
            },
            "type": "table"
           }
          ]
         },
         "layout": {
          "annotationdefaults": {
           "arrowcolor": "#2a3f5f",
           "arrowhead": 0,
           "arrowwidth": 1
          },
          "autotypenumbers": "strict",
          "coloraxis": {
           "colorbar": {
            "outlinewidth": 0,
            "ticks": ""
           }
          },
          "colorscale": {
           "diverging": [
            [
             0,
             "#8e0152"
            ],
            [
             0.1,
             "#c51b7d"
            ],
            [
             0.2,
             "#de77ae"
            ],
            [
             0.3,
             "#f1b6da"
            ],
            [
             0.4,
             "#fde0ef"
            ],
            [
             0.5,
             "#f7f7f7"
            ],
            [
             0.6,
             "#e6f5d0"
            ],
            [
             0.7,
             "#b8e186"
            ],
            [
             0.8,
             "#7fbc41"
            ],
            [
             0.9,
             "#4d9221"
            ],
            [
             1,
             "#276419"
            ]
           ],
           "sequential": [
            [
             0,
             "#0d0887"
            ],
            [
             0.1111111111111111,
             "#46039f"
            ],
            [
             0.2222222222222222,
             "#7201a8"
            ],
            [
             0.3333333333333333,
             "#9c179e"
            ],
            [
             0.4444444444444444,
             "#bd3786"
            ],
            [
             0.5555555555555556,
             "#d8576b"
            ],
            [
             0.6666666666666666,
             "#ed7953"
            ],
            [
             0.7777777777777778,
             "#fb9f3a"
            ],
            [
             0.8888888888888888,
             "#fdca26"
            ],
            [
             1,
             "#f0f921"
            ]
           ],
           "sequentialminus": [
            [
             0,
             "#0d0887"
            ],
            [
             0.1111111111111111,
             "#46039f"
            ],
            [
             0.2222222222222222,
             "#7201a8"
            ],
            [
             0.3333333333333333,
             "#9c179e"
            ],
            [
             0.4444444444444444,
             "#bd3786"
            ],
            [
             0.5555555555555556,
             "#d8576b"
            ],
            [
             0.6666666666666666,
             "#ed7953"
            ],
            [
             0.7777777777777778,
             "#fb9f3a"
            ],
            [
             0.8888888888888888,
             "#fdca26"
            ],
            [
             1,
             "#f0f921"
            ]
           ]
          },
          "colorway": [
           "#636efa",
           "#EF553B",
           "#00cc96",
           "#ab63fa",
           "#FFA15A",
           "#19d3f3",
           "#FF6692",
           "#B6E880",
           "#FF97FF",
           "#FECB52"
          ],
          "font": {
           "color": "#2a3f5f"
          },
          "geo": {
           "bgcolor": "white",
           "lakecolor": "white",
           "landcolor": "#E5ECF6",
           "showlakes": true,
           "showland": true,
           "subunitcolor": "white"
          },
          "hoverlabel": {
           "align": "left"
          },
          "hovermode": "closest",
          "mapbox": {
           "style": "light"
          },
          "paper_bgcolor": "white",
          "plot_bgcolor": "#E5ECF6",
          "polar": {
           "angularaxis": {
            "gridcolor": "white",
            "linecolor": "white",
            "ticks": ""
           },
           "bgcolor": "#E5ECF6",
           "radialaxis": {
            "gridcolor": "white",
            "linecolor": "white",
            "ticks": ""
           }
          },
          "scene": {
           "xaxis": {
            "backgroundcolor": "#E5ECF6",
            "gridcolor": "white",
            "gridwidth": 2,
            "linecolor": "white",
            "showbackground": true,
            "ticks": "",
            "zerolinecolor": "white"
           },
           "yaxis": {
            "backgroundcolor": "#E5ECF6",
            "gridcolor": "white",
            "gridwidth": 2,
            "linecolor": "white",
            "showbackground": true,
            "ticks": "",
            "zerolinecolor": "white"
           },
           "zaxis": {
            "backgroundcolor": "#E5ECF6",
            "gridcolor": "white",
            "gridwidth": 2,
            "linecolor": "white",
            "showbackground": true,
            "ticks": "",
            "zerolinecolor": "white"
           }
          },
          "shapedefaults": {
           "line": {
            "color": "#2a3f5f"
           }
          },
          "ternary": {
           "aaxis": {
            "gridcolor": "white",
            "linecolor": "white",
            "ticks": ""
           },
           "baxis": {
            "gridcolor": "white",
            "linecolor": "white",
            "ticks": ""
           },
           "bgcolor": "#E5ECF6",
           "caxis": {
            "gridcolor": "white",
            "linecolor": "white",
            "ticks": ""
           }
          },
          "title": {
           "x": 0.05
          },
          "xaxis": {
           "automargin": true,
           "gridcolor": "white",
           "linecolor": "white",
           "ticks": "",
           "title": {
            "standoff": 15
           },
           "zerolinecolor": "white",
           "zerolinewidth": 2
          },
          "yaxis": {
           "automargin": true,
           "gridcolor": "white",
           "linecolor": "white",
           "ticks": "",
           "title": {
            "standoff": 15
           },
           "zerolinecolor": "white",
           "zerolinewidth": 2
          }
         }
        },
        "title": {
         "text": "Linear Regression Model for Topic 3"
        },
        "xaxis": {
         "tickfont": {
          "size": 20
         },
         "title": {
          "text": "Date"
         }
        },
        "yaxis": {
         "tickfont": {
          "size": 20
         },
         "title": {
          "font": {
           "size": 20
          },
          "text": "Tweet Count"
         }
        }
       }
      }
     },
     "metadata": {},
     "output_type": "display_data"
    }
   ],
   "source": [
    "## Perform regression modeling\n",
    "\n",
    "colors = [\"#ee563b\", \"#656ffa\", \"#00cd96\"]\n",
    "\n",
    "for topic in range(1, 3 + 1):\n",
    "    topic_df = df_topics_lda[df_topics_lda[\"dominant_topic\"] == topic]\n",
    "\n",
    "    date_dict = {}\n",
    "    for index, row in topic_df.iterrows():\n",
    "        if row[\"date\"] in date_dict:\n",
    "            date_dict[row[\"date\"]] += 1\n",
    "        else:\n",
    "            date_dict[row[\"date\"]] = 1\n",
    "\n",
    "    date_df_dict = {\"date\": date_dict.keys(), \"count\": date_dict.values()}\n",
    "    date_df = pd.DataFrame.from_dict(date_df_dict)\n",
    "\n",
    "    # Convert datetime to int\n",
    "    x = date_df[\"date\"].astype(int) / 10**9  # Convert to seconds (UNIX epoch start)\n",
    "    x = x.values.reshape(-1, 1)\n",
    "\n",
    "    y = date_df[\"count\"]\n",
    "\n",
    "    # --------------------------------------------------------------\n",
    "    # Linear regression model\n",
    "    # --------------------------------------------------------------\n",
    "    # Stastical approach\n",
    "    x_lms = sm.add_constant(x)\n",
    "    linear_model_stat = sm.OLS(y, x_lms)\n",
    "    lms_results = linear_model_stat.fit()\n",
    "    p_values = lms_results.pvalues[1:]\n",
    "\n",
    "    # Machine learning approach (no p-values)\n",
    "    linear_model = LinearRegression()\n",
    "    linear_model.fit(x_lms, y)\n",
    "    y_linear_pred = linear_model.predict(x_lms)\n",
    "\n",
    "    # Calculate R2 and RMSE for linear regression model\n",
    "    linear_r2 = r2_score(y, y_linear_pred)\n",
    "    linear_rmse = np.sqrt(mean_squared_error(y, y_linear_pred))\n",
    "\n",
    "    print(\"Model Evaluation\")\n",
    "    print(\"\\nLinear Regression: RMSE=%.2f, R2=%.2f\" % (linear_rmse, linear_r2))\n",
    "    for i, p_value in enumerate(p_values.index):\n",
    "        print(f\"P({p_value}): {p_values[i]}\")\n",
    "\n",
    "    if any(p_values <= 0.03):\n",
    "        print(\n",
    "            \"There is a significant relationship between the predictor and the response\\n\"\n",
    "        )\n",
    "    else:\n",
    "        print(\n",
    "            \"There is no significant relationship between the predictor and the response\\n\"\n",
    "        )\n",
    "\n",
    "    # Plot the model\n",
    "    import plotly.graph_objects as go\n",
    "\n",
    "    xtt = date_df[\"date\"].dt.strftime(\"%y-%m\")\n",
    "    scatter_actual = go.Scatter(\n",
    "        x=xtt,\n",
    "        y=y,\n",
    "        mode=\"markers\",\n",
    "        name=\"Actual\",\n",
    "        marker=dict(color=\"blue\", opacity=0.3),\n",
    "    )\n",
    "\n",
    "    line_regression = go.Scatter(\n",
    "        x=xtt,\n",
    "        y=y_linear_pred,\n",
    "        mode=\"lines\",\n",
    "        name=\"LR\",\n",
    "        line=dict(color=colors[topic - 1], dash=\"dash\"),\n",
    "    )\n",
    "\n",
    "    data = [scatter_actual, line_regression]\n",
    "\n",
    "    layout = go.Layout(\n",
    "        xaxis=dict(title=\"Date\"),\n",
    "        yaxis=dict(title=\"Tweet Count\"),\n",
    "        title=f\"Linear Regression Model for Topic {topic}\",\n",
    "        showlegend=True,\n",
    "        height=600,\n",
    "    )\n",
    "\n",
    "    fig = go.Figure(data=data, layout=layout)\n",
    "    fig.update_xaxes(tickfont_size=20)\n",
    "    fig.update_yaxes(title={\"font\": {\"size\": 20}}, tickfont_size=20)\n",
    "    fig.show()"
   ]
  },
  {
   "attachments": {},
   "cell_type": "markdown",
   "metadata": {
    "id": "8wi3uwAbmZTQ"
   },
   "source": [
    "# Goodbye!"
   ]
  }
 ],
 "metadata": {
  "colab": {
   "provenance": [],
   "toc_visible": true
  },
  "kernelspec": {
   "display_name": "Python 3",
   "name": "python3"
  },
  "language_info": {
   "codemirror_mode": {
    "name": "ipython",
    "version": 3
   },
   "file_extension": ".py",
   "mimetype": "text/x-python",
   "name": "python",
   "nbconvert_exporter": "python",
   "pygments_lexer": "ipython3",
   "version": "3.11.0"
  }
 },
 "nbformat": 4,
 "nbformat_minor": 0
}
