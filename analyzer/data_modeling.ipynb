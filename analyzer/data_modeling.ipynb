{
 "cells": [
  {
   "attachments": {},
   "cell_type": "markdown",
   "metadata": {
    "id": "R_EdFgghIf99"
   },
   "source": [
    "# Hello again!\n",
    "\n",
    "This is Group 9's Jupyter Notebook for data modeling & analysis. Now that we've cleaned up and explored our data, it's time to make use of machine learning models to figure out trends in the data.\n",
    "\n",
    "Though there might be a bunch of jargon hanging about, we'll try to keep this fun to read through. Enjoy!\n",
    "\n",
    "---\n",
    "\n",
    "As always, let's import the things that we need:"
   ]
  },
  {
   "cell_type": "code",
   "execution_count": 333,
   "metadata": {},
   "outputs": [
    {
     "name": "stdout",
     "output_type": "stream",
     "text": [
      "Requirement already satisfied: emoji in /Users/macintoshhd/.pyenv/versions/3.11.0/lib/python3.11/site-packages (2.6.0)\n",
      "Note: you may need to restart the kernel to use updated packages.\n",
      "Requirement already satisfied: pyspellchecker in /Users/macintoshhd/.pyenv/versions/3.11.0/lib/python3.11/site-packages (0.7.2)\n",
      "Note: you may need to restart the kernel to use updated packages.\n"
     ]
    }
   ],
   "source": [
    "%pip install emoji --upgrade\n",
    "%pip install pyspellchecker"
   ]
  },
  {
   "cell_type": "code",
   "execution_count": 334,
   "metadata": {
    "id": "Bt0Tkc9hYUKQ"
   },
   "outputs": [],
   "source": [
    "import emoji\n",
    "import matplotlib.pyplot as plt\n",
    "import nltk\n",
    "import numpy as np\n",
    "import pandas as pd\n",
    "import plotly.express as px\n",
    "import re\n",
    "import seaborn as sns\n",
    "import statsmodels.api as sm\n",
    "import textwrap\n",
    "\n",
    "from nltk.corpus import stopwords\n",
    "from nltk.stem import PorterStemmer, WordNetLemmatizer\n",
    "from nltk.tokenize import word_tokenize\n",
    "from sklearn import decomposition\n",
    "from sklearn.cluster import KMeans\n",
    "from sklearn.decomposition import LatentDirichletAllocation\n",
    "from sklearn.feature_extraction.text import CountVectorizer, TfidfVectorizer\n",
    "from sklearn.linear_model import LinearRegression\n",
    "from sklearn.manifold import TSNE\n",
    "from sklearn.metrics import r2_score, mean_squared_error\n",
    "from spellchecker import SpellChecker\n",
    "from textblob import TextBlob\n",
    "\n",
    "pio.renderers.default = \"notebook\"  # so that plotly works in an HTML file"
   ]
  },
  {
   "attachments": {},
   "cell_type": "markdown",
   "metadata": {
    "id": "z3LLbWcWSxGl"
   },
   "source": [
    "# Machine Learning\n",
    "\n",
    "### Describe the structure and mechanism of the chosen model\n",
    "\n",
    "The machine learning model we'll use is called __Latent Dirichlet Allocation (LDA)__. You know how a tweet is made up of __tokens__ from data exploration? If we assign a set number of __topics__, then each topic has a bunch of tokens that belong to it. Once we know the tokens related to each topic, we can classify our tweets by these topics.\n",
    "\n",
    "Before going further, we need the processed dataset from data exploration. This is again hosted in one of Daryll's GitHub repositories, so we'll yoink that into this notebook:"
   ]
  },
  {
   "cell_type": "code",
   "execution_count": 335,
   "metadata": {
    "id": "uOTM15B5Z1G8"
   },
   "outputs": [],
   "source": [
    "CSV_PATH = \"https://raw.githubusercontent.com/daryll-ko/cs132-main/main/analyzer/processed_data_.csv\""
   ]
  },
  {
   "cell_type": "code",
   "execution_count": 336,
   "metadata": {
    "colab": {
     "base_uri": "https://localhost:8080/"
    },
    "id": "VQ3A_MjyZ42Z",
    "outputId": "ff978c53-e9ab-4dc7-de44-8387abae1478"
   },
   "outputs": [],
   "source": [
    "df = pd.read_csv(CSV_PATH)"
   ]
  },
  {
   "attachments": {},
   "cell_type": "markdown",
   "metadata": {
    "id": "ldxI_IoeYhth"
   },
   "source": [
    "### Train the model using the training data\n",
    "\n",
    "Before we put in our training data, we'll do a bit more preprocessing.\n",
    "\n",
    "Let's run some sanity checks across the tweet dates and token lists. The token lists will make sure the data for our LDA model is clean, and we'll use the tweet dates for the regressions later."
   ]
  },
  {
   "cell_type": "code",
   "execution_count": 337,
   "metadata": {
    "colab": {
     "base_uri": "https://localhost:8080/",
     "height": 613
    },
    "id": "2TDH6YvhJV2e",
    "outputId": "30b7beb4-a2e0-4137-de46-f78f8929c41b"
   },
   "outputs": [],
   "source": [
    "# https://scikit-learn.org/stable/auto_examples/applications/plot_topics_extraction_with_nmf_lda.html#sphx-glr-auto-examples-applications-plot-topics-extraction-with-nmf-lda-py\n",
    "\n",
    "n_samples = 400\n",
    "n_components = 3\n",
    "final_dates = []\n",
    "final_samples = []\n",
    "\n",
    "\n",
    "def clean_date_unit(s):\n",
    "    if len(s) == 1:\n",
    "        return f\"0{s}\"\n",
    "    elif len(s) == 4:\n",
    "        return s[-2:]\n",
    "    else:\n",
    "        return s\n",
    "\n",
    "\n",
    "def valid_month(s):\n",
    "    return 1 <= int(s) <= 12\n",
    "\n",
    "\n",
    "bad_date = \"00-00-00\"\n",
    "\n",
    "\n",
    "def purify(date):\n",
    "    matches = re.search(r\"^(\\d+)/(\\d+)/(\\d+) .+$\", date)\n",
    "    if matches:\n",
    "        d, m, y = matches.groups()\n",
    "        if not valid_month(m):\n",
    "            d, m = m, d\n",
    "        m = str((int(m) - 1) // 3 * 3 + 1)\n",
    "        return f\"{clean_date_unit(y)}-{clean_date_unit(m)}\"\n",
    "    else:\n",
    "        return bad_date\n",
    "\n",
    "\n",
    "data_samples = df[[\"Date posted\", \"Tweet (processed)\"]][:n_samples]\n",
    "for index, row in data_samples.iterrows():\n",
    "    date, sample = row[\"Date posted\"], row[\"Tweet (processed)\"]\n",
    "    if isinstance(sample, str):\n",
    "        tokens = list(\n",
    "            filter(\n",
    "                lambda token: token not in [\"leni\", \"robredo\", \"hahaha\"],\n",
    "                map(lambda token: token[1:-1], sample[1:-1].split(\", \")),\n",
    "            )\n",
    "        )\n",
    "        purified_date = purify(date)\n",
    "        if len(tokens) > 0 and purified_date != bad_date:\n",
    "            final_dates.append(purified_date)\n",
    "            final_samples.append(\" \".join(tokens))"
   ]
  },
  {
   "attachments": {},
   "cell_type": "markdown",
   "metadata": {},
   "source": [
    "Now we can make the model do its work! The code below is sourced from [Sir Paul's Colab notebook](https://colab.research.google.com/drive/1Lz4McsTHEp69h0wVSbX8FjSaIIeOXLQA?usp=sharing).\n",
    "\n",
    "For LDA, we chose __three__ clusters through experimentation. Two clusters wasn't very interesting, while four clusters felt all over the place."
   ]
  },
  {
   "cell_type": "code",
   "execution_count": 338,
   "metadata": {
    "id": "IQ2z_iOTJAVK"
   },
   "outputs": [],
   "source": [
    "%%capture\n",
    "\n",
    "nltk.download(\"punkt\")\n",
    "nltk.download(\"stopwords\")\n",
    "nltk.download(\"wordnet\")\n",
    "stop_words = set(stopwords.words(\"english\"))\n",
    "stemmer = PorterStemmer()\n",
    "lemmatizer = WordNetLemmatizer()\n",
    "spell = SpellChecker()"
   ]
  },
  {
   "cell_type": "code",
   "execution_count": 339,
   "metadata": {
    "id": "dzPhLZErJXxT"
   },
   "outputs": [],
   "source": [
    "# Topic modeling via LDA\n",
    "# Source: https://www.kaggle.com/code/infamouscoder/lda-topic-modeling-features\n",
    "\n",
    "stemmer = PorterStemmer()\n",
    "lemmatizer = WordNetLemmatizer()\n",
    "\n",
    "\n",
    "# Custom tokenizer\n",
    "def tokenizer(text):\n",
    "    text = emoji.replace_emoji(text, replace=\"\")  # remove emojis\n",
    "    text = re.sub(r\"http\\S+\", \"\", text)  # remove URLs\n",
    "    text = re.sub(r\"[^\\w\\s]\", \"\", text)  # remove whitespaces\n",
    "    tokens = [\n",
    "        word for word in word_tokenize(text) if len(word) > 3\n",
    "    ]  # keep only 4+-length words\n",
    "    lemmatized_tokens = [lemmatizer.lemmatize(token) for token in tokens]\n",
    "    filtered_tokens = [\n",
    "        token for token in lemmatized_tokens if token.lower() not in stop_words\n",
    "    ]\n",
    "    # stemmed_tokens = [stemmer.stem(item) for item in tokens]\n",
    "    return filtered_tokens\n",
    "\n",
    "\n",
    "# Generate features\n",
    "tf_vectorizer = TfidfVectorizer(\n",
    "    tokenizer=tokenizer,\n",
    "    max_df=0.75,\n",
    "    max_features=10000,\n",
    "    use_idf=True,\n",
    "    norm=None,\n",
    "    token_pattern=None,\n",
    ")\n",
    "tf_vectors = tf_vectorizer.fit_transform(final_samples)\n",
    "\n",
    "n_topics = 3\n",
    "lda = decomposition.LatentDirichletAllocation(\n",
    "    n_components=n_topics,\n",
    "    max_iter=10,\n",
    "    learning_method=\"online\",\n",
    "    learning_offset=50,\n",
    "    n_jobs=1,\n",
    "    random_state=42,\n",
    ")\n",
    "W = lda.fit_transform(tf_vectors)\n",
    "H = lda.components_\n",
    "\n",
    "num_words = 15\n",
    "vocab = np.array(tf_vectorizer.get_feature_names_out())\n",
    "top_words = lambda t: [vocab[i] for i in np.argsort(t)[: -num_words - 1 : -1]]\n",
    "topic_words = [top_words(t) for t in H]\n",
    "topics = [\" \".join(t) for t in topic_words]\n",
    "df_topics = pd.DataFrame(topics, columns=[\"Keywords\"])\n",
    "df_topics[\"Topic ID\"] = range(1, len(topics) + 1)"
   ]
  },
  {
   "cell_type": "code",
   "execution_count": 340,
   "metadata": {
    "colab": {
     "base_uri": "https://localhost:8080/",
     "height": 363
    },
    "id": "X34AhpTrJmUh",
    "outputId": "82144eb3-e9ca-4e3d-cd2d-e5efd014e8c0"
   },
   "outputs": [
    {
     "data": {
      "text/html": [
       "<div>\n",
       "<style scoped>\n",
       "    .dataframe tbody tr th:only-of-type {\n",
       "        vertical-align: middle;\n",
       "    }\n",
       "\n",
       "    .dataframe tbody tr th {\n",
       "        vertical-align: top;\n",
       "    }\n",
       "\n",
       "    .dataframe thead th {\n",
       "        text-align: right;\n",
       "    }\n",
       "</style>\n",
       "<table border=\"1\" class=\"dataframe\">\n",
       "  <thead>\n",
       "    <tr style=\"text-align: right;\">\n",
       "      <th></th>\n",
       "      <th>Topic1</th>\n",
       "      <th>Topic2</th>\n",
       "      <th>Topic3</th>\n",
       "      <th>dominant_topic</th>\n",
       "      <th>breakdown</th>\n",
       "      <th>date</th>\n",
       "    </tr>\n",
       "  </thead>\n",
       "  <tbody>\n",
       "    <tr>\n",
       "      <th>Tweet1</th>\n",
       "      <td>0.99</td>\n",
       "      <td>0.01</td>\n",
       "      <td>0.01</td>\n",
       "      <td>1</td>\n",
       "      <td>Topic1: 0.99\\nTopic2: 0.01\\nTopic3: 0.01</td>\n",
       "      <td>2022-01-01</td>\n",
       "    </tr>\n",
       "    <tr>\n",
       "      <th>Tweet2</th>\n",
       "      <td>0.01</td>\n",
       "      <td>0.00</td>\n",
       "      <td>0.99</td>\n",
       "      <td>3</td>\n",
       "      <td>Topic3: 0.99\\nTopic1: 0.01</td>\n",
       "      <td>2022-10-01</td>\n",
       "    </tr>\n",
       "    <tr>\n",
       "      <th>Tweet3</th>\n",
       "      <td>0.97</td>\n",
       "      <td>0.01</td>\n",
       "      <td>0.01</td>\n",
       "      <td>1</td>\n",
       "      <td>Topic1: 0.97\\nTopic2: 0.01\\nTopic3: 0.01</td>\n",
       "      <td>2022-10-01</td>\n",
       "    </tr>\n",
       "    <tr>\n",
       "      <th>Tweet4</th>\n",
       "      <td>0.00</td>\n",
       "      <td>0.99</td>\n",
       "      <td>0.00</td>\n",
       "      <td>2</td>\n",
       "      <td>Topic2: 0.99</td>\n",
       "      <td>2022-10-01</td>\n",
       "    </tr>\n",
       "    <tr>\n",
       "      <th>Tweet5</th>\n",
       "      <td>0.00</td>\n",
       "      <td>0.99</td>\n",
       "      <td>0.00</td>\n",
       "      <td>2</td>\n",
       "      <td>Topic2: 0.99</td>\n",
       "      <td>2022-10-01</td>\n",
       "    </tr>\n",
       "    <tr>\n",
       "      <th>Tweet6</th>\n",
       "      <td>0.99</td>\n",
       "      <td>0.00</td>\n",
       "      <td>0.00</td>\n",
       "      <td>1</td>\n",
       "      <td>Topic1: 0.99</td>\n",
       "      <td>2022-10-01</td>\n",
       "    </tr>\n",
       "    <tr>\n",
       "      <th>Tweet7</th>\n",
       "      <td>0.00</td>\n",
       "      <td>0.00</td>\n",
       "      <td>0.99</td>\n",
       "      <td>3</td>\n",
       "      <td>Topic3: 0.99</td>\n",
       "      <td>2022-10-01</td>\n",
       "    </tr>\n",
       "    <tr>\n",
       "      <th>Tweet8</th>\n",
       "      <td>0.00</td>\n",
       "      <td>1.00</td>\n",
       "      <td>0.00</td>\n",
       "      <td>2</td>\n",
       "      <td>Topic2: 1.0</td>\n",
       "      <td>2022-10-01</td>\n",
       "    </tr>\n",
       "    <tr>\n",
       "      <th>Tweet9</th>\n",
       "      <td>0.00</td>\n",
       "      <td>0.99</td>\n",
       "      <td>0.00</td>\n",
       "      <td>2</td>\n",
       "      <td>Topic2: 0.99</td>\n",
       "      <td>2022-10-01</td>\n",
       "    </tr>\n",
       "    <tr>\n",
       "      <th>Tweet10</th>\n",
       "      <td>0.01</td>\n",
       "      <td>0.01</td>\n",
       "      <td>0.99</td>\n",
       "      <td>3</td>\n",
       "      <td>Topic3: 0.99\\nTopic1: 0.01\\nTopic2: 0.01</td>\n",
       "      <td>2022-04-01</td>\n",
       "    </tr>\n",
       "  </tbody>\n",
       "</table>\n",
       "</div>"
      ],
      "text/plain": [
       "         Topic1  Topic2  Topic3  dominant_topic  \\\n",
       "Tweet1     0.99    0.01    0.01               1   \n",
       "Tweet2     0.01    0.00    0.99               3   \n",
       "Tweet3     0.97    0.01    0.01               1   \n",
       "Tweet4     0.00    0.99    0.00               2   \n",
       "Tweet5     0.00    0.99    0.00               2   \n",
       "Tweet6     0.99    0.00    0.00               1   \n",
       "Tweet7     0.00    0.00    0.99               3   \n",
       "Tweet8     0.00    1.00    0.00               2   \n",
       "Tweet9     0.00    0.99    0.00               2   \n",
       "Tweet10    0.01    0.01    0.99               3   \n",
       "\n",
       "                                        breakdown       date  \n",
       "Tweet1   Topic1: 0.99\\nTopic2: 0.01\\nTopic3: 0.01 2022-01-01  \n",
       "Tweet2                 Topic3: 0.99\\nTopic1: 0.01 2022-10-01  \n",
       "Tweet3   Topic1: 0.97\\nTopic2: 0.01\\nTopic3: 0.01 2022-10-01  \n",
       "Tweet4                               Topic2: 0.99 2022-10-01  \n",
       "Tweet5                               Topic2: 0.99 2022-10-01  \n",
       "Tweet6                               Topic1: 0.99 2022-10-01  \n",
       "Tweet7                               Topic3: 0.99 2022-10-01  \n",
       "Tweet8                                Topic2: 1.0 2022-10-01  \n",
       "Tweet9                               Topic2: 0.99 2022-10-01  \n",
       "Tweet10  Topic3: 0.99\\nTopic1: 0.01\\nTopic2: 0.01 2022-04-01  "
      ]
     },
     "execution_count": 340,
     "metadata": {},
     "output_type": "execute_result"
    }
   ],
   "source": [
    "# Assign topic to each tweet\n",
    "topicid = [\"Topic\" + str(i + 1) for i in range(lda.n_components)]\n",
    "tweetid = [\"Tweet\" + str(i + 1) for i in range(len(final_samples))]\n",
    "\n",
    "df_topics_lda = pd.DataFrame(np.round(W, 2), columns=topicid, index=tweetid)\n",
    "significanttopic = np.argmax(df_topics_lda.values, axis=1) + 1\n",
    "\n",
    "df_topics_lda[\"dominant_topic\"] = significanttopic\n",
    "df_topics_lda[\"breakdown\"] = df_topics_lda.apply(\n",
    "    lambda row: \"\\n\".join(\n",
    "        [\n",
    "            f\"{col}: {row[col]}\"\n",
    "            for col in sorted(df_topics_lda.columns, key=lambda x: row[x], reverse=True)\n",
    "            if row[col] > 0 and col != \"dominant_topic\"\n",
    "        ]\n",
    "    ),\n",
    "    axis=1,\n",
    ")\n",
    "df_topics_lda[\"date\"] = pd.to_datetime(np.array(final_dates), format=\"%y-%m\")\n",
    "df_topics_lda.head(10)"
   ]
  },
  {
   "cell_type": "code",
   "execution_count": 341,
   "metadata": {
    "id": "3CH1RGxrJzYt"
   },
   "outputs": [],
   "source": [
    "# Apply t-SNE for dimensionality reduction\n",
    "tsne = TSNE(n_components=2, random_state=42)\n",
    "tsne_result = tsne.fit_transform(df_topics_lda.iloc[:, :n_topics])\n",
    "\n",
    "# Apply K-means clustering\n",
    "n_topics = 3\n",
    "kmeans = KMeans(n_clusters=n_topics, n_init=3, random_state=42)\n",
    "cluster_labels = kmeans.fit_predict(df_topics_lda.iloc[:, :n_topics])"
   ]
  },
  {
   "cell_type": "code",
   "execution_count": 342,
   "metadata": {
    "colab": {
     "base_uri": "https://localhost:8080/",
     "height": 459
    },
    "id": "iJd-_hPwJ2qT",
    "outputId": "d2c02db3-f9fd-4651-b39f-69dc0b2bdc78"
   },
   "outputs": [
    {
     "data": {
      "text/html": [
       "<div>\n",
       "<style scoped>\n",
       "    .dataframe tbody tr th:only-of-type {\n",
       "        vertical-align: middle;\n",
       "    }\n",
       "\n",
       "    .dataframe tbody tr th {\n",
       "        vertical-align: top;\n",
       "    }\n",
       "\n",
       "    .dataframe thead th {\n",
       "        text-align: right;\n",
       "    }\n",
       "</style>\n",
       "<table border=\"1\" class=\"dataframe\">\n",
       "  <thead>\n",
       "    <tr style=\"text-align: right;\">\n",
       "      <th></th>\n",
       "      <th>X</th>\n",
       "      <th>Y</th>\n",
       "      <th>Tweet</th>\n",
       "      <th>Cluster</th>\n",
       "      <th>Breakdown</th>\n",
       "    </tr>\n",
       "  </thead>\n",
       "  <tbody>\n",
       "    <tr>\n",
       "      <th>0</th>\n",
       "      <td>-230.556030</td>\n",
       "      <td>-202.595703</td>\n",
       "      <td>wala alam foreign policy alam presidente&lt;br&gt;au...</td>\n",
       "      <td>1</td>\n",
       "      <td>Topic1: 0.99&lt;br&gt;Topic2: 0.01&lt;br&gt;Topic3: 0.01</td>\n",
       "    </tr>\n",
       "    <tr>\n",
       "      <th>1</th>\n",
       "      <td>140.802063</td>\n",
       "      <td>78.263054</td>\n",
       "      <td>walang ambag maritime industry years vp&lt;br&gt;nev...</td>\n",
       "      <td>3</td>\n",
       "      <td>Topic3: 0.99&lt;br&gt;Topic1: 0.01</td>\n",
       "    </tr>\n",
       "    <tr>\n",
       "      <th>2</th>\n",
       "      <td>-325.934143</td>\n",
       "      <td>-29.314631</td>\n",
       "      <td>inggit walang ambag moro chaka</td>\n",
       "      <td>1</td>\n",
       "      <td>Topic1: 0.97&lt;br&gt;Topic2: 0.01&lt;br&gt;Topic3: 0.01</td>\n",
       "    </tr>\n",
       "    <tr>\n",
       "      <th>3</th>\n",
       "      <td>-17.466452</td>\n",
       "      <td>268.300690</td>\n",
       "      <td>wala kasing ibang topic alam walang alam&lt;br&gt;ph...</td>\n",
       "      <td>2</td>\n",
       "      <td>Topic2: 0.99</td>\n",
       "    </tr>\n",
       "    <tr>\n",
       "      <th>4</th>\n",
       "      <td>-17.466452</td>\n",
       "      <td>268.300690</td>\n",
       "      <td>vovo matagal walang galaw unilever&lt;br&gt;ngayon g...</td>\n",
       "      <td>2</td>\n",
       "      <td>Topic2: 0.99</td>\n",
       "    </tr>\n",
       "    <tr>\n",
       "      <th>5</th>\n",
       "      <td>-41.246140</td>\n",
       "      <td>-274.737518</td>\n",
       "      <td>engot buhay nalang ngayon flops lutang&lt;br&gt;wala...</td>\n",
       "      <td>1</td>\n",
       "      <td>Topic1: 0.99</td>\n",
       "    </tr>\n",
       "    <tr>\n",
       "      <th>6</th>\n",
       "      <td>172.522018</td>\n",
       "      <td>125.494598</td>\n",
       "      <td>ayan nasimulan aminin nalang kakampwets&lt;br&gt;inf...</td>\n",
       "      <td>3</td>\n",
       "      <td>Topic3: 0.99</td>\n",
       "    </tr>\n",
       "    <tr>\n",
       "      <th>7</th>\n",
       "      <td>20.545570</td>\n",
       "      <td>343.701538</td>\n",
       "      <td>bwahaha hahahaha parallel universe&lt;br&gt;gobyerno...</td>\n",
       "      <td>2</td>\n",
       "      <td>Topic2: 1.0</td>\n",
       "    </tr>\n",
       "    <tr>\n",
       "      <th>8</th>\n",
       "      <td>-17.466452</td>\n",
       "      <td>268.300690</td>\n",
       "      <td>huwag ibase respeto credentials tao&lt;br&gt;kahit s...</td>\n",
       "      <td>2</td>\n",
       "      <td>Topic2: 0.99</td>\n",
       "    </tr>\n",
       "    <tr>\n",
       "      <th>9</th>\n",
       "      <td>196.098480</td>\n",
       "      <td>20.883001</td>\n",
       "      <td>nasa posisyon habang pandemya nagawan&lt;br&gt;paraa...</td>\n",
       "      <td>3</td>\n",
       "      <td>Topic3: 0.99&lt;br&gt;Topic1: 0.01&lt;br&gt;Topic2: 0.01</td>\n",
       "    </tr>\n",
       "  </tbody>\n",
       "</table>\n",
       "</div>"
      ],
      "text/plain": [
       "            X           Y                                              Tweet  \\\n",
       "0 -230.556030 -202.595703  wala alam foreign policy alam presidente<br>au...   \n",
       "1  140.802063   78.263054  walang ambag maritime industry years vp<br>nev...   \n",
       "2 -325.934143  -29.314631                     inggit walang ambag moro chaka   \n",
       "3  -17.466452  268.300690  wala kasing ibang topic alam walang alam<br>ph...   \n",
       "4  -17.466452  268.300690  vovo matagal walang galaw unilever<br>ngayon g...   \n",
       "5  -41.246140 -274.737518  engot buhay nalang ngayon flops lutang<br>wala...   \n",
       "6  172.522018  125.494598  ayan nasimulan aminin nalang kakampwets<br>inf...   \n",
       "7   20.545570  343.701538  bwahaha hahahaha parallel universe<br>gobyerno...   \n",
       "8  -17.466452  268.300690  huwag ibase respeto credentials tao<br>kahit s...   \n",
       "9  196.098480   20.883001  nasa posisyon habang pandemya nagawan<br>paraa...   \n",
       "\n",
       "  Cluster                                     Breakdown  \n",
       "0       1  Topic1: 0.99<br>Topic2: 0.01<br>Topic3: 0.01  \n",
       "1       3                  Topic3: 0.99<br>Topic1: 0.01  \n",
       "2       1  Topic1: 0.97<br>Topic2: 0.01<br>Topic3: 0.01  \n",
       "3       2                                  Topic2: 0.99  \n",
       "4       2                                  Topic2: 0.99  \n",
       "5       1                                  Topic1: 0.99  \n",
       "6       3                                  Topic3: 0.99  \n",
       "7       2                                   Topic2: 1.0  \n",
       "8       2                                  Topic2: 0.99  \n",
       "9       3  Topic3: 0.99<br>Topic1: 0.01<br>Topic2: 0.01  "
      ]
     },
     "execution_count": 342,
     "metadata": {},
     "output_type": "execute_result"
    }
   ],
   "source": [
    "# Create a new dataframe with t-SNE coordinates and cluster labels\n",
    "\n",
    "\n",
    "def split_text(text, max_length):\n",
    "    lines = textwrap.wrap(text, width=max_length, break_long_words=False)\n",
    "    return \"<br>\".join(lines)\n",
    "\n",
    "\n",
    "df_topics_cluster = pd.DataFrame(\n",
    "    {\n",
    "        \"X\": tsne_result[:, 0],\n",
    "        \"Y\": tsne_result[:, 1],\n",
    "        \"Tweet\": final_samples,\n",
    "        \"Cluster\": df_topics_lda.reset_index()[\"dominant_topic\"].astype(\n",
    "            str\n",
    "        ),  # topics via LDA\n",
    "        # 'Cluster': cluster_labels},                                         # clusters via K-means\n",
    "        \"Breakdown\": df_topics_lda.reset_index()[\"breakdown\"],\n",
    "    }\n",
    ")\n",
    "\n",
    "df_topics_cluster[\"Tweet\"] = df_topics_cluster[\"Tweet\"].apply(\n",
    "    lambda x: split_text(x, 40)\n",
    ")\n",
    "df_topics_cluster[\"Breakdown\"] = df_topics_cluster[\"Breakdown\"].str.replace(\n",
    "    \"\\n\", \"<br>\"\n",
    ")\n",
    "\n",
    "df_topics_cluster.head(10)"
   ]
  },
  {
   "cell_type": "code",
   "execution_count": 343,
   "metadata": {
    "colab": {
     "base_uri": "https://localhost:8080/",
     "height": 727
    },
    "id": "iC1-cOZUJ3HT",
    "outputId": "17dbc93a-915c-40ce-e112-5ebba91de007"
   },
   "outputs": [
    {
     "data": {
      "application/vnd.plotly.v1+json": {
       "config": {
        "plotlyServerURL": "https://plot.ly"
       },
       "data": [
        {
         "customdata": [
          [
           "1",
           "nman common sense pinagsasabi mohow sure<br>ung mama walang bahid kasinungalingan<br>corruption ethical politics nia araw<br>araw k b nia nakakasama pra masigurado<br>kng nman pala masigurado ur shit<br>nonsense",
           "Topic1: 0.99"
          ],
          [
           "1",
           "trabaho sara gaya kunyariam trabaho<br>tapos todo picture siguro sanay lol",
           "Topic1: 0.99<br>Topic2: 0.01<br>Topic3: 0.01"
          ],
          [
           "1",
           "sige takot siya",
           "Topic1: 0.96<br>Topic2: 0.02<br>Topic3: 0.02"
          ],
          [
           "1",
           "like thief night natulog vp",
           "Topic1: 0.97<br>Topic2: 0.02<br>Topic3: 0.02"
          ],
          [
           "1",
           "deceived people becoming vp like thief<br>night",
           "Topic1: 0.69<br>Topic2: 0.3<br>Topic3: 0.01"
          ],
          [
           "1",
           "true puppet lp win pcs machine<br>manipulated panot aquino",
           "Topic1: 0.98<br>Topic2: 0.01<br>Topic3: 0.01"
          ],
          [
           "1",
           "",
           "Topic1: 0.33<br>Topic2: 0.33<br>Topic3: 0.33"
          ],
          [
           "1",
           "fy pcs machine garbage politician puppet<br>panot aquino oligarchs",
           "Topic1: 0.98<br>Topic2: 0.01<br>Topic3: 0.01"
          ],
          [
           "1",
           "sir please interview ph cheat maam",
           "Topic1: 0.97<br>Topic2: 0.01<br>Topic3: 0.01"
          ],
          [
           "1",
           "clear searches oligarchs vote buying<br>komunista lutang",
           "Topic1: 0.98<br>Topic2: 0.01<br>Topic3: 0.01"
          ],
          [
           "1",
           "inggit walang ambag moro chaka",
           "Topic1: 0.97<br>Topic2: 0.01<br>Topic3: 0.01"
          ],
          [
           "1",
           "means good luck philippines another<br>basahan",
           "Topic1: 0.98<br>Topic2: 0.01<br>Topic3: 0.01"
          ],
          [
           "1",
           "comparison kapang nalalaman dapat<br>ipaglaban mandaraya dikit nmn laban<br>nagtimpla kape lumamang muslim remote<br>area hahah lams eto malaki agwat<br>landslide milyon kayang dayain hahha<br>gudluk ngo pang nalalaman npa kamo",
           "Topic1: 1.0"
          ],
          [
           "1",
           "engot buhay nalang ngayon flops lutang<br>walang supporta oligarchs sinong<br>susupporta isang kagaya puro paninira<br>sariling bansa ambag pinag gagawa ngayon<br>pagkakalat us akala naka points pinoys",
           "Topic1: 0.99"
          ],
          [
           "1",
           "tanga bobo mama niu mandaraya way back<br>election bulag bulagan katotohanan alam<br>niu ung totoo",
           "Topic1: 0.75<br>Topic3: 0.24<br>Topic2: 0.01"
          ],
          [
           "1",
           "punyeta lugaw lutang puppet boba<br>mandaraya noon ginamit panot aquino<br>drilon hindi maka upo bbm ngayon wala<br>kayong power kahit dayain ninyo bbm<br>hindi ninyo agaw ulit panalo",
           "Topic1: 0.99"
          ],
          [
           "1",
           "",
           "Topic1: 0.33<br>Topic2: 0.33<br>Topic3: 0.33"
          ],
          [
           "1",
           "hindi corrupt kailan naging daang<br>matuwid nick name babaeng hindi siya<br>corrupt kinailangan niyang mangampanya<br>loob botohan gamitin balota",
           "Topic1: 0.99"
          ],
          [
           "1",
           "",
           "Topic1: 0.33<br>Topic2: 0.33<br>Topic3: 0.33"
          ],
          [
           "1",
           "like boto",
           "Topic1: 0.93<br>Topic2: 0.04<br>Topic3: 0.04"
          ],
          [
           "1",
           "boto",
           "Topic1: 0.86<br>Topic2: 0.07<br>Topic3: 0.07"
          ],
          [
           "1",
           "sino magnanakaw gahaman pwesto pati boto<br>tao",
           "Topic1: 0.98<br>Topic2: 0.01<br>Topic3: 0.01"
          ],
          [
           "1",
           "",
           "Topic1: 0.33<br>Topic2: 0.33<br>Topic3: 0.33"
          ],
          [
           "1",
           "wala isyung malaki unused ballot<br>malaking isyu gamit balota ibig sabihin<br>nito isyu credibility pagiging bise<br>tangkang pandaraya oo sino maghusga",
           "Topic1: 0.99"
          ],
          [
           "1",
           "uh trolls everything fake days fake news<br>fake supporters knows even",
           "Topic1: 0.98<br>Topic2: 0.01<br>Topic3: 0.01"
          ],
          [
           "1",
           "nakakahiya tong fake vp natin",
           "Topic1: 0.76<br>Topic2: 0.23<br>Topic3: 0.02"
          ],
          [
           "1",
           "sino mandaraya diba garapalan lantaran<br>pandaray tangang lutang",
           "Topic1: 0.98<br>Topic2: 0.01<br>Topic3: 0.01"
          ],
          [
           "1",
           "mandaraya nahuli nandaya election<br>inilabas video walang nakakilala nun<br>kapal pagmumukha ninyo hipocrita corrupt",
           "Topic1: 0.68<br>Topic3: 0.31<br>Topic2: 0.01"
          ],
          [
           "1",
           "mandaraya hoy nong matanggap talo",
           "Topic1: 0.96<br>Topic2: 0.02<br>Topic3: 0.02"
          ],
          [
           "1",
           "ahwww inform mandaraya mama mhiee",
           "Topic1: 0.97<br>Topic2: 0.01<br>Topic3: 0.01"
          ],
          [
           "1",
           "pelaez madumb fake vp mandaraya yikes",
           "Topic1: 0.97<br>Topic2: 0.01<br>Topic3: 0.01"
          ],
          [
           "1",
           "totoong nanalo madam dapat wala syang<br>takot ipaulit pagbilang padin nanalo<br>abay kahiyahiya ayaw madam malalaman<br>tayong bago",
           "Topic1: 0.99"
          ],
          [
           "1",
           "accused bbm pulling publicity stunts lol<br>used accusing others crimes committed",
           "Topic1: 0.99<br>Topic2: 0.01<br>Topic3: 0.01"
          ],
          [
           "1",
           "fuck ideas",
           "Topic1: 0.95<br>Topic2: 0.03<br>Topic3: 0.03"
          ],
          [
           "1",
           "even know federalism deserve true vp<br>plus cheater",
           "Topic1: 0.98<br>Topic2: 0.01<br>Topic3: 0.01"
          ],
          [
           "1",
           "madam well oiled pcos machine choice<br>napansin mukhang hindi alam meaning",
           "Topic1: 0.99<br>Topic2: 0.01<br>Topic3: 0.01"
          ],
          [
           "1",
           "favoring",
           "Topic1: 0.89<br>Topic3: 0.06<br>Topic2: 0.05"
          ],
          [
           "1",
           "hypocrite soliciting help st scho nuns<br>issue kang hudas iskaryote god knows<br>hudas cheating",
           "Topic1: 0.99<br>Topic3: 0.01"
          ],
          [
           "1",
           "sinong ginagago atty makalintal beauty<br>automated election system ginamit hocus<br>pcos tanga makalinta isauli license gaya<br>kliyente",
           "Topic1: 0.99"
          ],
          [
           "1",
           "",
           "Topic1: 0.33<br>Topic2: 0.33<br>Topic3: 0.33"
          ],
          [
           "1",
           "",
           "Topic1: 0.33<br>Topic2: 0.33<br>Topic3: 0.33"
          ],
          [
           "1",
           "laban kasinungalingan",
           "Topic1: 0.94<br>Topic2: 0.03<br>Topic3: 0.03"
          ],
          [
           "1",
           "",
           "Topic1: 0.33<br>Topic2: 0.33<br>Topic3: 0.33"
          ],
          [
           "1",
           "nandaya smartmatic ngayon wet wet balota<br>haysss buti nakakatulog",
           "Topic1: 0.74<br>Topic3: 0.25<br>Topic2: 0.01"
          ],
          [
           "1",
           "kapal pagmumukha",
           "Topic1: 0.94<br>Topic2: 0.03<br>Topic3: 0.03"
          ],
          [
           "1",
           "asking dumb expect answers came<br>obscurity unknown inexperienced beating<br>proven public servants like bbm know<br>anything governance says hindi yata<br>dapat faking",
           "Topic1: 0.99"
          ],
          [
           "1",
           "",
           "Topic1: 0.33<br>Topic2: 0.33<br>Topic3: 0.33"
          ],
          [
           "1",
           "",
           "Topic1: 0.33<br>Topic2: 0.33<br>Topic3: 0.33"
          ],
          [
           "1",
           "",
           "Topic1: 0.33<br>Topic2: 0.33<br>Topic3: 0.33"
          ],
          [
           "1",
           "resign",
           "Topic1: 0.9<br>Topic2: 0.05<br>Topic3: 0.05"
          ],
          [
           "1",
           "kamusta dilawan mayatanda katulad tatay<br>henerasyong ngayon walang alam hidni<br>nakikita pinapakita social media<br>sakanila aral aral libro ineng toy",
           "Topic1: 0.99"
          ],
          [
           "1",
           "uy pambayad blogger panget troll",
           "Topic1: 0.97<br>Topic2: 0.01<br>Topic3: 0.01"
          ],
          [
           "1",
           "",
           "Topic1: 0.33<br>Topic2: 0.33<br>Topic3: 0.33"
          ],
          [
           "1",
           "magnanakaw benefitted yolanda fund last<br>equally magnanakaw magnanakaw boto<br>despite degrees tanga bet even answer<br>prof clarita first question",
           "Topic1: 0.99"
          ],
          [
           "1",
           "degree tanga salita gawa paanu earn<br>degree lutang lutang katangahan<br>nakinabang yolanda funds magnanakaw",
           "Topic1: 0.99"
          ],
          [
           "1",
           "patay diyan lenie principles values lp<br>kakapitan pinoys mauulit n<br>kawalanghiyaan n pinaggawa boto",
           "Topic1: 0.99<br>Topic2: 0.01<br>Topic3: 0.01"
          ],
          [
           "1",
           "magnanakaw",
           "Topic1: 0.84<br>Topic2: 0.08<br>Topic3: 0.08"
          ],
          [
           "1",
           "boto",
           "Topic1: 0.86<br>Topic2: 0.07<br>Topic3: 0.07"
          ],
          [
           "1",
           "",
           "Topic1: 0.33<br>Topic2: 0.33<br>Topic3: 0.33"
          ],
          [
           "1",
           "nag uumpisa",
           "Topic1: 0.91<br>Topic2: 0.05<br>Topic3: 0.05"
          ],
          [
           "1",
           "mainit balita bong bong marcos hinamon<br>vp kanyang p",
           "Topic1: 0.98<br>Topic2: 0.01<br>Topic3: 0.01"
          ],
          [
           "1",
           "sino paco ojeda pinatay ninyo nadiskurbe<br>anomalya kapanahon asawa",
           "Topic1: 0.99<br>Topic2: 0.01<br>Topic3: 0.01"
          ],
          [
           "1",
           "oi haha sirang sira sakin simula namatay<br>asawa nyan lagi kong naririnig tatay<br>wala syang pinagka iba cory pinatay<br>asawa makilala haha lalo aquino<br>trililing iba pang kilalang tao",
           "Topic1: 1.0"
          ],
          [
           "1",
           "hwag kalimutan namatay asawa pinatay<br>kanyang bayaw territoryo droga masyadong<br>greedy asawa naging presidente lalakas<br>power bayaw matutuloy magiging capital<br>shabu pilipinas",
           "Topic1: 0.99"
          ],
          [
           "1",
           "panu iboboto taong galit galit kagaya vp<br>vp galit pinatay unang asawa npa alam b<br>nila",
           "Topic1: 0.99<br>Topic2: 0.01<br>Topic3: 0.01"
          ],
          [
           "1",
           "bwesit asawa npa taga supporta tulad<br>kiko habang ambush sundao puma palakpa<br>wala puso",
           "Topic1: 0.99<br>Topic3: 0.01"
          ],
          [
           "1",
           "totoo unang asawa bago namatay nabasa<br>kumander npa kanyang unang nasirang<br>asawa",
           "Topic1: 0.99<br>Topic2: 0.01<br>Topic3: 0.01"
          ],
          [
           "1",
           "ganda pic hubby think campaigning time<br>tanong madam kamusta kaso pagkamatay<br>asawa alledged mr bolet life",
           "Topic1: 0.93<br>Topic2: 0.06"
          ],
          [
           "1",
           "ata nag diba bayaw nun drug lord naga",
           "Topic1: 0.67<br>Topic3: 0.32<br>Topic2: 0.01"
          ],
          [
           "1",
           "intelligent much qualified congressman<br>good role model youth unlike kabit home<br>wreaker",
           "Topic1: 0.99"
          ],
          [
           "1",
           "sabi fake vp kanyang video namatay asawa<br>hindi wala akong boyfriend wala akong<br>boyfriend",
           "Topic1: 0.99<br>Topic2: 0.01<br>Topic3: 0.01"
          ],
          [
           "1",
           "correct shud genuine vp office means<br>chouse",
           "Topic1: 0.98<br>Topic2: 0.01<br>Topic3: 0.01"
          ],
          [
           "1",
           "abangan update zombie naka boto",
           "Topic1: 0.98<br>Topic2: 0.01<br>Topic3: 0.01"
          ],
          [
           "1",
           "uh oh proud dh marangal trabaho wala<br>akong inaapakang tao nagnanakaw<br>nakakatulong bansa nakakatulong anyway<br>back fake vp puro pakitang tao<br>magnanakaw boto kapal mukha",
           "Topic1: 0.99"
          ],
          [
           "1",
           "p aasahan peke boto ninakaw kaban bayan",
           "Topic1: 0.98<br>Topic2: 0.01<br>Topic3: 0.01"
          ],
          [
           "1",
           "lp tunay magnanakaw kaban taong bayan<br>leading panot aquino lp trolls huli",
           "Topic1: 0.99<br>Topic2: 0.01<br>Topic3: 0.01"
          ],
          [
           "1",
           "",
           "Topic1: 0.33<br>Topic2: 0.33<br>Topic3: 0.33"
          ],
          [
           "1",
           "tingin hindi pagpapakita pagiging<br>desperado",
           "Topic1: 0.97<br>Topic2: 0.01<br>Topic3: 0.01"
          ],
          [
           "1",
           "",
           "Topic1: 0.33<br>Topic2: 0.33<br>Topic3: 0.33"
          ],
          [
           "1",
           "",
           "Topic1: 0.33<br>Topic2: 0.33<br>Topic3: 0.33"
          ],
          [
           "1",
           "nakarma kakampinks",
           "Topic1: 0.94<br>Topic2: 0.03<br>Topic3: 0.03"
          ],
          [
           "1",
           "",
           "Topic1: 0.33<br>Topic2: 0.33<br>Topic3: 0.33"
          ],
          [
           "1",
           "karugtong",
           "Topic1: 0.91<br>Topic2: 0.05<br>Topic3: 0.05"
          ],
          [
           "1",
           "",
           "Topic1: 0.33<br>Topic2: 0.33<br>Topic3: 0.33"
          ],
          [
           "1",
           "half million iyaaaaaaaaaaaakkkkk",
           "Topic1: 0.85<br>Topic2: 0.13<br>Topic3: 0.02"
          ],
          [
           "1",
           "",
           "Topic1: 0.33<br>Topic2: 0.33<br>Topic3: 0.33"
          ],
          [
           "1",
           "",
           "Topic1: 0.33<br>Topic2: 0.33<br>Topic3: 0.33"
          ],
          [
           "1",
           "",
           "Topic1: 0.33<br>Topic2: 0.33<br>Topic3: 0.33"
          ],
          [
           "1",
           "",
           "Topic1: 0.33<br>Topic2: 0.33<br>Topic3: 0.33"
          ],
          [
           "1",
           "",
           "Topic1: 0.33<br>Topic2: 0.33<br>Topic3: 0.33"
          ],
          [
           "1",
           "talaga tamad talaga huy mas kilala bbm c<br>bbm hindi pinabayaan proyekto katulad<br>nagiging vp siya diba haba bakasyon<br>amerika pinabayaan proyekto",
           "Topic1: 0.99"
          ],
          [
           "1",
           "c okay sinayang incompetent inept good<br>riddance",
           "Topic1: 0.98<br>Topic2: 0.01<br>Topic3: 0.01"
          ],
          [
           "1",
           "inang unfit public service nation<br>witnessed awful performance better get<br>experienced social worker knew role<br>services government people proven inept<br>incompetent place public services",
           "Topic1: 0.99"
          ],
          [
           "1",
           "oh need know inept effective incumbent<br>know running party threatened extinct<br>teka eloquent talaga ngayon layo<br>impromptu interviews nagdududa talaga",
           "Topic1: 0.99"
          ],
          [
           "1",
           "bobita tapos pinklawans claim<br>napakatalino nila yuck malaking<br>yuucccckkk inept lutang palagi maawa<br>pinas",
           "Topic1: 0.99"
          ],
          [
           "1",
           "keeps dilawans seeing weak leader stupid<br>inept puppet yet see clearly manny<br>practically",
           "Topic1: 0.99<br>Topic2: 0.01<br>Topic3: 0.01"
          ],
          [
           "1",
           "inept candidates isko bobo hindi<br>nakapasa anong national exam noard bar<br>incompetent least pacquiao even college<br>degree omg anong mangyari pagsila ihalal",
           "Topic1: 0.99"
          ],
          [
           "1",
           "inept incompetent knew nothing governing<br>complicated society like philippines<br>perfect puppet yellows thus pillaged<br>rest history clone",
           "Topic1: 0.99"
          ],
          [
           "1",
           "say crazy inept leaders must mean fvp<br>hypocrite partymates",
           "Topic1: 0.98<br>Topic2: 0.01<br>Topic3: 0.01"
          ],
          [
           "1",
           "ben kingsley hopelessly inept even aura<br>lacks luster",
           "Topic1: 0.98<br>Topic2: 0.01<br>Topic3: 0.01"
          ],
          [
           "1",
           "vp drug lord bayaw dba call resign call<br>jesse r dilg secretary brother drug lord<br>lamitan mayor drug lord tinangal siya<br>pwesto",
           "Topic1: 0.99"
          ],
          [
           "1",
           "affair laila de dayan immoral rape<br>remark joke non existent",
           "Topic1: 0.99<br>Topic2: 0.01<br>Topic3: 0.01"
          ],
          [
           "1",
           "ndi kilala ndi kilala tao lumitaw n lng<br>namatay asawa ewan pinatay yatang sadya<br>plano naka todo ngiti burol asawa<br>pakanta kanta delimawayun mging vp xa<br>pangdaraya nila andy sino kumpara",
           "Topic1: 0.99"
          ],
          [
           "1",
           "therefore conclude pwedeng maging<br>presidente bise pinatay asawa",
           "Topic1: 0.98<br>Topic2: 0.01<br>Topic3: 0.01"
          ],
          [
           "1",
           "hahahah maka tawa manko oy ambag sis<br>sige man siya mama walang gawa",
           "Topic1: 0.99<br>Topic2: 0.01<br>Topic3: 0.01"
          ],
          [
           "1",
           "dinaya dapat marcos naging vp hindi<br>lugaw walang ambag",
           "Topic1: 0.64<br>Topic3: 0.35<br>Topic2: 0.01"
          ],
          [
           "1",
           "belat konti nlang naloloko mas kapani<br>paniwala magnanakaw amo nyong aquino",
           "Topic1: 0.99<br>Topic2: 0.01<br>Topic3: 0.01"
          ],
          [
           "1",
           "well edited pics nagawa walang kakwenta<br>kwentatapos pababanguhin media alagad<br>gagawan nila istorya sabay mumurahin<br>pangulo sino bitter",
           "Topic1: 0.99"
          ],
          [
           "1",
           "madam puro publicity nanaman mahina<br>network makatulong kunti tapos nanaman<br>media original pink marcos lol nasaan<br>pangulo lol madam alam namin gawain",
           "Topic1: 0.78<br>Topic2: 0.22"
          ],
          [
           "1",
           "tahimik magpapakita feel niyang masiraan<br>pangulo",
           "Topic1: 0.98<br>Topic2: 0.01<br>Topic3: 0.01"
          ],
          [
           "1",
           "ubos confidential funds padre inubos<br>inutil madumb kampanya",
           "Topic1: 0.99<br>Topic2: 0.01<br>Topic3: 0.01"
          ],
          [
           "1",
           "medalya kabobohan kalutangan yang lutang<br>pati naging bugok kna inutil walang<br>nagawa bayan mabuti vp sara duterte days<br>office dami nyang nagawa",
           "Topic1: 0.99"
          ],
          [
           "1",
           "alam bang wala akong pake aquino sino<br>pang politiko pare parehas silang<br>politiko kurakot tulad duterte pasensiya<br>hindi katulad sumasamba politiko",
           "Topic1: 0.99"
          ],
          [
           "1",
           "sayang pera madumb buti nun walang<br>budget lng office nakaka punta asulok<br>sulok ghost employees nanaman kurakot",
           "Topic1: 0.99"
          ],
          [
           "1",
           "okay ganyan talaga kurakot adik kampi<br>npa walang nagawa bansa bobo",
           "Topic1: 0.99<br>Topic2: 0.01<br>Topic3: 0.01"
          ],
          [
           "1",
           "talaga kurakot vp totoo kaban bayan<br>ginamit nyu",
           "Topic1: 0.98<br>Topic2: 0.01<br>Topic3: 0.01"
          ],
          [
           "1",
           "nakakahiya kang fake vp wonder katiting<br>wala akong makitang maganda pagkatao<br>nakakahiya photoshoot alam puro ngawa<br>wala gawa",
           "Topic1: 0.99"
          ],
          [
           "1",
           "sampal pagmumukha tanga",
           "Topic1: 0.96<br>Topic2: 0.02<br>Topic3: 0.02"
          ],
          [
           "1",
           "gusto reference ugok",
           "Topic1: 0.96<br>Topic2: 0.02<br>Topic3: 0.02"
          ],
          [
           "1",
           "",
           "Topic1: 0.33<br>Topic2: 0.33<br>Topic3: 0.33"
          ],
          [
           "1",
           "dapat sino pagnanakaw boto sus",
           "Topic1: 0.96<br>Topic2: 0.02<br>Topic3: 0.02"
          ],
          [
           "1",
           "",
           "Topic1: 0.33<br>Topic2: 0.33<br>Topic3: 0.33"
          ],
          [
           "1",
           "tong walang bahid pagsisisi walang<br>kahihiyan mandaraya",
           "Topic1: 0.98<br>Topic2: 0.01<br>Topic3: 0.01"
          ],
          [
           "1",
           "like thief night mom boba stole votes<br>filipinos mom became via pcos machine<br>promisedand planned shame dad even hero<br>boba mom made museum using gov funds",
           "Topic1: 0.99"
          ],
          [
           "1",
           "ate girl mas dictator papa commanding<br>ban jordanian journalist mas thief mama<br>magnanakaw boto like said like thief<br>night",
           "Topic1: 0.99"
          ],
          [
           "1",
           "wala alam foreign policy alam presidente<br>author foreign policy",
           "Topic1: 0.99<br>Topic2: 0.01<br>Topic3: 0.01"
          ]
         ],
         "hovertemplate": "<b>%{hovertext}</b><br><br>Breakdown=%{customdata[2]}<extra></extra>",
         "hovertext": [
          "nman common sense pinagsasabi mohow sure<br>ung mama walang bahid kasinungalingan<br>corruption ethical politics nia araw<br>araw k b nia nakakasama pra masigurado<br>kng nman pala masigurado ur shit<br>nonsense",
          "trabaho sara gaya kunyariam trabaho<br>tapos todo picture siguro sanay lol",
          "sige takot siya",
          "like thief night natulog vp",
          "deceived people becoming vp like thief<br>night",
          "true puppet lp win pcs machine<br>manipulated panot aquino",
          "",
          "fy pcs machine garbage politician puppet<br>panot aquino oligarchs",
          "sir please interview ph cheat maam",
          "clear searches oligarchs vote buying<br>komunista lutang",
          "inggit walang ambag moro chaka",
          "means good luck philippines another<br>basahan",
          "comparison kapang nalalaman dapat<br>ipaglaban mandaraya dikit nmn laban<br>nagtimpla kape lumamang muslim remote<br>area hahah lams eto malaki agwat<br>landslide milyon kayang dayain hahha<br>gudluk ngo pang nalalaman npa kamo",
          "engot buhay nalang ngayon flops lutang<br>walang supporta oligarchs sinong<br>susupporta isang kagaya puro paninira<br>sariling bansa ambag pinag gagawa ngayon<br>pagkakalat us akala naka points pinoys",
          "tanga bobo mama niu mandaraya way back<br>election bulag bulagan katotohanan alam<br>niu ung totoo",
          "punyeta lugaw lutang puppet boba<br>mandaraya noon ginamit panot aquino<br>drilon hindi maka upo bbm ngayon wala<br>kayong power kahit dayain ninyo bbm<br>hindi ninyo agaw ulit panalo",
          "",
          "hindi corrupt kailan naging daang<br>matuwid nick name babaeng hindi siya<br>corrupt kinailangan niyang mangampanya<br>loob botohan gamitin balota",
          "",
          "like boto",
          "boto",
          "sino magnanakaw gahaman pwesto pati boto<br>tao",
          "",
          "wala isyung malaki unused ballot<br>malaking isyu gamit balota ibig sabihin<br>nito isyu credibility pagiging bise<br>tangkang pandaraya oo sino maghusga",
          "uh trolls everything fake days fake news<br>fake supporters knows even",
          "nakakahiya tong fake vp natin",
          "sino mandaraya diba garapalan lantaran<br>pandaray tangang lutang",
          "mandaraya nahuli nandaya election<br>inilabas video walang nakakilala nun<br>kapal pagmumukha ninyo hipocrita corrupt",
          "mandaraya hoy nong matanggap talo",
          "ahwww inform mandaraya mama mhiee",
          "pelaez madumb fake vp mandaraya yikes",
          "totoong nanalo madam dapat wala syang<br>takot ipaulit pagbilang padin nanalo<br>abay kahiyahiya ayaw madam malalaman<br>tayong bago",
          "accused bbm pulling publicity stunts lol<br>used accusing others crimes committed",
          "fuck ideas",
          "even know federalism deserve true vp<br>plus cheater",
          "madam well oiled pcos machine choice<br>napansin mukhang hindi alam meaning",
          "favoring",
          "hypocrite soliciting help st scho nuns<br>issue kang hudas iskaryote god knows<br>hudas cheating",
          "sinong ginagago atty makalintal beauty<br>automated election system ginamit hocus<br>pcos tanga makalinta isauli license gaya<br>kliyente",
          "",
          "",
          "laban kasinungalingan",
          "",
          "nandaya smartmatic ngayon wet wet balota<br>haysss buti nakakatulog",
          "kapal pagmumukha",
          "asking dumb expect answers came<br>obscurity unknown inexperienced beating<br>proven public servants like bbm know<br>anything governance says hindi yata<br>dapat faking",
          "",
          "",
          "",
          "resign",
          "kamusta dilawan mayatanda katulad tatay<br>henerasyong ngayon walang alam hidni<br>nakikita pinapakita social media<br>sakanila aral aral libro ineng toy",
          "uy pambayad blogger panget troll",
          "",
          "magnanakaw benefitted yolanda fund last<br>equally magnanakaw magnanakaw boto<br>despite degrees tanga bet even answer<br>prof clarita first question",
          "degree tanga salita gawa paanu earn<br>degree lutang lutang katangahan<br>nakinabang yolanda funds magnanakaw",
          "patay diyan lenie principles values lp<br>kakapitan pinoys mauulit n<br>kawalanghiyaan n pinaggawa boto",
          "magnanakaw",
          "boto",
          "",
          "nag uumpisa",
          "mainit balita bong bong marcos hinamon<br>vp kanyang p",
          "sino paco ojeda pinatay ninyo nadiskurbe<br>anomalya kapanahon asawa",
          "oi haha sirang sira sakin simula namatay<br>asawa nyan lagi kong naririnig tatay<br>wala syang pinagka iba cory pinatay<br>asawa makilala haha lalo aquino<br>trililing iba pang kilalang tao",
          "hwag kalimutan namatay asawa pinatay<br>kanyang bayaw territoryo droga masyadong<br>greedy asawa naging presidente lalakas<br>power bayaw matutuloy magiging capital<br>shabu pilipinas",
          "panu iboboto taong galit galit kagaya vp<br>vp galit pinatay unang asawa npa alam b<br>nila",
          "bwesit asawa npa taga supporta tulad<br>kiko habang ambush sundao puma palakpa<br>wala puso",
          "totoo unang asawa bago namatay nabasa<br>kumander npa kanyang unang nasirang<br>asawa",
          "ganda pic hubby think campaigning time<br>tanong madam kamusta kaso pagkamatay<br>asawa alledged mr bolet life",
          "ata nag diba bayaw nun drug lord naga",
          "intelligent much qualified congressman<br>good role model youth unlike kabit home<br>wreaker",
          "sabi fake vp kanyang video namatay asawa<br>hindi wala akong boyfriend wala akong<br>boyfriend",
          "correct shud genuine vp office means<br>chouse",
          "abangan update zombie naka boto",
          "uh oh proud dh marangal trabaho wala<br>akong inaapakang tao nagnanakaw<br>nakakatulong bansa nakakatulong anyway<br>back fake vp puro pakitang tao<br>magnanakaw boto kapal mukha",
          "p aasahan peke boto ninakaw kaban bayan",
          "lp tunay magnanakaw kaban taong bayan<br>leading panot aquino lp trolls huli",
          "",
          "tingin hindi pagpapakita pagiging<br>desperado",
          "",
          "",
          "nakarma kakampinks",
          "",
          "karugtong",
          "",
          "half million iyaaaaaaaaaaaakkkkk",
          "",
          "",
          "",
          "",
          "",
          "talaga tamad talaga huy mas kilala bbm c<br>bbm hindi pinabayaan proyekto katulad<br>nagiging vp siya diba haba bakasyon<br>amerika pinabayaan proyekto",
          "c okay sinayang incompetent inept good<br>riddance",
          "inang unfit public service nation<br>witnessed awful performance better get<br>experienced social worker knew role<br>services government people proven inept<br>incompetent place public services",
          "oh need know inept effective incumbent<br>know running party threatened extinct<br>teka eloquent talaga ngayon layo<br>impromptu interviews nagdududa talaga",
          "bobita tapos pinklawans claim<br>napakatalino nila yuck malaking<br>yuucccckkk inept lutang palagi maawa<br>pinas",
          "keeps dilawans seeing weak leader stupid<br>inept puppet yet see clearly manny<br>practically",
          "inept candidates isko bobo hindi<br>nakapasa anong national exam noard bar<br>incompetent least pacquiao even college<br>degree omg anong mangyari pagsila ihalal",
          "inept incompetent knew nothing governing<br>complicated society like philippines<br>perfect puppet yellows thus pillaged<br>rest history clone",
          "say crazy inept leaders must mean fvp<br>hypocrite partymates",
          "ben kingsley hopelessly inept even aura<br>lacks luster",
          "vp drug lord bayaw dba call resign call<br>jesse r dilg secretary brother drug lord<br>lamitan mayor drug lord tinangal siya<br>pwesto",
          "affair laila de dayan immoral rape<br>remark joke non existent",
          "ndi kilala ndi kilala tao lumitaw n lng<br>namatay asawa ewan pinatay yatang sadya<br>plano naka todo ngiti burol asawa<br>pakanta kanta delimawayun mging vp xa<br>pangdaraya nila andy sino kumpara",
          "therefore conclude pwedeng maging<br>presidente bise pinatay asawa",
          "hahahah maka tawa manko oy ambag sis<br>sige man siya mama walang gawa",
          "dinaya dapat marcos naging vp hindi<br>lugaw walang ambag",
          "belat konti nlang naloloko mas kapani<br>paniwala magnanakaw amo nyong aquino",
          "well edited pics nagawa walang kakwenta<br>kwentatapos pababanguhin media alagad<br>gagawan nila istorya sabay mumurahin<br>pangulo sino bitter",
          "madam puro publicity nanaman mahina<br>network makatulong kunti tapos nanaman<br>media original pink marcos lol nasaan<br>pangulo lol madam alam namin gawain",
          "tahimik magpapakita feel niyang masiraan<br>pangulo",
          "ubos confidential funds padre inubos<br>inutil madumb kampanya",
          "medalya kabobohan kalutangan yang lutang<br>pati naging bugok kna inutil walang<br>nagawa bayan mabuti vp sara duterte days<br>office dami nyang nagawa",
          "alam bang wala akong pake aquino sino<br>pang politiko pare parehas silang<br>politiko kurakot tulad duterte pasensiya<br>hindi katulad sumasamba politiko",
          "sayang pera madumb buti nun walang<br>budget lng office nakaka punta asulok<br>sulok ghost employees nanaman kurakot",
          "okay ganyan talaga kurakot adik kampi<br>npa walang nagawa bansa bobo",
          "talaga kurakot vp totoo kaban bayan<br>ginamit nyu",
          "nakakahiya kang fake vp wonder katiting<br>wala akong makitang maganda pagkatao<br>nakakahiya photoshoot alam puro ngawa<br>wala gawa",
          "sampal pagmumukha tanga",
          "gusto reference ugok",
          "",
          "dapat sino pagnanakaw boto sus",
          "",
          "tong walang bahid pagsisisi walang<br>kahihiyan mandaraya",
          "like thief night mom boba stole votes<br>filipinos mom became via pcos machine<br>promisedand planned shame dad even hero<br>boba mom made museum using gov funds",
          "ate girl mas dictator papa commanding<br>ban jordanian journalist mas thief mama<br>magnanakaw boto like said like thief<br>night",
          "wala alam foreign policy alam presidente<br>author foreign policy"
         ],
         "legendgroup": "1",
         "marker": {
          "color": "#636efa",
          "symbol": "circle"
         },
         "mode": "markers",
         "name": "1",
         "orientation": "v",
         "showlegend": true,
         "type": "scatter",
         "x": [
          -41.24613952636719,
          -230.5560302734375,
          -262.6259765625,
          -298.85784912109375,
          -145.67193603515625,
          -295.9877624511719,
          39.35301971435547,
          -295.9877624511719,
          -325.93414306640625,
          -295.9877624511719,
          -325.93414306640625,
          -295.9877624511719,
          11.318696975708008,
          -41.24613952636719,
          -67.47248077392578,
          -41.24613952636719,
          39.35301971435547,
          -41.24613952636719,
          39.35301971435547,
          -178.59613037109375,
          -120.72097778320312,
          -295.9877624511719,
          39.35301971435547,
          -78.63044738769531,
          -295.9877624511719,
          -136.63723754882812,
          -295.9877624511719,
          -69.634765625,
          -262.6259765625,
          -325.93414306640625,
          -325.93414306640625,
          -41.24613952636719,
          -230.5560302734375,
          -218.8509979248047,
          -295.9877624511719,
          -230.5560302734375,
          -119.29049682617188,
          -161.82989501953125,
          -41.24613952636719,
          39.35301971435547,
          39.35301971435547,
          -210.97747802734375,
          39.35301971435547,
          -77.22724151611328,
          -210.97747802734375,
          -7.311193943023682,
          39.35301971435547,
          39.35301971435547,
          39.35301971435547,
          -142.5914764404297,
          -83.56278228759766,
          -325.93414306640625,
          39.35301971435547,
          -41.24613952636719,
          -41.24613952636719,
          -230.5560302734375,
          -119.71172332763672,
          -120.72097778320312,
          39.35301971435547,
          -157.64486694335938,
          -295.9877624511719,
          -230.5560302734375,
          11.318696975708008,
          -83.56278228759766,
          -230.5560302734375,
          -161.82989501953125,
          -230.5560302734375,
          -183.16259765625,
          -46.01941680908203,
          -78.63044738769531,
          -273.8560485839844,
          -295.9877624511719,
          -295.9877624511719,
          14.086167335510254,
          -295.9877624511719,
          -230.5560302734375,
          39.35301971435547,
          -325.93414306640625,
          39.35301971435547,
          39.35301971435547,
          -210.97747802734375,
          39.35301971435547,
          -157.64486694335938,
          39.35301971435547,
          -153.06002807617188,
          39.35301971435547,
          39.35301971435547,
          39.35301971435547,
          39.35301971435547,
          39.35301971435547,
          -41.24613952636719,
          -295.9877624511719,
          -41.24613952636719,
          -41.24613952636719,
          -41.24613952636719,
          -273.8560485839844,
          5.3844499588012695,
          -34.722171783447266,
          -295.9877624511719,
          -295.9877624511719,
          -78.63044738769531,
          -273.8560485839844,
          -44.609100341796875,
          -295.9877624511719,
          -230.5560302734375,
          -41.93413543701172,
          -230.5560302734375,
          -41.24613952636719,
          -160.62945556640625,
          -295.9877624511719,
          -230.5560302734375,
          -41.24613952636719,
          -41.24613952636719,
          -41.24613952636719,
          -230.5560302734375,
          -295.9877624511719,
          -98.74718475341797,
          -262.6259765625,
          -262.6259765625,
          39.35301971435547,
          -262.6259765625,
          39.35301971435547,
          -295.9877624511719,
          -41.24613952636719,
          -41.24613952636719,
          -230.5560302734375
         ],
         "xaxis": "x",
         "y": [
          -274.7375183105469,
          -202.595703125,
          8.637656211853027,
          27.39165496826172,
          -143.73941040039062,
          -104.3855209350586,
          -30.452810287475586,
          -104.3855209350586,
          -29.31463050842285,
          -104.3855209350586,
          -29.31463050842285,
          -104.3855209350586,
          -352.26763916015625,
          -274.7375183105469,
          -86.30305480957031,
          -274.7375183105469,
          -30.452810287475586,
          -274.7375183105469,
          -30.452810287475586,
          -11.864524841308594,
          -55.537628173828125,
          -104.3855209350586,
          -30.452810287475586,
          -317.98748779296875,
          -104.3855209350586,
          -120.51287078857422,
          -104.3855209350586,
          -131.41818237304688,
          8.637656211853027,
          -29.31463050842285,
          -29.31463050842285,
          -274.7375183105469,
          -202.595703125,
          10.83143424987793,
          -104.3855209350586,
          -202.595703125,
          -24.212848663330078,
          -268.0195617675781,
          -274.7375183105469,
          -30.452810287475586,
          -30.452810287475586,
          -23.067424774169922,
          -30.452810287475586,
          -107.63272857666016,
          -23.067424774169922,
          -230.4979248046875,
          -30.452810287475586,
          -30.452810287475586,
          -30.452810287475586,
          -9.595492362976074,
          -237.95396423339844,
          -29.31463050842285,
          -30.452810287475586,
          -274.7375183105469,
          -274.7375183105469,
          -202.595703125,
          -83.60843658447266,
          -55.537628173828125,
          -30.452810287475586,
          -37.11688995361328,
          -104.3855209350586,
          -202.595703125,
          -352.26763916015625,
          -237.95396423339844,
          -202.595703125,
          -268.0195617675781,
          -202.595703125,
          20.48723602294922,
          -125.10717010498047,
          -317.98748779296875,
          -223.22579956054688,
          -104.3855209350586,
          -104.3855209350586,
          -265.0827941894531,
          -104.3855209350586,
          -202.595703125,
          -30.452810287475586,
          -29.31463050842285,
          -30.452810287475586,
          -30.452810287475586,
          -23.067424774169922,
          -30.452810287475586,
          -37.11688995361328,
          -30.452810287475586,
          -82.0937728881836,
          -30.452810287475586,
          -30.452810287475586,
          -30.452810287475586,
          -30.452810287475586,
          -30.452810287475586,
          -274.7375183105469,
          -104.3855209350586,
          -274.7375183105469,
          -274.7375183105469,
          -274.7375183105469,
          -223.22579956054688,
          -303.1871032714844,
          -330.5870666503906,
          -104.3855209350586,
          -104.3855209350586,
          -317.98748779296875,
          -223.22579956054688,
          -218.12576293945312,
          -104.3855209350586,
          -202.595703125,
          -101.12814331054688,
          -202.595703125,
          -274.7375183105469,
          -118.06343078613281,
          -104.3855209350586,
          -202.595703125,
          -274.7375183105469,
          -274.7375183105469,
          -274.7375183105469,
          -202.595703125,
          -104.3855209350586,
          -277.94000244140625,
          8.637656211853027,
          8.637656211853027,
          -30.452810287475586,
          8.637656211853027,
          -30.452810287475586,
          -104.3855209350586,
          -274.7375183105469,
          -274.7375183105469,
          -202.595703125
         ],
         "yaxis": "y"
        },
        {
         "customdata": [
          [
           "2",
           "alam drug lord pamilyang ask fled<br>country drug war hahahaha",
           "Topic2: 0.59<br>Topic3: 0.4<br>Topic1: 0.01"
          ],
          [
           "2",
           "dumb inendorso magnanakaw traidor pare<br>parehas dumb kase magnanakaw sinungaling<br>traidor druglord protector npa terorista<br>suporter",
           "Topic2: 0.99"
          ],
          [
           "2",
           "bbm dati hindi siya jsojo bbm solid",
           "Topic2: 0.97<br>Topic1: 0.01<br>Topic3: 0.01"
          ],
          [
           "2",
           "psst yang script ipasa troll farm tugma<br>nginangawa nginangawa nila ulopong bobo<br>script hindi maayos ayos problema<br>barangay lahi",
           "Topic2: 0.99"
          ],
          [
           "2",
           "totoo almost vice pres supporters lakas<br>loob nila marcoses click comment section<br>turned oops",
           "Topic2: 0.99"
          ],
          [
           "2",
           "let correct people vote picos worries<br>comes never first place",
           "Topic2: 0.99<br>Topic1: 0.01<br>Topic3: 0.01"
          ],
          [
           "2",
           "talagang hindi mandaraya nong ms hindi<br>ulitin ngayong darating election",
           "Topic2: 0.98<br>Topic1: 0.01<br>Topic3: 0.01"
          ],
          [
           "2",
           "ulol talaga mananalo kapag mandaraya<br>ulit tulad nong gising namin vp",
           "Topic2: 0.99<br>Topic1: 0.01<br>Topic3: 0.01"
          ],
          [
           "2",
           "pwede bang recount since nakita kayong<br>andy magkasama isang motel hotel yon<br>elctn",
           "Topic2: 0.99"
          ],
          [
           "2",
           "nakita narinig bale hindi talaga<br>maririnig atty magsalita ganoon mahinang<br>klase lutang eka tandaan hindi binibeybe<br>komunista galamay nito dapat pinipisak",
           "Topic2: 0.99"
          ],
          [
           "2",
           "hindi kelangan sambayanang pilipino kang<br>mandaraya eleksyon peke magresign",
           "Topic2: 0.98<br>Topic1: 0.01<br>Topic3: 0.01"
          ],
          [
           "2",
           "atty kumusta impeachment case",
           "Topic2: 0.97<br>Topic1: 0.01<br>Topic3: 0.01"
          ],
          [
           "2",
           "hindi lng sabit kayong lahat mandaraya",
           "Topic2: 0.97<br>Topic1: 0.01<br>Topic3: 0.01"
          ],
          [
           "2",
           "sus miyo day magtrabaho dami satsat anu",
           "Topic2: 0.97<br>Topic1: 0.01<br>Topic3: 0.01"
          ],
          [
           "2",
           "bayot k lakas pumukol pmutak wlang<br>evidence nanay mandaraya plng gawain n",
           "Topic2: 0.99<br>Topic1: 0.01<br>Topic3: 0.01"
          ],
          [
           "2",
           "anong cheapan dirty tactics wg ipasa<br>samin maryosep hahahaha yang hail full<br>disgrace ninyo mandaraya since tanda<br>angat kpa",
           "Topic2: 0.99"
          ],
          [
           "2",
           "walang kwenta bobo anong sibasabi walang<br>bahid kurakot mama laki kinulimbat pera<br>nag hire private lawyer kuno baka<br>kunwari makakuha pera sino ngayon<br>kawatan pera bayan best",
           "Topic2: 0.86<br>Topic1: 0.14"
          ],
          [
           "2",
           "myghad talaga teh",
           "Topic2: 0.94<br>Topic1: 0.03<br>Topic3: 0.03"
          ],
          [
           "2",
           "father tanga oy ayaw namin st kiko kase<br>ayaw namin manloloko bobo tanga kurakot<br>walang kakayahan higit lahat terorista<br>ganto masaya today subo burat angat<br>buhay",
           "Topic2: 0.99"
          ],
          [
           "2",
           "kahihiyaan palamura nanay siya sumira<br>pilipino international coomunity nasaan<br>utak huwag baliktarin nanay maninira<br>atty gadon palamura minumura<br>karapatdapat murahin",
           "Topic2: 0.99"
          ],
          [
           "2",
           "matino mahusay lies walang alam traidor<br>bayan limos ibinibigay pilipino dakot<br>bigas patis lugaw sasa gustong<br>magbarilan pilipino nasaan husay<br>katinuan",
           "Topic2: 0.99"
          ],
          [
           "2",
           "complete opposite talaga incomparable<br>achievements pangulo kesa vp trust<br>ratings shown e vp yata trust rating<br>youtube channel cannot even draw<br>thousand views nasaan bomoto kanya nuong",
           "Topic2: 0.99"
          ],
          [
           "2",
           "nasaan pondo bat pinatayo bugok corrupt<br>choose lutang pareho kayong bobo inutil<br>teh walang nagaw puro epal photo ops<br>nagawa",
           "Topic2: 0.99"
          ],
          [
           "2",
           "sinasabi namin dina nakakatulong<br>nangugulo ipamukha gobyerno marunong<br>dapat unahin kasuhan",
           "Topic2: 0.99<br>Topic1: 0.01<br>Topic3: 0.01"
          ],
          [
           "2",
           "pareho ugali leah navarro kiko<br>pangilinan buong liberal party election<br>vote people associated group tunay<br>magnanakaw bayang pilipinas bistado",
           "Topic2: 0.99"
          ],
          [
           "2",
           "todo kng nakaw donations sabay pasok<br>sariling account pro suportado p",
           "Topic2: 0.99<br>Topic1: 0.01<br>Topic3: 0.01"
          ],
          [
           "2",
           "taena talaga hayup boba kabaro pala taga<br>coa noon nahuhuthutan bigyan mataas<br>taenang magnanakaw",
           "Topic2: 0.99<br>Topic1: 0.01<br>Topic3: 0.01"
          ],
          [
           "2",
           "hoy nadadagdagan kapalpakan sayo taena",
           "Topic2: 0.97<br>Topic1: 0.01<br>Topic3: 0.01"
          ],
          [
           "2",
           "hahahahahshshshs",
           "Topic2: 0.91<br>Topic1: 0.05<br>Topic3: 0.05"
          ],
          [
           "2",
           "putang ina bukod napakabobo<br>napakasinungaling magnanakaw druglord<br>protector npa terorista suporter makita<br>kita personal sabunutan talaga kita<br>demonyo pagmuugali kase putang ina kang",
           "Topic2: 0.99"
          ],
          [
           "2",
           "basura yang ht",
           "Topic2: 0.94<br>Topic1: 0.03<br>Topic3: 0.03"
          ],
          [
           "2",
           "walang sikretong nabubunyag ung binabato<br>paratang years nakakalipas lahat junked<br>turn returning favor",
           "Topic2: 0.99<br>Topic3: 0.01"
          ],
          [
           "2",
           "meme totoo walang ambag bansa batin puro<br>bash nagagawa nyan presindenti natin<br>pres digs dapat pasasalamatan natin todo",
           "Topic2: 0.99"
          ],
          [
           "2",
           "wala namang kwenta bang ambag nyan puro<br>contradictions ginagawa tas walang<br>kwentang comments situation",
           "Topic2: 0.99<br>Topic1: 0.01"
          ],
          [
           "2",
           "sinadya pinatay asawa kumanta drug",
           "Topic2: 0.85<br>Topic1: 0.14<br>Topic3: 0.01"
          ],
          [
           "2",
           "spread disimformation daugther aika sex<br>video accused pbbm height campaign<br>period else believe highest level manay<br>harder",
           "Topic2: 0.99"
          ],
          [
           "2",
           "respect true people pagtakpan bastusin<br>lokohin",
           "Topic2: 0.98<br>Topic1: 0.01<br>Topic3: 0.01"
          ],
          [
           "2",
           "peke",
           "Topic2: 0.89<br>Topic1: 0.06<br>Topic3: 0.05"
          ],
          [
           "2",
           "bobo spokesperson mana nanay lutang yong<br>brain nasa pwet inidoro",
           "Topic2: 0.99<br>Topic1: 0.01<br>Topic3: 0.01"
          ],
          [
           "2",
           "pre shaded mandaraya talaga since<br>haaaysss",
           "Topic2: 0.97<br>Topic1: 0.01<br>Topic3: 0.01"
          ],
          [
           "2",
           "believed cheated pbbm elections<br>insinuated harvard lecture file election<br>protest pet like pbbm isip dinaya<br>nangdaya nun",
           "Topic2: 0.99"
          ],
          [
           "2",
           "infairness consistent lead bbm nahiya<br>kase comelec tssk",
           "Topic2: 0.98<br>Topic1: 0.01<br>Topic3: 0.01"
          ],
          [
           "2",
           "correct dyan real vice president",
           "Topic2: 0.97<br>Topic3: 0.02<br>Topic1: 0.01"
          ],
          [
           "2",
           "speaking mandaraya wayback throw<br>accusations towards bbm people narrow<br>minded voted one deserves throne",
           "Topic2: 0.99"
          ],
          [
           "2",
           "meron multo bumoto sobra talaga<br>pagkakasemento mukha aling",
           "Topic2: 0.66<br>Topic3: 0.33<br>Topic1: 0.01"
          ],
          [
           "2",
           "hindi umupo bbm siya walang humpay<br>tawaging",
           "Topic2: 0.98<br>Topic1: 0.01<br>Topic3: 0.01"
          ],
          [
           "2",
           "tama talagang maganda ala tiwal sayo tao<br>never namin pinagkatiwalaan",
           "Topic2: 0.98<br>Topic1: 0.01<br>Topic3: 0.01"
          ],
          [
           "2",
           "retweeted cranes kalokohan ipagpalagay<br>natin kampo nagprotesta tingin<br>idodownplay nila wet ballots lalo php",
           "Topic2: 0.99<br>Topic1: 0.01"
          ],
          [
           "2",
           "talaga",
           "Topic2: 0.85<br>Topic1: 0.08<br>Topic3: 0.07"
          ],
          [
           "2",
           "kapag nakakakita pink nakikita hanggat<br>natatapos eleksiyon never wear pink",
           "Topic2: 0.99<br>Topic1: 0.01<br>Topic3: 0.01"
          ],
          [
           "2",
           "admit tha bobang fvp nandaya magnanakaw<br>boto hirap talaga tangapin katituhanan",
           "Topic2: 0.98<br>Topic1: 0.01<br>Topic3: 0.01"
          ],
          [
           "2",
           "pla tnutukoy pnapatamaan oraaayytt",
           "Topic2: 0.97<br>Topic1: 0.02<br>Topic3: 0.02"
          ],
          [
           "2",
           "ulol kau hindi masagot tama tanong dun",
           "Topic2: 0.97<br>Topic1: 0.01<br>Topic3: 0.01"
          ],
          [
           "2",
           "worry hindi namin iboboto safe",
           "Topic2: 0.97<br>Topic1: 0.01<br>Topic3: 0.01"
          ],
          [
           "2",
           "thank sharing news thank letting us know<br>confident win recount already tampered<br>everything hayup hayup",
           "Topic2: 0.99"
          ],
          [
           "2",
           "hihintayin namin madaling araw bilangn<br>boto daming kaso malaya marcoses common<br>sense left room",
           "Topic2: 0.99"
          ],
          [
           "2",
           "luto balota naka ready mandaya retweet<br>maging aware lahat",
           "Topic2: 0.99<br>Topic1: 0.01<br>Topic3: 0.01"
          ],
          [
           "2",
           "billion galing nakaw sabi marcos<br>magnanakaw mas masahol buwan",
           "Topic2: 0.98<br>Topic1: 0.01<br>Topic3: 0.01"
          ],
          [
           "2",
           "eto napanood",
           "Topic2: 0.91<br>Topic1: 0.05<br>Topic3: 0.05"
          ],
          [
           "2",
           "tamad bbm batugan protect pbbm",
           "Topic2: 0.97<br>Topic1: 0.01<br>Topic3: 0.01"
          ],
          [
           "2",
           "mas tamad c photo opps alam fyi kawatan",
           "Topic2: 0.97<br>Topic1: 0.01<br>Topic3: 0.01"
          ],
          [
           "2",
           "salot k lipunan",
           "Topic2: 0.94<br>Topic1: 0.03<br>Topic3: 0.03"
          ],
          [
           "2",
           "oo manaig katotohanan nagpundo drug<br>cartel bayaw pinatay asawa jessie drug<br>generals kalaban manaig sabi manaig<br>katutuhan huwag utoutoin alam namin<br>katuthanan",
           "Topic2: 0.99"
          ],
          [
           "2",
           "tanong relatives naga nag dodroga tanong<br>pinatay kanyang asawa drug protector<br>wahahhah",
           "Topic2: 0.85<br>Topic1: 0.15<br>Topic3: 0.01"
          ],
          [
           "2",
           "kampo ulit mandaraya katulad kc kulelat<br>frontrunner bang kailangan mandaya",
           "Topic2: 0.99<br>Topic1: 0.01<br>Topic3: 0.01"
          ],
          [
           "2",
           "huwag ibase respeto credentials tao<br>kahit sandamakmak award natanggap<br>sinungaling sinisiraan sariling bansa<br>pagkatalo election tandaan mananatili<br>kang talunan walang ambag lipunan",
           "Topic2: 0.99"
          ],
          [
           "2",
           "day robbed millions votes filipinos",
           "Topic2: 0.97<br>Topic1: 0.02<br>Topic3: 0.02"
          ],
          [
           "2",
           "walang common sense aling ganun maski<br>siguro panis bigay donors e distribute<br>tutal bigay donors tiga distribute<br>masabing tumulong",
           "Topic2: 0.99"
          ],
          [
           "2",
           "oh talaga kayong kakarampot kakampinks<br>nakakaramdam administrasyon sanay niyong<br>basura photo ops alam gawin difficult<br>times wala talagang nagagawa eeew",
           "Topic2: 0.99"
          ],
          [
           "2",
           "sanay ghurl taong nagtatrabaho walang<br>bitbit camera media taong epal ksp<br>nasanay lugaw mamimigay spaghetti<br>matching lights camera action<br>hahahaduken",
           "Topic2: 0.99"
          ],
          [
           "2",
           "tingin kumikilos pbbm naive palibhasa<br>sanay ke puro publicity imbes mangutya<br>dyan pagdasal natin bansa natin",
           "Topic2: 0.99"
          ],
          [
           "2",
           "lol nasanay mapagpanggap dilawan busit<br>kala aatras bagyo papresscon bbm sanay<br>photo op queen kasagasagan bagyo<br>hometown nasa new york nagshoshopping<br>mahagilap uwi nagyoga",
           "Topic2: 0.99"
          ],
          [
           "2",
           "pet kumusta usad kaso laban dayaan<br>nangyari eleksyon",
           "Topic2: 0.98<br>Topic1: 0.01<br>Topic3: 0.01"
          ],
          [
           "2",
           "talunan nanga nagiging bobo kapa kapa<br>kame masaya resulta mandaya baka mas<br>mataas million vote bbm mandaraya since",
           "Topic2: 0.99"
          ],
          [
           "2",
           "bwahaha hahahaha parallel universe<br>gobyerno never heard realidad kumbaga<br>walang epek peke wala ngang ambag trust<br>approval rating bagsak natural filipino<br>citizen k magbigay award hindi iilan",
           "Topic2: 1.0"
          ],
          [
           "2",
           "hindi mahina kominikasyon walang<br>experience governance kaalyado legal<br>fronts komunista gustong ipatanggal<br>gustong itigil laban droga maraming<br>nakapalibot dilaw palaging kontra<br>gobyerno",
           "Topic2: 0.99"
          ],
          [
           "2",
           "vovo matagal walang galaw unilever<br>ngayon ganyan kalaki nakikita nila<br>potential administrasyong marcos panahon<br>pnoy wala tatak palpak dilaw magkano<br>ambag ekonomiya tae tae",
           "Topic2: 0.99"
          ],
          [
           "2",
           "bukod tanging presidentiable npa<br>partylist tapos sasabihin wala kang<br>ugnayan senatorial lineup halos kasapi<br>npa ate shawie nmn bumuka bunganga sabay<br>kabig gawin bobbooo tao vp",
           "Topic2: 0.99"
          ],
          [
           "2",
           "wala kasing ibang topic alam walang alam<br>phil law economics local governance<br>sayang hype description ambag drug war<br>pandemic response wala subject harvard<br>best photo ops",
           "Topic2: 0.99"
          ]
         ],
         "hovertemplate": "<b>%{hovertext}</b><br><br>Breakdown=%{customdata[2]}<extra></extra>",
         "hovertext": [
          "alam drug lord pamilyang ask fled<br>country drug war hahahaha",
          "dumb inendorso magnanakaw traidor pare<br>parehas dumb kase magnanakaw sinungaling<br>traidor druglord protector npa terorista<br>suporter",
          "bbm dati hindi siya jsojo bbm solid",
          "psst yang script ipasa troll farm tugma<br>nginangawa nginangawa nila ulopong bobo<br>script hindi maayos ayos problema<br>barangay lahi",
          "totoo almost vice pres supporters lakas<br>loob nila marcoses click comment section<br>turned oops",
          "let correct people vote picos worries<br>comes never first place",
          "talagang hindi mandaraya nong ms hindi<br>ulitin ngayong darating election",
          "ulol talaga mananalo kapag mandaraya<br>ulit tulad nong gising namin vp",
          "pwede bang recount since nakita kayong<br>andy magkasama isang motel hotel yon<br>elctn",
          "nakita narinig bale hindi talaga<br>maririnig atty magsalita ganoon mahinang<br>klase lutang eka tandaan hindi binibeybe<br>komunista galamay nito dapat pinipisak",
          "hindi kelangan sambayanang pilipino kang<br>mandaraya eleksyon peke magresign",
          "atty kumusta impeachment case",
          "hindi lng sabit kayong lahat mandaraya",
          "sus miyo day magtrabaho dami satsat anu",
          "bayot k lakas pumukol pmutak wlang<br>evidence nanay mandaraya plng gawain n",
          "anong cheapan dirty tactics wg ipasa<br>samin maryosep hahahaha yang hail full<br>disgrace ninyo mandaraya since tanda<br>angat kpa",
          "walang kwenta bobo anong sibasabi walang<br>bahid kurakot mama laki kinulimbat pera<br>nag hire private lawyer kuno baka<br>kunwari makakuha pera sino ngayon<br>kawatan pera bayan best",
          "myghad talaga teh",
          "father tanga oy ayaw namin st kiko kase<br>ayaw namin manloloko bobo tanga kurakot<br>walang kakayahan higit lahat terorista<br>ganto masaya today subo burat angat<br>buhay",
          "kahihiyaan palamura nanay siya sumira<br>pilipino international coomunity nasaan<br>utak huwag baliktarin nanay maninira<br>atty gadon palamura minumura<br>karapatdapat murahin",
          "matino mahusay lies walang alam traidor<br>bayan limos ibinibigay pilipino dakot<br>bigas patis lugaw sasa gustong<br>magbarilan pilipino nasaan husay<br>katinuan",
          "complete opposite talaga incomparable<br>achievements pangulo kesa vp trust<br>ratings shown e vp yata trust rating<br>youtube channel cannot even draw<br>thousand views nasaan bomoto kanya nuong",
          "nasaan pondo bat pinatayo bugok corrupt<br>choose lutang pareho kayong bobo inutil<br>teh walang nagaw puro epal photo ops<br>nagawa",
          "sinasabi namin dina nakakatulong<br>nangugulo ipamukha gobyerno marunong<br>dapat unahin kasuhan",
          "pareho ugali leah navarro kiko<br>pangilinan buong liberal party election<br>vote people associated group tunay<br>magnanakaw bayang pilipinas bistado",
          "todo kng nakaw donations sabay pasok<br>sariling account pro suportado p",
          "taena talaga hayup boba kabaro pala taga<br>coa noon nahuhuthutan bigyan mataas<br>taenang magnanakaw",
          "hoy nadadagdagan kapalpakan sayo taena",
          "hahahahahshshshs",
          "putang ina bukod napakabobo<br>napakasinungaling magnanakaw druglord<br>protector npa terorista suporter makita<br>kita personal sabunutan talaga kita<br>demonyo pagmuugali kase putang ina kang",
          "basura yang ht",
          "walang sikretong nabubunyag ung binabato<br>paratang years nakakalipas lahat junked<br>turn returning favor",
          "meme totoo walang ambag bansa batin puro<br>bash nagagawa nyan presindenti natin<br>pres digs dapat pasasalamatan natin todo",
          "wala namang kwenta bang ambag nyan puro<br>contradictions ginagawa tas walang<br>kwentang comments situation",
          "sinadya pinatay asawa kumanta drug",
          "spread disimformation daugther aika sex<br>video accused pbbm height campaign<br>period else believe highest level manay<br>harder",
          "respect true people pagtakpan bastusin<br>lokohin",
          "peke",
          "bobo spokesperson mana nanay lutang yong<br>brain nasa pwet inidoro",
          "pre shaded mandaraya talaga since<br>haaaysss",
          "believed cheated pbbm elections<br>insinuated harvard lecture file election<br>protest pet like pbbm isip dinaya<br>nangdaya nun",
          "infairness consistent lead bbm nahiya<br>kase comelec tssk",
          "correct dyan real vice president",
          "speaking mandaraya wayback throw<br>accusations towards bbm people narrow<br>minded voted one deserves throne",
          "meron multo bumoto sobra talaga<br>pagkakasemento mukha aling",
          "hindi umupo bbm siya walang humpay<br>tawaging",
          "tama talagang maganda ala tiwal sayo tao<br>never namin pinagkatiwalaan",
          "retweeted cranes kalokohan ipagpalagay<br>natin kampo nagprotesta tingin<br>idodownplay nila wet ballots lalo php",
          "talaga",
          "kapag nakakakita pink nakikita hanggat<br>natatapos eleksiyon never wear pink",
          "admit tha bobang fvp nandaya magnanakaw<br>boto hirap talaga tangapin katituhanan",
          "pla tnutukoy pnapatamaan oraaayytt",
          "ulol kau hindi masagot tama tanong dun",
          "worry hindi namin iboboto safe",
          "thank sharing news thank letting us know<br>confident win recount already tampered<br>everything hayup hayup",
          "hihintayin namin madaling araw bilangn<br>boto daming kaso malaya marcoses common<br>sense left room",
          "luto balota naka ready mandaya retweet<br>maging aware lahat",
          "billion galing nakaw sabi marcos<br>magnanakaw mas masahol buwan",
          "eto napanood",
          "tamad bbm batugan protect pbbm",
          "mas tamad c photo opps alam fyi kawatan",
          "salot k lipunan",
          "oo manaig katotohanan nagpundo drug<br>cartel bayaw pinatay asawa jessie drug<br>generals kalaban manaig sabi manaig<br>katutuhan huwag utoutoin alam namin<br>katuthanan",
          "tanong relatives naga nag dodroga tanong<br>pinatay kanyang asawa drug protector<br>wahahhah",
          "kampo ulit mandaraya katulad kc kulelat<br>frontrunner bang kailangan mandaya",
          "huwag ibase respeto credentials tao<br>kahit sandamakmak award natanggap<br>sinungaling sinisiraan sariling bansa<br>pagkatalo election tandaan mananatili<br>kang talunan walang ambag lipunan",
          "day robbed millions votes filipinos",
          "walang common sense aling ganun maski<br>siguro panis bigay donors e distribute<br>tutal bigay donors tiga distribute<br>masabing tumulong",
          "oh talaga kayong kakarampot kakampinks<br>nakakaramdam administrasyon sanay niyong<br>basura photo ops alam gawin difficult<br>times wala talagang nagagawa eeew",
          "sanay ghurl taong nagtatrabaho walang<br>bitbit camera media taong epal ksp<br>nasanay lugaw mamimigay spaghetti<br>matching lights camera action<br>hahahaduken",
          "tingin kumikilos pbbm naive palibhasa<br>sanay ke puro publicity imbes mangutya<br>dyan pagdasal natin bansa natin",
          "lol nasanay mapagpanggap dilawan busit<br>kala aatras bagyo papresscon bbm sanay<br>photo op queen kasagasagan bagyo<br>hometown nasa new york nagshoshopping<br>mahagilap uwi nagyoga",
          "pet kumusta usad kaso laban dayaan<br>nangyari eleksyon",
          "talunan nanga nagiging bobo kapa kapa<br>kame masaya resulta mandaya baka mas<br>mataas million vote bbm mandaraya since",
          "bwahaha hahahaha parallel universe<br>gobyerno never heard realidad kumbaga<br>walang epek peke wala ngang ambag trust<br>approval rating bagsak natural filipino<br>citizen k magbigay award hindi iilan",
          "hindi mahina kominikasyon walang<br>experience governance kaalyado legal<br>fronts komunista gustong ipatanggal<br>gustong itigil laban droga maraming<br>nakapalibot dilaw palaging kontra<br>gobyerno",
          "vovo matagal walang galaw unilever<br>ngayon ganyan kalaki nakikita nila<br>potential administrasyong marcos panahon<br>pnoy wala tatak palpak dilaw magkano<br>ambag ekonomiya tae tae",
          "bukod tanging presidentiable npa<br>partylist tapos sasabihin wala kang<br>ugnayan senatorial lineup halos kasapi<br>npa ate shawie nmn bumuka bunganga sabay<br>kabig gawin bobbooo tao vp",
          "wala kasing ibang topic alam walang alam<br>phil law economics local governance<br>sayang hype description ambag drug war<br>pandemic response wala subject harvard<br>best photo ops"
         ],
         "legendgroup": "2",
         "marker": {
          "color": "#EF553B",
          "symbol": "circle"
         },
         "mode": "markers",
         "name": "2",
         "orientation": "v",
         "showlegend": true,
         "type": "scatter",
         "x": [
          28.682092666625977,
          -58.21885299682617,
          -140.62570190429688,
          -58.21885299682617,
          -58.21885299682617,
          -214.82630920410156,
          -204.33843994140625,
          -214.82630920410156,
          -17.46645164489746,
          -58.21885299682617,
          -204.33843994140625,
          -140.62570190429688,
          -140.62570190429688,
          -140.62570190429688,
          -214.82630920410156,
          -58.21885299682617,
          -3.359022378921509,
          -78.81674194335938,
          -58.21885299682617,
          -72.81041717529297,
          -17.46645164489746,
          -17.46645164489746,
          -17.46645164489746,
          -214.82630920410156,
          -17.46645164489746,
          -214.82630920410156,
          -214.82630920410156,
          -140.62570190429688,
          -52.651832580566406,
          -58.21885299682617,
          -78.81674194335938,
          -131.03237915039062,
          -17.46645164489746,
          -165.3203125,
          -19.6726016998291,
          -58.21885299682617,
          -204.33843994140625,
          -31.25030517578125,
          -214.82630920410156,
          -140.62570190429688,
          -58.21885299682617,
          -204.33843994140625,
          -128.7577667236328,
          -58.21885299682617,
          22.861167907714844,
          -204.33843994140625,
          -204.33843994140625,
          -165.3203125,
          -9.55548095703125,
          -214.82630920410156,
          -204.33843994140625,
          -182.21177673339844,
          -140.62570190429688,
          -140.62570190429688,
          -58.21885299682617,
          -58.21885299682617,
          -214.82630920410156,
          -204.33843994140625,
          -52.651832580566406,
          -140.62570190429688,
          -140.62570190429688,
          -78.81674194335938,
          -58.21885299682617,
          7.948982238769531,
          -214.82630920410156,
          -17.46645164489746,
          -158.1134033203125,
          -17.46645164489746,
          -58.21885299682617,
          -58.21885299682617,
          -58.21885299682617,
          -58.21885299682617,
          -204.33843994140625,
          -58.21885299682617,
          20.545570373535156,
          -58.21885299682617,
          -17.46645164489746,
          -58.21885299682617,
          -17.46645164489746
         ],
         "xaxis": "x",
         "y": [
          56.87382125854492,
          312.5145568847656,
          140.01589965820312,
          312.5145568847656,
          312.5145568847656,
          243.66819763183594,
          164.4468536376953,
          243.66819763183594,
          268.3006896972656,
          312.5145568847656,
          164.4468536376953,
          140.01589965820312,
          140.01589965820312,
          140.01589965820312,
          243.66819763183594,
          312.5145568847656,
          170.52682495117188,
          82.99317169189453,
          312.5145568847656,
          254.22708129882812,
          268.3006896972656,
          268.3006896972656,
          268.3006896972656,
          243.66819763183594,
          268.3006896972656,
          243.66819763183594,
          243.66819763183594,
          140.01589965820312,
          119.62004852294922,
          312.5145568847656,
          82.99317169189453,
          251.81820678710938,
          268.3006896972656,
          309.03057861328125,
          152.1066436767578,
          312.5145568847656,
          164.4468536376953,
          99.88076782226562,
          243.66819763183594,
          140.01589965820312,
          312.5145568847656,
          164.4468536376953,
          92.81509399414062,
          312.5145568847656,
          75.43712615966797,
          164.4468536376953,
          164.4468536376953,
          309.03057861328125,
          119.11495971679688,
          243.66819763183594,
          164.4468536376953,
          98.68514251708984,
          140.01589965820312,
          140.01589965820312,
          312.5145568847656,
          312.5145568847656,
          243.66819763183594,
          164.4468536376953,
          119.62004852294922,
          140.01589965820312,
          140.01589965820312,
          82.99317169189453,
          312.5145568847656,
          147.58786010742188,
          243.66819763183594,
          268.3006896972656,
          80.80900573730469,
          268.3006896972656,
          312.5145568847656,
          312.5145568847656,
          312.5145568847656,
          312.5145568847656,
          164.4468536376953,
          312.5145568847656,
          343.7015380859375,
          312.5145568847656,
          268.3006896972656,
          312.5145568847656,
          268.3006896972656
         ],
         "yaxis": "y"
        },
        {
         "customdata": [
          [
           "3",
           "ayan nasimulan aminin nalang kakampwets<br>inflation rereklamo walang ambag<br>solusyon walang nagawa magawa utak utak<br>saan meron walaaaa",
           "Topic3: 0.99"
          ],
          [
           "3",
           "supported colmenares chiding bbm trying<br>put bbm shame implying bbm death threat<br>thru tiktok komunistang komunista da<br>moves hehehe",
           "Topic3: 0.99"
          ],
          [
           "3",
           "unless dimwit condemns criminal acts<br>committed years communist terrorist<br>sympathizer enabler",
           "Topic3: 0.99<br>Topic1: 0.01<br>Topic2: 0.01"
          ],
          [
           "3",
           "habang tulog pilipinas gising mandaraya<br>rather president like prrd kahit tulog<br>gumagalaw kanyang departamento hindi<br>kailangang gising presidente<br>makapagserbisyo gobyerno service",
           "Topic3: 0.86<br>Topic1: 0.14"
          ],
          [
           "3",
           "mandadaya dinaya election nanalo hindi<br>narin aq magtataka manalo ulit mandaraya<br>hahahahahahhaha mauulit lng panahon cory<br>nanalo",
           "Topic3: 0.99"
          ],
          [
           "3",
           "smartmatic bad reputation countries<br>infact banned us countries ayan meron<br>tayong u c",
           "Topic3: 0.99<br>Topic1: 0.01<br>Topic2: 0.01"
          ],
          [
           "3",
           "kelan iimbestigahan",
           "Topic3: 0.95<br>Topic1: 0.03<br>Topic2: 0.03"
          ],
          [
           "3",
           "hipocrita fake louis vuitton fake",
           "Topic3: 0.97<br>Topic1: 0.01<br>Topic2: 0.01"
          ],
          [
           "3",
           "totoo talaga fake fake louis vuitton",
           "Topic3: 0.72<br>Topic1: 0.26<br>Topic2: 0.01"
          ],
          [
           "3",
           "sinong maniniwalang bumoto mantakin<br>million lng lamang prrd kanya terms<br>numbers",
           "Topic3: 0.99<br>Topic1: 0.01<br>Topic2: 0.01"
          ],
          [
           "3",
           "signing kidding slitting throat chos",
           "Topic3: 0.98<br>Topic1: 0.01<br>Topic2: 0.01"
          ],
          [
           "3",
           "dds time make contributions country",
           "Topic3: 0.97<br>Topic2: 0.02<br>Topic1: 0.01"
          ],
          [
           "3",
           "evidently denying bcoz know impact<br>denial joma withdrew statement known<br>drug lord naga maybe investigate death<br>lol autopsy even made typical pinoy<br>teleserye outcome",
           "Topic3: 0.99"
          ],
          [
           "3",
           "people philippines speaks louis vuitton<br>fake",
           "Topic3: 0.98<br>Topic1: 0.01<br>Topic2: 0.01"
          ],
          [
           "3",
           "jesse died carrying drug money lp<br>cleaned mess staged saint favoring<br>future use html",
           "Topic3: 0.99"
          ],
          [
           "3",
           "read news inquirer drug suspects<br>arrested yesterday caught naga city<br>duterte right naga hotbed shabu made<br>happened butch make philippines hotbed<br>twimg twimg",
           "Topic3: 0.99"
          ],
          [
           "3",
           "alleged butch brother late department<br>interior local government secretary<br>jesse served city mayor since six terms<br>involved drug trade html twimg twimg<br>twimg",
           "Topic3: 0.99"
          ],
          [
           "3",
           "sana vp unang aatupagin sino nagpa<br>papatay asawa",
           "Topic3: 0.98<br>Topic1: 0.01<br>Topic2: 0.01"
          ],
          [
           "3",
           "galit c vp r unang asawa npa pintay",
           "Topic3: 0.66<br>Topic1: 0.33<br>Topic2: 0.02"
          ],
          [
           "3",
           "jesse extremely dangerous vp involvement<br>drugs smuggling jueteng murders",
           "Topic3: 0.99<br>Topic1: 0.01<br>Topic2: 0.01"
          ],
          [
           "3",
           "kesa magnanakaw boto laki lamang ibig<br>sabihin nanakaw",
           "Topic3: 0.98<br>Topic1: 0.01<br>Topic2: 0.01"
          ],
          [
           "3",
           "kikilabutan talaga jan kasqma kaluliwang<br>boboto botahan",
           "Topic3: 0.98<br>Topic1: 0.01<br>Topic2: 0.01"
          ],
          [
           "3",
           "nostradamus prediction president duterte<br>weprotectprrd matter",
           "Topic3: 0.98<br>Topic1: 0.01<br>Topic2: 0.01"
          ],
          [
           "3",
           "supported candidacy thats daughters<br>fault knew start mother inept vp inept<br>political figure totally still decided<br>anyway vie presidency coud mistake",
           "Topic3: 0.99"
          ],
          [
           "3",
           "even exist head president inept<br>hypocritical liar encourages cancel<br>culture spreads fake news knowingly<br>misinforms public disrespects church<br>among things dangerous dats por bidyo",
           "Topic3: 0.99"
          ],
          [
           "3",
           "almost years vice president could enough<br>catapult front bid highest position land<br>nothing done right opposite everything<br>shows shallow inept incapable leader",
           "Topic3: 0.99"
          ],
          [
           "3",
           "sinungaling kapatid magnanakaw",
           "Topic3: 0.95<br>Topic1: 0.02<br>Topic2: 0.02"
          ],
          [
           "3",
           "tukoy bongbong marcos lugar naganap<br>pandaraya ro",
           "Topic3: 0.98<br>Topic1: 0.01<br>Topic2: 0.01"
          ],
          [
           "3",
           "yeah number one sinungaling magnanakaw<br>boto sure net approval low survey san<br>galing boto last election yolanda funds<br>oops nakinabang pagnanakaw magnanakaw<br>right",
           "Topic3: 0.96<br>Topic1: 0.03"
          ],
          [
           "3",
           "paano magawa trabaho ninanakaw pagka vp<br>tuloy",
           "Topic3: 0.98<br>Topic1: 0.01<br>Topic2: 0.01"
          ],
          [
           "3",
           "confirmed dinaya bbm election",
           "Topic3: 0.96<br>Topic1: 0.02<br>Topic2: 0.02"
          ],
          [
           "3",
           "utak",
           "Topic3: 0.89<br>Topic1: 0.06<br>Topic2: 0.06"
          ],
          [
           "3",
           "throwback iboboto sinungaling nuna<br>nangyari daughter girl",
           "Topic3: 0.98<br>Topic1: 0.01<br>Topic2: 0.01"
          ],
          [
           "3",
           "inept doctors choose inept moronic",
           "Topic3: 0.87<br>Topic2: 0.12<br>Topic1: 0.01"
          ],
          [
           "3",
           "hope realize inept",
           "Topic3: 0.96<br>Topic1: 0.02<br>Topic2: 0.02"
          ],
          [
           "3",
           "seen clearly shows political puppet<br>liberal party failure congresswoman<br>totally inept vp logic worse junkie weed<br>yorme call fake leader fake colors<br>goodness",
           "Topic3: 0.99"
          ],
          [
           "3",
           "inconsequential inept idiotic politician<br>philippines complains getting called<br>moronic ideas madame nakakapikon<br>kabobohan ninyo pinangangalandakan ninyo<br>msm",
           "Topic3: 0.99"
          ],
          [
           "3",
           "hay tatamad tamad pala president ninyo",
           "Topic3: 0.97<br>Topic1: 0.01<br>Topic2: 0.01"
          ],
          [
           "3",
           "really meant never prez philippines<br>takes reality say god saved lie actually<br>philippines god saved inept incompetent<br>individual good riddance",
           "Topic3: 0.99"
          ],
          [
           "3",
           "truly intelligent suppose gather million<br>votes instead nation witnessed<br>incompetent low iq awful performance<br>sweet lips congee spaghetti solve issue<br>signs weakness inept public services",
           "Topic3: 0.99"
          ],
          [
           "3",
           "nagmamagaling hahahahah",
           "Topic3: 0.95<br>Topic1: 0.03<br>Topic2: 0.03"
          ],
          [
           "3",
           "daya madam rt source ballots<br>municipality baao camarines sur<br>discovered",
           "Topic3: 0.98<br>Topic1: 0.01<br>Topic2: 0.01"
          ],
          [
           "3",
           "april fools",
           "Topic3: 0.95<br>Topic1: 0.03<br>Topic2: 0.03"
          ],
          [
           "3",
           "hands pointed cheated election",
           "Topic3: 0.97<br>Topic1: 0.02<br>Topic2: 0.02"
          ],
          [
           "3",
           "katotohanan",
           "Topic3: 0.89<br>Topic1: 0.06<br>Topic2: 0.06"
          ],
          [
           "3",
           "manual recount karon vp basa ubang<br>ballots fishy kaayo nilabay naa ballot<br>boxes daun basa karon wala lugar nauga<br>laaams naah",
           "Topic3: 0.99"
          ],
          [
           "3",
           "agree noynoy appointed sereno cj<br>conching sandigan bayan bautista comelec<br>chairman manipulate everything including<br>cheating seat regain power absolve<br>corruption lawsuits looking ahead",
           "Topic3: 0.99"
          ],
          [
           "3",
           "anything duterte bec fil public embraced<br>warmly shown campaign trail instructed<br>smartmatic hocus pocus vp race",
           "Topic3: 0.99"
          ],
          [
           "3",
           "nalulungkot nababahala nangangamba<br>napakalaking bilang naniniwala hindi<br>vice president aling",
           "Topic3: 0.99<br>Topic1: 0.01<br>Topic2: 0.01"
          ],
          [
           "3",
           "itapon mandaraya election ninakaw boto",
           "Topic3: 0.97<br>Topic1: 0.02<br>Topic2: 0.01"
          ],
          [
           "3",
           "big contrast indeed prrd working hardto<br>improve life vp photo op improve image<br>tainted cheatingin election",
           "Topic3: 0.99"
          ],
          [
           "3",
           "lp mandaraya election imagine franklin<br>drillon votes joel villanueva kiko de<br>lima patunay malawakan pandaraya lp last<br>election walang gusto nanalo paano hindi<br>kilala pilipinas",
           "Topic3: 0.99"
          ],
          [
           "3",
           "unang fake vp kahit hindi apologists mas<br>pinili marcos mandaraya",
           "Topic3: 0.98<br>Topic1: 0.01<br>Topic2: 0.01"
          ],
          [
           "3",
           "campaign team trying market aika victim<br>sexual abuse victim someone sex video<br>nobody internet could find aika sex<br>video figment imagination exist",
           "Topic3: 0.99"
          ],
          [
           "3",
           "saint kabit cya banal",
           "Topic3: 0.96<br>Topic1: 0.02<br>Topic2: 0.02"
          ],
          [
           "3",
           "butch brother jessie drug lord wanted<br>pdea one narcos drugs watchlists fake vp<br>really drug lord protector",
           "Topic3: 0.99"
          ],
          [
           "3",
           "admits elago daughter w fling jover<br>daughter admits affair denies<br>presidential ambitions baraan bautista<br>hiding netherlands jim kaloi sonny<br>caught menage troie pldt",
           "Topic3: 0.99"
          ],
          [
           "3",
           "edwin dear incompetent strategically<br>inept qualities woman qualities person<br>magkaiba gma also woman competent<br>strategic",
           "Topic3: 0.99"
          ],
          [
           "3",
           "inept fake vp philippines history",
           "Topic3: 0.96<br>Topic1: 0.02<br>Topic2: 0.02"
          ],
          [
           "3",
           "prrd tinukoy bayaw drug lord naga city<br>smni news",
           "Topic3: 0.98<br>Topic1: 0.01<br>Topic2: 0.01"
          ],
          [
           "3",
           "meron sex video anak sabi mismo napaka<br>gross ina magpakalat tsimis sinegundahan<br>paeng ipen",
           "Topic3: 0.99"
          ],
          [
           "3",
           "sadly mas pinili supreme court<br>integridad election kesa katotohanan<br>nandaya election dyan lalabas<br>katotohanan nanalo noon daya matalo<br>makikilala mandaraya fake vp",
           "Topic3: 0.99"
          ],
          [
           "3",
           "daya kapal muka pandaraya mananalo http",
           "Topic3: 0.98<br>Topic1: 0.01<br>Topic2: 0.01"
          ],
          [
           "3",
           "vp bayan tulong",
           "Topic3: 0.7<br>Topic1: 0.27<br>Topic2: 0.03"
          ],
          [
           "3",
           "newly selected vp rep philippines shame",
           "Topic3: 0.97<br>Topic1: 0.02<br>Topic2: 0.01"
          ],
          [
           "3",
           "lol disgrasya pinas patunay mandaraya<br>sinungaling hahahaha",
           "Topic3: 0.98<br>Topic1: 0.01<br>Topic2: 0.01"
          ],
          [
           "3",
           "think mama malinis everyone mandaraya<br>dont forget bbm voters lamang brownout<br>saka biglang lumamang",
           "Topic3: 0.99<br>Topic1: 0.01"
          ],
          [
           "3",
           "mas mandaraya c",
           "Topic3: 0.82<br>Topic1: 0.09<br>Topic2: 0.09"
          ],
          [
           "3",
           "kaylan sarah kelan nasa serbisyo paka<br>selective memory kelangan mamatay asawa<br>bago gawin cory lol kumag mandaraya<br>tumakbo matalo nandaya mandurugas layo<br>lamang ngayon",
           "Topic3: 0.99"
          ],
          [
           "3",
           "goodbye lugaw mandaraya elections",
           "Topic3: 0.96<br>Topic1: 0.02<br>Topic2: 0.02"
          ],
          [
           "3",
           "vp lamang galit ganti puso bbm kanino<br>lalaban bbm plataporma adbokasiya pra<br>ikakaunlad pilipinas namin nakakalimutan<br>dinaya elections ngayon hindi mangyayari",
           "Topic3: 0.99"
          ],
          [
           "3",
           "pandaraya gawain wag niyong ibahin<br>totoong mandaraya",
           "Topic3: 0.98<br>Topic1: 0.01<br>Topic2: 0.01"
          ],
          [
           "3",
           "boba mandaraya remember election",
           "Topic3: 0.96<br>Topic1: 0.02<br>Topic2: 0.02"
          ],
          [
           "3",
           "mandaraya never forget",
           "Topic3: 0.95<br>Topic2: 0.03<br>Topic1: 0.02"
          ],
          [
           "3",
           "sobra sobra pandaraya ngayon katotohanan<br>pilipinas utak macalintal nito",
           "Topic3: 0.98<br>Topic1: 0.01<br>Topic2: 0.01"
          ],
          [
           "3",
           "mother talaga mahirap nasa ibang bansa<br>naloloko naghahasik lagim magawa pinas<br>buking eleksyon nagbigay fake info un",
           "Topic3: 0.99"
          ],
          [
           "3",
           "succeeds comelec still doubtful hands<br>contract smartmatic still push plan b<br>deep dooh dooh",
           "Topic3: 0.99"
          ],
          [
           "3",
           "obviously illicit love affair married<br>man congressman bolet want confirm deny",
           "Topic3: 0.99<br>Topic1: 0.01<br>Topic2: 0.01"
          ],
          [
           "3",
           "ahemmm druglords caught september brgy<br>tabuco naga city hiding skirt feeling<br>drug czar bolet",
           "Topic3: 0.99"
          ],
          [
           "3",
           "guys asawa pala taga cebu npa omg<br>someone tell image twimg",
           "Topic3: 0.99<br>Topic1: 0.01<br>Topic2: 0.01"
          ],
          [
           "3",
           "pormal inanunsyo vice president<br>inakusahan pandaraya eleksyon<br>kinakaharap kaso pet kaugnay eleksyon<br>dating asawa pinatay ala aksidente<br>eroplano jesse nagsabi",
           "Topic3: 0.99"
          ],
          [
           "3",
           "pala nag tatago ibang bansa boyfriend<br>founder npa joma sison",
           "Topic3: 0.98<br>Topic1: 0.01<br>Topic2: 0.01"
          ],
          [
           "3",
           "foul play pagkamatay jesse tinulugan<br>fake vp html",
           "Topic3: 0.98<br>Topic1: 0.01<br>Topic2: 0.01"
          ],
          [
           "3",
           "bantayan magnanakaw",
           "Topic3: 0.93<br>Topic1: 0.03<br>Topic2: 0.03"
          ],
          [
           "3",
           "e mandaraya election ultimo tuldok<br>binilang counted fake nanay sino justice<br>leonen apointed noynoy sino justice<br>caguioa apointed noynoy ayaw magnanakaw<br>gusto mandaraya",
           "Topic3: 0.99"
          ],
          [
           "3",
           "nasa posisyon habang pandemya nagawan<br>paraan hindi sapat natatanggap<br>frontliners",
           "Topic3: 0.99<br>Topic1: 0.01<br>Topic2: 0.01"
          ],
          [
           "3",
           "survive covid magaling gobyerno ngayon<br>pangulo baka palpak yolanda nagawan<br>paraan ooops",
           "Topic3: 0.99<br>Topic1: 0.01<br>Topic2: 0.01"
          ],
          [
           "3",
           "matagal pala problema sabi hindi<br>tumulong nuong vp years",
           "Topic3: 0.89<br>Topic2: 0.1<br>Topic1: 0.01"
          ],
          [
           "3",
           "anong nagawa fake vp<br>hahahahahahahahabahaha walang ambag tpos<br>vp naghahanap gobyerno dba saan pala nag<br>ttrabahong tanga",
           "Topic3: 0.99<br>Topic1: 0.01<br>Topic2: 0.01"
          ],
          [
           "3",
           "natransfer personal bank account<br>donations bagyong odette",
           "Topic3: 0.98<br>Topic1: 0.01<br>Topic2: 0.01"
          ],
          [
           "3",
           "tangina puro reklamo wala namang<br>naiambag lipunan dilawan salot lipunan<br>isama lugaw walang ambag pres matanda<br>ginawa lahat atin ambag magreklamo",
           "Topic3: 0.78<br>Topic2: 0.21"
          ],
          [
           "3",
           "qualify boba second backer magnanakaw<br>kupetero druglord protektor silay<br>kakutsaba npa dahilan ayaw mamamayan",
           "Topic3: 0.99"
          ],
          [
           "3",
           "intending natinnang",
           "Topic3: 0.95<br>Topic1: 0.03<br>Topic2: 0.03"
          ],
          [
           "3",
           "wawa oh napakadesente nanay lugaw",
           "Topic3: 0.97<br>Topic1: 0.02<br>Topic2: 0.02"
          ],
          [
           "3",
           "magresearch tabogo upang maging matalino",
           "Topic3: 0.98<br>Topic1: 0.01<br>Topic2: 0.01"
          ],
          [
           "3",
           "pinag uusapan kurakot magnanakaw<br>sinungaling",
           "Topic3: 0.63<br>Topic1: 0.36<br>Topic2: 0.01"
          ],
          [
           "3",
           "really concern country philippines",
           "Topic3: 0.97<br>Topic1: 0.02<br>Topic2: 0.02"
          ],
          [
           "3",
           "another reason love prrd next president<br>lot tapos vote walang ibang ginawa kundi<br>siraan prrd last years common sense<br>diyan pinklawans judicious vote bbm sara<br>way go",
           "Topic3: 0.99"
          ],
          [
           "3",
           "tanga kahit ihampas yang degree bobo<br>parin isang truck tulong ilang pamilya<br>mabibigyan nun tapos sasabihin pwede<br>tigilan kabobohan sanay photo ops kahit<br>sapat tulong boba",
           "Topic3: 0.85<br>Topic2: 0.15"
          ],
          [
           "3",
           "oo mananalo mandaraya ulit kasabwst<br>smartmatic comelec tulad",
           "Topic3: 0.98<br>Topic1: 0.01<br>Topic2: 0.01"
          ],
          [
           "3",
           "baka mandaya team dilawan mahirap gaya<br>mandaraya pinoy hindi uupo wala pinoy<br>nakarma dilawan",
           "Topic3: 0.99<br>Topic1: 0.01<br>Topic2: 0.01"
          ],
          [
           "3",
           "sana maamin nio sarili nio nanalo c bbm<br>election mandaraya tlg hnde nio aaminin<br>nandaya aaminin nio marami bumoto<br>lumipat marcos",
           "Topic3: 0.99"
          ],
          [
           "3",
           "remembered mandaraya fake vp people<br>spoken overwhelmingly almost double<br>votes congrats bbm",
           "Topic3: 0.99<br>Topic1: 0.01<br>Topic2: 0.01"
          ],
          [
           "3",
           "fake vp cheater betrayed country<br>political ambition youll never become<br>president",
           "Topic3: 0.99<br>Topic1: 0.01<br>Topic2: 0.01"
          ],
          [
           "3",
           "wakas makakasohan pekeng vp garbage<br>politician",
           "Topic3: 0.98<br>Topic1: 0.01<br>Topic2: 0.01"
          ],
          [
           "3",
           "china wellknown fake products<br>philippines fake vp",
           "Topic3: 0.98<br>Topic1: 0.01<br>Topic2: 0.01"
          ],
          [
           "3",
           "start call end text",
           "Topic3: 0.96<br>Topic1: 0.02<br>Topic2: 0.02"
          ],
          [
           "3",
           "careful words girl might shoot mom<br>directly ass one year ago votes stolen",
           "Topic3: 0.99<br>Topic1: 0.01<br>Topic2: 0.01"
          ],
          [
           "3",
           "ridiculed motherhood really absurd<br>kakampwets still supports saint kahit<br>komunista issues iba talaga kapag aquino<br>apologist lp fanatics devotees woke<br>bulag bulag",
           "Topic3: 0.99"
          ],
          [
           "3",
           "walang ambag maritime industry years vp<br>never siyang ginawa industriya tama man<br>sure akong utak tama",
           "Topic3: 0.99<br>Topic1: 0.01"
          ],
          [
           "3",
           "mukang pinaghuhugutan miss tukad ginawa<br>ina natulog gising",
           "Topic3: 0.98<br>Topic1: 0.01<br>Topic2: 0.01"
          ]
         ],
         "hovertemplate": "<b>%{hovertext}</b><br><br>Breakdown=%{customdata[2]}<extra></extra>",
         "hovertext": [
          "ayan nasimulan aminin nalang kakampwets<br>inflation rereklamo walang ambag<br>solusyon walang nagawa magawa utak utak<br>saan meron walaaaa",
          "supported colmenares chiding bbm trying<br>put bbm shame implying bbm death threat<br>thru tiktok komunistang komunista da<br>moves hehehe",
          "unless dimwit condemns criminal acts<br>committed years communist terrorist<br>sympathizer enabler",
          "habang tulog pilipinas gising mandaraya<br>rather president like prrd kahit tulog<br>gumagalaw kanyang departamento hindi<br>kailangang gising presidente<br>makapagserbisyo gobyerno service",
          "mandadaya dinaya election nanalo hindi<br>narin aq magtataka manalo ulit mandaraya<br>hahahahahahhaha mauulit lng panahon cory<br>nanalo",
          "smartmatic bad reputation countries<br>infact banned us countries ayan meron<br>tayong u c",
          "kelan iimbestigahan",
          "hipocrita fake louis vuitton fake",
          "totoo talaga fake fake louis vuitton",
          "sinong maniniwalang bumoto mantakin<br>million lng lamang prrd kanya terms<br>numbers",
          "signing kidding slitting throat chos",
          "dds time make contributions country",
          "evidently denying bcoz know impact<br>denial joma withdrew statement known<br>drug lord naga maybe investigate death<br>lol autopsy even made typical pinoy<br>teleserye outcome",
          "people philippines speaks louis vuitton<br>fake",
          "jesse died carrying drug money lp<br>cleaned mess staged saint favoring<br>future use html",
          "read news inquirer drug suspects<br>arrested yesterday caught naga city<br>duterte right naga hotbed shabu made<br>happened butch make philippines hotbed<br>twimg twimg",
          "alleged butch brother late department<br>interior local government secretary<br>jesse served city mayor since six terms<br>involved drug trade html twimg twimg<br>twimg",
          "sana vp unang aatupagin sino nagpa<br>papatay asawa",
          "galit c vp r unang asawa npa pintay",
          "jesse extremely dangerous vp involvement<br>drugs smuggling jueteng murders",
          "kesa magnanakaw boto laki lamang ibig<br>sabihin nanakaw",
          "kikilabutan talaga jan kasqma kaluliwang<br>boboto botahan",
          "nostradamus prediction president duterte<br>weprotectprrd matter",
          "supported candidacy thats daughters<br>fault knew start mother inept vp inept<br>political figure totally still decided<br>anyway vie presidency coud mistake",
          "even exist head president inept<br>hypocritical liar encourages cancel<br>culture spreads fake news knowingly<br>misinforms public disrespects church<br>among things dangerous dats por bidyo",
          "almost years vice president could enough<br>catapult front bid highest position land<br>nothing done right opposite everything<br>shows shallow inept incapable leader",
          "sinungaling kapatid magnanakaw",
          "tukoy bongbong marcos lugar naganap<br>pandaraya ro",
          "yeah number one sinungaling magnanakaw<br>boto sure net approval low survey san<br>galing boto last election yolanda funds<br>oops nakinabang pagnanakaw magnanakaw<br>right",
          "paano magawa trabaho ninanakaw pagka vp<br>tuloy",
          "confirmed dinaya bbm election",
          "utak",
          "throwback iboboto sinungaling nuna<br>nangyari daughter girl",
          "inept doctors choose inept moronic",
          "hope realize inept",
          "seen clearly shows political puppet<br>liberal party failure congresswoman<br>totally inept vp logic worse junkie weed<br>yorme call fake leader fake colors<br>goodness",
          "inconsequential inept idiotic politician<br>philippines complains getting called<br>moronic ideas madame nakakapikon<br>kabobohan ninyo pinangangalandakan ninyo<br>msm",
          "hay tatamad tamad pala president ninyo",
          "really meant never prez philippines<br>takes reality say god saved lie actually<br>philippines god saved inept incompetent<br>individual good riddance",
          "truly intelligent suppose gather million<br>votes instead nation witnessed<br>incompetent low iq awful performance<br>sweet lips congee spaghetti solve issue<br>signs weakness inept public services",
          "nagmamagaling hahahahah",
          "daya madam rt source ballots<br>municipality baao camarines sur<br>discovered",
          "april fools",
          "hands pointed cheated election",
          "katotohanan",
          "manual recount karon vp basa ubang<br>ballots fishy kaayo nilabay naa ballot<br>boxes daun basa karon wala lugar nauga<br>laaams naah",
          "agree noynoy appointed sereno cj<br>conching sandigan bayan bautista comelec<br>chairman manipulate everything including<br>cheating seat regain power absolve<br>corruption lawsuits looking ahead",
          "anything duterte bec fil public embraced<br>warmly shown campaign trail instructed<br>smartmatic hocus pocus vp race",
          "nalulungkot nababahala nangangamba<br>napakalaking bilang naniniwala hindi<br>vice president aling",
          "itapon mandaraya election ninakaw boto",
          "big contrast indeed prrd working hardto<br>improve life vp photo op improve image<br>tainted cheatingin election",
          "lp mandaraya election imagine franklin<br>drillon votes joel villanueva kiko de<br>lima patunay malawakan pandaraya lp last<br>election walang gusto nanalo paano hindi<br>kilala pilipinas",
          "unang fake vp kahit hindi apologists mas<br>pinili marcos mandaraya",
          "campaign team trying market aika victim<br>sexual abuse victim someone sex video<br>nobody internet could find aika sex<br>video figment imagination exist",
          "saint kabit cya banal",
          "butch brother jessie drug lord wanted<br>pdea one narcos drugs watchlists fake vp<br>really drug lord protector",
          "admits elago daughter w fling jover<br>daughter admits affair denies<br>presidential ambitions baraan bautista<br>hiding netherlands jim kaloi sonny<br>caught menage troie pldt",
          "edwin dear incompetent strategically<br>inept qualities woman qualities person<br>magkaiba gma also woman competent<br>strategic",
          "inept fake vp philippines history",
          "prrd tinukoy bayaw drug lord naga city<br>smni news",
          "meron sex video anak sabi mismo napaka<br>gross ina magpakalat tsimis sinegundahan<br>paeng ipen",
          "sadly mas pinili supreme court<br>integridad election kesa katotohanan<br>nandaya election dyan lalabas<br>katotohanan nanalo noon daya matalo<br>makikilala mandaraya fake vp",
          "daya kapal muka pandaraya mananalo http",
          "vp bayan tulong",
          "newly selected vp rep philippines shame",
          "lol disgrasya pinas patunay mandaraya<br>sinungaling hahahaha",
          "think mama malinis everyone mandaraya<br>dont forget bbm voters lamang brownout<br>saka biglang lumamang",
          "mas mandaraya c",
          "kaylan sarah kelan nasa serbisyo paka<br>selective memory kelangan mamatay asawa<br>bago gawin cory lol kumag mandaraya<br>tumakbo matalo nandaya mandurugas layo<br>lamang ngayon",
          "goodbye lugaw mandaraya elections",
          "vp lamang galit ganti puso bbm kanino<br>lalaban bbm plataporma adbokasiya pra<br>ikakaunlad pilipinas namin nakakalimutan<br>dinaya elections ngayon hindi mangyayari",
          "pandaraya gawain wag niyong ibahin<br>totoong mandaraya",
          "boba mandaraya remember election",
          "mandaraya never forget",
          "sobra sobra pandaraya ngayon katotohanan<br>pilipinas utak macalintal nito",
          "mother talaga mahirap nasa ibang bansa<br>naloloko naghahasik lagim magawa pinas<br>buking eleksyon nagbigay fake info un",
          "succeeds comelec still doubtful hands<br>contract smartmatic still push plan b<br>deep dooh dooh",
          "obviously illicit love affair married<br>man congressman bolet want confirm deny",
          "ahemmm druglords caught september brgy<br>tabuco naga city hiding skirt feeling<br>drug czar bolet",
          "guys asawa pala taga cebu npa omg<br>someone tell image twimg",
          "pormal inanunsyo vice president<br>inakusahan pandaraya eleksyon<br>kinakaharap kaso pet kaugnay eleksyon<br>dating asawa pinatay ala aksidente<br>eroplano jesse nagsabi",
          "pala nag tatago ibang bansa boyfriend<br>founder npa joma sison",
          "foul play pagkamatay jesse tinulugan<br>fake vp html",
          "bantayan magnanakaw",
          "e mandaraya election ultimo tuldok<br>binilang counted fake nanay sino justice<br>leonen apointed noynoy sino justice<br>caguioa apointed noynoy ayaw magnanakaw<br>gusto mandaraya",
          "nasa posisyon habang pandemya nagawan<br>paraan hindi sapat natatanggap<br>frontliners",
          "survive covid magaling gobyerno ngayon<br>pangulo baka palpak yolanda nagawan<br>paraan ooops",
          "matagal pala problema sabi hindi<br>tumulong nuong vp years",
          "anong nagawa fake vp<br>hahahahahahahahabahaha walang ambag tpos<br>vp naghahanap gobyerno dba saan pala nag<br>ttrabahong tanga",
          "natransfer personal bank account<br>donations bagyong odette",
          "tangina puro reklamo wala namang<br>naiambag lipunan dilawan salot lipunan<br>isama lugaw walang ambag pres matanda<br>ginawa lahat atin ambag magreklamo",
          "qualify boba second backer magnanakaw<br>kupetero druglord protektor silay<br>kakutsaba npa dahilan ayaw mamamayan",
          "intending natinnang",
          "wawa oh napakadesente nanay lugaw",
          "magresearch tabogo upang maging matalino",
          "pinag uusapan kurakot magnanakaw<br>sinungaling",
          "really concern country philippines",
          "another reason love prrd next president<br>lot tapos vote walang ibang ginawa kundi<br>siraan prrd last years common sense<br>diyan pinklawans judicious vote bbm sara<br>way go",
          "tanga kahit ihampas yang degree bobo<br>parin isang truck tulong ilang pamilya<br>mabibigyan nun tapos sasabihin pwede<br>tigilan kabobohan sanay photo ops kahit<br>sapat tulong boba",
          "oo mananalo mandaraya ulit kasabwst<br>smartmatic comelec tulad",
          "baka mandaya team dilawan mahirap gaya<br>mandaraya pinoy hindi uupo wala pinoy<br>nakarma dilawan",
          "sana maamin nio sarili nio nanalo c bbm<br>election mandaraya tlg hnde nio aaminin<br>nandaya aaminin nio marami bumoto<br>lumipat marcos",
          "remembered mandaraya fake vp people<br>spoken overwhelmingly almost double<br>votes congrats bbm",
          "fake vp cheater betrayed country<br>political ambition youll never become<br>president",
          "wakas makakasohan pekeng vp garbage<br>politician",
          "china wellknown fake products<br>philippines fake vp",
          "start call end text",
          "careful words girl might shoot mom<br>directly ass one year ago votes stolen",
          "ridiculed motherhood really absurd<br>kakampwets still supports saint kahit<br>komunista issues iba talaga kapag aquino<br>apologist lp fanatics devotees woke<br>bulag bulag",
          "walang ambag maritime industry years vp<br>never siyang ginawa industriya tama man<br>sure akong utak tama",
          "mukang pinaghuhugutan miss tukad ginawa<br>ina natulog gising"
         ],
         "legendgroup": "3",
         "marker": {
          "color": "#00cc96",
          "symbol": "circle"
         },
         "mode": "markers",
         "name": "3",
         "orientation": "v",
         "showlegend": true,
         "type": "scatter",
         "x": [
          172.5220184326172,
          125.716552734375,
          240.3131866455078,
          106.36978149414062,
          196.21844482421875,
          223.16957092285156,
          185.67529296875,
          279.46917724609375,
          82.9324951171875,
          223.16957092285156,
          298.3221130371094,
          234.79476928710938,
          172.27845764160156,
          298.3221130371094,
          100.64207458496094,
          148.16436767578125,
          218.252685546875,
          298.3221130371094,
          78.28977966308594,
          196.09848022460938,
          298.3221130371094,
          298.3221130371094,
          298.3221130371094,
          238.99818420410156,
          243.86463928222656,
          172.27845764160156,
          228.48423767089844,
          298.3221130371094,
          303.86480712890625,
          298.3221130371094,
          241.26632690429688,
          143.69395446777344,
          298.3221130371094,
          148.4891815185547,
          241.26632690429688,
          210.5982208251953,
          154.0557861328125,
          279.46917724609375,
          214.71482849121094,
          206.6848907470703,
          185.67529296875,
          298.3221130371094,
          185.67529296875,
          240.96255493164062,
          143.69395446777344,
          124.98249053955078,
          172.27845764160156,
          173.1537628173828,
          240.3131866455078,
          290.2804260253906,
          214.71482849121094,
          188.65927124023438,
          298.3221130371094,
          210.5982208251953,
          241.26632690429688,
          210.5982208251953,
          172.27845764160156,
          177.439453125,
          241.26632690429688,
          298.3221130371094,
          210.5982208251953,
          138.08749389648438,
          298.3221130371094,
          59.3780517578125,
          290.2804260253906,
          298.3221130371094,
          140.80206298828125,
          121.3702163696289,
          159.30398559570312,
          241.26632690429688,
          277.1397399902344,
          298.3221130371094,
          241.26632690429688,
          195.001220703125,
          298.3221130371094,
          272.9925231933594,
          233.48635864257812,
          196.09848022460938,
          172.27845764160156,
          196.09848022460938,
          251.10086059570312,
          298.3221130371094,
          298.3221130371094,
          147.5861358642578,
          108.71065521240234,
          196.09848022460938,
          196.09848022460938,
          166.30621337890625,
          196.09848022460938,
          298.3221130371094,
          144.76016235351562,
          102.57341766357422,
          185.67529296875,
          240.96255493164062,
          298.3221130371094,
          53.84969711303711,
          240.96255493164062,
          253.00115966796875,
          166.67459106445312,
          298.3221130371094,
          240.3131866455078,
          138.08749389648438,
          240.3131866455078,
          240.3131866455078,
          298.3221130371094,
          298.3221130371094,
          241.26632690429688,
          240.3131866455078,
          131.3384552001953,
          140.80206298828125,
          298.3221130371094
         ],
         "xaxis": "x",
         "y": [
          125.49459838867188,
          274.90728759765625,
          32.800559997558594,
          -214.80552673339844,
          293.3700256347656,
          -10.79426383972168,
          -250.81973266601562,
          -142.25900268554688,
          -163.8051300048828,
          -10.79426383972168,
          -68.64373779296875,
          -151.3359832763672,
          191.55902099609375,
          -68.64373779296875,
          170.06983947753906,
          252.0447998046875,
          134.4932098388672,
          -68.64373779296875,
          -138.23809814453125,
          20.88300132751465,
          -68.64373779296875,
          -68.64373779296875,
          -68.64373779296875,
          250.5704803466797,
          189.1755828857422,
          191.55902099609375,
          -282.34912109375,
          -68.64373779296875,
          -230.11997985839844,
          -68.64373779296875,
          -239.6468963623047,
          -208.60240173339844,
          -68.64373779296875,
          -159.01165771484375,
          -239.6468963623047,
          220.23281860351562,
          153.97447204589844,
          -142.25900268554688,
          174.1110076904297,
          259.7283935546875,
          -250.81973266601562,
          -68.64373779296875,
          -250.81973266601562,
          -190.9011993408203,
          -208.60240173339844,
          141.86492919921875,
          191.55902099609375,
          233.19468688964844,
          32.800559997558594,
          -189.09019470214844,
          174.1110076904297,
          151.61827087402344,
          -68.64373779296875,
          220.23281860351562,
          -239.6468963623047,
          220.23281860351562,
          191.55902099609375,
          262.2737731933594,
          -239.6468963623047,
          -68.64373779296875,
          220.23281860351562,
          218.94381713867188,
          -68.64373779296875,
          -164.60791015625,
          -189.09019470214844,
          -68.64373779296875,
          78.26305389404297,
          -181.0279998779297,
          290.4154052734375,
          -239.6468963623047,
          189.4225311279297,
          -68.64373779296875,
          -239.6468963623047,
          -288.66265869140625,
          -68.64373779296875,
          244.85060119628906,
          283.756591796875,
          20.88300132751465,
          191.55902099609375,
          20.88300132751465,
          154.12464904785156,
          -68.64373779296875,
          -68.64373779296875,
          -265.1467590332031,
          242.19776916503906,
          20.88300132751465,
          20.88300132751465,
          -175.0958251953125,
          20.88300132751465,
          -68.64373779296875,
          -124.84923553466797,
          205.78538513183594,
          -250.81973266601562,
          -190.9011993408203,
          -68.64373779296875,
          -138.14561462402344,
          -190.9011993408203,
          218.31297302246094,
          -141.87191772460938,
          -68.64373779296875,
          32.800559997558594,
          218.94381713867188,
          32.800559997558594,
          32.800559997558594,
          -68.64373779296875,
          -68.64373779296875,
          -239.6468963623047,
          32.800559997558594,
          180.9310302734375,
          78.26305389404297,
          -68.64373779296875
         ],
         "yaxis": "y"
        }
       ],
       "layout": {
        "annotations": [
         {
          "align": "left",
          "font": {
           "color": "#636efa"
          },
          "showarrow": false,
          "text": "Topic 1: like, asawa, thief, boto, hindi, wala, walang, aquino, lutang, night, sino, mandaraya, puppet, magnanakaw, alam",
          "x": 0,
          "xref": "paper",
          "y": -0.08,
          "yref": "paper"
         },
         {
          "align": "left",
          "font": {
           "color": "#EF553B"
          },
          "showarrow": false,
          "text": "Topic 2: hindi, mandaraya, walang, talaga, namin, since, bobo, kayong, wala, gustong, kang, natin, bang, mandaya, atty",
          "x": 0,
          "xref": "paper",
          "y": -0.12000000000000001,
          "yref": "paper"
         },
         {
          "align": "left",
          "font": {
           "color": "#00cc96"
          },
          "showarrow": false,
          "text": "Topic 3: mandaraya, fake, election, philippine, country, nanalo, president, inept, drug, hindi, kahit, katotohanan, year, vote, smartmatic",
          "x": 0,
          "xref": "paper",
          "y": -0.16000000000000003,
          "yref": "paper"
         }
        ],
        "height": 710,
        "legend": {
         "font": {
          "color": "black"
         },
         "title": {
          "text": "Topic"
         },
         "tracegroupgap": 0
        },
        "margin": {
         "b": 200
        },
        "paper_bgcolor": "white",
        "template": {
         "data": {
          "bar": [
           {
            "error_x": {
             "color": "#2a3f5f"
            },
            "error_y": {
             "color": "#2a3f5f"
            },
            "marker": {
             "line": {
              "color": "#E5ECF6",
              "width": 0.5
             },
             "pattern": {
              "fillmode": "overlay",
              "size": 10,
              "solidity": 0.2
             }
            },
            "type": "bar"
           }
          ],
          "barpolar": [
           {
            "marker": {
             "line": {
              "color": "#E5ECF6",
              "width": 0.5
             },
             "pattern": {
              "fillmode": "overlay",
              "size": 10,
              "solidity": 0.2
             }
            },
            "type": "barpolar"
           }
          ],
          "carpet": [
           {
            "aaxis": {
             "endlinecolor": "#2a3f5f",
             "gridcolor": "white",
             "linecolor": "white",
             "minorgridcolor": "white",
             "startlinecolor": "#2a3f5f"
            },
            "baxis": {
             "endlinecolor": "#2a3f5f",
             "gridcolor": "white",
             "linecolor": "white",
             "minorgridcolor": "white",
             "startlinecolor": "#2a3f5f"
            },
            "type": "carpet"
           }
          ],
          "choropleth": [
           {
            "colorbar": {
             "outlinewidth": 0,
             "ticks": ""
            },
            "type": "choropleth"
           }
          ],
          "contour": [
           {
            "colorbar": {
             "outlinewidth": 0,
             "ticks": ""
            },
            "colorscale": [
             [
              0,
              "#0d0887"
             ],
             [
              0.1111111111111111,
              "#46039f"
             ],
             [
              0.2222222222222222,
              "#7201a8"
             ],
             [
              0.3333333333333333,
              "#9c179e"
             ],
             [
              0.4444444444444444,
              "#bd3786"
             ],
             [
              0.5555555555555556,
              "#d8576b"
             ],
             [
              0.6666666666666666,
              "#ed7953"
             ],
             [
              0.7777777777777778,
              "#fb9f3a"
             ],
             [
              0.8888888888888888,
              "#fdca26"
             ],
             [
              1,
              "#f0f921"
             ]
            ],
            "type": "contour"
           }
          ],
          "contourcarpet": [
           {
            "colorbar": {
             "outlinewidth": 0,
             "ticks": ""
            },
            "type": "contourcarpet"
           }
          ],
          "heatmap": [
           {
            "colorbar": {
             "outlinewidth": 0,
             "ticks": ""
            },
            "colorscale": [
             [
              0,
              "#0d0887"
             ],
             [
              0.1111111111111111,
              "#46039f"
             ],
             [
              0.2222222222222222,
              "#7201a8"
             ],
             [
              0.3333333333333333,
              "#9c179e"
             ],
             [
              0.4444444444444444,
              "#bd3786"
             ],
             [
              0.5555555555555556,
              "#d8576b"
             ],
             [
              0.6666666666666666,
              "#ed7953"
             ],
             [
              0.7777777777777778,
              "#fb9f3a"
             ],
             [
              0.8888888888888888,
              "#fdca26"
             ],
             [
              1,
              "#f0f921"
             ]
            ],
            "type": "heatmap"
           }
          ],
          "heatmapgl": [
           {
            "colorbar": {
             "outlinewidth": 0,
             "ticks": ""
            },
            "colorscale": [
             [
              0,
              "#0d0887"
             ],
             [
              0.1111111111111111,
              "#46039f"
             ],
             [
              0.2222222222222222,
              "#7201a8"
             ],
             [
              0.3333333333333333,
              "#9c179e"
             ],
             [
              0.4444444444444444,
              "#bd3786"
             ],
             [
              0.5555555555555556,
              "#d8576b"
             ],
             [
              0.6666666666666666,
              "#ed7953"
             ],
             [
              0.7777777777777778,
              "#fb9f3a"
             ],
             [
              0.8888888888888888,
              "#fdca26"
             ],
             [
              1,
              "#f0f921"
             ]
            ],
            "type": "heatmapgl"
           }
          ],
          "histogram": [
           {
            "marker": {
             "pattern": {
              "fillmode": "overlay",
              "size": 10,
              "solidity": 0.2
             }
            },
            "type": "histogram"
           }
          ],
          "histogram2d": [
           {
            "colorbar": {
             "outlinewidth": 0,
             "ticks": ""
            },
            "colorscale": [
             [
              0,
              "#0d0887"
             ],
             [
              0.1111111111111111,
              "#46039f"
             ],
             [
              0.2222222222222222,
              "#7201a8"
             ],
             [
              0.3333333333333333,
              "#9c179e"
             ],
             [
              0.4444444444444444,
              "#bd3786"
             ],
             [
              0.5555555555555556,
              "#d8576b"
             ],
             [
              0.6666666666666666,
              "#ed7953"
             ],
             [
              0.7777777777777778,
              "#fb9f3a"
             ],
             [
              0.8888888888888888,
              "#fdca26"
             ],
             [
              1,
              "#f0f921"
             ]
            ],
            "type": "histogram2d"
           }
          ],
          "histogram2dcontour": [
           {
            "colorbar": {
             "outlinewidth": 0,
             "ticks": ""
            },
            "colorscale": [
             [
              0,
              "#0d0887"
             ],
             [
              0.1111111111111111,
              "#46039f"
             ],
             [
              0.2222222222222222,
              "#7201a8"
             ],
             [
              0.3333333333333333,
              "#9c179e"
             ],
             [
              0.4444444444444444,
              "#bd3786"
             ],
             [
              0.5555555555555556,
              "#d8576b"
             ],
             [
              0.6666666666666666,
              "#ed7953"
             ],
             [
              0.7777777777777778,
              "#fb9f3a"
             ],
             [
              0.8888888888888888,
              "#fdca26"
             ],
             [
              1,
              "#f0f921"
             ]
            ],
            "type": "histogram2dcontour"
           }
          ],
          "mesh3d": [
           {
            "colorbar": {
             "outlinewidth": 0,
             "ticks": ""
            },
            "type": "mesh3d"
           }
          ],
          "parcoords": [
           {
            "line": {
             "colorbar": {
              "outlinewidth": 0,
              "ticks": ""
             }
            },
            "type": "parcoords"
           }
          ],
          "pie": [
           {
            "automargin": true,
            "type": "pie"
           }
          ],
          "scatter": [
           {
            "fillpattern": {
             "fillmode": "overlay",
             "size": 10,
             "solidity": 0.2
            },
            "type": "scatter"
           }
          ],
          "scatter3d": [
           {
            "line": {
             "colorbar": {
              "outlinewidth": 0,
              "ticks": ""
             }
            },
            "marker": {
             "colorbar": {
              "outlinewidth": 0,
              "ticks": ""
             }
            },
            "type": "scatter3d"
           }
          ],
          "scattercarpet": [
           {
            "marker": {
             "colorbar": {
              "outlinewidth": 0,
              "ticks": ""
             }
            },
            "type": "scattercarpet"
           }
          ],
          "scattergeo": [
           {
            "marker": {
             "colorbar": {
              "outlinewidth": 0,
              "ticks": ""
             }
            },
            "type": "scattergeo"
           }
          ],
          "scattergl": [
           {
            "marker": {
             "colorbar": {
              "outlinewidth": 0,
              "ticks": ""
             }
            },
            "type": "scattergl"
           }
          ],
          "scattermapbox": [
           {
            "marker": {
             "colorbar": {
              "outlinewidth": 0,
              "ticks": ""
             }
            },
            "type": "scattermapbox"
           }
          ],
          "scatterpolar": [
           {
            "marker": {
             "colorbar": {
              "outlinewidth": 0,
              "ticks": ""
             }
            },
            "type": "scatterpolar"
           }
          ],
          "scatterpolargl": [
           {
            "marker": {
             "colorbar": {
              "outlinewidth": 0,
              "ticks": ""
             }
            },
            "type": "scatterpolargl"
           }
          ],
          "scatterternary": [
           {
            "marker": {
             "colorbar": {
              "outlinewidth": 0,
              "ticks": ""
             }
            },
            "type": "scatterternary"
           }
          ],
          "surface": [
           {
            "colorbar": {
             "outlinewidth": 0,
             "ticks": ""
            },
            "colorscale": [
             [
              0,
              "#0d0887"
             ],
             [
              0.1111111111111111,
              "#46039f"
             ],
             [
              0.2222222222222222,
              "#7201a8"
             ],
             [
              0.3333333333333333,
              "#9c179e"
             ],
             [
              0.4444444444444444,
              "#bd3786"
             ],
             [
              0.5555555555555556,
              "#d8576b"
             ],
             [
              0.6666666666666666,
              "#ed7953"
             ],
             [
              0.7777777777777778,
              "#fb9f3a"
             ],
             [
              0.8888888888888888,
              "#fdca26"
             ],
             [
              1,
              "#f0f921"
             ]
            ],
            "type": "surface"
           }
          ],
          "table": [
           {
            "cells": {
             "fill": {
              "color": "#EBF0F8"
             },
             "line": {
              "color": "white"
             }
            },
            "header": {
             "fill": {
              "color": "#C8D4E3"
             },
             "line": {
              "color": "white"
             }
            },
            "type": "table"
           }
          ]
         },
         "layout": {
          "annotationdefaults": {
           "arrowcolor": "#2a3f5f",
           "arrowhead": 0,
           "arrowwidth": 1
          },
          "autotypenumbers": "strict",
          "coloraxis": {
           "colorbar": {
            "outlinewidth": 0,
            "ticks": ""
           }
          },
          "colorscale": {
           "diverging": [
            [
             0,
             "#8e0152"
            ],
            [
             0.1,
             "#c51b7d"
            ],
            [
             0.2,
             "#de77ae"
            ],
            [
             0.3,
             "#f1b6da"
            ],
            [
             0.4,
             "#fde0ef"
            ],
            [
             0.5,
             "#f7f7f7"
            ],
            [
             0.6,
             "#e6f5d0"
            ],
            [
             0.7,
             "#b8e186"
            ],
            [
             0.8,
             "#7fbc41"
            ],
            [
             0.9,
             "#4d9221"
            ],
            [
             1,
             "#276419"
            ]
           ],
           "sequential": [
            [
             0,
             "#0d0887"
            ],
            [
             0.1111111111111111,
             "#46039f"
            ],
            [
             0.2222222222222222,
             "#7201a8"
            ],
            [
             0.3333333333333333,
             "#9c179e"
            ],
            [
             0.4444444444444444,
             "#bd3786"
            ],
            [
             0.5555555555555556,
             "#d8576b"
            ],
            [
             0.6666666666666666,
             "#ed7953"
            ],
            [
             0.7777777777777778,
             "#fb9f3a"
            ],
            [
             0.8888888888888888,
             "#fdca26"
            ],
            [
             1,
             "#f0f921"
            ]
           ],
           "sequentialminus": [
            [
             0,
             "#0d0887"
            ],
            [
             0.1111111111111111,
             "#46039f"
            ],
            [
             0.2222222222222222,
             "#7201a8"
            ],
            [
             0.3333333333333333,
             "#9c179e"
            ],
            [
             0.4444444444444444,
             "#bd3786"
            ],
            [
             0.5555555555555556,
             "#d8576b"
            ],
            [
             0.6666666666666666,
             "#ed7953"
            ],
            [
             0.7777777777777778,
             "#fb9f3a"
            ],
            [
             0.8888888888888888,
             "#fdca26"
            ],
            [
             1,
             "#f0f921"
            ]
           ]
          },
          "colorway": [
           "#636efa",
           "#EF553B",
           "#00cc96",
           "#ab63fa",
           "#FFA15A",
           "#19d3f3",
           "#FF6692",
           "#B6E880",
           "#FF97FF",
           "#FECB52"
          ],
          "font": {
           "color": "#2a3f5f"
          },
          "geo": {
           "bgcolor": "white",
           "lakecolor": "white",
           "landcolor": "#E5ECF6",
           "showlakes": true,
           "showland": true,
           "subunitcolor": "white"
          },
          "hoverlabel": {
           "align": "left"
          },
          "hovermode": "closest",
          "mapbox": {
           "style": "light"
          },
          "paper_bgcolor": "white",
          "plot_bgcolor": "#E5ECF6",
          "polar": {
           "angularaxis": {
            "gridcolor": "white",
            "linecolor": "white",
            "ticks": ""
           },
           "bgcolor": "#E5ECF6",
           "radialaxis": {
            "gridcolor": "white",
            "linecolor": "white",
            "ticks": ""
           }
          },
          "scene": {
           "xaxis": {
            "backgroundcolor": "#E5ECF6",
            "gridcolor": "white",
            "gridwidth": 2,
            "linecolor": "white",
            "showbackground": true,
            "ticks": "",
            "zerolinecolor": "white"
           },
           "yaxis": {
            "backgroundcolor": "#E5ECF6",
            "gridcolor": "white",
            "gridwidth": 2,
            "linecolor": "white",
            "showbackground": true,
            "ticks": "",
            "zerolinecolor": "white"
           },
           "zaxis": {
            "backgroundcolor": "#E5ECF6",
            "gridcolor": "white",
            "gridwidth": 2,
            "linecolor": "white",
            "showbackground": true,
            "ticks": "",
            "zerolinecolor": "white"
           }
          },
          "shapedefaults": {
           "line": {
            "color": "#2a3f5f"
           }
          },
          "ternary": {
           "aaxis": {
            "gridcolor": "white",
            "linecolor": "white",
            "ticks": ""
           },
           "baxis": {
            "gridcolor": "white",
            "linecolor": "white",
            "ticks": ""
           },
           "bgcolor": "#E5ECF6",
           "caxis": {
            "gridcolor": "white",
            "linecolor": "white",
            "ticks": ""
           }
          },
          "title": {
           "x": 0.05
          },
          "xaxis": {
           "automargin": true,
           "gridcolor": "white",
           "linecolor": "white",
           "ticks": "",
           "title": {
            "standoff": 15
           },
           "zerolinecolor": "white",
           "zerolinewidth": 2
          },
          "yaxis": {
           "automargin": true,
           "gridcolor": "white",
           "linecolor": "white",
           "ticks": "",
           "title": {
            "standoff": 15
           },
           "zerolinecolor": "white",
           "zerolinewidth": 2
          }
         }
        },
        "title": {
         "font": {
          "color": "black"
         },
         "text": "Topic Clustering using LDA and t-SNE"
        },
        "xaxis": {
         "anchor": "y",
         "domain": [
          0,
          1
         ],
         "title": {
          "text": ""
         }
        },
        "yaxis": {
         "anchor": "x",
         "domain": [
          0,
          1
         ],
         "title": {
          "text": ""
         }
        }
       }
      }
     },
     "metadata": {},
     "output_type": "display_data"
    }
   ],
   "source": [
    "# Plot tweets as colored points\n",
    "df_topics_cluster.sort_values(\n",
    "    \"Cluster\", key=lambda x: pd.to_numeric(x, errors=\"coerce\"), inplace=True\n",
    ")\n",
    "\n",
    "fig = px.scatter(\n",
    "    df_topics_cluster,\n",
    "    x=\"X\",\n",
    "    y=\"Y\",\n",
    "    color=\"Cluster\",\n",
    "    title=\"Topic Clustering using LDA and t-SNE\",\n",
    "    hover_name=\"Tweet\",\n",
    "    hover_data={\n",
    "        \"X\": False,\n",
    "        \"Y\": False,\n",
    "        \"Cluster\": False,\n",
    "        \"Tweet\": False,\n",
    "        \"Breakdown\": True,\n",
    "    },\n",
    ")\n",
    "\n",
    "for i, keyword in enumerate(df_topics[\"Keywords\"]):\n",
    "    fig.add_annotation(\n",
    "        x=0,\n",
    "        y=-0.2 * (i / 5) - 0.08,\n",
    "        text=\"Topic %d: %s\" % (i + 1, keyword.replace(\" \", \", \")),\n",
    "        showarrow=False,\n",
    "        xref=\"paper\",\n",
    "        yref=\"paper\",\n",
    "        align=\"left\",\n",
    "        font=dict(color=fig.data[i].marker[\"color\"]),\n",
    "    )\n",
    "\n",
    "fig.update_layout(\n",
    "    height=710,\n",
    "    xaxis_title=\"\",\n",
    "    yaxis_title=\"\",\n",
    "    margin=dict(b=200),\n",
    "    paper_bgcolor=\"white\",\n",
    "    title=dict(font=dict(color=\"black\")),\n",
    "    legend=dict(title=\"Topic\", font=dict(color=\"black\")),\n",
    ")\n",
    "fig.show()"
   ]
  },
  {
   "attachments": {},
   "cell_type": "markdown",
   "metadata": {},
   "source": [
    "### Evaluate the model's performance using the appropriate evaluation metrics\n",
    "\n",
    "Each cluster can be associated with a corresponding theme:\n",
    "\n",
    "- __Red__: This cluster may be related to __marginalization__. Notice that \"natin\", \"namin\", \"kayong\", and \"kang\" are there, indicating a sense of othering being established. There is also the word \"atty\", which may be zooming in the fact that Leni is also a lawyer.\n",
    "- __Blue__: This cluster may be related to __competence__. We see words like \"lutang\", \"fake\", and \"alam\", which we may attribute to Leni's capabilities (and thus, competence) during her term as VP.\n",
    "- __Green__: This cluster may be related to __election fraud__. Words like \"election\", \"vote\", and \"smartmatic\" appear, which we could relate to the 2016 elections."
   ]
  },
  {
   "attachments": {},
   "cell_type": "markdown",
   "metadata": {},
   "source": [
    "### Evaluation results\n",
    "\n",
    "Though we see underlying themes, further analysis through __more thorough preprocessing__ or __incorporating more data and clusters__ may provide even more insights and stronger results."
   ]
  },
  {
   "attachments": {},
   "cell_type": "markdown",
   "metadata": {
    "id": "DYGPKGVopG9s"
   },
   "source": [
    "# Statistical Hypothesis Test"
   ]
  },
  {
   "attachments": {},
   "cell_type": "markdown",
   "metadata": {
    "id": "mqcZE0fWk8fr"
   },
   "source": [
    "### Perform the appropriate statistical test based on the hypothesis.\n",
    "\n",
    "Our hypothesis is that some clusters/themes have increasing trends. To verify this, we'll be doing multiple __linear regressions__. These regressions will look at the relationship between each cluster and time."
   ]
  },
  {
   "attachments": {},
   "cell_type": "markdown",
   "metadata": {
    "id": "p1v6dsWyk95i"
   },
   "source": [
    "### Identify and validate the assumptions of the chosen statistical model. Discuss any violations of assumptions and their potential impact on the results.\n",
    "\n",
    "According to [this site](https://sphweb.bumc.bu.edu/otlt/MPH-Modules/BS/R/R5_Correlation-Regression/R5_Correlation-Regression4.html), the assumptions associated with a linear regression model are:\n",
    "\n",
    "- Linearity: The relationship between X and the mean of Y is linear.\n",
    "\t- Our tweets alongside with other groups' tweets were mostly collected uniformly across the 6 years, so there is unlikely to be exponential increases over time.\n",
    "- Homoscedasticity: The variance of residual is the same for any value of X.\n",
    "\t- Though we did not check this directly, this is something to can look into when we see the regression graphs.\n",
    "- Independence: Observations are independent of each other.\n",
    "\t- From our dataset, we know that different tweets are likely from different users. We can thus say that our tweets are independent.\n",
    "- Normality: For any fixed value of X, Y is normally distributed.\n",
    "\t- Incorporating other group's data made our sample size not too big and not too small."
   ]
  },
  {
   "attachments": {},
   "cell_type": "markdown",
   "metadata": {
    "id": "A2MHCmhDlAmn"
   },
   "source": [
    "### Clearly report the test statistics, p-values, and any effect size measures.\n",
    "\n",
    "Before making the actual regressions, let's look at the general trends when we group tweets in intervals of three months:"
   ]
  },
  {
   "cell_type": "code",
   "execution_count": 344,
   "metadata": {
    "colab": {
     "base_uri": "https://localhost:8080/",
     "height": 1000
    },
    "id": "M5fLr-UHoJbu",
    "outputId": "cfb81391-7fc3-4f40-9e35-9b6ded8dc288"
   },
   "outputs": [
    {
     "data": {
      "image/png": "[encoded data removed]",
      "text/plain": [
       "<Figure size 1600x800 with 1 Axes>"
      ]
     },
     "metadata": {},
     "output_type": "display_data"
    },
    {
     "data": {
      "image/png": "[encoded data removed]",
      "text/plain": [
       "<Figure size 1600x800 with 1 Axes>"
      ]
     },
     "metadata": {},
     "output_type": "display_data"
    },
    {
     "data": {
      "image/png": "[encoded data removed]",
      "text/plain": [
       "<Figure size 1600x800 with 1 Axes>"
      ]
     },
     "metadata": {},
     "output_type": "display_data"
    }
   ],
   "source": [
    "for topic in range(1, 3 + 1):\n",
    "    topic_df = df_topics_lda[df_topics_lda[\"dominant_topic\"] == topic]\n",
    "\n",
    "    date_dict = {}\n",
    "    for index, row in topic_df.iterrows():\n",
    "        if row[\"date\"] in date_dict:\n",
    "            date_dict[row[\"date\"]] += 1\n",
    "        else:\n",
    "            date_dict[row[\"date\"]] = 1\n",
    "\n",
    "    date_df_dict = {\"date\": date_dict.keys(), \"count\": date_dict.values()}\n",
    "    date_df = pd.DataFrame.from_dict(date_df_dict)\n",
    "\n",
    "    plt.figure(figsize=(16, 8))\n",
    "    sns.lineplot(data=date_df, x=\"date\", y=\"count\")\n",
    "\n",
    "    plt.ticklabel_format(style=\"plain\", axis=\"y\")\n",
    "    plt.xlabel(\"Date\")\n",
    "    plt.ylabel(\"Number of Tweets\")\n",
    "    plt.title(f\"Topic {topic} date trend (3 month intervals)\", size=18, y=1.02)\n",
    "\n",
    "    plt.show()"
   ]
  },
  {
   "attachments": {},
   "cell_type": "markdown",
   "metadata": {},
   "source": [
    "Cool! Now for the actual regressions. The code above and below was sourced from [Sir Paul's Colab notebook](https://colab.research.google.com/drive/1Lz4McsTHEp69h0wVSbX8FjSaIIeOXLQA?usp=sharing). The results are shown alongside the regression graphs."
   ]
  },
  {
   "cell_type": "code",
   "execution_count": 345,
   "metadata": {
    "colab": {
     "base_uri": "https://localhost:8080/",
     "height": 1000
    },
    "id": "6kXSIuEBpQ8D",
    "outputId": "59b839ae-1061-409f-9f89-0afed76537ca"
   },
   "outputs": [
    {
     "name": "stdout",
     "output_type": "stream",
     "text": [
      "Model Evaluation\n",
      "\n",
      "Linear Regression: RMSE=5.89, R2=0.06\n",
      "P(x1): 0.25495815422448237\n",
      "There is no significant relationship between the predictor and the response\n",
      "\n"
     ]
    },
    {
     "data": {
      "application/vnd.plotly.v1+json": {
       "config": {
        "plotlyServerURL": "https://plot.ly"
       },
       "data": [
        {
         "marker": {
          "color": "blue",
          "opacity": 0.3
         },
         "mode": "markers",
         "name": "Actual",
         "type": "scatter",
         "x": [
          "22-01",
          "22-10",
          "20-04",
          "19-04",
          "19-10",
          "20-10",
          "21-10",
          "22-07",
          "22-04",
          "17-01",
          "21-04",
          "21-07",
          "18-10",
          "17-04",
          "20-01",
          "18-04",
          "23-01",
          "17-10",
          "18-01",
          "18-07",
          "16-10",
          "17-07"
         ],
         "y": [
          26,
          10,
          1,
          1,
          1,
          3,
          11,
          5,
          14,
          5,
          1,
          4,
          2,
          8,
          1,
          6,
          1,
          4,
          15,
          3,
          2,
          2
         ]
        },
        {
         "line": {
          "color": "#ee563b",
          "dash": "dash"
         },
         "mode": "lines",
         "name": "LR",
         "type": "scatter",
         "x": [
          "22-01",
          "22-10",
          "20-04",
          "19-04",
          "19-10",
          "20-10",
          "21-10",
          "22-07",
          "22-04",
          "17-01",
          "21-04",
          "21-07",
          "18-10",
          "17-04",
          "20-01",
          "18-04",
          "23-01",
          "17-10",
          "18-01",
          "18-07",
          "16-10",
          "17-07"
         ],
         "y": [
          7.377747239115479,
          7.951501358356531,
          6.032682637231709,
          5.263473818029418,
          5.648078227630563,
          6.417287046832847,
          7.184394202594689,
          7.758148321835733,
          7.566896948755385,
          3.540109796865835,
          6.799789792993543,
          6.991041166073892,
          4.880971071868721,
          3.7292595065057412,
          5.841431264151353,
          4.496366662267583,
          8.14485439487732,
          4.1138639161068795,
          4.307216952627677,
          4.687618035347931,
          3.3467567603450448,
          3.9205108795860895
         ]
        }
       ],
       "layout": {
        "height": 600,
        "showlegend": true,
        "template": {
         "data": {
          "bar": [
           {
            "error_x": {
             "color": "#2a3f5f"
            },
            "error_y": {
             "color": "#2a3f5f"
            },
            "marker": {
             "line": {
              "color": "#E5ECF6",
              "width": 0.5
             },
             "pattern": {
              "fillmode": "overlay",
              "size": 10,
              "solidity": 0.2
             }
            },
            "type": "bar"
           }
          ],
          "barpolar": [
           {
            "marker": {
             "line": {
              "color": "#E5ECF6",
              "width": 0.5
             },
             "pattern": {
              "fillmode": "overlay",
              "size": 10,
              "solidity": 0.2
             }
            },
            "type": "barpolar"
           }
          ],
          "carpet": [
           {
            "aaxis": {
             "endlinecolor": "#2a3f5f",
             "gridcolor": "white",
             "linecolor": "white",
             "minorgridcolor": "white",
             "startlinecolor": "#2a3f5f"
            },
            "baxis": {
             "endlinecolor": "#2a3f5f",
             "gridcolor": "white",
             "linecolor": "white",
             "minorgridcolor": "white",
             "startlinecolor": "#2a3f5f"
            },
            "type": "carpet"
           }
          ],
          "choropleth": [
           {
            "colorbar": {
             "outlinewidth": 0,
             "ticks": ""
            },
            "type": "choropleth"
           }
          ],
          "contour": [
           {
            "colorbar": {
             "outlinewidth": 0,
             "ticks": ""
            },
            "colorscale": [
             [
              0,
              "#0d0887"
             ],
             [
              0.1111111111111111,
              "#46039f"
             ],
             [
              0.2222222222222222,
              "#7201a8"
             ],
             [
              0.3333333333333333,
              "#9c179e"
             ],
             [
              0.4444444444444444,
              "#bd3786"
             ],
             [
              0.5555555555555556,
              "#d8576b"
             ],
             [
              0.6666666666666666,
              "#ed7953"
             ],
             [
              0.7777777777777778,
              "#fb9f3a"
             ],
             [
              0.8888888888888888,
              "#fdca26"
             ],
             [
              1,
              "#f0f921"
             ]
            ],
            "type": "contour"
           }
          ],
          "contourcarpet": [
           {
            "colorbar": {
             "outlinewidth": 0,
             "ticks": ""
            },
            "type": "contourcarpet"
           }
          ],
          "heatmap": [
           {
            "colorbar": {
             "outlinewidth": 0,
             "ticks": ""
            },
            "colorscale": [
             [
              0,
              "#0d0887"
             ],
             [
              0.1111111111111111,
              "#46039f"
             ],
             [
              0.2222222222222222,
              "#7201a8"
             ],
             [
              0.3333333333333333,
              "#9c179e"
             ],
             [
              0.4444444444444444,
              "#bd3786"
             ],
             [
              0.5555555555555556,
              "#d8576b"
             ],
             [
              0.6666666666666666,
              "#ed7953"
             ],
             [
              0.7777777777777778,
              "#fb9f3a"
             ],
             [
              0.8888888888888888,
              "#fdca26"
             ],
             [
              1,
              "#f0f921"
             ]
            ],
            "type": "heatmap"
           }
          ],
          "heatmapgl": [
           {
            "colorbar": {
             "outlinewidth": 0,
             "ticks": ""
            },
            "colorscale": [
             [
              0,
              "#0d0887"
             ],
             [
              0.1111111111111111,
              "#46039f"
             ],
             [
              0.2222222222222222,
              "#7201a8"
             ],
             [
              0.3333333333333333,
              "#9c179e"
             ],
             [
              0.4444444444444444,
              "#bd3786"
             ],
             [
              0.5555555555555556,
              "#d8576b"
             ],
             [
              0.6666666666666666,
              "#ed7953"
             ],
             [
              0.7777777777777778,
              "#fb9f3a"
             ],
             [
              0.8888888888888888,
              "#fdca26"
             ],
             [
              1,
              "#f0f921"
             ]
            ],
            "type": "heatmapgl"
           }
          ],
          "histogram": [
           {
            "marker": {
             "pattern": {
              "fillmode": "overlay",
              "size": 10,
              "solidity": 0.2
             }
            },
            "type": "histogram"
           }
          ],
          "histogram2d": [
           {
            "colorbar": {
             "outlinewidth": 0,
             "ticks": ""
            },
            "colorscale": [
             [
              0,
              "#0d0887"
             ],
             [
              0.1111111111111111,
              "#46039f"
             ],
             [
              0.2222222222222222,
              "#7201a8"
             ],
             [
              0.3333333333333333,
              "#9c179e"
             ],
             [
              0.4444444444444444,
              "#bd3786"
             ],
             [
              0.5555555555555556,
              "#d8576b"
             ],
             [
              0.6666666666666666,
              "#ed7953"
             ],
             [
              0.7777777777777778,
              "#fb9f3a"
             ],
             [
              0.8888888888888888,
              "#fdca26"
             ],
             [
              1,
              "#f0f921"
             ]
            ],
            "type": "histogram2d"
           }
          ],
          "histogram2dcontour": [
           {
            "colorbar": {
             "outlinewidth": 0,
             "ticks": ""
            },
            "colorscale": [
             [
              0,
              "#0d0887"
             ],
             [
              0.1111111111111111,
              "#46039f"
             ],
             [
              0.2222222222222222,
              "#7201a8"
             ],
             [
              0.3333333333333333,
              "#9c179e"
             ],
             [
              0.4444444444444444,
              "#bd3786"
             ],
             [
              0.5555555555555556,
              "#d8576b"
             ],
             [
              0.6666666666666666,
              "#ed7953"
             ],
             [
              0.7777777777777778,
              "#fb9f3a"
             ],
             [
              0.8888888888888888,
              "#fdca26"
             ],
             [
              1,
              "#f0f921"
             ]
            ],
            "type": "histogram2dcontour"
           }
          ],
          "mesh3d": [
           {
            "colorbar": {
             "outlinewidth": 0,
             "ticks": ""
            },
            "type": "mesh3d"
           }
          ],
          "parcoords": [
           {
            "line": {
             "colorbar": {
              "outlinewidth": 0,
              "ticks": ""
             }
            },
            "type": "parcoords"
           }
          ],
          "pie": [
           {
            "automargin": true,
            "type": "pie"
           }
          ],
          "scatter": [
           {
            "fillpattern": {
             "fillmode": "overlay",
             "size": 10,
             "solidity": 0.2
            },
            "type": "scatter"
           }
          ],
          "scatter3d": [
           {
            "line": {
             "colorbar": {
              "outlinewidth": 0,
              "ticks": ""
             }
            },
            "marker": {
             "colorbar": {
              "outlinewidth": 0,
              "ticks": ""
             }
            },
            "type": "scatter3d"
           }
          ],
          "scattercarpet": [
           {
            "marker": {
             "colorbar": {
              "outlinewidth": 0,
              "ticks": ""
             }
            },
            "type": "scattercarpet"
           }
          ],
          "scattergeo": [
           {
            "marker": {
             "colorbar": {
              "outlinewidth": 0,
              "ticks": ""
             }
            },
            "type": "scattergeo"
           }
          ],
          "scattergl": [
           {
            "marker": {
             "colorbar": {
              "outlinewidth": 0,
              "ticks": ""
             }
            },
            "type": "scattergl"
           }
          ],
          "scattermapbox": [
           {
            "marker": {
             "colorbar": {
              "outlinewidth": 0,
              "ticks": ""
             }
            },
            "type": "scattermapbox"
           }
          ],
          "scatterpolar": [
           {
            "marker": {
             "colorbar": {
              "outlinewidth": 0,
              "ticks": ""
             }
            },
            "type": "scatterpolar"
           }
          ],
          "scatterpolargl": [
           {
            "marker": {
             "colorbar": {
              "outlinewidth": 0,
              "ticks": ""
             }
            },
            "type": "scatterpolargl"
           }
          ],
          "scatterternary": [
           {
            "marker": {
             "colorbar": {
              "outlinewidth": 0,
              "ticks": ""
             }
            },
            "type": "scatterternary"
           }
          ],
          "surface": [
           {
            "colorbar": {
             "outlinewidth": 0,
             "ticks": ""
            },
            "colorscale": [
             [
              0,
              "#0d0887"
             ],
             [
              0.1111111111111111,
              "#46039f"
             ],
             [
              0.2222222222222222,
              "#7201a8"
             ],
             [
              0.3333333333333333,
              "#9c179e"
             ],
             [
              0.4444444444444444,
              "#bd3786"
             ],
             [
              0.5555555555555556,
              "#d8576b"
             ],
             [
              0.6666666666666666,
              "#ed7953"
             ],
             [
              0.7777777777777778,
              "#fb9f3a"
             ],
             [
              0.8888888888888888,
              "#fdca26"
             ],
             [
              1,
              "#f0f921"
             ]
            ],
            "type": "surface"
           }
          ],
          "table": [
           {
            "cells": {
             "fill": {
              "color": "#EBF0F8"
             },
             "line": {
              "color": "white"
             }
            },
            "header": {
             "fill": {
              "color": "#C8D4E3"
             },
             "line": {
              "color": "white"
             }
            },
            "type": "table"
           }
          ]
         },
         "layout": {
          "annotationdefaults": {
           "arrowcolor": "#2a3f5f",
           "arrowhead": 0,
           "arrowwidth": 1
          },
          "autotypenumbers": "strict",
          "coloraxis": {
           "colorbar": {
            "outlinewidth": 0,
            "ticks": ""
           }
          },
          "colorscale": {
           "diverging": [
            [
             0,
             "#8e0152"
            ],
            [
             0.1,
             "#c51b7d"
            ],
            [
             0.2,
             "#de77ae"
            ],
            [
             0.3,
             "#f1b6da"
            ],
            [
             0.4,
             "#fde0ef"
            ],
            [
             0.5,
             "#f7f7f7"
            ],
            [
             0.6,
             "#e6f5d0"
            ],
            [
             0.7,
             "#b8e186"
            ],
            [
             0.8,
             "#7fbc41"
            ],
            [
             0.9,
             "#4d9221"
            ],
            [
             1,
             "#276419"
            ]
           ],
           "sequential": [
            [
             0,
             "#0d0887"
            ],
            [
             0.1111111111111111,
             "#46039f"
            ],
            [
             0.2222222222222222,
             "#7201a8"
            ],
            [
             0.3333333333333333,
             "#9c179e"
            ],
            [
             0.4444444444444444,
             "#bd3786"
            ],
            [
             0.5555555555555556,
             "#d8576b"
            ],
            [
             0.6666666666666666,
             "#ed7953"
            ],
            [
             0.7777777777777778,
             "#fb9f3a"
            ],
            [
             0.8888888888888888,
             "#fdca26"
            ],
            [
             1,
             "#f0f921"
            ]
           ],
           "sequentialminus": [
            [
             0,
             "#0d0887"
            ],
            [
             0.1111111111111111,
             "#46039f"
            ],
            [
             0.2222222222222222,
             "#7201a8"
            ],
            [
             0.3333333333333333,
             "#9c179e"
            ],
            [
             0.4444444444444444,
             "#bd3786"
            ],
            [
             0.5555555555555556,
             "#d8576b"
            ],
            [
             0.6666666666666666,
             "#ed7953"
            ],
            [
             0.7777777777777778,
             "#fb9f3a"
            ],
            [
             0.8888888888888888,
             "#fdca26"
            ],
            [
             1,
             "#f0f921"
            ]
           ]
          },
          "colorway": [
           "#636efa",
           "#EF553B",
           "#00cc96",
           "#ab63fa",
           "#FFA15A",
           "#19d3f3",
           "#FF6692",
           "#B6E880",
           "#FF97FF",
           "#FECB52"
          ],
          "font": {
           "color": "#2a3f5f"
          },
          "geo": {
           "bgcolor": "white",
           "lakecolor": "white",
           "landcolor": "#E5ECF6",
           "showlakes": true,
           "showland": true,
           "subunitcolor": "white"
          },
          "hoverlabel": {
           "align": "left"
          },
          "hovermode": "closest",
          "mapbox": {
           "style": "light"
          },
          "paper_bgcolor": "white",
          "plot_bgcolor": "#E5ECF6",
          "polar": {
           "angularaxis": {
            "gridcolor": "white",
            "linecolor": "white",
            "ticks": ""
           },
           "bgcolor": "#E5ECF6",
           "radialaxis": {
            "gridcolor": "white",
            "linecolor": "white",
            "ticks": ""
           }
          },
          "scene": {
           "xaxis": {
            "backgroundcolor": "#E5ECF6",
            "gridcolor": "white",
            "gridwidth": 2,
            "linecolor": "white",
            "showbackground": true,
            "ticks": "",
            "zerolinecolor": "white"
           },
           "yaxis": {
            "backgroundcolor": "#E5ECF6",
            "gridcolor": "white",
            "gridwidth": 2,
            "linecolor": "white",
            "showbackground": true,
            "ticks": "",
            "zerolinecolor": "white"
           },
           "zaxis": {
            "backgroundcolor": "#E5ECF6",
            "gridcolor": "white",
            "gridwidth": 2,
            "linecolor": "white",
            "showbackground": true,
            "ticks": "",
            "zerolinecolor": "white"
           }
          },
          "shapedefaults": {
           "line": {
            "color": "#2a3f5f"
           }
          },
          "ternary": {
           "aaxis": {
            "gridcolor": "white",
            "linecolor": "white",
            "ticks": ""
           },
           "baxis": {
            "gridcolor": "white",
            "linecolor": "white",
            "ticks": ""
           },
           "bgcolor": "#E5ECF6",
           "caxis": {
            "gridcolor": "white",
            "linecolor": "white",
            "ticks": ""
           }
          },
          "title": {
           "x": 0.05
          },
          "xaxis": {
           "automargin": true,
           "gridcolor": "white",
           "linecolor": "white",
           "ticks": "",
           "title": {
            "standoff": 15
           },
           "zerolinecolor": "white",
           "zerolinewidth": 2
          },
          "yaxis": {
           "automargin": true,
           "gridcolor": "white",
           "linecolor": "white",
           "ticks": "",
           "title": {
            "standoff": 15
           },
           "zerolinecolor": "white",
           "zerolinewidth": 2
          }
         }
        },
        "title": {
         "text": "Linear Regression Model for the Red Cluster"
        },
        "xaxis": {
         "tickfont": {
          "size": 20
         },
         "title": {
          "text": "Date"
         }
        },
        "yaxis": {
         "tickfont": {
          "size": 20
         },
         "title": {
          "font": {
           "size": 20
          },
          "text": "Tweet Count"
         }
        }
       }
      }
     },
     "metadata": {},
     "output_type": "display_data"
    },
    {
     "name": "stdout",
     "output_type": "stream",
     "text": [
      "Model Evaluation\n",
      "\n",
      "Linear Regression: RMSE=3.00, R2=0.32\n",
      "P(x1): 0.0070335316621953975\n",
      "There is a significant relationship between the predictor and the response\n",
      "\n"
     ]
    },
    {
     "data": {
      "application/vnd.plotly.v1+json": {
       "config": {
        "plotlyServerURL": "https://plot.ly"
       },
       "data": [
        {
         "marker": {
          "color": "blue",
          "opacity": 0.3
         },
         "mode": "markers",
         "name": "Actual",
         "type": "scatter",
         "x": [
          "22-10",
          "20-04",
          "20-01",
          "19-10",
          "21-10",
          "21-01",
          "22-07",
          "20-07",
          "22-01",
          "22-04",
          "21-04",
          "17-01",
          "18-01",
          "18-04",
          "18-07",
          "16-04",
          "16-10",
          "17-04",
          "17-07",
          "17-10",
          "23-01"
         ],
         "y": [
          11,
          3,
          2,
          2,
          7,
          1,
          11,
          1,
          13,
          7,
          1,
          1,
          4,
          3,
          2,
          2,
          1,
          2,
          2,
          2,
          1
         ]
        },
        {
         "line": {
          "color": "#656ffa",
          "dash": "dash"
         },
         "mode": "lines",
         "name": "LR",
         "type": "scatter",
         "x": [
          "22-10",
          "20-04",
          "20-01",
          "19-10",
          "21-10",
          "21-01",
          "22-07",
          "20-07",
          "22-01",
          "22-04",
          "21-04",
          "17-01",
          "18-01",
          "18-04",
          "18-07",
          "16-04",
          "16-10",
          "17-04",
          "17-07",
          "17-10",
          "23-01"
         ],
         "y": [
          6.670117681514235,
          4.2656689403468135,
          4.0260141370103,
          3.7837257644063556,
          5.708864898900757,
          4.989900488891216,
          6.42782930891029,
          4.505323743683327,
          5.951153271504701,
          6.188174505573777,
          5.226921722960299,
          1.1422557891698517,
          2.103508571783337,
          2.3405298058524124,
          2.580184609188926,
          0.4180242406254493,
          0.8999674165659073,
          1.3792770232389344,
          1.6189318265754409,
          1.8612201991793924,
          6.912406054118186
         ]
        }
       ],
       "layout": {
        "height": 600,
        "showlegend": true,
        "template": {
         "data": {
          "bar": [
           {
            "error_x": {
             "color": "#2a3f5f"
            },
            "error_y": {
             "color": "#2a3f5f"
            },
            "marker": {
             "line": {
              "color": "#E5ECF6",
              "width": 0.5
             },
             "pattern": {
              "fillmode": "overlay",
              "size": 10,
              "solidity": 0.2
             }
            },
            "type": "bar"
           }
          ],
          "barpolar": [
           {
            "marker": {
             "line": {
              "color": "#E5ECF6",
              "width": 0.5
             },
             "pattern": {
              "fillmode": "overlay",
              "size": 10,
              "solidity": 0.2
             }
            },
            "type": "barpolar"
           }
          ],
          "carpet": [
           {
            "aaxis": {
             "endlinecolor": "#2a3f5f",
             "gridcolor": "white",
             "linecolor": "white",
             "minorgridcolor": "white",
             "startlinecolor": "#2a3f5f"
            },
            "baxis": {
             "endlinecolor": "#2a3f5f",
             "gridcolor": "white",
             "linecolor": "white",
             "minorgridcolor": "white",
             "startlinecolor": "#2a3f5f"
            },
            "type": "carpet"
           }
          ],
          "choropleth": [
           {
            "colorbar": {
             "outlinewidth": 0,
             "ticks": ""
            },
            "type": "choropleth"
           }
          ],
          "contour": [
           {
            "colorbar": {
             "outlinewidth": 0,
             "ticks": ""
            },
            "colorscale": [
             [
              0,
              "#0d0887"
             ],
             [
              0.1111111111111111,
              "#46039f"
             ],
             [
              0.2222222222222222,
              "#7201a8"
             ],
             [
              0.3333333333333333,
              "#9c179e"
             ],
             [
              0.4444444444444444,
              "#bd3786"
             ],
             [
              0.5555555555555556,
              "#d8576b"
             ],
             [
              0.6666666666666666,
              "#ed7953"
             ],
             [
              0.7777777777777778,
              "#fb9f3a"
             ],
             [
              0.8888888888888888,
              "#fdca26"
             ],
             [
              1,
              "#f0f921"
             ]
            ],
            "type": "contour"
           }
          ],
          "contourcarpet": [
           {
            "colorbar": {
             "outlinewidth": 0,
             "ticks": ""
            },
            "type": "contourcarpet"
           }
          ],
          "heatmap": [
           {
            "colorbar": {
             "outlinewidth": 0,
             "ticks": ""
            },
            "colorscale": [
             [
              0,
              "#0d0887"
             ],
             [
              0.1111111111111111,
              "#46039f"
             ],
             [
              0.2222222222222222,
              "#7201a8"
             ],
             [
              0.3333333333333333,
              "#9c179e"
             ],
             [
              0.4444444444444444,
              "#bd3786"
             ],
             [
              0.5555555555555556,
              "#d8576b"
             ],
             [
              0.6666666666666666,
              "#ed7953"
             ],
             [
              0.7777777777777778,
              "#fb9f3a"
             ],
             [
              0.8888888888888888,
              "#fdca26"
             ],
             [
              1,
              "#f0f921"
             ]
            ],
            "type": "heatmap"
           }
          ],
          "heatmapgl": [
           {
            "colorbar": {
             "outlinewidth": 0,
             "ticks": ""
            },
            "colorscale": [
             [
              0,
              "#0d0887"
             ],
             [
              0.1111111111111111,
              "#46039f"
             ],
             [
              0.2222222222222222,
              "#7201a8"
             ],
             [
              0.3333333333333333,
              "#9c179e"
             ],
             [
              0.4444444444444444,
              "#bd3786"
             ],
             [
              0.5555555555555556,
              "#d8576b"
             ],
             [
              0.6666666666666666,
              "#ed7953"
             ],
             [
              0.7777777777777778,
              "#fb9f3a"
             ],
             [
              0.8888888888888888,
              "#fdca26"
             ],
             [
              1,
              "#f0f921"
             ]
            ],
            "type": "heatmapgl"
           }
          ],
          "histogram": [
           {
            "marker": {
             "pattern": {
              "fillmode": "overlay",
              "size": 10,
              "solidity": 0.2
             }
            },
            "type": "histogram"
           }
          ],
          "histogram2d": [
           {
            "colorbar": {
             "outlinewidth": 0,
             "ticks": ""
            },
            "colorscale": [
             [
              0,
              "#0d0887"
             ],
             [
              0.1111111111111111,
              "#46039f"
             ],
             [
              0.2222222222222222,
              "#7201a8"
             ],
             [
              0.3333333333333333,
              "#9c179e"
             ],
             [
              0.4444444444444444,
              "#bd3786"
             ],
             [
              0.5555555555555556,
              "#d8576b"
             ],
             [
              0.6666666666666666,
              "#ed7953"
             ],
             [
              0.7777777777777778,
              "#fb9f3a"
             ],
             [
              0.8888888888888888,
              "#fdca26"
             ],
             [
              1,
              "#f0f921"
             ]
            ],
            "type": "histogram2d"
           }
          ],
          "histogram2dcontour": [
           {
            "colorbar": {
             "outlinewidth": 0,
             "ticks": ""
            },
            "colorscale": [
             [
              0,
              "#0d0887"
             ],
             [
              0.1111111111111111,
              "#46039f"
             ],
             [
              0.2222222222222222,
              "#7201a8"
             ],
             [
              0.3333333333333333,
              "#9c179e"
             ],
             [
              0.4444444444444444,
              "#bd3786"
             ],
             [
              0.5555555555555556,
              "#d8576b"
             ],
             [
              0.6666666666666666,
              "#ed7953"
             ],
             [
              0.7777777777777778,
              "#fb9f3a"
             ],
             [
              0.8888888888888888,
              "#fdca26"
             ],
             [
              1,
              "#f0f921"
             ]
            ],
            "type": "histogram2dcontour"
           }
          ],
          "mesh3d": [
           {
            "colorbar": {
             "outlinewidth": 0,
             "ticks": ""
            },
            "type": "mesh3d"
           }
          ],
          "parcoords": [
           {
            "line": {
             "colorbar": {
              "outlinewidth": 0,
              "ticks": ""
             }
            },
            "type": "parcoords"
           }
          ],
          "pie": [
           {
            "automargin": true,
            "type": "pie"
           }
          ],
          "scatter": [
           {
            "fillpattern": {
             "fillmode": "overlay",
             "size": 10,
             "solidity": 0.2
            },
            "type": "scatter"
           }
          ],
          "scatter3d": [
           {
            "line": {
             "colorbar": {
              "outlinewidth": 0,
              "ticks": ""
             }
            },
            "marker": {
             "colorbar": {
              "outlinewidth": 0,
              "ticks": ""
             }
            },
            "type": "scatter3d"
           }
          ],
          "scattercarpet": [
           {
            "marker": {
             "colorbar": {
              "outlinewidth": 0,
              "ticks": ""
             }
            },
            "type": "scattercarpet"
           }
          ],
          "scattergeo": [
           {
            "marker": {
             "colorbar": {
              "outlinewidth": 0,
              "ticks": ""
             }
            },
            "type": "scattergeo"
           }
          ],
          "scattergl": [
           {
            "marker": {
             "colorbar": {
              "outlinewidth": 0,
              "ticks": ""
             }
            },
            "type": "scattergl"
           }
          ],
          "scattermapbox": [
           {
            "marker": {
             "colorbar": {
              "outlinewidth": 0,
              "ticks": ""
             }
            },
            "type": "scattermapbox"
           }
          ],
          "scatterpolar": [
           {
            "marker": {
             "colorbar": {
              "outlinewidth": 0,
              "ticks": ""
             }
            },
            "type": "scatterpolar"
           }
          ],
          "scatterpolargl": [
           {
            "marker": {
             "colorbar": {
              "outlinewidth": 0,
              "ticks": ""
             }
            },
            "type": "scatterpolargl"
           }
          ],
          "scatterternary": [
           {
            "marker": {
             "colorbar": {
              "outlinewidth": 0,
              "ticks": ""
             }
            },
            "type": "scatterternary"
           }
          ],
          "surface": [
           {
            "colorbar": {
             "outlinewidth": 0,
             "ticks": ""
            },
            "colorscale": [
             [
              0,
              "#0d0887"
             ],
             [
              0.1111111111111111,
              "#46039f"
             ],
             [
              0.2222222222222222,
              "#7201a8"
             ],
             [
              0.3333333333333333,
              "#9c179e"
             ],
             [
              0.4444444444444444,
              "#bd3786"
             ],
             [
              0.5555555555555556,
              "#d8576b"
             ],
             [
              0.6666666666666666,
              "#ed7953"
             ],
             [
              0.7777777777777778,
              "#fb9f3a"
             ],
             [
              0.8888888888888888,
              "#fdca26"
             ],
             [
              1,
              "#f0f921"
             ]
            ],
            "type": "surface"
           }
          ],
          "table": [
           {
            "cells": {
             "fill": {
              "color": "#EBF0F8"
             },
             "line": {
              "color": "white"
             }
            },
            "header": {
             "fill": {
              "color": "#C8D4E3"
             },
             "line": {
              "color": "white"
             }
            },
            "type": "table"
           }
          ]
         },
         "layout": {
          "annotationdefaults": {
           "arrowcolor": "#2a3f5f",
           "arrowhead": 0,
           "arrowwidth": 1
          },
          "autotypenumbers": "strict",
          "coloraxis": {
           "colorbar": {
            "outlinewidth": 0,
            "ticks": ""
           }
          },
          "colorscale": {
           "diverging": [
            [
             0,
             "#8e0152"
            ],
            [
             0.1,
             "#c51b7d"
            ],
            [
             0.2,
             "#de77ae"
            ],
            [
             0.3,
             "#f1b6da"
            ],
            [
             0.4,
             "#fde0ef"
            ],
            [
             0.5,
             "#f7f7f7"
            ],
            [
             0.6,
             "#e6f5d0"
            ],
            [
             0.7,
             "#b8e186"
            ],
            [
             0.8,
             "#7fbc41"
            ],
            [
             0.9,
             "#4d9221"
            ],
            [
             1,
             "#276419"
            ]
           ],
           "sequential": [
            [
             0,
             "#0d0887"
            ],
            [
             0.1111111111111111,
             "#46039f"
            ],
            [
             0.2222222222222222,
             "#7201a8"
            ],
            [
             0.3333333333333333,
             "#9c179e"
            ],
            [
             0.4444444444444444,
             "#bd3786"
            ],
            [
             0.5555555555555556,
             "#d8576b"
            ],
            [
             0.6666666666666666,
             "#ed7953"
            ],
            [
             0.7777777777777778,
             "#fb9f3a"
            ],
            [
             0.8888888888888888,
             "#fdca26"
            ],
            [
             1,
             "#f0f921"
            ]
           ],
           "sequentialminus": [
            [
             0,
             "#0d0887"
            ],
            [
             0.1111111111111111,
             "#46039f"
            ],
            [
             0.2222222222222222,
             "#7201a8"
            ],
            [
             0.3333333333333333,
             "#9c179e"
            ],
            [
             0.4444444444444444,
             "#bd3786"
            ],
            [
             0.5555555555555556,
             "#d8576b"
            ],
            [
             0.6666666666666666,
             "#ed7953"
            ],
            [
             0.7777777777777778,
             "#fb9f3a"
            ],
            [
             0.8888888888888888,
             "#fdca26"
            ],
            [
             1,
             "#f0f921"
            ]
           ]
          },
          "colorway": [
           "#636efa",
           "#EF553B",
           "#00cc96",
           "#ab63fa",
           "#FFA15A",
           "#19d3f3",
           "#FF6692",
           "#B6E880",
           "#FF97FF",
           "#FECB52"
          ],
          "font": {
           "color": "#2a3f5f"
          },
          "geo": {
           "bgcolor": "white",
           "lakecolor": "white",
           "landcolor": "#E5ECF6",
           "showlakes": true,
           "showland": true,
           "subunitcolor": "white"
          },
          "hoverlabel": {
           "align": "left"
          },
          "hovermode": "closest",
          "mapbox": {
           "style": "light"
          },
          "paper_bgcolor": "white",
          "plot_bgcolor": "#E5ECF6",
          "polar": {
           "angularaxis": {
            "gridcolor": "white",
            "linecolor": "white",
            "ticks": ""
           },
           "bgcolor": "#E5ECF6",
           "radialaxis": {
            "gridcolor": "white",
            "linecolor": "white",
            "ticks": ""
           }
          },
          "scene": {
           "xaxis": {
            "backgroundcolor": "#E5ECF6",
            "gridcolor": "white",
            "gridwidth": 2,
            "linecolor": "white",
            "showbackground": true,
            "ticks": "",
            "zerolinecolor": "white"
           },
           "yaxis": {
            "backgroundcolor": "#E5ECF6",
            "gridcolor": "white",
            "gridwidth": 2,
            "linecolor": "white",
            "showbackground": true,
            "ticks": "",
            "zerolinecolor": "white"
           },
           "zaxis": {
            "backgroundcolor": "#E5ECF6",
            "gridcolor": "white",
            "gridwidth": 2,
            "linecolor": "white",
            "showbackground": true,
            "ticks": "",
            "zerolinecolor": "white"
           }
          },
          "shapedefaults": {
           "line": {
            "color": "#2a3f5f"
           }
          },
          "ternary": {
           "aaxis": {
            "gridcolor": "white",
            "linecolor": "white",
            "ticks": ""
           },
           "baxis": {
            "gridcolor": "white",
            "linecolor": "white",
            "ticks": ""
           },
           "bgcolor": "#E5ECF6",
           "caxis": {
            "gridcolor": "white",
            "linecolor": "white",
            "ticks": ""
           }
          },
          "title": {
           "x": 0.05
          },
          "xaxis": {
           "automargin": true,
           "gridcolor": "white",
           "linecolor": "white",
           "ticks": "",
           "title": {
            "standoff": 15
           },
           "zerolinecolor": "white",
           "zerolinewidth": 2
          },
          "yaxis": {
           "automargin": true,
           "gridcolor": "white",
           "linecolor": "white",
           "ticks": "",
           "title": {
            "standoff": 15
           },
           "zerolinecolor": "white",
           "zerolinewidth": 2
          }
         }
        },
        "title": {
         "text": "Linear Regression Model for the Blue Cluster"
        },
        "xaxis": {
         "tickfont": {
          "size": 20
         },
         "title": {
          "text": "Date"
         }
        },
        "yaxis": {
         "tickfont": {
          "size": 20
         },
         "title": {
          "font": {
           "size": 20
          },
          "text": "Tweet Count"
         }
        }
       }
      }
     },
     "metadata": {},
     "output_type": "display_data"
    },
    {
     "name": "stdout",
     "output_type": "stream",
     "text": [
      "Model Evaluation\n",
      "\n",
      "Linear Regression: RMSE=4.25, R2=0.16\n",
      "P(x1): 0.05845134268370579\n",
      "There is no significant relationship between the predictor and the response\n",
      "\n"
     ]
    },
    {
     "data": {
      "application/vnd.plotly.v1+json": {
       "config": {
        "plotlyServerURL": "https://plot.ly"
       },
       "data": [
        {
         "marker": {
          "color": "blue",
          "opacity": 0.3
         },
         "mode": "markers",
         "name": "Actual",
         "type": "scatter",
         "x": [
          "22-10",
          "22-04",
          "20-04",
          "20-01",
          "19-10",
          "22-07",
          "21-10",
          "21-01",
          "17-07",
          "21-04",
          "22-01",
          "17-04",
          "18-10",
          "17-01",
          "18-07",
          "20-10",
          "18-04",
          "21-07",
          "20-07",
          "18-01",
          "16-04",
          "16-10",
          "17-10"
         ],
         "y": [
          9,
          19,
          2,
          1,
          2,
          11,
          14,
          2,
          2,
          1,
          7,
          3,
          3,
          3,
          3,
          1,
          7,
          1,
          1,
          9,
          4,
          2,
          4
         ]
        },
        {
         "line": {
          "color": "#00cd96",
          "dash": "dash"
         },
         "mode": "lines",
         "name": "LR",
         "type": "scatter",
         "x": [
          "22-10",
          "22-04",
          "20-04",
          "20-01",
          "19-10",
          "22-07",
          "21-10",
          "21-01",
          "17-07",
          "21-04",
          "22-01",
          "17-04",
          "18-10",
          "17-01",
          "18-07",
          "20-10",
          "18-04",
          "21-07",
          "20-07",
          "18-01",
          "16-04",
          "16-10",
          "17-10"
         ],
         "y": [
          7.685679908143136,
          7.221506104310727,
          5.369883826727879,
          5.139065159248375,
          4.9057100228954695,
          7.452324771790231,
          6.759868769351712,
          6.0674127669132005,
          2.820732608959716,
          6.295694965519303,
          6.993223905704625,
          2.589913941480212,
          3.9798988841040455,
          2.36163174287411,
          3.74654374775114,
          5.834057630560295,
          3.515725080271636,
          6.526513632998807,
          5.600702494207383,
          3.287442881665534,
          1.664102802688788,
          2.1282766065212044,
          3.0540877453126214
         ]
        }
       ],
       "layout": {
        "height": 600,
        "showlegend": true,
        "template": {
         "data": {
          "bar": [
           {
            "error_x": {
             "color": "#2a3f5f"
            },
            "error_y": {
             "color": "#2a3f5f"
            },
            "marker": {
             "line": {
              "color": "#E5ECF6",
              "width": 0.5
             },
             "pattern": {
              "fillmode": "overlay",
              "size": 10,
              "solidity": 0.2
             }
            },
            "type": "bar"
           }
          ],
          "barpolar": [
           {
            "marker": {
             "line": {
              "color": "#E5ECF6",
              "width": 0.5
             },
             "pattern": {
              "fillmode": "overlay",
              "size": 10,
              "solidity": 0.2
             }
            },
            "type": "barpolar"
           }
          ],
          "carpet": [
           {
            "aaxis": {
             "endlinecolor": "#2a3f5f",
             "gridcolor": "white",
             "linecolor": "white",
             "minorgridcolor": "white",
             "startlinecolor": "#2a3f5f"
            },
            "baxis": {
             "endlinecolor": "#2a3f5f",
             "gridcolor": "white",
             "linecolor": "white",
             "minorgridcolor": "white",
             "startlinecolor": "#2a3f5f"
            },
            "type": "carpet"
           }
          ],
          "choropleth": [
           {
            "colorbar": {
             "outlinewidth": 0,
             "ticks": ""
            },
            "type": "choropleth"
           }
          ],
          "contour": [
           {
            "colorbar": {
             "outlinewidth": 0,
             "ticks": ""
            },
            "colorscale": [
             [
              0,
              "#0d0887"
             ],
             [
              0.1111111111111111,
              "#46039f"
             ],
             [
              0.2222222222222222,
              "#7201a8"
             ],
             [
              0.3333333333333333,
              "#9c179e"
             ],
             [
              0.4444444444444444,
              "#bd3786"
             ],
             [
              0.5555555555555556,
              "#d8576b"
             ],
             [
              0.6666666666666666,
              "#ed7953"
             ],
             [
              0.7777777777777778,
              "#fb9f3a"
             ],
             [
              0.8888888888888888,
              "#fdca26"
             ],
             [
              1,
              "#f0f921"
             ]
            ],
            "type": "contour"
           }
          ],
          "contourcarpet": [
           {
            "colorbar": {
             "outlinewidth": 0,
             "ticks": ""
            },
            "type": "contourcarpet"
           }
          ],
          "heatmap": [
           {
            "colorbar": {
             "outlinewidth": 0,
             "ticks": ""
            },
            "colorscale": [
             [
              0,
              "#0d0887"
             ],
             [
              0.1111111111111111,
              "#46039f"
             ],
             [
              0.2222222222222222,
              "#7201a8"
             ],
             [
              0.3333333333333333,
              "#9c179e"
             ],
             [
              0.4444444444444444,
              "#bd3786"
             ],
             [
              0.5555555555555556,
              "#d8576b"
             ],
             [
              0.6666666666666666,
              "#ed7953"
             ],
             [
              0.7777777777777778,
              "#fb9f3a"
             ],
             [
              0.8888888888888888,
              "#fdca26"
             ],
             [
              1,
              "#f0f921"
             ]
            ],
            "type": "heatmap"
           }
          ],
          "heatmapgl": [
           {
            "colorbar": {
             "outlinewidth": 0,
             "ticks": ""
            },
            "colorscale": [
             [
              0,
              "#0d0887"
             ],
             [
              0.1111111111111111,
              "#46039f"
             ],
             [
              0.2222222222222222,
              "#7201a8"
             ],
             [
              0.3333333333333333,
              "#9c179e"
             ],
             [
              0.4444444444444444,
              "#bd3786"
             ],
             [
              0.5555555555555556,
              "#d8576b"
             ],
             [
              0.6666666666666666,
              "#ed7953"
             ],
             [
              0.7777777777777778,
              "#fb9f3a"
             ],
             [
              0.8888888888888888,
              "#fdca26"
             ],
             [
              1,
              "#f0f921"
             ]
            ],
            "type": "heatmapgl"
           }
          ],
          "histogram": [
           {
            "marker": {
             "pattern": {
              "fillmode": "overlay",
              "size": 10,
              "solidity": 0.2
             }
            },
            "type": "histogram"
           }
          ],
          "histogram2d": [
           {
            "colorbar": {
             "outlinewidth": 0,
             "ticks": ""
            },
            "colorscale": [
             [
              0,
              "#0d0887"
             ],
             [
              0.1111111111111111,
              "#46039f"
             ],
             [
              0.2222222222222222,
              "#7201a8"
             ],
             [
              0.3333333333333333,
              "#9c179e"
             ],
             [
              0.4444444444444444,
              "#bd3786"
             ],
             [
              0.5555555555555556,
              "#d8576b"
             ],
             [
              0.6666666666666666,
              "#ed7953"
             ],
             [
              0.7777777777777778,
              "#fb9f3a"
             ],
             [
              0.8888888888888888,
              "#fdca26"
             ],
             [
              1,
              "#f0f921"
             ]
            ],
            "type": "histogram2d"
           }
          ],
          "histogram2dcontour": [
           {
            "colorbar": {
             "outlinewidth": 0,
             "ticks": ""
            },
            "colorscale": [
             [
              0,
              "#0d0887"
             ],
             [
              0.1111111111111111,
              "#46039f"
             ],
             [
              0.2222222222222222,
              "#7201a8"
             ],
             [
              0.3333333333333333,
              "#9c179e"
             ],
             [
              0.4444444444444444,
              "#bd3786"
             ],
             [
              0.5555555555555556,
              "#d8576b"
             ],
             [
              0.6666666666666666,
              "#ed7953"
             ],
             [
              0.7777777777777778,
              "#fb9f3a"
             ],
             [
              0.8888888888888888,
              "#fdca26"
             ],
             [
              1,
              "#f0f921"
             ]
            ],
            "type": "histogram2dcontour"
           }
          ],
          "mesh3d": [
           {
            "colorbar": {
             "outlinewidth": 0,
             "ticks": ""
            },
            "type": "mesh3d"
           }
          ],
          "parcoords": [
           {
            "line": {
             "colorbar": {
              "outlinewidth": 0,
              "ticks": ""
             }
            },
            "type": "parcoords"
           }
          ],
          "pie": [
           {
            "automargin": true,
            "type": "pie"
           }
          ],
          "scatter": [
           {
            "fillpattern": {
             "fillmode": "overlay",
             "size": 10,
             "solidity": 0.2
            },
            "type": "scatter"
           }
          ],
          "scatter3d": [
           {
            "line": {
             "colorbar": {
              "outlinewidth": 0,
              "ticks": ""
             }
            },
            "marker": {
             "colorbar": {
              "outlinewidth": 0,
              "ticks": ""
             }
            },
            "type": "scatter3d"
           }
          ],
          "scattercarpet": [
           {
            "marker": {
             "colorbar": {
              "outlinewidth": 0,
              "ticks": ""
             }
            },
            "type": "scattercarpet"
           }
          ],
          "scattergeo": [
           {
            "marker": {
             "colorbar": {
              "outlinewidth": 0,
              "ticks": ""
             }
            },
            "type": "scattergeo"
           }
          ],
          "scattergl": [
           {
            "marker": {
             "colorbar": {
              "outlinewidth": 0,
              "ticks": ""
             }
            },
            "type": "scattergl"
           }
          ],
          "scattermapbox": [
           {
            "marker": {
             "colorbar": {
              "outlinewidth": 0,
              "ticks": ""
             }
            },
            "type": "scattermapbox"
           }
          ],
          "scatterpolar": [
           {
            "marker": {
             "colorbar": {
              "outlinewidth": 0,
              "ticks": ""
             }
            },
            "type": "scatterpolar"
           }
          ],
          "scatterpolargl": [
           {
            "marker": {
             "colorbar": {
              "outlinewidth": 0,
              "ticks": ""
             }
            },
            "type": "scatterpolargl"
           }
          ],
          "scatterternary": [
           {
            "marker": {
             "colorbar": {
              "outlinewidth": 0,
              "ticks": ""
             }
            },
            "type": "scatterternary"
           }
          ],
          "surface": [
           {
            "colorbar": {
             "outlinewidth": 0,
             "ticks": ""
            },
            "colorscale": [
             [
              0,
              "#0d0887"
             ],
             [
              0.1111111111111111,
              "#46039f"
             ],
             [
              0.2222222222222222,
              "#7201a8"
             ],
             [
              0.3333333333333333,
              "#9c179e"
             ],
             [
              0.4444444444444444,
              "#bd3786"
             ],
             [
              0.5555555555555556,
              "#d8576b"
             ],
             [
              0.6666666666666666,
              "#ed7953"
             ],
             [
              0.7777777777777778,
              "#fb9f3a"
             ],
             [
              0.8888888888888888,
              "#fdca26"
             ],
             [
              1,
              "#f0f921"
             ]
            ],
            "type": "surface"
           }
          ],
          "table": [
           {
            "cells": {
             "fill": {
              "color": "#EBF0F8"
             },
             "line": {
              "color": "white"
             }
            },
            "header": {
             "fill": {
              "color": "#C8D4E3"
             },
             "line": {
              "color": "white"
             }
            },
            "type": "table"
           }
          ]
         },
         "layout": {
          "annotationdefaults": {
           "arrowcolor": "#2a3f5f",
           "arrowhead": 0,
           "arrowwidth": 1
          },
          "autotypenumbers": "strict",
          "coloraxis": {
           "colorbar": {
            "outlinewidth": 0,
            "ticks": ""
           }
          },
          "colorscale": {
           "diverging": [
            [
             0,
             "#8e0152"
            ],
            [
             0.1,
             "#c51b7d"
            ],
            [
             0.2,
             "#de77ae"
            ],
            [
             0.3,
             "#f1b6da"
            ],
            [
             0.4,
             "#fde0ef"
            ],
            [
             0.5,
             "#f7f7f7"
            ],
            [
             0.6,
             "#e6f5d0"
            ],
            [
             0.7,
             "#b8e186"
            ],
            [
             0.8,
             "#7fbc41"
            ],
            [
             0.9,
             "#4d9221"
            ],
            [
             1,
             "#276419"
            ]
           ],
           "sequential": [
            [
             0,
             "#0d0887"
            ],
            [
             0.1111111111111111,
             "#46039f"
            ],
            [
             0.2222222222222222,
             "#7201a8"
            ],
            [
             0.3333333333333333,
             "#9c179e"
            ],
            [
             0.4444444444444444,
             "#bd3786"
            ],
            [
             0.5555555555555556,
             "#d8576b"
            ],
            [
             0.6666666666666666,
             "#ed7953"
            ],
            [
             0.7777777777777778,
             "#fb9f3a"
            ],
            [
             0.8888888888888888,
             "#fdca26"
            ],
            [
             1,
             "#f0f921"
            ]
           ],
           "sequentialminus": [
            [
             0,
             "#0d0887"
            ],
            [
             0.1111111111111111,
             "#46039f"
            ],
            [
             0.2222222222222222,
             "#7201a8"
            ],
            [
             0.3333333333333333,
             "#9c179e"
            ],
            [
             0.4444444444444444,
             "#bd3786"
            ],
            [
             0.5555555555555556,
             "#d8576b"
            ],
            [
             0.6666666666666666,
             "#ed7953"
            ],
            [
             0.7777777777777778,
             "#fb9f3a"
            ],
            [
             0.8888888888888888,
             "#fdca26"
            ],
            [
             1,
             "#f0f921"
            ]
           ]
          },
          "colorway": [
           "#636efa",
           "#EF553B",
           "#00cc96",
           "#ab63fa",
           "#FFA15A",
           "#19d3f3",
           "#FF6692",
           "#B6E880",
           "#FF97FF",
           "#FECB52"
          ],
          "font": {
           "color": "#2a3f5f"
          },
          "geo": {
           "bgcolor": "white",
           "lakecolor": "white",
           "landcolor": "#E5ECF6",
           "showlakes": true,
           "showland": true,
           "subunitcolor": "white"
          },
          "hoverlabel": {
           "align": "left"
          },
          "hovermode": "closest",
          "mapbox": {
           "style": "light"
          },
          "paper_bgcolor": "white",
          "plot_bgcolor": "#E5ECF6",
          "polar": {
           "angularaxis": {
            "gridcolor": "white",
            "linecolor": "white",
            "ticks": ""
           },
           "bgcolor": "#E5ECF6",
           "radialaxis": {
            "gridcolor": "white",
            "linecolor": "white",
            "ticks": ""
           }
          },
          "scene": {
           "xaxis": {
            "backgroundcolor": "#E5ECF6",
            "gridcolor": "white",
            "gridwidth": 2,
            "linecolor": "white",
            "showbackground": true,
            "ticks": "",
            "zerolinecolor": "white"
           },
           "yaxis": {
            "backgroundcolor": "#E5ECF6",
            "gridcolor": "white",
            "gridwidth": 2,
            "linecolor": "white",
            "showbackground": true,
            "ticks": "",
            "zerolinecolor": "white"
           },
           "zaxis": {
            "backgroundcolor": "#E5ECF6",
            "gridcolor": "white",
            "gridwidth": 2,
            "linecolor": "white",
            "showbackground": true,
            "ticks": "",
            "zerolinecolor": "white"
           }
          },
          "shapedefaults": {
           "line": {
            "color": "#2a3f5f"
           }
          },
          "ternary": {
           "aaxis": {
            "gridcolor": "white",
            "linecolor": "white",
            "ticks": ""
           },
           "baxis": {
            "gridcolor": "white",
            "linecolor": "white",
            "ticks": ""
           },
           "bgcolor": "#E5ECF6",
           "caxis": {
            "gridcolor": "white",
            "linecolor": "white",
            "ticks": ""
           }
          },
          "title": {
           "x": 0.05
          },
          "xaxis": {
           "automargin": true,
           "gridcolor": "white",
           "linecolor": "white",
           "ticks": "",
           "title": {
            "standoff": 15
           },
           "zerolinecolor": "white",
           "zerolinewidth": 2
          },
          "yaxis": {
           "automargin": true,
           "gridcolor": "white",
           "linecolor": "white",
           "ticks": "",
           "title": {
            "standoff": 15
           },
           "zerolinecolor": "white",
           "zerolinewidth": 2
          }
         }
        },
        "title": {
         "text": "Linear Regression Model for the Green Cluster"
        },
        "xaxis": {
         "tickfont": {
          "size": 20
         },
         "title": {
          "text": "Date"
         }
        },
        "yaxis": {
         "tickfont": {
          "size": 20
         },
         "title": {
          "font": {
           "size": 20
          },
          "text": "Tweet Count"
         }
        }
       }
      }
     },
     "metadata": {},
     "output_type": "display_data"
    }
   ],
   "source": [
    "## Perform regression modeling\n",
    "\n",
    "colors_text = [\"Red\", \"Blue\", \"Green\"]\n",
    "colors_hex = [\"#ee563b\", \"#656ffa\", \"#00cd96\"]\n",
    "\n",
    "for topic in range(1, 3 + 1):\n",
    "    topic_df = df_topics_lda[df_topics_lda[\"dominant_topic\"] == topic]\n",
    "\n",
    "    date_dict = {}\n",
    "    for index, row in topic_df.iterrows():\n",
    "        if row[\"date\"] in date_dict:\n",
    "            date_dict[row[\"date\"]] += 1\n",
    "        else:\n",
    "            date_dict[row[\"date\"]] = 1\n",
    "\n",
    "    date_df_dict = {\"date\": date_dict.keys(), \"count\": date_dict.values()}\n",
    "    date_df = pd.DataFrame.from_dict(date_df_dict)\n",
    "\n",
    "    # Convert datetime to int\n",
    "    x = date_df[\"date\"].astype(int) / 10**9  # Convert to seconds (UNIX epoch start)\n",
    "    x = x.values.reshape(-1, 1)\n",
    "\n",
    "    y = date_df[\"count\"]\n",
    "\n",
    "    # --------------------------------------------------------------\n",
    "    # Linear regression model\n",
    "    # --------------------------------------------------------------\n",
    "    # Stastical approach\n",
    "    x_lms = sm.add_constant(x)\n",
    "    linear_model_stat = sm.OLS(y, x_lms)\n",
    "    lms_results = linear_model_stat.fit()\n",
    "    p_values = lms_results.pvalues[1:]\n",
    "\n",
    "    # Machine learning approach (no p-values)\n",
    "    linear_model = LinearRegression()\n",
    "    linear_model.fit(x_lms, y)\n",
    "    y_linear_pred = linear_model.predict(x_lms)\n",
    "\n",
    "    # Calculate R2 and RMSE for linear regression model\n",
    "    linear_r2 = r2_score(y, y_linear_pred)\n",
    "    linear_rmse = np.sqrt(mean_squared_error(y, y_linear_pred))\n",
    "\n",
    "    print(\"Model Evaluation\")\n",
    "    print(\"\\nLinear Regression: RMSE=%.2f, R2=%.2f\" % (linear_rmse, linear_r2))\n",
    "    for i, p_value in enumerate(p_values.index):\n",
    "        print(f\"P({p_value}): {p_values[i]}\")\n",
    "\n",
    "    if any(p_values <= 0.03):\n",
    "        print(\n",
    "            \"There is a significant relationship between the predictor and the response\\n\"\n",
    "        )\n",
    "    else:\n",
    "        print(\n",
    "            \"There is no significant relationship between the predictor and the response\\n\"\n",
    "        )\n",
    "\n",
    "    # Plot the model\n",
    "    import plotly.graph_objects as go\n",
    "\n",
    "    xtt = date_df[\"date\"].dt.strftime(\"%y-%m\")\n",
    "    scatter_actual = go.Scatter(\n",
    "        x=xtt,\n",
    "        y=y,\n",
    "        mode=\"markers\",\n",
    "        name=\"Actual\",\n",
    "        marker=dict(color=\"blue\", opacity=0.3),\n",
    "    )\n",
    "\n",
    "    line_regression = go.Scatter(\n",
    "        x=xtt,\n",
    "        y=y_linear_pred,\n",
    "        mode=\"lines\",\n",
    "        name=\"LR\",\n",
    "        line=dict(color=colors_hex[topic - 1], dash=\"dash\"),\n",
    "    )\n",
    "\n",
    "    data = [scatter_actual, line_regression]\n",
    "\n",
    "    layout = go.Layout(\n",
    "        xaxis=dict(title=\"Date\"),\n",
    "        yaxis=dict(title=\"Tweet Count\"),\n",
    "        title=f\"Linear Regression Model for the {colors_text[topic - 1]} Cluster\",\n",
    "        showlegend=True,\n",
    "        height=600,\n",
    "    )\n",
    "\n",
    "    fig = go.Figure(data=data, layout=layout)\n",
    "    fig.update_xaxes(tickfont_size=20)\n",
    "    fig.update_yaxes(title={\"font\": {\"size\": 20}}, tickfont_size=20)\n",
    "    fig.show()"
   ]
  },
  {
   "attachments": {},
   "cell_type": "markdown",
   "metadata": {},
   "source": [
    "### Interpret the results and provide a conclusion based on the hypothesis test.\n",
    "\n",
    "We see that the blue cluster (competence) has a significant increasing trend based on our threshold of $0.03$. The other clusters do not have statistically significant trends.\n",
    "\n",
    "This __validates__ our alternative hypothesis: some clusters indeed have increasing trends."
   ]
  },
  {
   "attachments": {},
   "cell_type": "markdown",
   "metadata": {
    "id": "8wi3uwAbmZTQ"
   },
   "source": [
    "# Goodbye!\n",
    "\n",
    "That wraps up the data modeling & analysis of the Group 9 dataset. We hope you enjoyed seeing the process evolve, and feel free to apply some of the ideas here in your own future works.\n",
    "\n",
    "That's all from `<Team Name>` for now. Until next time! 👋"
   ]
  }
 ],
 "metadata": {
  "colab": {
   "provenance": [],
   "toc_visible": true
  },
  "kernelspec": {
   "display_name": "Python 3",
   "name": "python3"
  },
  "language_info": {
   "codemirror_mode": {
    "name": "ipython",
    "version": 3
   },
   "file_extension": ".py",
   "mimetype": "text/x-python",
   "name": "python",
   "nbconvert_exporter": "python",
   "pygments_lexer": "ipython3",
   "version": "3.11.0"
  }
 },
 "nbformat": 4,
 "nbformat_minor": 0
}
