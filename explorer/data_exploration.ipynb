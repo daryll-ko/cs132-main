{
 "cells": [
  {
   "attachments": {},
   "cell_type": "markdown",
   "metadata": {
    "id": "YUhT-Bv0dnG_"
   },
   "source": [
    "# Hello!\n",
    "\n",
    "This is Group 9's Jupyter Notebook for data exploration. We wanted to figure out all sorts of things about the data we have, and the result of that exploration is the series of cells you see below.\n",
    "\n",
    "We also wanted to show our results in a way that makes the reader immersed in the data exploration experience, so there's a narrative tone throughout this notebook. Enjoy!\n",
    "\n",
    "---\n",
    "\n",
    "As with any self-respecting Python program, let's first import the ~~minions~~ packages we'll need:\n",
    "\n",
    "- `pandas` (DataFrames!)\n",
    "- `plotly` (plotting)\n",
    "- `re` (regular expressions)\n",
    "- `nltk` (natural language processing)\n",
    "- `emoji` (🤔)"
   ]
  },
  {
   "cell_type": "code",
   "execution_count": 199,
   "metadata": {
    "colab": {
     "base_uri": "https://localhost:8080/"
    },
    "id": "wUka4ap7Vy5U",
    "outputId": "a4ff3e6a-8596-40b5-c4cd-88a4a28f3282"
   },
   "outputs": [
    {
     "name": "stdout",
     "output_type": "stream",
     "text": [
      "Requirement already satisfied: emoji in /Users/macintoshhd/.pyenv/versions/3.11.0/lib/python3.11/site-packages (2.6.0)\n",
      "Note: you may need to restart the kernel to use updated packages.\n"
     ]
    }
   ],
   "source": [
    "%pip install emoji"
   ]
  },
  {
   "cell_type": "code",
   "execution_count": 200,
   "metadata": {
    "id": "9Y9llTx7Ire9"
   },
   "outputs": [],
   "source": [
    "import emoji\n",
    "import nltk\n",
    "import pandas as pd\n",
    "import plotly.express as px\n",
    "import plotly.io as pio\n",
    "import re\n",
    "\n",
    "pio.renderers.default = \"notebook\"  # so that plotly works in an HTML file"
   ]
  },
  {
   "attachments": {},
   "cell_type": "markdown",
   "metadata": {
    "id": "yETmxSPXfxJI"
   },
   "source": [
    "# So...where's our data?\n",
    "\n",
    "The CSV files for our dataset are hosted in one of Daryll's GitHub repositories, so let's just yoink those into this notebook:"
   ]
  },
  {
   "cell_type": "code",
   "execution_count": 201,
   "metadata": {
    "id": "RH9yY8_sIre_"
   },
   "outputs": [],
   "source": [
    "CSV_PATHS = [\n",
    "    \"https://raw.githubusercontent.com/daryll-ko/cs132-main/main/explorer/data/data_001-100.csv\",\n",
    "    \"https://raw.githubusercontent.com/daryll-ko/cs132-main/main/explorer/data/data_101-150.csv\",\n",
    "    \"https://raw.githubusercontent.com/daryll-ko/cs132-main/main/explorer/data/data_other_groups.csv\",\n",
    "]"
   ]
  },
  {
   "cell_type": "code",
   "execution_count": 202,
   "metadata": {
    "id": "A1u5NXvICuU9"
   },
   "outputs": [],
   "source": [
    "dfs = [pd.read_csv(csv_path, index_col=False) for csv_path in CSV_PATHS]"
   ]
  },
  {
   "attachments": {},
   "cell_type": "markdown",
   "metadata": {
    "id": "AvqNtVKVgKxw"
   },
   "source": [
    "There are three CSV files (and DataFrames) because our data is split into three parts: one for the first 100 samples, another for the remaining 50 samples, and the last one for other groups' samples. Having to work with three things at once is a pain, so let's concatenate the DataFrames together:"
   ]
  },
  {
   "cell_type": "code",
   "execution_count": 203,
   "metadata": {
    "id": "SOagJqjEa2Hb"
   },
   "outputs": [],
   "source": [
    "df = pd.concat(dfs, ignore_index=True)"
   ]
  },
  {
   "attachments": {},
   "cell_type": "markdown",
   "metadata": {
    "id": "YiBbVZM3guka"
   },
   "source": [
    "# Preprocessing\n",
    "\n",
    "Let's look at the shape of the data:"
   ]
  },
  {
   "cell_type": "code",
   "execution_count": 204,
   "metadata": {
    "colab": {
     "base_uri": "https://localhost:8080/"
    },
    "id": "TWhr1JvmhAlO",
    "outputId": "60a1e39b-015e-4bde-a0d1-e2f700745c71"
   },
   "outputs": [
    {
     "data": {
      "text/plain": [
       "(2120, 32)"
      ]
     },
     "execution_count": 204,
     "metadata": {},
     "output_type": "execute_result"
    }
   ],
   "source": [
    "df.shape"
   ]
  },
  {
   "attachments": {},
   "cell_type": "markdown",
   "metadata": {
    "id": "PwKGbdc9hLb1"
   },
   "source": [
    "That's...an awful lot of rows. It turns out that the CSV files still have the default blank rows from Google Sheets.\n",
    "\n",
    "To fix this, let's just filter out the rows that don't have a `Tweet URL` entry:"
   ]
  },
  {
   "cell_type": "code",
   "execution_count": 205,
   "metadata": {
    "id": "eTzpbfivIrfA"
   },
   "outputs": [],
   "source": [
    "sentinels = [\"Tweet URL\", \"Following\", \"Date posted\"]\n",
    "\n",
    "for sentinel in sentinels:\n",
    "    df = df[df[sentinel].notna()]\n",
    "\n",
    "df.reset_index(drop=True, inplace=True)"
   ]
  },
  {
   "attachments": {},
   "cell_type": "markdown",
   "metadata": {
    "id": "i0K9aASMh65N"
   },
   "source": [
    "How many rows do we have now?"
   ]
  },
  {
   "cell_type": "code",
   "execution_count": 206,
   "metadata": {
    "colab": {
     "base_uri": "https://localhost:8080/"
    },
    "id": "frLuTu0rrnwC",
    "outputId": "da150fec-a4af-4449-9fa2-7115e80ac100"
   },
   "outputs": [
    {
     "data": {
      "text/plain": [
       "(399, 32)"
      ]
     },
     "execution_count": 206,
     "metadata": {},
     "output_type": "execute_result"
    }
   ],
   "source": [
    "df.shape"
   ]
  },
  {
   "attachments": {},
   "cell_type": "markdown",
   "metadata": {
    "id": "0cBCQKsZrraQ"
   },
   "source": [
    "That's much better! Now let's look at our DataFrame's columns:"
   ]
  },
  {
   "cell_type": "code",
   "execution_count": 207,
   "metadata": {
    "colab": {
     "base_uri": "https://localhost:8080/"
    },
    "id": "ZLgT2gnvsG4N",
    "outputId": "e4797466-e6ca-47ff-d720-86af475d4456"
   },
   "outputs": [
    {
     "data": {
      "text/plain": [
       "Index(['ID', 'Timestamp', 'Tweet URL', 'Group', 'Collector', 'Category',\n",
       "       'Topic', 'Keywords', 'Account handle', 'Account name', 'Account bio',\n",
       "       'Account type', 'Joined', 'Following', 'Followers', 'Location', 'Tweet',\n",
       "       'Tweet Translated', 'Tweet Type', 'Date posted', 'Screenshot',\n",
       "       'Content type', 'Likes', 'Replies', 'Retweets', 'Quote Tweets', 'Views',\n",
       "       'Rating', 'Reasoning', 'Remarks', 'Reviewer', 'Review'],\n",
       "      dtype='object')"
      ]
     },
     "execution_count": 207,
     "metadata": {},
     "output_type": "execute_result"
    }
   ],
   "source": [
    "df.columns"
   ]
  },
  {
   "attachments": {},
   "cell_type": "markdown",
   "metadata": {
    "id": "L52zRsm7sOj5"
   },
   "source": [
    "Some of these columns are irrelevant to the core of our data science project (e.g., `Timestamp` of data collection), so let's just drop 'em:"
   ]
  },
  {
   "cell_type": "code",
   "execution_count": 208,
   "metadata": {
    "id": "qWqN0-rRsbDp"
   },
   "outputs": [],
   "source": [
    "cols_to_drop = [\n",
    "    \"ID\",\n",
    "    \"Timestamp\",\n",
    "    \"Group\",\n",
    "    \"Collector\",\n",
    "    \"Category\",\n",
    "    \"Topic\",\n",
    "    \"Keywords\",\n",
    "    \"Reviewer\",\n",
    "    \"Review\",\n",
    "    \"Remarks\",\n",
    "]\n",
    "\n",
    "df = df.drop(columns=cols_to_drop)"
   ]
  },
  {
   "attachments": {},
   "cell_type": "markdown",
   "metadata": {
    "id": "sKdCgwMjurtt"
   },
   "source": [
    "What columns do we have left?"
   ]
  },
  {
   "cell_type": "code",
   "execution_count": 209,
   "metadata": {
    "colab": {
     "base_uri": "https://localhost:8080/"
    },
    "id": "ZgfhVup0uuMV",
    "outputId": "10c30123-277e-44ca-ed46-eeb5aca882b2"
   },
   "outputs": [
    {
     "data": {
      "text/plain": [
       "Index(['Tweet URL', 'Account handle', 'Account name', 'Account bio',\n",
       "       'Account type', 'Joined', 'Following', 'Followers', 'Location', 'Tweet',\n",
       "       'Tweet Translated', 'Tweet Type', 'Date posted', 'Screenshot',\n",
       "       'Content type', 'Likes', 'Replies', 'Retweets', 'Quote Tweets', 'Views',\n",
       "       'Rating', 'Reasoning'],\n",
       "      dtype='object')"
      ]
     },
     "execution_count": 209,
     "metadata": {},
     "output_type": "execute_result"
    }
   ],
   "source": [
    "df.columns"
   ]
  },
  {
   "attachments": {},
   "cell_type": "markdown",
   "metadata": {
    "id": "k03Bt6JmvikT"
   },
   "source": [
    "That's much better! In subsequent sections, we'll clean up our data further and extract new features from our existing features that are more relevant to our problem (context analysis)."
   ]
  },
  {
   "attachments": {},
   "cell_type": "markdown",
   "metadata": {
    "id": "NVgI0LzofRee"
   },
   "source": [
    "## Handling missing values\n",
    "\n",
    "Before we even know *what* to handle, let's get a bird's-eye view of our dataset using the `describe()` method:"
   ]
  },
  {
   "cell_type": "code",
   "execution_count": 210,
   "metadata": {
    "colab": {
     "base_uri": "https://localhost:8080/",
     "height": 300
    },
    "id": "utkpLjHdwB5Z",
    "outputId": "19ae2650-b19a-46a4-fe19-68c52a012a83"
   },
   "outputs": [
    {
     "data": {
      "text/html": [
       "<div>\n",
       "<style scoped>\n",
       "    .dataframe tbody tr th:only-of-type {\n",
       "        vertical-align: middle;\n",
       "    }\n",
       "\n",
       "    .dataframe tbody tr th {\n",
       "        vertical-align: top;\n",
       "    }\n",
       "\n",
       "    .dataframe thead th {\n",
       "        text-align: right;\n",
       "    }\n",
       "</style>\n",
       "<table border=\"1\" class=\"dataframe\">\n",
       "  <thead>\n",
       "    <tr style=\"text-align: right;\">\n",
       "      <th></th>\n",
       "      <th>Likes</th>\n",
       "      <th>Replies</th>\n",
       "      <th>Retweets</th>\n",
       "      <th>Quote Tweets</th>\n",
       "      <th>Views</th>\n",
       "    </tr>\n",
       "  </thead>\n",
       "  <tbody>\n",
       "    <tr>\n",
       "      <th>count</th>\n",
       "      <td>399.000000</td>\n",
       "      <td>399.000000</td>\n",
       "      <td>399.000000</td>\n",
       "      <td>128.000000</td>\n",
       "      <td>7.000000</td>\n",
       "    </tr>\n",
       "    <tr>\n",
       "      <th>mean</th>\n",
       "      <td>13.408521</td>\n",
       "      <td>1.498747</td>\n",
       "      <td>4.994987</td>\n",
       "      <td>1.601562</td>\n",
       "      <td>55.857143</td>\n",
       "    </tr>\n",
       "    <tr>\n",
       "      <th>std</th>\n",
       "      <td>72.995223</td>\n",
       "      <td>7.001391</td>\n",
       "      <td>25.784963</td>\n",
       "      <td>8.352792</td>\n",
       "      <td>57.744924</td>\n",
       "    </tr>\n",
       "    <tr>\n",
       "      <th>min</th>\n",
       "      <td>0.000000</td>\n",
       "      <td>0.000000</td>\n",
       "      <td>0.000000</td>\n",
       "      <td>0.000000</td>\n",
       "      <td>3.000000</td>\n",
       "    </tr>\n",
       "    <tr>\n",
       "      <th>25%</th>\n",
       "      <td>0.000000</td>\n",
       "      <td>0.000000</td>\n",
       "      <td>0.000000</td>\n",
       "      <td>0.000000</td>\n",
       "      <td>22.000000</td>\n",
       "    </tr>\n",
       "    <tr>\n",
       "      <th>50%</th>\n",
       "      <td>0.000000</td>\n",
       "      <td>0.000000</td>\n",
       "      <td>0.000000</td>\n",
       "      <td>0.000000</td>\n",
       "      <td>49.000000</td>\n",
       "    </tr>\n",
       "    <tr>\n",
       "      <th>75%</th>\n",
       "      <td>2.000000</td>\n",
       "      <td>1.000000</td>\n",
       "      <td>1.000000</td>\n",
       "      <td>0.000000</td>\n",
       "      <td>59.000000</td>\n",
       "    </tr>\n",
       "    <tr>\n",
       "      <th>max</th>\n",
       "      <td>738.000000</td>\n",
       "      <td>70.000000</td>\n",
       "      <td>281.000000</td>\n",
       "      <td>72.000000</td>\n",
       "      <td>177.000000</td>\n",
       "    </tr>\n",
       "  </tbody>\n",
       "</table>\n",
       "</div>"
      ],
      "text/plain": [
       "            Likes     Replies    Retweets  Quote Tweets       Views\n",
       "count  399.000000  399.000000  399.000000    128.000000    7.000000\n",
       "mean    13.408521    1.498747    4.994987      1.601562   55.857143\n",
       "std     72.995223    7.001391   25.784963      8.352792   57.744924\n",
       "min      0.000000    0.000000    0.000000      0.000000    3.000000\n",
       "25%      0.000000    0.000000    0.000000      0.000000   22.000000\n",
       "50%      0.000000    0.000000    0.000000      0.000000   49.000000\n",
       "75%      2.000000    1.000000    1.000000      0.000000   59.000000\n",
       "max    738.000000   70.000000  281.000000     72.000000  177.000000"
      ]
     },
     "execution_count": 210,
     "metadata": {},
     "output_type": "execute_result"
    }
   ],
   "source": [
    "df.describe()"
   ]
  },
  {
   "attachments": {},
   "cell_type": "markdown",
   "metadata": {
    "id": "_uwJwY9Twlsi"
   },
   "source": [
    "There are some oddities here. First of all, it seems like some columns don't have all the 400-ish entries (these were optional columns in the data collection phase).\n",
    "\n",
    "There's not much we can do about that, so let's just drop 'em as well..."
   ]
  },
  {
   "cell_type": "code",
   "execution_count": 211,
   "metadata": {
    "id": "tDpoawpsw9r8"
   },
   "outputs": [],
   "source": [
    "more_cols_to_drop = [\n",
    "    \"Tweet Translated\",\n",
    "    \"Screenshot\",\n",
    "    \"Quote Tweets\",\n",
    "    \"Views\",\n",
    "    \"Rating\",\n",
    "]\n",
    "\n",
    "df = df.drop(columns=more_cols_to_drop)"
   ]
  },
  {
   "attachments": {},
   "cell_type": "markdown",
   "metadata": {
    "id": "Iibd8jz1xMlO"
   },
   "source": [
    "That should do the trick! Let's call the `describe` method again:"
   ]
  },
  {
   "cell_type": "code",
   "execution_count": 212,
   "metadata": {
    "colab": {
     "base_uri": "https://localhost:8080/",
     "height": 300
    },
    "id": "oV2Wdw3MxRU-",
    "outputId": "f2e98ec0-19a8-4f84-a248-6699337c5618"
   },
   "outputs": [
    {
     "data": {
      "text/html": [
       "<div>\n",
       "<style scoped>\n",
       "    .dataframe tbody tr th:only-of-type {\n",
       "        vertical-align: middle;\n",
       "    }\n",
       "\n",
       "    .dataframe tbody tr th {\n",
       "        vertical-align: top;\n",
       "    }\n",
       "\n",
       "    .dataframe thead th {\n",
       "        text-align: right;\n",
       "    }\n",
       "</style>\n",
       "<table border=\"1\" class=\"dataframe\">\n",
       "  <thead>\n",
       "    <tr style=\"text-align: right;\">\n",
       "      <th></th>\n",
       "      <th>Likes</th>\n",
       "      <th>Replies</th>\n",
       "      <th>Retweets</th>\n",
       "    </tr>\n",
       "  </thead>\n",
       "  <tbody>\n",
       "    <tr>\n",
       "      <th>count</th>\n",
       "      <td>399.000000</td>\n",
       "      <td>399.000000</td>\n",
       "      <td>399.000000</td>\n",
       "    </tr>\n",
       "    <tr>\n",
       "      <th>mean</th>\n",
       "      <td>13.408521</td>\n",
       "      <td>1.498747</td>\n",
       "      <td>4.994987</td>\n",
       "    </tr>\n",
       "    <tr>\n",
       "      <th>std</th>\n",
       "      <td>72.995223</td>\n",
       "      <td>7.001391</td>\n",
       "      <td>25.784963</td>\n",
       "    </tr>\n",
       "    <tr>\n",
       "      <th>min</th>\n",
       "      <td>0.000000</td>\n",
       "      <td>0.000000</td>\n",
       "      <td>0.000000</td>\n",
       "    </tr>\n",
       "    <tr>\n",
       "      <th>25%</th>\n",
       "      <td>0.000000</td>\n",
       "      <td>0.000000</td>\n",
       "      <td>0.000000</td>\n",
       "    </tr>\n",
       "    <tr>\n",
       "      <th>50%</th>\n",
       "      <td>0.000000</td>\n",
       "      <td>0.000000</td>\n",
       "      <td>0.000000</td>\n",
       "    </tr>\n",
       "    <tr>\n",
       "      <th>75%</th>\n",
       "      <td>2.000000</td>\n",
       "      <td>1.000000</td>\n",
       "      <td>1.000000</td>\n",
       "    </tr>\n",
       "    <tr>\n",
       "      <th>max</th>\n",
       "      <td>738.000000</td>\n",
       "      <td>70.000000</td>\n",
       "      <td>281.000000</td>\n",
       "    </tr>\n",
       "  </tbody>\n",
       "</table>\n",
       "</div>"
      ],
      "text/plain": [
       "            Likes     Replies    Retweets\n",
       "count  399.000000  399.000000  399.000000\n",
       "mean    13.408521    1.498747    4.994987\n",
       "std     72.995223    7.001391   25.784963\n",
       "min      0.000000    0.000000    0.000000\n",
       "25%      0.000000    0.000000    0.000000\n",
       "50%      0.000000    0.000000    0.000000\n",
       "75%      2.000000    1.000000    1.000000\n",
       "max    738.000000   70.000000  281.000000"
      ]
     },
     "execution_count": 212,
     "metadata": {},
     "output_type": "execute_result"
    }
   ],
   "source": [
    "df.describe()"
   ]
  },
  {
   "attachments": {},
   "cell_type": "markdown",
   "metadata": {
    "id": "OupoH-kUxjsK"
   },
   "source": [
    "Cool! At least for our quantitative features, we seem to have data that looks nor—wait a second, 149? Don't we have 150 columns?\n",
    "\n",
    "To our dismay, we found that for some reason, we didn't include the `Joined`, `Following`, `Followers`, and `Location` info for one row. Oh well, let's see what we can do.\n",
    "\n",
    "`Following` and `Followers` are data points at the ratio level, so we can impute those missing values with the mean of their respective columns:"
   ]
  },
  {
   "cell_type": "code",
   "execution_count": 213,
   "metadata": {
    "id": "v1CUUZVVIrfA"
   },
   "outputs": [],
   "source": [
    "cols_to_fill = [\"Following\", \"Followers\"]\n",
    "\n",
    "df[cols_to_fill] = df[cols_to_fill].apply(pd.to_numeric, errors=\"coerce\")\n",
    "\n",
    "for col in cols_to_fill:\n",
    "    mean = df[col].mean()\n",
    "    df[col] = df[col].fillna(mean)"
   ]
  },
  {
   "attachments": {},
   "cell_type": "markdown",
   "metadata": {
    "id": "fkit4fXJ09oI"
   },
   "source": [
    "`describe` *should* be fine now..."
   ]
  },
  {
   "cell_type": "code",
   "execution_count": 214,
   "metadata": {
    "colab": {
     "base_uri": "https://localhost:8080/",
     "height": 300
    },
    "id": "1Ofczok_1B_k",
    "outputId": "617280d1-3b85-4ec8-b846-359f278e8a45"
   },
   "outputs": [
    {
     "data": {
      "text/html": [
       "<div>\n",
       "<style scoped>\n",
       "    .dataframe tbody tr th:only-of-type {\n",
       "        vertical-align: middle;\n",
       "    }\n",
       "\n",
       "    .dataframe tbody tr th {\n",
       "        vertical-align: top;\n",
       "    }\n",
       "\n",
       "    .dataframe thead th {\n",
       "        text-align: right;\n",
       "    }\n",
       "</style>\n",
       "<table border=\"1\" class=\"dataframe\">\n",
       "  <thead>\n",
       "    <tr style=\"text-align: right;\">\n",
       "      <th></th>\n",
       "      <th>Following</th>\n",
       "      <th>Followers</th>\n",
       "      <th>Likes</th>\n",
       "      <th>Replies</th>\n",
       "      <th>Retweets</th>\n",
       "    </tr>\n",
       "  </thead>\n",
       "  <tbody>\n",
       "    <tr>\n",
       "      <th>count</th>\n",
       "      <td>399.000000</td>\n",
       "      <td>399.000000</td>\n",
       "      <td>399.000000</td>\n",
       "      <td>399.000000</td>\n",
       "      <td>399.000000</td>\n",
       "    </tr>\n",
       "    <tr>\n",
       "      <th>mean</th>\n",
       "      <td>628.275862</td>\n",
       "      <td>1299.478836</td>\n",
       "      <td>13.408521</td>\n",
       "      <td>1.498747</td>\n",
       "      <td>4.994987</td>\n",
       "    </tr>\n",
       "    <tr>\n",
       "      <th>std</th>\n",
       "      <td>1100.116199</td>\n",
       "      <td>7008.724823</td>\n",
       "      <td>72.995223</td>\n",
       "      <td>7.001391</td>\n",
       "      <td>25.784963</td>\n",
       "    </tr>\n",
       "    <tr>\n",
       "      <th>min</th>\n",
       "      <td>0.000000</td>\n",
       "      <td>0.000000</td>\n",
       "      <td>0.000000</td>\n",
       "      <td>0.000000</td>\n",
       "      <td>0.000000</td>\n",
       "    </tr>\n",
       "    <tr>\n",
       "      <th>25%</th>\n",
       "      <td>77.000000</td>\n",
       "      <td>25.500000</td>\n",
       "      <td>0.000000</td>\n",
       "      <td>0.000000</td>\n",
       "      <td>0.000000</td>\n",
       "    </tr>\n",
       "    <tr>\n",
       "      <th>50%</th>\n",
       "      <td>247.000000</td>\n",
       "      <td>181.000000</td>\n",
       "      <td>0.000000</td>\n",
       "      <td>0.000000</td>\n",
       "      <td>0.000000</td>\n",
       "    </tr>\n",
       "    <tr>\n",
       "      <th>75%</th>\n",
       "      <td>628.275862</td>\n",
       "      <td>714.500000</td>\n",
       "      <td>2.000000</td>\n",
       "      <td>1.000000</td>\n",
       "      <td>1.000000</td>\n",
       "    </tr>\n",
       "    <tr>\n",
       "      <th>max</th>\n",
       "      <td>8058.000000</td>\n",
       "      <td>85700.000000</td>\n",
       "      <td>738.000000</td>\n",
       "      <td>70.000000</td>\n",
       "      <td>281.000000</td>\n",
       "    </tr>\n",
       "  </tbody>\n",
       "</table>\n",
       "</div>"
      ],
      "text/plain": [
       "         Following     Followers       Likes     Replies    Retweets\n",
       "count   399.000000    399.000000  399.000000  399.000000  399.000000\n",
       "mean    628.275862   1299.478836   13.408521    1.498747    4.994987\n",
       "std    1100.116199   7008.724823   72.995223    7.001391   25.784963\n",
       "min       0.000000      0.000000    0.000000    0.000000    0.000000\n",
       "25%      77.000000     25.500000    0.000000    0.000000    0.000000\n",
       "50%     247.000000    181.000000    0.000000    0.000000    0.000000\n",
       "75%     628.275862    714.500000    2.000000    1.000000    1.000000\n",
       "max    8058.000000  85700.000000  738.000000   70.000000  281.000000"
      ]
     },
     "execution_count": 214,
     "metadata": {},
     "output_type": "execute_result"
    }
   ],
   "source": [
    "df.describe()"
   ]
  },
  {
   "attachments": {},
   "cell_type": "markdown",
   "metadata": {
    "id": "SdFy0smT1dlH"
   },
   "source": [
    "## Handling outliers + Standardization\n",
    "\n",
    "For our project, tweets that are outliers in terms of likes, replies, or retweets are actually important because these are tweets that have a lot of reach, and so they give a lot more context when mis/disinformation is our issue.\n",
    "\n",
    "Thus, we're not going to drop these outliers; instead, we'll just identify them. It's good to know what kinds of tweets are getting a lot more attention than usual.\n",
    "\n",
    "We first add new columns dedicated to showing the z-scores of the entries in some columns (standardization), then identify outliers based on these z-score columns:"
   ]
  },
  {
   "cell_type": "code",
   "execution_count": 215,
   "metadata": {
    "colab": {
     "base_uri": "https://localhost:8080/",
     "height": 1000
    },
    "id": "hR7hIjFgIrfA",
    "outputId": "8bfab9fe-a924-4b71-aea7-f9b455d9e05f"
   },
   "outputs": [
    {
     "name": "stdout",
     "output_type": "stream",
     "text": [
      "Rows with outlier in [Likes]\n"
     ]
    },
    {
     "data": {
      "text/plain": [
       "1      8.200420\n",
       "136    4.898834\n",
       "358    9.693668\n",
       "372    9.926560\n",
       "375    8.488110\n",
       "Name: Likes (z-scores), dtype: float64"
      ]
     },
     "metadata": {},
     "output_type": "display_data"
    },
    {
     "name": "stdout",
     "output_type": "stream",
     "text": [
      "\n",
      "Rows with outlier in [Replies]\n"
     ]
    },
    {
     "data": {
      "text/plain": [
       "1      7.070203\n",
       "18     4.213628\n",
       "136    4.213628\n",
       "171    5.213429\n",
       "204    3.213826\n",
       "292    5.784744\n",
       "358    6.784545\n",
       "372    9.783950\n",
       "375    8.070004\n",
       "397    3.499484\n",
       "Name: Replies (z-scores), dtype: float64"
      ]
     },
     "metadata": {},
     "output_type": "display_data"
    },
    {
     "name": "stdout",
     "output_type": "stream",
     "text": [
      "\n",
      "Rows with outlier in [Retweets]\n"
     ]
    },
    {
     "data": {
      "text/plain": [
       "1       3.451819\n",
       "136     3.102778\n",
       "148     6.864660\n",
       "162     3.762077\n",
       "358    10.704108\n",
       "372    10.161155\n",
       "375     8.066912\n",
       "Name: Retweets (z-scores), dtype: float64"
      ]
     },
     "metadata": {},
     "output_type": "display_data"
    },
    {
     "name": "stdout",
     "output_type": "stream",
     "text": [
      "\n"
     ]
    }
   ],
   "source": [
    "cols = [\"Likes\", \"Replies\", \"Retweets\"]\n",
    "\n",
    "for col in cols:\n",
    "    new_col_name = f\"{col} (z-scores)\"\n",
    "    df[new_col_name] = (df[col] - df[col].mean()) / df[col].std()\n",
    "    print(f\"Rows with outlier in [{col}]\")\n",
    "    display(df[abs(df[new_col_name]) > 3][f\"{col} (z-scores)\"])\n",
    "    print()"
   ]
  },
  {
   "attachments": {},
   "cell_type": "markdown",
   "metadata": {
    "id": "nLgLfyf-6MtL"
   },
   "source": [
    "Cool! These are rows we can keep in mind for later on."
   ]
  },
  {
   "attachments": {},
   "cell_type": "markdown",
   "metadata": {
    "id": "KI0Rwzi416Af"
   },
   "source": [
    "## Ensuring formatting consistency\n",
    "\n",
    "Let's make sure that for columns that are supposed to follow a specific format, the entries in these columns *do* follow that format.\n",
    "\n",
    "First, let's ensure that our account handles start with the `@` character:"
   ]
  },
  {
   "cell_type": "code",
   "execution_count": 216,
   "metadata": {},
   "outputs": [],
   "source": [
    "def purify_account_handle(row) -> str:\n",
    "    return row[\"Account handle\"].replace(\"\\n\", \"\")\n",
    "\n",
    "\n",
    "df[\"Account handle\"] = df.apply(purify_account_handle, axis=1)"
   ]
  },
  {
   "cell_type": "code",
   "execution_count": 217,
   "metadata": {},
   "outputs": [
    {
     "data": {
      "text/plain": [
       "0"
      ]
     },
     "execution_count": 217,
     "metadata": {},
     "output_type": "execute_result"
    }
   ],
   "source": [
    "len(df[[not handle.startswith(\"@\") for handle in df[\"Account handle\"]]])"
   ]
  },
  {
   "cell_type": "code",
   "execution_count": 218,
   "metadata": {},
   "outputs": [
    {
     "name": "stdout",
     "output_type": "stream",
     "text": [
      "Index(['Tweet URL', 'Account handle', 'Account name', 'Account bio',\n",
      "       'Account type', 'Joined', 'Following', 'Followers', 'Location', 'Tweet',\n",
      "       'Tweet Type', 'Date posted', 'Content type', 'Likes', 'Replies',\n",
      "       'Retweets', 'Reasoning', 'Likes (z-scores)', 'Replies (z-scores)',\n",
      "       'Retweets (z-scores)'],\n",
      "      dtype='object')\n",
      "(399, 20)\n"
     ]
    }
   ],
   "source": [
    "print(df.columns)\n",
    "print(df.shape)"
   ]
  },
  {
   "attachments": {},
   "cell_type": "markdown",
   "metadata": {
    "id": "veGqGp8iuFZ4"
   },
   "source": [
    "Next, let's ensure that the `Joined` entries are of the form `MM/YY`. We'll use a regular expression to accomplish this:"
   ]
  },
  {
   "cell_type": "code",
   "execution_count": 219,
   "metadata": {},
   "outputs": [],
   "source": [
    "regex_normal = r\"^(\\d{1,2})/(\\d{2,4})$\"\n",
    "regex_fallback = r\"^(\\d{2})/(\\d{2})/(\\d{4}) (\\d{1,2}):(\\d{2}):(\\d{2})$\"\n",
    "\n",
    "\n",
    "def is_proper_month(month: int) -> bool:\n",
    "    return 1 <= month <= 12\n",
    "\n",
    "\n",
    "def is_proper_joined_date(s: str) -> bool:\n",
    "    result = re.search(regex_normal, s)\n",
    "    if result is None:\n",
    "        return False\n",
    "    month, _ = map(int, result.groups())\n",
    "    return is_proper_month(month)\n",
    "\n",
    "\n",
    "def purify_joined_date(row) -> str:\n",
    "    s = row[\"Joined\"]\n",
    "    result = re.search(regex_normal, s)\n",
    "    if result is not None:\n",
    "        return s\n",
    "    else:\n",
    "        fallback = re.search(regex_fallback, s)\n",
    "        if fallback is not None:\n",
    "            _, month, year, _, _, _ = map(int, fallback.groups())\n",
    "            return f\"{str(month).zfill(2)}/{str(year)[-2:]}\"\n",
    "        else:\n",
    "            return \"\"\n",
    "\n",
    "\n",
    "df[\"Joined\"] = df.apply(purify_joined_date, axis=1)"
   ]
  },
  {
   "cell_type": "code",
   "execution_count": 220,
   "metadata": {
    "colab": {
     "base_uri": "https://localhost:8080/"
    },
    "id": "a2TMu8m9u00o",
    "outputId": "7f91db33-f435-4115-c898-0b167d4bf2b2"
   },
   "outputs": [
    {
     "data": {
      "text/plain": [
       "399"
      ]
     },
     "execution_count": 220,
     "metadata": {},
     "output_type": "execute_result"
    }
   ],
   "source": [
    "def row_has_valid_joined_date(row) -> bool:\n",
    "    return is_proper_joined_date(str(row[\"Joined\"]))\n",
    "\n",
    "\n",
    "len(df[df.apply(row_has_valid_joined_date, axis=1)])"
   ]
  },
  {
   "attachments": {},
   "cell_type": "markdown",
   "metadata": {
    "id": "-f2QGwKJwJQe"
   },
   "source": [
    "Finally, let's ensure that the `Date posted` entries are of the form `DD/MM/YY hh:mm`. We'll use another regular expression to accomplish this:"
   ]
  },
  {
   "cell_type": "code",
   "execution_count": 221,
   "metadata": {},
   "outputs": [],
   "source": [
    "regex_normal = r\"^(\\d{2})/(\\d{2})/(\\d{2}) (\\d{2}):(\\d{2})$\"\n",
    "regex_fallback = r\"^(\\d{2})/(\\d{1,2})/(\\d{2,4}) (\\d{1,2}):(\\d{2}).*$\"\n",
    "regex_fallback_2 = r\"^(\\d{4})-(\\d{2})-(\\d{2})T(\\d{2}):(\\d{2}).*$\"\n",
    "\n",
    "\n",
    "def is_proper_hour(hour: int) -> bool:\n",
    "    return 0 <= hour < 24\n",
    "\n",
    "\n",
    "def is_proper_minute(minute: int) -> bool:\n",
    "    return 0 <= minute < 60\n",
    "\n",
    "\n",
    "def is_leap_year(year: int) -> bool:\n",
    "    return year % 4 == 0 and (year % 400 == 0 or year % 100 != 0)\n",
    "\n",
    "\n",
    "def is_proper_date(day: int, month: int, year: int) -> bool:\n",
    "    if month == 2:\n",
    "        return 1 <= day <= (29 if is_leap_year(2000 + year % 1000) else 28)\n",
    "    elif month in [1, 3, 5, 7, 8, 10, 12]:\n",
    "        return 1 <= day <= 31\n",
    "    else:\n",
    "        return 1 <= day <= 30\n",
    "\n",
    "\n",
    "def is_proper_date_posted(s: str) -> bool:\n",
    "    result = re.search(regex_normal, s)\n",
    "    if result is None:\n",
    "        return False\n",
    "    day, month, year, hour, minute = map(int, result.groups())\n",
    "    return (\n",
    "        is_proper_month(int(month))\n",
    "        and is_proper_date(day, month, year)\n",
    "        and is_proper_hour(hour)\n",
    "        and is_proper_minute(minute)\n",
    "    )\n",
    "\n",
    "\n",
    "def purify_date_posted(row) -> str:\n",
    "    s = re.sub(r\"\\s+\", \" \", row[\"Date posted\"])\n",
    "    result = re.search(regex_normal, s)\n",
    "    if result is not None:\n",
    "        day, month, year, hour, minute = map(int, result.groups())\n",
    "        if not is_proper_month(month):\n",
    "            day, month = month, day\n",
    "        return (\n",
    "            f\"{str(day).zfill(2)}\"\n",
    "            \"/\"\n",
    "            f\"{str(month).zfill(2)}\"\n",
    "            \"/\"\n",
    "            f\"{str(year)[-2:]}\"\n",
    "            \" \"\n",
    "            f\"{str(hour).zfill(2)}\"\n",
    "            \":\"\n",
    "            f\"{str(minute).zfill(2)}\"\n",
    "        )\n",
    "    else:\n",
    "        fallback = re.search(regex_fallback, s)\n",
    "        if fallback is not None:\n",
    "            day, month, year, hour, minute = map(int, fallback.groups())\n",
    "            return (\n",
    "                f\"{str(day).zfill(2)}\"\n",
    "                \"/\"\n",
    "                f\"{str(month).zfill(2)}\"\n",
    "                \"/\"\n",
    "                f\"{str(year)[-2:]}\"\n",
    "                \" \"\n",
    "                f\"{str(hour).zfill(2)}\"\n",
    "                \":\"\n",
    "                f\"{str(minute).zfill(2)}\"\n",
    "            )\n",
    "        else:\n",
    "            fallback_2 = re.search(regex_fallback_2, s)\n",
    "            if fallback_2 is not None:\n",
    "                year, month, day, hour, minute = map(int, fallback_2.groups())\n",
    "                return (\n",
    "                    f\"{str(day).zfill(2)}\"\n",
    "                    \"/\"\n",
    "                    f\"{str(month).zfill(2)}\"\n",
    "                    \"/\"\n",
    "                    f\"{str(year)[-2:]}\"\n",
    "                    \" \"\n",
    "                    f\"{str(hour).zfill(2)}\"\n",
    "                    \":\"\n",
    "                    f\"{str(minute).zfill(2)}\"\n",
    "                )\n",
    "            else:\n",
    "                print(s)\n",
    "                return s\n",
    "\n",
    "\n",
    "df[\"Date posted\"] = df.apply(purify_date_posted, axis=1)"
   ]
  },
  {
   "cell_type": "code",
   "execution_count": 222,
   "metadata": {
    "colab": {
     "base_uri": "https://localhost:8080/"
    },
    "id": "erYefi1GxEJ9",
    "outputId": "5e055c5c-d1ef-4808-9a25-ff4f5114b374"
   },
   "outputs": [
    {
     "data": {
      "text/plain": [
       "395"
      ]
     },
     "execution_count": 222,
     "metadata": {},
     "output_type": "execute_result"
    }
   ],
   "source": [
    "def has_valid_date_posted(row) -> bool:\n",
    "    return is_proper_date_posted(row[\"Date posted\"])\n",
    "\n",
    "\n",
    "len(df[df.apply(has_valid_date_posted, axis=1)])"
   ]
  },
  {
   "attachments": {},
   "cell_type": "markdown",
   "metadata": {
    "id": "rIi91FihsRxG"
   },
   "source": [
    "## Categorical data encoding\n",
    "\n",
    "There are three columns that look susceptible to categorial data encoding:\n",
    "\n",
    "- `Account type`\n",
    "- `Tweet Type`\n",
    "- `Content type`\n",
    "\n",
    "An `Account type` may be `Identified`, `Anonymous`, or `Media`. Let's encode these using three new columns: each new column whether or not an account is part of some account type (the values in that column are 0 or 1).\n",
    "\n",
    "As a convention, let's name the new columns `Account is {Account Type}` (e.g., `Account is Anonymous`):"
   ]
  },
  {
   "cell_type": "code",
   "execution_count": 223,
   "metadata": {
    "colab": {
     "base_uri": "https://localhost:8080/",
     "height": 424
    },
    "id": "i0c6SN6rIrfB",
    "outputId": "1670692f-2e9b-4792-de13-c53d9bddcb68"
   },
   "outputs": [
    {
     "data": {
      "text/html": [
       "<div>\n",
       "<style scoped>\n",
       "    .dataframe tbody tr th:only-of-type {\n",
       "        vertical-align: middle;\n",
       "    }\n",
       "\n",
       "    .dataframe tbody tr th {\n",
       "        vertical-align: top;\n",
       "    }\n",
       "\n",
       "    .dataframe thead th {\n",
       "        text-align: right;\n",
       "    }\n",
       "</style>\n",
       "<table border=\"1\" class=\"dataframe\">\n",
       "  <thead>\n",
       "    <tr style=\"text-align: right;\">\n",
       "      <th></th>\n",
       "      <th>Account is Identified</th>\n",
       "      <th>Account is Anonymous</th>\n",
       "      <th>Account is Media</th>\n",
       "    </tr>\n",
       "  </thead>\n",
       "  <tbody>\n",
       "    <tr>\n",
       "      <th>0</th>\n",
       "      <td>0</td>\n",
       "      <td>1</td>\n",
       "      <td>0</td>\n",
       "    </tr>\n",
       "    <tr>\n",
       "      <th>1</th>\n",
       "      <td>1</td>\n",
       "      <td>0</td>\n",
       "      <td>0</td>\n",
       "    </tr>\n",
       "    <tr>\n",
       "      <th>2</th>\n",
       "      <td>0</td>\n",
       "      <td>1</td>\n",
       "      <td>0</td>\n",
       "    </tr>\n",
       "    <tr>\n",
       "      <th>3</th>\n",
       "      <td>0</td>\n",
       "      <td>1</td>\n",
       "      <td>0</td>\n",
       "    </tr>\n",
       "    <tr>\n",
       "      <th>4</th>\n",
       "      <td>0</td>\n",
       "      <td>1</td>\n",
       "      <td>0</td>\n",
       "    </tr>\n",
       "    <tr>\n",
       "      <th>...</th>\n",
       "      <td>...</td>\n",
       "      <td>...</td>\n",
       "      <td>...</td>\n",
       "    </tr>\n",
       "    <tr>\n",
       "      <th>394</th>\n",
       "      <td>1</td>\n",
       "      <td>0</td>\n",
       "      <td>0</td>\n",
       "    </tr>\n",
       "    <tr>\n",
       "      <th>395</th>\n",
       "      <td>0</td>\n",
       "      <td>1</td>\n",
       "      <td>0</td>\n",
       "    </tr>\n",
       "    <tr>\n",
       "      <th>396</th>\n",
       "      <td>0</td>\n",
       "      <td>1</td>\n",
       "      <td>0</td>\n",
       "    </tr>\n",
       "    <tr>\n",
       "      <th>397</th>\n",
       "      <td>0</td>\n",
       "      <td>0</td>\n",
       "      <td>1</td>\n",
       "    </tr>\n",
       "    <tr>\n",
       "      <th>398</th>\n",
       "      <td>1</td>\n",
       "      <td>0</td>\n",
       "      <td>0</td>\n",
       "    </tr>\n",
       "  </tbody>\n",
       "</table>\n",
       "<p>399 rows × 3 columns</p>\n",
       "</div>"
      ],
      "text/plain": [
       "     Account is Identified  Account is Anonymous  Account is Media\n",
       "0                        0                     1                 0\n",
       "1                        1                     0                 0\n",
       "2                        0                     1                 0\n",
       "3                        0                     1                 0\n",
       "4                        0                     1                 0\n",
       "..                     ...                   ...               ...\n",
       "394                      1                     0                 0\n",
       "395                      0                     1                 0\n",
       "396                      0                     1                 0\n",
       "397                      0                     0                 1\n",
       "398                      1                     0                 0\n",
       "\n",
       "[399 rows x 3 columns]"
      ]
     },
     "execution_count": 223,
     "metadata": {},
     "output_type": "execute_result"
    }
   ],
   "source": [
    "account_types = [\"Identified\", \"Anonymous\", \"Media\"]\n",
    "\n",
    "\n",
    "def h_decorator(account_type: str):\n",
    "    def h(row) -> int:\n",
    "        return 1 if account_type == str(row[\"Account type\"]).strip() else 0\n",
    "\n",
    "    return h\n",
    "\n",
    "\n",
    "for account_type in account_types:\n",
    "    df[f\"Account is {account_type}\"] = df.apply(h_decorator(account_type), axis=1)\n",
    "\n",
    "df[[f\"Account is {account_type}\" for account_type in account_types]]"
   ]
  },
  {
   "attachments": {},
   "cell_type": "markdown",
   "metadata": {
    "id": "aEoQMV6p5L5H"
   },
   "source": [
    "A `Tweet Type` may be some of multiple things:\n",
    "\n",
    "- `Text`\n",
    "- `Image`\n",
    "- `Video`\n",
    "- `URL`\n",
    "- `Reply`\n",
    "- `Quote Tweet`\n",
    "\n",
    "To encode this, let's introduce five new columns: each new column indicates whether or not a Tweet is part of some tweet type (again, the values in that column are 0 or 1).\n",
    "\n",
    "As a convention, let's name the new columns `Tweet is {tweet_type}` (e.g., `Tweet is Text`):"
   ]
  },
  {
   "cell_type": "code",
   "execution_count": 224,
   "metadata": {
    "colab": {
     "base_uri": "https://localhost:8080/",
     "height": 424
    },
    "id": "IoGi6t-I7FrS",
    "outputId": "30324131-c0fb-4a10-e307-c918f4abff30"
   },
   "outputs": [
    {
     "data": {
      "text/html": [
       "<div>\n",
       "<style scoped>\n",
       "    .dataframe tbody tr th:only-of-type {\n",
       "        vertical-align: middle;\n",
       "    }\n",
       "\n",
       "    .dataframe tbody tr th {\n",
       "        vertical-align: top;\n",
       "    }\n",
       "\n",
       "    .dataframe thead th {\n",
       "        text-align: right;\n",
       "    }\n",
       "</style>\n",
       "<table border=\"1\" class=\"dataframe\">\n",
       "  <thead>\n",
       "    <tr style=\"text-align: right;\">\n",
       "      <th></th>\n",
       "      <th>Tweet is Text</th>\n",
       "      <th>Tweet is Image</th>\n",
       "      <th>Tweet is Video</th>\n",
       "      <th>Tweet is URL</th>\n",
       "      <th>Tweet is Reply</th>\n",
       "      <th>Tweet is QuoteTweet</th>\n",
       "    </tr>\n",
       "  </thead>\n",
       "  <tbody>\n",
       "    <tr>\n",
       "      <th>0</th>\n",
       "      <td>1</td>\n",
       "      <td>0</td>\n",
       "      <td>0</td>\n",
       "      <td>0</td>\n",
       "      <td>1</td>\n",
       "      <td>0</td>\n",
       "    </tr>\n",
       "    <tr>\n",
       "      <th>1</th>\n",
       "      <td>1</td>\n",
       "      <td>0</td>\n",
       "      <td>0</td>\n",
       "      <td>0</td>\n",
       "      <td>0</td>\n",
       "      <td>0</td>\n",
       "    </tr>\n",
       "    <tr>\n",
       "      <th>2</th>\n",
       "      <td>1</td>\n",
       "      <td>0</td>\n",
       "      <td>0</td>\n",
       "      <td>0</td>\n",
       "      <td>1</td>\n",
       "      <td>0</td>\n",
       "    </tr>\n",
       "    <tr>\n",
       "      <th>3</th>\n",
       "      <td>1</td>\n",
       "      <td>0</td>\n",
       "      <td>0</td>\n",
       "      <td>0</td>\n",
       "      <td>1</td>\n",
       "      <td>0</td>\n",
       "    </tr>\n",
       "    <tr>\n",
       "      <th>4</th>\n",
       "      <td>1</td>\n",
       "      <td>0</td>\n",
       "      <td>0</td>\n",
       "      <td>0</td>\n",
       "      <td>1</td>\n",
       "      <td>0</td>\n",
       "    </tr>\n",
       "    <tr>\n",
       "      <th>...</th>\n",
       "      <td>...</td>\n",
       "      <td>...</td>\n",
       "      <td>...</td>\n",
       "      <td>...</td>\n",
       "      <td>...</td>\n",
       "      <td>...</td>\n",
       "    </tr>\n",
       "    <tr>\n",
       "      <th>394</th>\n",
       "      <td>1</td>\n",
       "      <td>0</td>\n",
       "      <td>0</td>\n",
       "      <td>0</td>\n",
       "      <td>1</td>\n",
       "      <td>0</td>\n",
       "    </tr>\n",
       "    <tr>\n",
       "      <th>395</th>\n",
       "      <td>1</td>\n",
       "      <td>0</td>\n",
       "      <td>0</td>\n",
       "      <td>0</td>\n",
       "      <td>1</td>\n",
       "      <td>0</td>\n",
       "    </tr>\n",
       "    <tr>\n",
       "      <th>396</th>\n",
       "      <td>1</td>\n",
       "      <td>1</td>\n",
       "      <td>0</td>\n",
       "      <td>0</td>\n",
       "      <td>0</td>\n",
       "      <td>0</td>\n",
       "    </tr>\n",
       "    <tr>\n",
       "      <th>397</th>\n",
       "      <td>1</td>\n",
       "      <td>1</td>\n",
       "      <td>0</td>\n",
       "      <td>1</td>\n",
       "      <td>0</td>\n",
       "      <td>0</td>\n",
       "    </tr>\n",
       "    <tr>\n",
       "      <th>398</th>\n",
       "      <td>1</td>\n",
       "      <td>0</td>\n",
       "      <td>1</td>\n",
       "      <td>0</td>\n",
       "      <td>0</td>\n",
       "      <td>0</td>\n",
       "    </tr>\n",
       "  </tbody>\n",
       "</table>\n",
       "<p>399 rows × 6 columns</p>\n",
       "</div>"
      ],
      "text/plain": [
       "     Tweet is Text  Tweet is Image  Tweet is Video  Tweet is URL  \\\n",
       "0                1               0               0             0   \n",
       "1                1               0               0             0   \n",
       "2                1               0               0             0   \n",
       "3                1               0               0             0   \n",
       "4                1               0               0             0   \n",
       "..             ...             ...             ...           ...   \n",
       "394              1               0               0             0   \n",
       "395              1               0               0             0   \n",
       "396              1               1               0             0   \n",
       "397              1               1               0             1   \n",
       "398              1               0               1             0   \n",
       "\n",
       "     Tweet is Reply  Tweet is QuoteTweet  \n",
       "0                 1                    0  \n",
       "1                 0                    0  \n",
       "2                 1                    0  \n",
       "3                 1                    0  \n",
       "4                 1                    0  \n",
       "..              ...                  ...  \n",
       "394               1                    0  \n",
       "395               1                    0  \n",
       "396               0                    0  \n",
       "397               0                    0  \n",
       "398               0                    0  \n",
       "\n",
       "[399 rows x 6 columns]"
      ]
     },
     "execution_count": 224,
     "metadata": {},
     "output_type": "execute_result"
    }
   ],
   "source": [
    "tweet_types = [\"Text\", \"Image\", \"Video\", \"URL\", \"Reply\", \"QuoteTweet\"]\n",
    "\n",
    "\n",
    "def f_decorator(tweet_type: str):\n",
    "    def f(row) -> int:\n",
    "        return 1 if tweet_type in row[\"Tweet Type\"].replace(\" \", \"\").split(\",\") else 0\n",
    "\n",
    "    return f\n",
    "\n",
    "\n",
    "for tweet_type in tweet_types:\n",
    "    df[f\"Tweet is {tweet_type}\"] = df.apply(f_decorator(tweet_type), axis=1)\n",
    "\n",
    "df[[f\"Tweet is {tweet_type}\" for tweet_type in tweet_types]]"
   ]
  },
  {
   "attachments": {},
   "cell_type": "markdown",
   "metadata": {
    "id": "mnX28sYr8zyg"
   },
   "source": [
    "Finally, a `Content type` may be some of multiple things:\n",
    "\n",
    "- `Rational`\n",
    "- `Emotional`\n",
    "- `Transactional`\n",
    "\n",
    "Once again, we introduce three new columns. Let's name them `Content is {content_type}` (e.g., `Content is Emotional`):"
   ]
  },
  {
   "cell_type": "code",
   "execution_count": 225,
   "metadata": {
    "colab": {
     "base_uri": "https://localhost:8080/",
     "height": 424
    },
    "id": "JPIxXL0-8zKT",
    "outputId": "8775f690-04d7-46fb-92ca-a1d6c19dddb0"
   },
   "outputs": [
    {
     "data": {
      "text/html": [
       "<div>\n",
       "<style scoped>\n",
       "    .dataframe tbody tr th:only-of-type {\n",
       "        vertical-align: middle;\n",
       "    }\n",
       "\n",
       "    .dataframe tbody tr th {\n",
       "        vertical-align: top;\n",
       "    }\n",
       "\n",
       "    .dataframe thead th {\n",
       "        text-align: right;\n",
       "    }\n",
       "</style>\n",
       "<table border=\"1\" class=\"dataframe\">\n",
       "  <thead>\n",
       "    <tr style=\"text-align: right;\">\n",
       "      <th></th>\n",
       "      <th>Content is Rational</th>\n",
       "      <th>Content is Emotional</th>\n",
       "      <th>Content is Transactional</th>\n",
       "    </tr>\n",
       "  </thead>\n",
       "  <tbody>\n",
       "    <tr>\n",
       "      <th>0</th>\n",
       "      <td>1</td>\n",
       "      <td>0</td>\n",
       "      <td>0</td>\n",
       "    </tr>\n",
       "    <tr>\n",
       "      <th>1</th>\n",
       "      <td>1</td>\n",
       "      <td>1</td>\n",
       "      <td>0</td>\n",
       "    </tr>\n",
       "    <tr>\n",
       "      <th>2</th>\n",
       "      <td>1</td>\n",
       "      <td>1</td>\n",
       "      <td>0</td>\n",
       "    </tr>\n",
       "    <tr>\n",
       "      <th>3</th>\n",
       "      <td>1</td>\n",
       "      <td>0</td>\n",
       "      <td>0</td>\n",
       "    </tr>\n",
       "    <tr>\n",
       "      <th>4</th>\n",
       "      <td>1</td>\n",
       "      <td>1</td>\n",
       "      <td>0</td>\n",
       "    </tr>\n",
       "    <tr>\n",
       "      <th>...</th>\n",
       "      <td>...</td>\n",
       "      <td>...</td>\n",
       "      <td>...</td>\n",
       "    </tr>\n",
       "    <tr>\n",
       "      <th>394</th>\n",
       "      <td>1</td>\n",
       "      <td>0</td>\n",
       "      <td>0</td>\n",
       "    </tr>\n",
       "    <tr>\n",
       "      <th>395</th>\n",
       "      <td>1</td>\n",
       "      <td>0</td>\n",
       "      <td>0</td>\n",
       "    </tr>\n",
       "    <tr>\n",
       "      <th>396</th>\n",
       "      <td>0</td>\n",
       "      <td>1</td>\n",
       "      <td>0</td>\n",
       "    </tr>\n",
       "    <tr>\n",
       "      <th>397</th>\n",
       "      <td>1</td>\n",
       "      <td>0</td>\n",
       "      <td>0</td>\n",
       "    </tr>\n",
       "    <tr>\n",
       "      <th>398</th>\n",
       "      <td>1</td>\n",
       "      <td>0</td>\n",
       "      <td>0</td>\n",
       "    </tr>\n",
       "  </tbody>\n",
       "</table>\n",
       "<p>399 rows × 3 columns</p>\n",
       "</div>"
      ],
      "text/plain": [
       "     Content is Rational  Content is Emotional  Content is Transactional\n",
       "0                      1                     0                         0\n",
       "1                      1                     1                         0\n",
       "2                      1                     1                         0\n",
       "3                      1                     0                         0\n",
       "4                      1                     1                         0\n",
       "..                   ...                   ...                       ...\n",
       "394                    1                     0                         0\n",
       "395                    1                     0                         0\n",
       "396                    0                     1                         0\n",
       "397                    1                     0                         0\n",
       "398                    1                     0                         0\n",
       "\n",
       "[399 rows x 3 columns]"
      ]
     },
     "execution_count": 225,
     "metadata": {},
     "output_type": "execute_result"
    }
   ],
   "source": [
    "content_types = [\"Rational\", \"Emotional\", \"Transactional\"]\n",
    "\n",
    "\n",
    "def g_decorator(content_type: str):\n",
    "    def g(row) -> int:\n",
    "        return (\n",
    "            1 if content_type in row[\"Content type\"].replace(\" \", \"\").split(\",\") else 0\n",
    "        )\n",
    "\n",
    "    return g\n",
    "\n",
    "\n",
    "for content_type in content_types:\n",
    "    df[f\"Content is {content_type}\"] = df.apply(g_decorator(content_type), axis=1)\n",
    "\n",
    "df[[f\"Content is {content_type}\" for content_type in content_types]]"
   ]
  },
  {
   "attachments": {},
   "cell_type": "markdown",
   "metadata": {
    "id": "P9apU1SU9uvK"
   },
   "source": [
    "Great! With all that covered, it's time to do some **natural language processing**."
   ]
  },
  {
   "attachments": {},
   "cell_type": "markdown",
   "metadata": {
    "id": "Y-npVRZ6-kQM"
   },
   "source": [
    "## Tokenization + lower casing\n",
    "\n",
    "For analysis, let's reflect our language processing work in a new column called `Tweet (processed)`. This will allow us to see the progress we've made in processing our tweets.\n",
    "\n",
    "Let's tokenize our tweets first. In our case, we split the tweets by whitespaces and punctuation marks:"
   ]
  },
  {
   "cell_type": "code",
   "execution_count": 226,
   "metadata": {
    "colab": {
     "base_uri": "https://localhost:8080/",
     "height": 424
    },
    "id": "Fq6R4bQsIrfB",
    "outputId": "7b28bd4e-e287-494e-c79f-e4fa28e253cd"
   },
   "outputs": [
    {
     "data": {
      "text/html": [
       "<div>\n",
       "<style scoped>\n",
       "    .dataframe tbody tr th:only-of-type {\n",
       "        vertical-align: middle;\n",
       "    }\n",
       "\n",
       "    .dataframe tbody tr th {\n",
       "        vertical-align: top;\n",
       "    }\n",
       "\n",
       "    .dataframe thead th {\n",
       "        text-align: right;\n",
       "    }\n",
       "</style>\n",
       "<table border=\"1\" class=\"dataframe\">\n",
       "  <thead>\n",
       "    <tr style=\"text-align: right;\">\n",
       "      <th></th>\n",
       "      <th>Tweet</th>\n",
       "      <th>Tweet (processed)</th>\n",
       "    </tr>\n",
       "  </thead>\n",
       "  <tbody>\n",
       "    <tr>\n",
       "      <th>0</th>\n",
       "      <td>Wala alam si leni sa foreign policy. Di nya ng...</td>\n",
       "      <td>[Wala, alam, si, leni, sa, foreign, policy, , ...</td>\n",
       "    </tr>\n",
       "    <tr>\n",
       "      <th>1</th>\n",
       "      <td>Jusko si Leni walang ambag sa Maritime Industr...</td>\n",
       "      <td>[Jusko, si, Leni, walang, ambag, sa, Maritime,...</td>\n",
       "    </tr>\n",
       "    <tr>\n",
       "      <th>2</th>\n",
       "      <td>@setsu0196 @indaysara Inggit lang mga yun, wal...</td>\n",
       "      <td>[@setsu0196, @indaysara, Inggit, lang, mga, yu...</td>\n",
       "    </tr>\n",
       "    <tr>\n",
       "      <th>3</th>\n",
       "      <td>@BosyoJ Wala na kasing ibang topic na alam si ...</td>\n",
       "      <td>[@BosyoJ, Wala, na, kasing, ibang, topic, na, ...</td>\n",
       "    </tr>\n",
       "    <tr>\n",
       "      <th>4</th>\n",
       "      <td>@VancouverEye Parang Vovo, matagal ng walang g...</td>\n",
       "      <td>[@VancouverEye, Parang, Vovo, , matagal, ng, w...</td>\n",
       "    </tr>\n",
       "    <tr>\n",
       "      <th>...</th>\n",
       "      <td>...</td>\n",
       "      <td>...</td>\n",
       "    </tr>\n",
       "    <tr>\n",
       "      <th>394</th>\n",
       "      <td>NPA po ang kalaban, na pinoprotektahan ni Leni...</td>\n",
       "      <td>[NPA, po, ang, kalaban, , na, pinoprotektahan,...</td>\n",
       "    </tr>\n",
       "    <tr>\n",
       "      <th>395</th>\n",
       "      <td>we are only given the choices of:\\nBBM - son o...</td>\n",
       "      <td>[we, are, only, given, the, choices, of, \\nBBM...</td>\n",
       "    </tr>\n",
       "    <tr>\n",
       "      <th>396</th>\n",
       "      <td>Desperado na si Leni..npa at kumunista Ang gag...</td>\n",
       "      <td>[Desperado, na, si, Leni, , npa, at, kumunista...</td>\n",
       "    </tr>\n",
       "    <tr>\n",
       "      <th>397</th>\n",
       "      <td>VP Leni Robredo, kabilang sa mga CPP-NPA lover...</td>\n",
       "      <td>[VP, Leni, Robredo, , kabilang, sa, mga, CPP-N...</td>\n",
       "    </tr>\n",
       "    <tr>\n",
       "      <th>398</th>\n",
       "      <td>VP Leni Robredo, kaalyado ng CPP-NPA-NDF-USEC ...</td>\n",
       "      <td>[VP, Leni, Robredo, , kaalyado, ng, CPP-NPA-ND...</td>\n",
       "    </tr>\n",
       "  </tbody>\n",
       "</table>\n",
       "<p>399 rows × 2 columns</p>\n",
       "</div>"
      ],
      "text/plain": [
       "                                                 Tweet  \\\n",
       "0    Wala alam si leni sa foreign policy. Di nya ng...   \n",
       "1    Jusko si Leni walang ambag sa Maritime Industr...   \n",
       "2    @setsu0196 @indaysara Inggit lang mga yun, wal...   \n",
       "3    @BosyoJ Wala na kasing ibang topic na alam si ...   \n",
       "4    @VancouverEye Parang Vovo, matagal ng walang g...   \n",
       "..                                                 ...   \n",
       "394  NPA po ang kalaban, na pinoprotektahan ni Leni...   \n",
       "395  we are only given the choices of:\\nBBM - son o...   \n",
       "396  Desperado na si Leni..npa at kumunista Ang gag...   \n",
       "397  VP Leni Robredo, kabilang sa mga CPP-NPA lover...   \n",
       "398  VP Leni Robredo, kaalyado ng CPP-NPA-NDF-USEC ...   \n",
       "\n",
       "                                     Tweet (processed)  \n",
       "0    [Wala, alam, si, leni, sa, foreign, policy, , ...  \n",
       "1    [Jusko, si, Leni, walang, ambag, sa, Maritime,...  \n",
       "2    [@setsu0196, @indaysara, Inggit, lang, mga, yu...  \n",
       "3    [@BosyoJ, Wala, na, kasing, ibang, topic, na, ...  \n",
       "4    [@VancouverEye, Parang, Vovo, , matagal, ng, w...  \n",
       "..                                                 ...  \n",
       "394  [NPA, po, ang, kalaban, , na, pinoprotektahan,...  \n",
       "395  [we, are, only, given, the, choices, of, \\nBBM...  \n",
       "396  [Desperado, na, si, Leni, , npa, at, kumunista...  \n",
       "397  [VP, Leni, Robredo, , kabilang, sa, mga, CPP-N...  \n",
       "398  [VP, Leni, Robredo, , kaalyado, ng, CPP-NPA-ND...  \n",
       "\n",
       "[399 rows x 2 columns]"
      ]
     },
     "execution_count": 226,
     "metadata": {},
     "output_type": "execute_result"
    }
   ],
   "source": [
    "df[\"Tweet (processed)\"] = df[\"Tweet\"]\n",
    "\n",
    "df[\"Tweet (processed)\"] = df[\"Tweet (processed)\"].transform(\n",
    "    lambda tweet: re.split(r\" |,|!|\\.|\\?|;|:\", tweet)\n",
    ")\n",
    "\n",
    "df[[\"Tweet\", \"Tweet (processed)\"]]"
   ]
  },
  {
   "attachments": {},
   "cell_type": "markdown",
   "metadata": {
    "id": "2aJrLZHjA74b"
   },
   "source": [
    "Afterwards, let's turn each token to lowercase (if possible):"
   ]
  },
  {
   "cell_type": "code",
   "execution_count": 227,
   "metadata": {
    "colab": {
     "base_uri": "https://localhost:8080/",
     "height": 424
    },
    "id": "Ua3Tho4OBH-S",
    "outputId": "87d96c5d-ddb5-4842-dcb0-b7cf83778422"
   },
   "outputs": [
    {
     "data": {
      "text/html": [
       "<div>\n",
       "<style scoped>\n",
       "    .dataframe tbody tr th:only-of-type {\n",
       "        vertical-align: middle;\n",
       "    }\n",
       "\n",
       "    .dataframe tbody tr th {\n",
       "        vertical-align: top;\n",
       "    }\n",
       "\n",
       "    .dataframe thead th {\n",
       "        text-align: right;\n",
       "    }\n",
       "</style>\n",
       "<table border=\"1\" class=\"dataframe\">\n",
       "  <thead>\n",
       "    <tr style=\"text-align: right;\">\n",
       "      <th></th>\n",
       "      <th>Tweet</th>\n",
       "      <th>Tweet (processed)</th>\n",
       "    </tr>\n",
       "  </thead>\n",
       "  <tbody>\n",
       "    <tr>\n",
       "      <th>0</th>\n",
       "      <td>Wala alam si leni sa foreign policy. Di nya ng...</td>\n",
       "      <td>[wala, alam, si, leni, sa, foreign, policy, , ...</td>\n",
       "    </tr>\n",
       "    <tr>\n",
       "      <th>1</th>\n",
       "      <td>Jusko si Leni walang ambag sa Maritime Industr...</td>\n",
       "      <td>[jusko, si, leni, walang, ambag, sa, maritime,...</td>\n",
       "    </tr>\n",
       "    <tr>\n",
       "      <th>2</th>\n",
       "      <td>@setsu0196 @indaysara Inggit lang mga yun, wal...</td>\n",
       "      <td>[@setsu0196, @indaysara, inggit, lang, mga, yu...</td>\n",
       "    </tr>\n",
       "    <tr>\n",
       "      <th>3</th>\n",
       "      <td>@BosyoJ Wala na kasing ibang topic na alam si ...</td>\n",
       "      <td>[@bosyoj, wala, na, kasing, ibang, topic, na, ...</td>\n",
       "    </tr>\n",
       "    <tr>\n",
       "      <th>4</th>\n",
       "      <td>@VancouverEye Parang Vovo, matagal ng walang g...</td>\n",
       "      <td>[@vancouvereye, parang, vovo, , matagal, ng, w...</td>\n",
       "    </tr>\n",
       "    <tr>\n",
       "      <th>...</th>\n",
       "      <td>...</td>\n",
       "      <td>...</td>\n",
       "    </tr>\n",
       "    <tr>\n",
       "      <th>394</th>\n",
       "      <td>NPA po ang kalaban, na pinoprotektahan ni Leni...</td>\n",
       "      <td>[npa, po, ang, kalaban, , na, pinoprotektahan,...</td>\n",
       "    </tr>\n",
       "    <tr>\n",
       "      <th>395</th>\n",
       "      <td>we are only given the choices of:\\nBBM - son o...</td>\n",
       "      <td>[we, are, only, given, the, choices, of, \\nbbm...</td>\n",
       "    </tr>\n",
       "    <tr>\n",
       "      <th>396</th>\n",
       "      <td>Desperado na si Leni..npa at kumunista Ang gag...</td>\n",
       "      <td>[desperado, na, si, leni, , npa, at, kumunista...</td>\n",
       "    </tr>\n",
       "    <tr>\n",
       "      <th>397</th>\n",
       "      <td>VP Leni Robredo, kabilang sa mga CPP-NPA lover...</td>\n",
       "      <td>[vp, leni, robredo, , kabilang, sa, mga, cpp-n...</td>\n",
       "    </tr>\n",
       "    <tr>\n",
       "      <th>398</th>\n",
       "      <td>VP Leni Robredo, kaalyado ng CPP-NPA-NDF-USEC ...</td>\n",
       "      <td>[vp, leni, robredo, , kaalyado, ng, cpp-npa-nd...</td>\n",
       "    </tr>\n",
       "  </tbody>\n",
       "</table>\n",
       "<p>399 rows × 2 columns</p>\n",
       "</div>"
      ],
      "text/plain": [
       "                                                 Tweet  \\\n",
       "0    Wala alam si leni sa foreign policy. Di nya ng...   \n",
       "1    Jusko si Leni walang ambag sa Maritime Industr...   \n",
       "2    @setsu0196 @indaysara Inggit lang mga yun, wal...   \n",
       "3    @BosyoJ Wala na kasing ibang topic na alam si ...   \n",
       "4    @VancouverEye Parang Vovo, matagal ng walang g...   \n",
       "..                                                 ...   \n",
       "394  NPA po ang kalaban, na pinoprotektahan ni Leni...   \n",
       "395  we are only given the choices of:\\nBBM - son o...   \n",
       "396  Desperado na si Leni..npa at kumunista Ang gag...   \n",
       "397  VP Leni Robredo, kabilang sa mga CPP-NPA lover...   \n",
       "398  VP Leni Robredo, kaalyado ng CPP-NPA-NDF-USEC ...   \n",
       "\n",
       "                                     Tweet (processed)  \n",
       "0    [wala, alam, si, leni, sa, foreign, policy, , ...  \n",
       "1    [jusko, si, leni, walang, ambag, sa, maritime,...  \n",
       "2    [@setsu0196, @indaysara, inggit, lang, mga, yu...  \n",
       "3    [@bosyoj, wala, na, kasing, ibang, topic, na, ...  \n",
       "4    [@vancouvereye, parang, vovo, , matagal, ng, w...  \n",
       "..                                                 ...  \n",
       "394  [npa, po, ang, kalaban, , na, pinoprotektahan,...  \n",
       "395  [we, are, only, given, the, choices, of, \\nbbm...  \n",
       "396  [desperado, na, si, leni, , npa, at, kumunista...  \n",
       "397  [vp, leni, robredo, , kabilang, sa, mga, cpp-n...  \n",
       "398  [vp, leni, robredo, , kaalyado, ng, cpp-npa-nd...  \n",
       "\n",
       "[399 rows x 2 columns]"
      ]
     },
     "execution_count": 227,
     "metadata": {},
     "output_type": "execute_result"
    }
   ],
   "source": [
    "df[\"Tweet (processed)\"] = df[\"Tweet (processed)\"].transform(\n",
    "    lambda tokens: list(map(lambda token: token.lower(), tokens))\n",
    ")\n",
    "\n",
    "df[[\"Tweet\", \"Tweet (processed)\"]]"
   ]
  },
  {
   "attachments": {},
   "cell_type": "markdown",
   "metadata": {},
   "source": [
    "Let's remove tokens that don't consist solely of uppercase or lowercase letters:"
   ]
  },
  {
   "cell_type": "code",
   "execution_count": 228,
   "metadata": {
    "colab": {
     "base_uri": "https://localhost:8080/",
     "height": 424
    },
    "id": "wY_rAHHr89ZZ",
    "outputId": "f738b54e-7e1f-4a92-b5c7-8274abbf6753"
   },
   "outputs": [
    {
     "data": {
      "text/html": [
       "<div>\n",
       "<style scoped>\n",
       "    .dataframe tbody tr th:only-of-type {\n",
       "        vertical-align: middle;\n",
       "    }\n",
       "\n",
       "    .dataframe tbody tr th {\n",
       "        vertical-align: top;\n",
       "    }\n",
       "\n",
       "    .dataframe thead th {\n",
       "        text-align: right;\n",
       "    }\n",
       "</style>\n",
       "<table border=\"1\" class=\"dataframe\">\n",
       "  <thead>\n",
       "    <tr style=\"text-align: right;\">\n",
       "      <th></th>\n",
       "      <th>Tweet</th>\n",
       "      <th>Tweet (processed)</th>\n",
       "    </tr>\n",
       "  </thead>\n",
       "  <tbody>\n",
       "    <tr>\n",
       "      <th>0</th>\n",
       "      <td>Wala alam si leni sa foreign policy. Di nya ng...</td>\n",
       "      <td>[wala, alam, si, leni, sa, foreign, policy, di...</td>\n",
       "    </tr>\n",
       "    <tr>\n",
       "      <th>1</th>\n",
       "      <td>Jusko si Leni walang ambag sa Maritime Industr...</td>\n",
       "      <td>[jusko, si, leni, walang, ambag, sa, maritime,...</td>\n",
       "    </tr>\n",
       "    <tr>\n",
       "      <th>2</th>\n",
       "      <td>@setsu0196 @indaysara Inggit lang mga yun, wal...</td>\n",
       "      <td>[inggit, lang, mga, yun, walang, ambag, kasi, ...</td>\n",
       "    </tr>\n",
       "    <tr>\n",
       "      <th>3</th>\n",
       "      <td>@BosyoJ Wala na kasing ibang topic na alam si ...</td>\n",
       "      <td>[wala, na, kasing, ibang, topic, na, alam, si,...</td>\n",
       "    </tr>\n",
       "    <tr>\n",
       "      <th>4</th>\n",
       "      <td>@VancouverEye Parang Vovo, matagal ng walang g...</td>\n",
       "      <td>[parang, vovo, matagal, ng, walang, galaw, ang...</td>\n",
       "    </tr>\n",
       "    <tr>\n",
       "      <th>...</th>\n",
       "      <td>...</td>\n",
       "      <td>...</td>\n",
       "    </tr>\n",
       "    <tr>\n",
       "      <th>394</th>\n",
       "      <td>NPA po ang kalaban, na pinoprotektahan ni Leni...</td>\n",
       "      <td>[npa, po, ang, kalaban, na, pinoprotektahan, n...</td>\n",
       "    </tr>\n",
       "    <tr>\n",
       "      <th>395</th>\n",
       "      <td>we are only given the choices of:\\nBBM - son o...</td>\n",
       "      <td>[we, are, only, given, the, choices, of, son, ...</td>\n",
       "    </tr>\n",
       "    <tr>\n",
       "      <th>396</th>\n",
       "      <td>Desperado na si Leni..npa at kumunista Ang gag...</td>\n",
       "      <td>[desperado, na, si, leni, npa, at, kumunista, ...</td>\n",
       "    </tr>\n",
       "    <tr>\n",
       "      <th>397</th>\n",
       "      <td>VP Leni Robredo, kabilang sa mga CPP-NPA lover...</td>\n",
       "      <td>[vp, leni, robredo, kabilang, sa, mga, lovers,...</td>\n",
       "    </tr>\n",
       "    <tr>\n",
       "      <th>398</th>\n",
       "      <td>VP Leni Robredo, kaalyado ng CPP-NPA-NDF-USEC ...</td>\n",
       "      <td>[vp, leni, robredo, kaalyado, ng, badoy]</td>\n",
       "    </tr>\n",
       "  </tbody>\n",
       "</table>\n",
       "<p>399 rows × 2 columns</p>\n",
       "</div>"
      ],
      "text/plain": [
       "                                                 Tweet  \\\n",
       "0    Wala alam si leni sa foreign policy. Di nya ng...   \n",
       "1    Jusko si Leni walang ambag sa Maritime Industr...   \n",
       "2    @setsu0196 @indaysara Inggit lang mga yun, wal...   \n",
       "3    @BosyoJ Wala na kasing ibang topic na alam si ...   \n",
       "4    @VancouverEye Parang Vovo, matagal ng walang g...   \n",
       "..                                                 ...   \n",
       "394  NPA po ang kalaban, na pinoprotektahan ni Leni...   \n",
       "395  we are only given the choices of:\\nBBM - son o...   \n",
       "396  Desperado na si Leni..npa at kumunista Ang gag...   \n",
       "397  VP Leni Robredo, kabilang sa mga CPP-NPA lover...   \n",
       "398  VP Leni Robredo, kaalyado ng CPP-NPA-NDF-USEC ...   \n",
       "\n",
       "                                     Tweet (processed)  \n",
       "0    [wala, alam, si, leni, sa, foreign, policy, di...  \n",
       "1    [jusko, si, leni, walang, ambag, sa, maritime,...  \n",
       "2    [inggit, lang, mga, yun, walang, ambag, kasi, ...  \n",
       "3    [wala, na, kasing, ibang, topic, na, alam, si,...  \n",
       "4    [parang, vovo, matagal, ng, walang, galaw, ang...  \n",
       "..                                                 ...  \n",
       "394  [npa, po, ang, kalaban, na, pinoprotektahan, n...  \n",
       "395  [we, are, only, given, the, choices, of, son, ...  \n",
       "396  [desperado, na, si, leni, npa, at, kumunista, ...  \n",
       "397  [vp, leni, robredo, kabilang, sa, mga, lovers,...  \n",
       "398           [vp, leni, robredo, kaalyado, ng, badoy]  \n",
       "\n",
       "[399 rows x 2 columns]"
      ]
     },
     "execution_count": 228,
     "metadata": {},
     "output_type": "execute_result"
    }
   ],
   "source": [
    "df[\"Tweet (processed)\"] = df[\"Tweet (processed)\"].transform(\n",
    "    lambda tokens: list(filter(lambda token: re.match(r\"^[a-zA-Z]+$\", token), tokens))\n",
    ")\n",
    "\n",
    "df[[\"Tweet\", \"Tweet (processed)\"]]"
   ]
  },
  {
   "attachments": {},
   "cell_type": "markdown",
   "metadata": {
    "id": "7qyVYWhoM3aq"
   },
   "source": [
    "## Stop words removal + other filters\n",
    "\n",
    "Let's remove stop words from our tweets. For filtering out English stop words, we'll use the `nltk` package. Meanwhile, for filtering out Tagalog stop words, we'll use our own curated set:"
   ]
  },
  {
   "cell_type": "code",
   "execution_count": 229,
   "metadata": {
    "colab": {
     "base_uri": "https://localhost:8080/",
     "height": 459
    },
    "id": "VwtbUiCHIrfC",
    "outputId": "ce8e2b9d-3b65-4be3-d6a6-b7289e6633af"
   },
   "outputs": [
    {
     "name": "stderr",
     "output_type": "stream",
     "text": [
      "[nltk_data] Downloading package stopwords to\n",
      "[nltk_data]     /Users/macintoshhd/nltk_data...\n",
      "[nltk_data]   Package stopwords is already up-to-date!\n"
     ]
    },
    {
     "data": {
      "text/html": [
       "<div>\n",
       "<style scoped>\n",
       "    .dataframe tbody tr th:only-of-type {\n",
       "        vertical-align: middle;\n",
       "    }\n",
       "\n",
       "    .dataframe tbody tr th {\n",
       "        vertical-align: top;\n",
       "    }\n",
       "\n",
       "    .dataframe thead th {\n",
       "        text-align: right;\n",
       "    }\n",
       "</style>\n",
       "<table border=\"1\" class=\"dataframe\">\n",
       "  <thead>\n",
       "    <tr style=\"text-align: right;\">\n",
       "      <th></th>\n",
       "      <th>Tweet</th>\n",
       "      <th>Tweet (processed)</th>\n",
       "    </tr>\n",
       "  </thead>\n",
       "  <tbody>\n",
       "    <tr>\n",
       "      <th>0</th>\n",
       "      <td>Wala alam si leni sa foreign policy. Di nya ng...</td>\n",
       "      <td>[wala, alam, leni, foreign, policy, alam, pres...</td>\n",
       "    </tr>\n",
       "    <tr>\n",
       "      <th>1</th>\n",
       "      <td>Jusko si Leni walang ambag sa Maritime Industr...</td>\n",
       "      <td>[leni, walang, ambag, maritime, industry, year...</td>\n",
       "    </tr>\n",
       "    <tr>\n",
       "      <th>2</th>\n",
       "      <td>@setsu0196 @indaysara Inggit lang mga yun, wal...</td>\n",
       "      <td>[inggit, walang, ambag, leni, moro, chaka]</td>\n",
       "    </tr>\n",
       "    <tr>\n",
       "      <th>3</th>\n",
       "      <td>@BosyoJ Wala na kasing ibang topic na alam si ...</td>\n",
       "      <td>[wala, kasing, ibang, topic, alam, leni, walan...</td>\n",
       "    </tr>\n",
       "    <tr>\n",
       "      <th>4</th>\n",
       "      <td>@VancouverEye Parang Vovo, matagal ng walang g...</td>\n",
       "      <td>[vovo, matagal, walang, galaw, unilever, ngayo...</td>\n",
       "    </tr>\n",
       "    <tr>\n",
       "      <th>...</th>\n",
       "      <td>...</td>\n",
       "      <td>...</td>\n",
       "    </tr>\n",
       "    <tr>\n",
       "      <th>394</th>\n",
       "      <td>NPA po ang kalaban, na pinoprotektahan ni Leni...</td>\n",
       "      <td>[npa, kalaban, pinoprotektahan, leni, npa, pum...</td>\n",
       "    </tr>\n",
       "    <tr>\n",
       "      <th>395</th>\n",
       "      <td>we are only given the choices of:\\nBBM - son o...</td>\n",
       "      <td>[given, choices, son, npa, casted, votes, some...</td>\n",
       "    </tr>\n",
       "    <tr>\n",
       "      <th>396</th>\n",
       "      <td>Desperado na si Leni..npa at kumunista Ang gag...</td>\n",
       "      <td>[desperado, leni, npa, kumunista, gagawa, gulo...</td>\n",
       "    </tr>\n",
       "    <tr>\n",
       "      <th>397</th>\n",
       "      <td>VP Leni Robredo, kabilang sa mga CPP-NPA lover...</td>\n",
       "      <td>[vp, leni, robredo, kabilang, lovers, pastor, ...</td>\n",
       "    </tr>\n",
       "    <tr>\n",
       "      <th>398</th>\n",
       "      <td>VP Leni Robredo, kaalyado ng CPP-NPA-NDF-USEC ...</td>\n",
       "      <td>[vp, leni, robredo, kaalyado, badoy]</td>\n",
       "    </tr>\n",
       "  </tbody>\n",
       "</table>\n",
       "<p>399 rows × 2 columns</p>\n",
       "</div>"
      ],
      "text/plain": [
       "                                                 Tweet  \\\n",
       "0    Wala alam si leni sa foreign policy. Di nya ng...   \n",
       "1    Jusko si Leni walang ambag sa Maritime Industr...   \n",
       "2    @setsu0196 @indaysara Inggit lang mga yun, wal...   \n",
       "3    @BosyoJ Wala na kasing ibang topic na alam si ...   \n",
       "4    @VancouverEye Parang Vovo, matagal ng walang g...   \n",
       "..                                                 ...   \n",
       "394  NPA po ang kalaban, na pinoprotektahan ni Leni...   \n",
       "395  we are only given the choices of:\\nBBM - son o...   \n",
       "396  Desperado na si Leni..npa at kumunista Ang gag...   \n",
       "397  VP Leni Robredo, kabilang sa mga CPP-NPA lover...   \n",
       "398  VP Leni Robredo, kaalyado ng CPP-NPA-NDF-USEC ...   \n",
       "\n",
       "                                     Tweet (processed)  \n",
       "0    [wala, alam, leni, foreign, policy, alam, pres...  \n",
       "1    [leni, walang, ambag, maritime, industry, year...  \n",
       "2           [inggit, walang, ambag, leni, moro, chaka]  \n",
       "3    [wala, kasing, ibang, topic, alam, leni, walan...  \n",
       "4    [vovo, matagal, walang, galaw, unilever, ngayo...  \n",
       "..                                                 ...  \n",
       "394  [npa, kalaban, pinoprotektahan, leni, npa, pum...  \n",
       "395  [given, choices, son, npa, casted, votes, some...  \n",
       "396  [desperado, leni, npa, kumunista, gagawa, gulo...  \n",
       "397  [vp, leni, robredo, kabilang, lovers, pastor, ...  \n",
       "398               [vp, leni, robredo, kaalyado, badoy]  \n",
       "\n",
       "[399 rows x 2 columns]"
      ]
     },
     "execution_count": 229,
     "metadata": {},
     "output_type": "execute_result"
    }
   ],
   "source": [
    "nltk.download(\"stopwords\")\n",
    "from nltk.corpus import stopwords\n",
    "\n",
    "stopwords_set_english = set(stopwords.words(\"english\"))\n",
    "stopwords_set_tagalog = set(\n",
    "    [\n",
    "        \"ah\",\n",
    "        \"akin\",\n",
    "        \"aking\",\n",
    "        \"ako\",\n",
    "        \"alin\",\n",
    "        \"alinsunod\",\n",
    "        \"amin\",\n",
    "        \"ang\",\n",
    "        \"ano\",\n",
    "        \"apat\",\n",
    "        \"at\",\n",
    "        \"ay\",\n",
    "        \"ayon\",\n",
    "        \"ayun\",\n",
    "        \"ba\",\n",
    "        \"bagaman\",\n",
    "        \"bagamat\",\n",
    "        \"bakit\",\n",
    "        \"basta\",\n",
    "        \"dahil\",\n",
    "        \"dalawa\",\n",
    "        \"datapwat\",\n",
    "        \"daw\",\n",
    "        \"di\",\n",
    "        \"din\",\n",
    "        \"dito\",\n",
    "        \"doon\",\n",
    "        \"eh\",\n",
    "        \"ganito\",\n",
    "        \"gayunpaman\",\n",
    "        \"ha\",\n",
    "        \"hala\",\n",
    "        \"hanggang\",\n",
    "        \"haydiba\",\n",
    "        \"hinggil\",\n",
    "        \"https\",\n",
    "        \"ikaw\",\n",
    "        \"isa\",\n",
    "        \"ito\",\n",
    "        \"iyan\",\n",
    "        \"iyon\",\n",
    "        \"jusko\",\n",
    "        \"kabila\",\n",
    "        \"kami\",\n",
    "        \"kanila\",\n",
    "        \"kasi\",\n",
    "        \"ka\",\n",
    "        \"kay\",\n",
    "        \"kaya\",\n",
    "        \"kayo\",\n",
    "        \"kaysa\",\n",
    "        \"kina\",\n",
    "        \"ko\",\n",
    "        \"kung\",\n",
    "        \"kuwan\",\n",
    "        \"labag\",\n",
    "        \"lang\",\n",
    "        \"mag\",\n",
    "        \"may\",\n",
    "        \"mga\",\n",
    "        \"mo\",\n",
    "        \"mong\",\n",
    "        \"mula\",\n",
    "        \"na\",\n",
    "        \"naku\",\n",
    "        \"naman\",\n",
    "        \"nang\",\n",
    "        \"ng\",\n",
    "        \"nga\",\n",
    "        \"ngek\",\n",
    "        \"ngunit\",\n",
    "        \"ni\",\n",
    "        \"nina\",\n",
    "        \"niya\",\n",
    "        \"niyo\",\n",
    "        \"noong\",\n",
    "        \"nung\",\n",
    "        \"nya\",\n",
    "        \"nyo\",\n",
    "        \"o\",\n",
    "        \"opo\",\n",
    "        \"pa\",\n",
    "        \"pag\",\n",
    "        \"pagkatapos\",\n",
    "        \"pangalawa\",\n",
    "        \"para\",\n",
    "        \"parang\",\n",
    "        \"pero\",\n",
    "        \"po\",\n",
    "        \"raw\",\n",
    "        \"rin\",\n",
    "        \"sa\",\n",
    "        \"sapagkat\",\n",
    "        \"si\",\n",
    "        \"sila\",\n",
    "        \"sina\",\n",
    "        \"siyatalaga\",\n",
    "        \"sumunod\",\n",
    "        \"sya\",\n",
    "        \"tatlo\",\n",
    "        \"tayo\",\n",
    "        \"tungo\",\n",
    "        \"una\",\n",
    "        \"yan\",\n",
    "        \"yun\",\n",
    "        \"yung\",\n",
    "    ]\n",
    ")\n",
    "stopwords_set = stopwords_set_english.union(stopwords_set_tagalog)\n",
    "\n",
    "df[\"Tweet (processed)\"] = df[\"Tweet (processed)\"].transform(\n",
    "    lambda tokens: list(filter(lambda token: token not in stopwords_set, tokens))\n",
    ")\n",
    "\n",
    "df[[\"Tweet\", \"Tweet (processed)\"]]"
   ]
  },
  {
   "attachments": {},
   "cell_type": "markdown",
   "metadata": {
    "id": "dZUJpzdNU4Gz"
   },
   "source": [
    "(Disclaimer: The filters below are already redundant once we use alphabet filter above.)\n",
    "\n",
    "All of those emojis might be painful to work with (for one, they're not ASCII characters), so let's remove them. We'll accomplish this by replacing all emojis with empty strings, with the help of the `emoji` package!"
   ]
  },
  {
   "cell_type": "code",
   "execution_count": 230,
   "metadata": {
    "colab": {
     "base_uri": "https://localhost:8080/",
     "height": 424
    },
    "id": "7gwmYlUaIrfC",
    "outputId": "ce8be4c4-410d-43dc-afe0-2e82b4fbcaff"
   },
   "outputs": [
    {
     "data": {
      "text/html": [
       "<div>\n",
       "<style scoped>\n",
       "    .dataframe tbody tr th:only-of-type {\n",
       "        vertical-align: middle;\n",
       "    }\n",
       "\n",
       "    .dataframe tbody tr th {\n",
       "        vertical-align: top;\n",
       "    }\n",
       "\n",
       "    .dataframe thead th {\n",
       "        text-align: right;\n",
       "    }\n",
       "</style>\n",
       "<table border=\"1\" class=\"dataframe\">\n",
       "  <thead>\n",
       "    <tr style=\"text-align: right;\">\n",
       "      <th></th>\n",
       "      <th>Tweet</th>\n",
       "      <th>Tweet (processed)</th>\n",
       "    </tr>\n",
       "  </thead>\n",
       "  <tbody>\n",
       "    <tr>\n",
       "      <th>0</th>\n",
       "      <td>Wala alam si leni sa foreign policy. Di nya ng...</td>\n",
       "      <td>[wala, alam, leni, foreign, policy, alam, pres...</td>\n",
       "    </tr>\n",
       "    <tr>\n",
       "      <th>1</th>\n",
       "      <td>Jusko si Leni walang ambag sa Maritime Industr...</td>\n",
       "      <td>[leni, walang, ambag, maritime, industry, year...</td>\n",
       "    </tr>\n",
       "    <tr>\n",
       "      <th>2</th>\n",
       "      <td>@setsu0196 @indaysara Inggit lang mga yun, wal...</td>\n",
       "      <td>[inggit, walang, ambag, leni, moro, chaka]</td>\n",
       "    </tr>\n",
       "    <tr>\n",
       "      <th>3</th>\n",
       "      <td>@BosyoJ Wala na kasing ibang topic na alam si ...</td>\n",
       "      <td>[wala, kasing, ibang, topic, alam, leni, walan...</td>\n",
       "    </tr>\n",
       "    <tr>\n",
       "      <th>4</th>\n",
       "      <td>@VancouverEye Parang Vovo, matagal ng walang g...</td>\n",
       "      <td>[vovo, matagal, walang, galaw, unilever, ngayo...</td>\n",
       "    </tr>\n",
       "    <tr>\n",
       "      <th>...</th>\n",
       "      <td>...</td>\n",
       "      <td>...</td>\n",
       "    </tr>\n",
       "    <tr>\n",
       "      <th>394</th>\n",
       "      <td>NPA po ang kalaban, na pinoprotektahan ni Leni...</td>\n",
       "      <td>[npa, kalaban, pinoprotektahan, leni, npa, pum...</td>\n",
       "    </tr>\n",
       "    <tr>\n",
       "      <th>395</th>\n",
       "      <td>we are only given the choices of:\\nBBM - son o...</td>\n",
       "      <td>[given, choices, son, npa, casted, votes, some...</td>\n",
       "    </tr>\n",
       "    <tr>\n",
       "      <th>396</th>\n",
       "      <td>Desperado na si Leni..npa at kumunista Ang gag...</td>\n",
       "      <td>[desperado, leni, npa, kumunista, gagawa, gulo...</td>\n",
       "    </tr>\n",
       "    <tr>\n",
       "      <th>397</th>\n",
       "      <td>VP Leni Robredo, kabilang sa mga CPP-NPA lover...</td>\n",
       "      <td>[vp, leni, robredo, kabilang, lovers, pastor, ...</td>\n",
       "    </tr>\n",
       "    <tr>\n",
       "      <th>398</th>\n",
       "      <td>VP Leni Robredo, kaalyado ng CPP-NPA-NDF-USEC ...</td>\n",
       "      <td>[vp, leni, robredo, kaalyado, badoy]</td>\n",
       "    </tr>\n",
       "  </tbody>\n",
       "</table>\n",
       "<p>399 rows × 2 columns</p>\n",
       "</div>"
      ],
      "text/plain": [
       "                                                 Tweet  \\\n",
       "0    Wala alam si leni sa foreign policy. Di nya ng...   \n",
       "1    Jusko si Leni walang ambag sa Maritime Industr...   \n",
       "2    @setsu0196 @indaysara Inggit lang mga yun, wal...   \n",
       "3    @BosyoJ Wala na kasing ibang topic na alam si ...   \n",
       "4    @VancouverEye Parang Vovo, matagal ng walang g...   \n",
       "..                                                 ...   \n",
       "394  NPA po ang kalaban, na pinoprotektahan ni Leni...   \n",
       "395  we are only given the choices of:\\nBBM - son o...   \n",
       "396  Desperado na si Leni..npa at kumunista Ang gag...   \n",
       "397  VP Leni Robredo, kabilang sa mga CPP-NPA lover...   \n",
       "398  VP Leni Robredo, kaalyado ng CPP-NPA-NDF-USEC ...   \n",
       "\n",
       "                                     Tweet (processed)  \n",
       "0    [wala, alam, leni, foreign, policy, alam, pres...  \n",
       "1    [leni, walang, ambag, maritime, industry, year...  \n",
       "2           [inggit, walang, ambag, leni, moro, chaka]  \n",
       "3    [wala, kasing, ibang, topic, alam, leni, walan...  \n",
       "4    [vovo, matagal, walang, galaw, unilever, ngayo...  \n",
       "..                                                 ...  \n",
       "394  [npa, kalaban, pinoprotektahan, leni, npa, pum...  \n",
       "395  [given, choices, son, npa, casted, votes, some...  \n",
       "396  [desperado, leni, npa, kumunista, gagawa, gulo...  \n",
       "397  [vp, leni, robredo, kabilang, lovers, pastor, ...  \n",
       "398               [vp, leni, robredo, kaalyado, badoy]  \n",
       "\n",
       "[399 rows x 2 columns]"
      ]
     },
     "metadata": {},
     "output_type": "display_data"
    }
   ],
   "source": [
    "df[\"Tweet (processed)\"] = df[\"Tweet (processed)\"].transform(\n",
    "    lambda tokens: list(map(lambda token: emoji.replace_emoji(token, \"\"), tokens))\n",
    ")\n",
    "\n",
    "display(df[[\"Tweet\", \"Tweet (processed)\"]])"
   ]
  },
  {
   "attachments": {},
   "cell_type": "markdown",
   "metadata": {
    "id": "-9zsJT3HTQF1"
   },
   "source": [
    "Next, let's filter out empty tokens:"
   ]
  },
  {
   "cell_type": "code",
   "execution_count": 231,
   "metadata": {
    "colab": {
     "base_uri": "https://localhost:8080/",
     "height": 424
    },
    "id": "NV3PbN-GT4OL",
    "outputId": "f9779a01-3726-49f1-8ee1-0b9c7451d976"
   },
   "outputs": [
    {
     "data": {
      "text/html": [
       "<div>\n",
       "<style scoped>\n",
       "    .dataframe tbody tr th:only-of-type {\n",
       "        vertical-align: middle;\n",
       "    }\n",
       "\n",
       "    .dataframe tbody tr th {\n",
       "        vertical-align: top;\n",
       "    }\n",
       "\n",
       "    .dataframe thead th {\n",
       "        text-align: right;\n",
       "    }\n",
       "</style>\n",
       "<table border=\"1\" class=\"dataframe\">\n",
       "  <thead>\n",
       "    <tr style=\"text-align: right;\">\n",
       "      <th></th>\n",
       "      <th>Tweet</th>\n",
       "      <th>Tweet (processed)</th>\n",
       "    </tr>\n",
       "  </thead>\n",
       "  <tbody>\n",
       "    <tr>\n",
       "      <th>0</th>\n",
       "      <td>Wala alam si leni sa foreign policy. Di nya ng...</td>\n",
       "      <td>[wala, alam, leni, foreign, policy, alam, pres...</td>\n",
       "    </tr>\n",
       "    <tr>\n",
       "      <th>1</th>\n",
       "      <td>Jusko si Leni walang ambag sa Maritime Industr...</td>\n",
       "      <td>[leni, walang, ambag, maritime, industry, year...</td>\n",
       "    </tr>\n",
       "    <tr>\n",
       "      <th>2</th>\n",
       "      <td>@setsu0196 @indaysara Inggit lang mga yun, wal...</td>\n",
       "      <td>[inggit, walang, ambag, leni, moro, chaka]</td>\n",
       "    </tr>\n",
       "    <tr>\n",
       "      <th>3</th>\n",
       "      <td>@BosyoJ Wala na kasing ibang topic na alam si ...</td>\n",
       "      <td>[wala, kasing, ibang, topic, alam, leni, walan...</td>\n",
       "    </tr>\n",
       "    <tr>\n",
       "      <th>4</th>\n",
       "      <td>@VancouverEye Parang Vovo, matagal ng walang g...</td>\n",
       "      <td>[vovo, matagal, walang, galaw, unilever, ngayo...</td>\n",
       "    </tr>\n",
       "    <tr>\n",
       "      <th>...</th>\n",
       "      <td>...</td>\n",
       "      <td>...</td>\n",
       "    </tr>\n",
       "    <tr>\n",
       "      <th>394</th>\n",
       "      <td>NPA po ang kalaban, na pinoprotektahan ni Leni...</td>\n",
       "      <td>[npa, kalaban, pinoprotektahan, leni, npa, pum...</td>\n",
       "    </tr>\n",
       "    <tr>\n",
       "      <th>395</th>\n",
       "      <td>we are only given the choices of:\\nBBM - son o...</td>\n",
       "      <td>[given, choices, son, npa, casted, votes, some...</td>\n",
       "    </tr>\n",
       "    <tr>\n",
       "      <th>396</th>\n",
       "      <td>Desperado na si Leni..npa at kumunista Ang gag...</td>\n",
       "      <td>[desperado, leni, npa, kumunista, gagawa, gulo...</td>\n",
       "    </tr>\n",
       "    <tr>\n",
       "      <th>397</th>\n",
       "      <td>VP Leni Robredo, kabilang sa mga CPP-NPA lover...</td>\n",
       "      <td>[vp, leni, robredo, kabilang, lovers, pastor, ...</td>\n",
       "    </tr>\n",
       "    <tr>\n",
       "      <th>398</th>\n",
       "      <td>VP Leni Robredo, kaalyado ng CPP-NPA-NDF-USEC ...</td>\n",
       "      <td>[vp, leni, robredo, kaalyado, badoy]</td>\n",
       "    </tr>\n",
       "  </tbody>\n",
       "</table>\n",
       "<p>399 rows × 2 columns</p>\n",
       "</div>"
      ],
      "text/plain": [
       "                                                 Tweet  \\\n",
       "0    Wala alam si leni sa foreign policy. Di nya ng...   \n",
       "1    Jusko si Leni walang ambag sa Maritime Industr...   \n",
       "2    @setsu0196 @indaysara Inggit lang mga yun, wal...   \n",
       "3    @BosyoJ Wala na kasing ibang topic na alam si ...   \n",
       "4    @VancouverEye Parang Vovo, matagal ng walang g...   \n",
       "..                                                 ...   \n",
       "394  NPA po ang kalaban, na pinoprotektahan ni Leni...   \n",
       "395  we are only given the choices of:\\nBBM - son o...   \n",
       "396  Desperado na si Leni..npa at kumunista Ang gag...   \n",
       "397  VP Leni Robredo, kabilang sa mga CPP-NPA lover...   \n",
       "398  VP Leni Robredo, kaalyado ng CPP-NPA-NDF-USEC ...   \n",
       "\n",
       "                                     Tweet (processed)  \n",
       "0    [wala, alam, leni, foreign, policy, alam, pres...  \n",
       "1    [leni, walang, ambag, maritime, industry, year...  \n",
       "2           [inggit, walang, ambag, leni, moro, chaka]  \n",
       "3    [wala, kasing, ibang, topic, alam, leni, walan...  \n",
       "4    [vovo, matagal, walang, galaw, unilever, ngayo...  \n",
       "..                                                 ...  \n",
       "394  [npa, kalaban, pinoprotektahan, leni, npa, pum...  \n",
       "395  [given, choices, son, npa, casted, votes, some...  \n",
       "396  [desperado, leni, npa, kumunista, gagawa, gulo...  \n",
       "397  [vp, leni, robredo, kabilang, lovers, pastor, ...  \n",
       "398               [vp, leni, robredo, kaalyado, badoy]  \n",
       "\n",
       "[399 rows x 2 columns]"
      ]
     },
     "execution_count": 231,
     "metadata": {},
     "output_type": "execute_result"
    }
   ],
   "source": [
    "df[\"Tweet (processed)\"] = df[\"Tweet (processed)\"].transform(\n",
    "    lambda tokens: list(filter(lambda token: len(token) > 0, tokens))\n",
    ")\n",
    "\n",
    "df[[\"Tweet\", \"Tweet (processed)\"]]"
   ]
  },
  {
   "attachments": {},
   "cell_type": "markdown",
   "metadata": {
    "id": "MrVnB_0-Wt-o"
   },
   "source": [
    "Finally, let's remove the mentions (tokens that start with `@`):"
   ]
  },
  {
   "cell_type": "code",
   "execution_count": 232,
   "metadata": {
    "colab": {
     "base_uri": "https://localhost:8080/",
     "height": 424
    },
    "id": "vGCm0EntW1Fk",
    "outputId": "52c720ba-ca3a-48ec-9fe6-a09ea82bd807"
   },
   "outputs": [
    {
     "data": {
      "text/html": [
       "<div>\n",
       "<style scoped>\n",
       "    .dataframe tbody tr th:only-of-type {\n",
       "        vertical-align: middle;\n",
       "    }\n",
       "\n",
       "    .dataframe tbody tr th {\n",
       "        vertical-align: top;\n",
       "    }\n",
       "\n",
       "    .dataframe thead th {\n",
       "        text-align: right;\n",
       "    }\n",
       "</style>\n",
       "<table border=\"1\" class=\"dataframe\">\n",
       "  <thead>\n",
       "    <tr style=\"text-align: right;\">\n",
       "      <th></th>\n",
       "      <th>Tweet</th>\n",
       "      <th>Tweet (processed)</th>\n",
       "    </tr>\n",
       "  </thead>\n",
       "  <tbody>\n",
       "    <tr>\n",
       "      <th>0</th>\n",
       "      <td>Wala alam si leni sa foreign policy. Di nya ng...</td>\n",
       "      <td>[wala, alam, leni, foreign, policy, alam, pres...</td>\n",
       "    </tr>\n",
       "    <tr>\n",
       "      <th>1</th>\n",
       "      <td>Jusko si Leni walang ambag sa Maritime Industr...</td>\n",
       "      <td>[leni, walang, ambag, maritime, industry, year...</td>\n",
       "    </tr>\n",
       "    <tr>\n",
       "      <th>2</th>\n",
       "      <td>@setsu0196 @indaysara Inggit lang mga yun, wal...</td>\n",
       "      <td>[inggit, walang, ambag, leni, moro, chaka]</td>\n",
       "    </tr>\n",
       "    <tr>\n",
       "      <th>3</th>\n",
       "      <td>@BosyoJ Wala na kasing ibang topic na alam si ...</td>\n",
       "      <td>[wala, kasing, ibang, topic, alam, leni, walan...</td>\n",
       "    </tr>\n",
       "    <tr>\n",
       "      <th>4</th>\n",
       "      <td>@VancouverEye Parang Vovo, matagal ng walang g...</td>\n",
       "      <td>[vovo, matagal, walang, galaw, unilever, ngayo...</td>\n",
       "    </tr>\n",
       "    <tr>\n",
       "      <th>...</th>\n",
       "      <td>...</td>\n",
       "      <td>...</td>\n",
       "    </tr>\n",
       "    <tr>\n",
       "      <th>394</th>\n",
       "      <td>NPA po ang kalaban, na pinoprotektahan ni Leni...</td>\n",
       "      <td>[npa, kalaban, pinoprotektahan, leni, npa, pum...</td>\n",
       "    </tr>\n",
       "    <tr>\n",
       "      <th>395</th>\n",
       "      <td>we are only given the choices of:\\nBBM - son o...</td>\n",
       "      <td>[given, choices, son, npa, casted, votes, some...</td>\n",
       "    </tr>\n",
       "    <tr>\n",
       "      <th>396</th>\n",
       "      <td>Desperado na si Leni..npa at kumunista Ang gag...</td>\n",
       "      <td>[desperado, leni, npa, kumunista, gagawa, gulo...</td>\n",
       "    </tr>\n",
       "    <tr>\n",
       "      <th>397</th>\n",
       "      <td>VP Leni Robredo, kabilang sa mga CPP-NPA lover...</td>\n",
       "      <td>[vp, leni, robredo, kabilang, lovers, pastor, ...</td>\n",
       "    </tr>\n",
       "    <tr>\n",
       "      <th>398</th>\n",
       "      <td>VP Leni Robredo, kaalyado ng CPP-NPA-NDF-USEC ...</td>\n",
       "      <td>[vp, leni, robredo, kaalyado, badoy]</td>\n",
       "    </tr>\n",
       "  </tbody>\n",
       "</table>\n",
       "<p>399 rows × 2 columns</p>\n",
       "</div>"
      ],
      "text/plain": [
       "                                                 Tweet  \\\n",
       "0    Wala alam si leni sa foreign policy. Di nya ng...   \n",
       "1    Jusko si Leni walang ambag sa Maritime Industr...   \n",
       "2    @setsu0196 @indaysara Inggit lang mga yun, wal...   \n",
       "3    @BosyoJ Wala na kasing ibang topic na alam si ...   \n",
       "4    @VancouverEye Parang Vovo, matagal ng walang g...   \n",
       "..                                                 ...   \n",
       "394  NPA po ang kalaban, na pinoprotektahan ni Leni...   \n",
       "395  we are only given the choices of:\\nBBM - son o...   \n",
       "396  Desperado na si Leni..npa at kumunista Ang gag...   \n",
       "397  VP Leni Robredo, kabilang sa mga CPP-NPA lover...   \n",
       "398  VP Leni Robredo, kaalyado ng CPP-NPA-NDF-USEC ...   \n",
       "\n",
       "                                     Tweet (processed)  \n",
       "0    [wala, alam, leni, foreign, policy, alam, pres...  \n",
       "1    [leni, walang, ambag, maritime, industry, year...  \n",
       "2           [inggit, walang, ambag, leni, moro, chaka]  \n",
       "3    [wala, kasing, ibang, topic, alam, leni, walan...  \n",
       "4    [vovo, matagal, walang, galaw, unilever, ngayo...  \n",
       "..                                                 ...  \n",
       "394  [npa, kalaban, pinoprotektahan, leni, npa, pum...  \n",
       "395  [given, choices, son, npa, casted, votes, some...  \n",
       "396  [desperado, leni, npa, kumunista, gagawa, gulo...  \n",
       "397  [vp, leni, robredo, kabilang, lovers, pastor, ...  \n",
       "398               [vp, leni, robredo, kaalyado, badoy]  \n",
       "\n",
       "[399 rows x 2 columns]"
      ]
     },
     "execution_count": 232,
     "metadata": {},
     "output_type": "execute_result"
    }
   ],
   "source": [
    "df[\"Tweet (processed)\"] = df[\"Tweet (processed)\"].transform(\n",
    "    lambda tokens: list(filter(lambda token: token[0] != \"@\", tokens))\n",
    ")\n",
    "\n",
    "df[[\"Tweet\", \"Tweet (processed)\"]]"
   ]
  },
  {
   "attachments": {},
   "cell_type": "markdown",
   "metadata": {
    "id": "2pj1REHeXREN"
   },
   "source": [
    "Cool! Our tweets look easier to work with now. Let's export this dataframe as a CSV file for future analysis."
   ]
  },
  {
   "cell_type": "code",
   "execution_count": 233,
   "metadata": {
    "id": "W-K0hS0BY3tI"
   },
   "outputs": [],
   "source": [
    "df.to_csv(\"processed_data.csv\")"
   ]
  },
  {
   "attachments": {},
   "cell_type": "markdown",
   "metadata": {
    "id": "nltiLXJIXO6r"
   },
   "source": [
    "# Visualization\n",
    "\n",
    "Here comes the fun part! Let's look at all kinds of relationships in our data using different kinds of plots.\n",
    "\n",
    "For this section, we'll be using the `plotly` package: it gives us *interactive* plots to play with, which makes the exploration process more active."
   ]
  },
  {
   "attachments": {},
   "cell_type": "markdown",
   "metadata": {
    "id": "N4IpSvNjYjLC"
   },
   "source": [
    "## Histogram: tokens length\n",
    "\n",
    "For our first plot, we'll see how long our token lists ended up as a result of our natural language processing.\n",
    "\n",
    "First, let's add a new column for the number of tokens per tweet:"
   ]
  },
  {
   "cell_type": "code",
   "execution_count": 39,
   "metadata": {
    "colab": {
     "base_uri": "https://localhost:8080/",
     "height": 424
    },
    "id": "YXX9k9G7pgaQ",
    "outputId": "2fa1a2b7-fafb-4e10-9648-ebe5222e794a"
   },
   "outputs": [
    {
     "data": {
      "text/html": [
       "<div>\n",
       "<style scoped>\n",
       "    .dataframe tbody tr th:only-of-type {\n",
       "        vertical-align: middle;\n",
       "    }\n",
       "\n",
       "    .dataframe tbody tr th {\n",
       "        vertical-align: top;\n",
       "    }\n",
       "\n",
       "    .dataframe thead th {\n",
       "        text-align: right;\n",
       "    }\n",
       "</style>\n",
       "<table border=\"1\" class=\"dataframe\">\n",
       "  <thead>\n",
       "    <tr style=\"text-align: right;\">\n",
       "      <th></th>\n",
       "      <th>Tweet (processed)</th>\n",
       "      <th>Token count</th>\n",
       "    </tr>\n",
       "  </thead>\n",
       "  <tbody>\n",
       "    <tr>\n",
       "      <th>0</th>\n",
       "      <td>[wala, alam, leni, foreign, policy, alam, pres...</td>\n",
       "      <td>10</td>\n",
       "    </tr>\n",
       "    <tr>\n",
       "      <th>1</th>\n",
       "      <td>[leni, walang, ambag, maritime, industry, year...</td>\n",
       "      <td>18</td>\n",
       "    </tr>\n",
       "    <tr>\n",
       "      <th>2</th>\n",
       "      <td>[inggit, walang, ambag, leni, moro, chaka]</td>\n",
       "      <td>6</td>\n",
       "    </tr>\n",
       "    <tr>\n",
       "      <th>3</th>\n",
       "      <td>[wala, kasing, ibang, topic, alam, leni, walan...</td>\n",
       "      <td>28</td>\n",
       "    </tr>\n",
       "    <tr>\n",
       "      <th>4</th>\n",
       "      <td>[vovo, matagal, walang, galaw, unilever, ngayo...</td>\n",
       "      <td>25</td>\n",
       "    </tr>\n",
       "    <tr>\n",
       "      <th>...</th>\n",
       "      <td>...</td>\n",
       "      <td>...</td>\n",
       "    </tr>\n",
       "    <tr>\n",
       "      <th>394</th>\n",
       "      <td>[npa, kalaban, pinoprotektahan, leni, npa, pum...</td>\n",
       "      <td>8</td>\n",
       "    </tr>\n",
       "    <tr>\n",
       "      <th>395</th>\n",
       "      <td>[given, choices, son, npa, casted, votes, some...</td>\n",
       "      <td>9</td>\n",
       "    </tr>\n",
       "    <tr>\n",
       "      <th>396</th>\n",
       "      <td>[desperado, leni, npa, kumunista, gagawa, gulo...</td>\n",
       "      <td>13</td>\n",
       "    </tr>\n",
       "    <tr>\n",
       "      <th>397</th>\n",
       "      <td>[vp, leni, robredo, kabilang, lovers, pastor, ...</td>\n",
       "      <td>11</td>\n",
       "    </tr>\n",
       "    <tr>\n",
       "      <th>398</th>\n",
       "      <td>[vp, leni, robredo, kaalyado, badoy]</td>\n",
       "      <td>5</td>\n",
       "    </tr>\n",
       "  </tbody>\n",
       "</table>\n",
       "<p>399 rows × 2 columns</p>\n",
       "</div>"
      ],
      "text/plain": [
       "                                     Tweet (processed)  Token count\n",
       "0    [wala, alam, leni, foreign, policy, alam, pres...           10\n",
       "1    [leni, walang, ambag, maritime, industry, year...           18\n",
       "2           [inggit, walang, ambag, leni, moro, chaka]            6\n",
       "3    [wala, kasing, ibang, topic, alam, leni, walan...           28\n",
       "4    [vovo, matagal, walang, galaw, unilever, ngayo...           25\n",
       "..                                                 ...          ...\n",
       "394  [npa, kalaban, pinoprotektahan, leni, npa, pum...            8\n",
       "395  [given, choices, son, npa, casted, votes, some...            9\n",
       "396  [desperado, leni, npa, kumunista, gagawa, gulo...           13\n",
       "397  [vp, leni, robredo, kabilang, lovers, pastor, ...           11\n",
       "398               [vp, leni, robredo, kaalyado, badoy]            5\n",
       "\n",
       "[399 rows x 2 columns]"
      ]
     },
     "execution_count": 39,
     "metadata": {},
     "output_type": "execute_result"
    }
   ],
   "source": [
    "df[\"Token count\"] = df[\"Tweet (processed)\"].transform(lambda tokens: len(tokens))\n",
    "\n",
    "df[[\"Tweet (processed)\", \"Token count\"]]"
   ]
  },
  {
   "attachments": {},
   "cell_type": "markdown",
   "metadata": {
    "id": "fjjihouqp5uk"
   },
   "source": [
    "Now let's chuck those token counts into a `plotly` histogram:"
   ]
  },
  {
   "cell_type": "code",
   "execution_count": 40,
   "metadata": {
    "colab": {
     "base_uri": "https://localhost:8080/",
     "height": 542
    },
    "id": "nZJIH02lp9T2",
    "outputId": "a83d8f20-3cf5-46c7-ab06-83ac74246ef9"
   },
   "outputs": [
    {
     "ename": "ValueError",
     "evalue": "Mime type rendering requires nbformat>=4.2.0 but it is not installed",
     "output_type": "error",
     "traceback": [
      "\u001b[0;31m---------------------------------------------------------------------------\u001b[0m",
      "\u001b[0;31mValueError\u001b[0m                                Traceback (most recent call last)",
      "Cell \u001b[0;32mIn[40], line 8\u001b[0m\n\u001b[1;32m      1\u001b[0m fig \u001b[39m=\u001b[39m px\u001b[39m.\u001b[39mhistogram(\n\u001b[1;32m      2\u001b[0m     df, x\u001b[39m=\u001b[39m\u001b[39m\"\u001b[39m\u001b[39mToken count\u001b[39m\u001b[39m\"\u001b[39m, nbins\u001b[39m=\u001b[39m\u001b[39m4\u001b[39m, text_auto\u001b[39m=\u001b[39m\u001b[39mTrue\u001b[39;00m, title\u001b[39m=\u001b[39m\u001b[39m\"\u001b[39m\u001b[39mDistribution of token counts\u001b[39m\u001b[39m\"\u001b[39m\n\u001b[1;32m      3\u001b[0m )\n\u001b[1;32m      4\u001b[0m fig\u001b[39m.\u001b[39mupdate_layout(\n\u001b[1;32m      5\u001b[0m     font_family\u001b[39m=\u001b[39m\u001b[39m\"\u001b[39m\u001b[39mmonospace\u001b[39m\u001b[39m\"\u001b[39m,\n\u001b[1;32m      6\u001b[0m     title_font_family\u001b[39m=\u001b[39m\u001b[39m\"\u001b[39m\u001b[39mmonospace\u001b[39m\u001b[39m\"\u001b[39m,\n\u001b[1;32m      7\u001b[0m )\n\u001b[0;32m----> 8\u001b[0m fig\u001b[39m.\u001b[39;49mshow()\n",
      "File \u001b[0;32m~/.pyenv/versions/3.11.0/lib/python3.11/site-packages/plotly/basedatatypes.py:3409\u001b[0m, in \u001b[0;36mBaseFigure.show\u001b[0;34m(self, *args, **kwargs)\u001b[0m\n\u001b[1;32m   3376\u001b[0m \u001b[39m\u001b[39m\u001b[39m\"\"\"\u001b[39;00m\n\u001b[1;32m   3377\u001b[0m \u001b[39mShow a figure using either the default renderer(s) or the renderer(s)\u001b[39;00m\n\u001b[1;32m   3378\u001b[0m \u001b[39mspecified by the renderer argument\u001b[39;00m\n\u001b[0;32m   (...)\u001b[0m\n\u001b[1;32m   3405\u001b[0m \u001b[39mNone\u001b[39;00m\n\u001b[1;32m   3406\u001b[0m \u001b[39m\"\"\"\u001b[39;00m\n\u001b[1;32m   3407\u001b[0m \u001b[39mimport\u001b[39;00m \u001b[39mplotly\u001b[39;00m\u001b[39m.\u001b[39;00m\u001b[39mio\u001b[39;00m \u001b[39mas\u001b[39;00m \u001b[39mpio\u001b[39;00m\n\u001b[0;32m-> 3409\u001b[0m \u001b[39mreturn\u001b[39;00m pio\u001b[39m.\u001b[39;49mshow(\u001b[39mself\u001b[39;49m, \u001b[39m*\u001b[39;49margs, \u001b[39m*\u001b[39;49m\u001b[39m*\u001b[39;49mkwargs)\n",
      "File \u001b[0;32m~/.pyenv/versions/3.11.0/lib/python3.11/site-packages/plotly/io/_renderers.py:396\u001b[0m, in \u001b[0;36mshow\u001b[0;34m(fig, renderer, validate, **kwargs)\u001b[0m\n\u001b[1;32m    391\u001b[0m         \u001b[39mraise\u001b[39;00m \u001b[39mValueError\u001b[39;00m(\n\u001b[1;32m    392\u001b[0m             \u001b[39m\"\u001b[39m\u001b[39mMime type rendering requires ipython but it is not installed\u001b[39m\u001b[39m\"\u001b[39m\n\u001b[1;32m    393\u001b[0m         )\n\u001b[1;32m    395\u001b[0m     \u001b[39mif\u001b[39;00m \u001b[39mnot\u001b[39;00m nbformat \u001b[39mor\u001b[39;00m Version(nbformat\u001b[39m.\u001b[39m__version__) \u001b[39m<\u001b[39m Version(\u001b[39m\"\u001b[39m\u001b[39m4.2.0\u001b[39m\u001b[39m\"\u001b[39m):\n\u001b[0;32m--> 396\u001b[0m         \u001b[39mraise\u001b[39;00m \u001b[39mValueError\u001b[39;00m(\n\u001b[1;32m    397\u001b[0m             \u001b[39m\"\u001b[39m\u001b[39mMime type rendering requires nbformat>=4.2.0 but it is not installed\u001b[39m\u001b[39m\"\u001b[39m\n\u001b[1;32m    398\u001b[0m         )\n\u001b[1;32m    400\u001b[0m     ipython_display\u001b[39m.\u001b[39mdisplay(bundle, raw\u001b[39m=\u001b[39m\u001b[39mTrue\u001b[39;00m)\n\u001b[1;32m    402\u001b[0m \u001b[39m# external renderers\u001b[39;00m\n",
      "\u001b[0;31mValueError\u001b[0m: Mime type rendering requires nbformat>=4.2.0 but it is not installed"
     ]
    }
   ],
   "source": [
    "fig = px.histogram(\n",
    "    df, x=\"Token count\", nbins=4, text_auto=True, title=\"Distribution of token counts\"\n",
    ")\n",
    "fig.update_layout(\n",
    "    font_family=\"monospace\",\n",
    "    title_font_family=\"monospace\",\n",
    ")\n",
    "fig.show()"
   ]
  },
  {
   "attachments": {},
   "cell_type": "markdown",
   "metadata": {
    "id": "s-W_-dl-sC2C"
   },
   "source": [
    "We see that there are fewer tweets with larger token counts. Here's another histogram, where each token count gets its own bin:"
   ]
  },
  {
   "cell_type": "code",
   "execution_count": null,
   "metadata": {
    "colab": {
     "base_uri": "https://localhost:8080/",
     "height": 542
    },
    "id": "n1Lf9RsRsOkl",
    "outputId": "b51b92e4-0857-4bd6-d9e4-ed844e8275fd"
   },
   "outputs": [
    {
     "data": {
      "text/html": [
       "<div>                            <div id=\"5df68657-d734-4e9c-b606-d8779f7bf3c9\" class=\"plotly-graph-div\" style=\"height:525px; width:100%;\"></div>            <script type=\"text/javascript\">                require([\"plotly\"], function(Plotly) {                    window.PLOTLYENV=window.PLOTLYENV || {};                                    if (document.getElementById(\"5df68657-d734-4e9c-b606-d8779f7bf3c9\")) {                    Plotly.newPlot(                        \"5df68657-d734-4e9c-b606-d8779f7bf3c9\",                        [{\"alignmentgroup\":\"True\",\"bingroup\":\"x\",\"hovertemplate\":\"Token count=%{x}<br>count=%{y}<extra></extra>\",\"legendgroup\":\"\",\"marker\":{\"color\":\"#636efa\",\"pattern\":{\"shape\":\"\"}},\"name\":\"\",\"nbinsx\":40,\"offsetgroup\":\"\",\"orientation\":\"v\",\"showlegend\":false,\"texttemplate\":\"%{value}\",\"x\":[10,18,6,28,25,28,20,30,23,11,13,10,19,14,18,15,22,10,12,16,21,12,3,19,24,21,23,7,28,22,9,24,29,28,20,12,21,29,20,16,27,8,22,29,5,18,27,12,9,3,18,13,2,7,3,5,2,14,5,7,1,0,0,27,21,10,0,2,12,1,7,0,0,0,6,0,2,9,2,5,1,20,9,5,10,0,11,20,24,15,14,7,14,4,9,1,11,1,0,2,7,6,10,7,12,15,0,5,0,0,2,0,3,1,0,3,0,7,19,0,0,0,3,0,2,24,7,9,6,8,21,26,25,22,25,22,21,15,6,4,14,25,23,19,18,10,16,9,7,11,18,9,12,19,20,26,27,9,5,25,11,25,29,23,15,5,21,24,10,12,16,13,3,9,32,16,17,8,6,23,8,23,10,30,24,14,19,9,12,16,26,21,13,8,25,13,25,20,15,10,14,17,9,14,16,11,12,5,24,7,6,10,5,6,5,25,12,7,5,18,13,16,3,8,7,27,10,23,1,16,11,9,12,7,1,14,17,0,0,2,21,0,14,11,16,10,2,2,4,1,22,23,11,6,9,18,14,5,2,26,5,10,22,8,5,16,4,9,15,6,16,8,5,20,4,12,7,26,13,6,0,5,12,16,15,20,6,13,6,17,9,13,25,8,7,11,5,4,9,7,13,5,4,11,8,7,5,14,7,3,9,6,1,6,7,7,4,3,5,5,5,8,11,0,11,4,8,6,5,6,13,13,0,8,2,11,7,9,26,19,9,13,11,22,13,19,24,13,9,20,16,11,30,23,13,22,16,32,23,6,27,20,11,22,7,23,29,21,22,20,9,2,4,19,3,2,18,10,15,3,17,5,4,13,10,21,11,9,23,9,11,34,19,13,8,9,13,11,5],\"xaxis\":\"x\",\"yaxis\":\"y\",\"type\":\"histogram\"}],                        {\"template\":{\"data\":{\"histogram2dcontour\":[{\"type\":\"histogram2dcontour\",\"colorbar\":{\"outlinewidth\":0,\"ticks\":\"\"},\"colorscale\":[[0.0,\"#0d0887\"],[0.1111111111111111,\"#46039f\"],[0.2222222222222222,\"#7201a8\"],[0.3333333333333333,\"#9c179e\"],[0.4444444444444444,\"#bd3786\"],[0.5555555555555556,\"#d8576b\"],[0.6666666666666666,\"#ed7953\"],[0.7777777777777778,\"#fb9f3a\"],[0.8888888888888888,\"#fdca26\"],[1.0,\"#f0f921\"]]}],\"choropleth\":[{\"type\":\"choropleth\",\"colorbar\":{\"outlinewidth\":0,\"ticks\":\"\"}}],\"histogram2d\":[{\"type\":\"histogram2d\",\"colorbar\":{\"outlinewidth\":0,\"ticks\":\"\"},\"colorscale\":[[0.0,\"#0d0887\"],[0.1111111111111111,\"#46039f\"],[0.2222222222222222,\"#7201a8\"],[0.3333333333333333,\"#9c179e\"],[0.4444444444444444,\"#bd3786\"],[0.5555555555555556,\"#d8576b\"],[0.6666666666666666,\"#ed7953\"],[0.7777777777777778,\"#fb9f3a\"],[0.8888888888888888,\"#fdca26\"],[1.0,\"#f0f921\"]]}],\"heatmap\":[{\"type\":\"heatmap\",\"colorbar\":{\"outlinewidth\":0,\"ticks\":\"\"},\"colorscale\":[[0.0,\"#0d0887\"],[0.1111111111111111,\"#46039f\"],[0.2222222222222222,\"#7201a8\"],[0.3333333333333333,\"#9c179e\"],[0.4444444444444444,\"#bd3786\"],[0.5555555555555556,\"#d8576b\"],[0.6666666666666666,\"#ed7953\"],[0.7777777777777778,\"#fb9f3a\"],[0.8888888888888888,\"#fdca26\"],[1.0,\"#f0f921\"]]}],\"heatmapgl\":[{\"type\":\"heatmapgl\",\"colorbar\":{\"outlinewidth\":0,\"ticks\":\"\"},\"colorscale\":[[0.0,\"#0d0887\"],[0.1111111111111111,\"#46039f\"],[0.2222222222222222,\"#7201a8\"],[0.3333333333333333,\"#9c179e\"],[0.4444444444444444,\"#bd3786\"],[0.5555555555555556,\"#d8576b\"],[0.6666666666666666,\"#ed7953\"],[0.7777777777777778,\"#fb9f3a\"],[0.8888888888888888,\"#fdca26\"],[1.0,\"#f0f921\"]]}],\"contourcarpet\":[{\"type\":\"contourcarpet\",\"colorbar\":{\"outlinewidth\":0,\"ticks\":\"\"}}],\"contour\":[{\"type\":\"contour\",\"colorbar\":{\"outlinewidth\":0,\"ticks\":\"\"},\"colorscale\":[[0.0,\"#0d0887\"],[0.1111111111111111,\"#46039f\"],[0.2222222222222222,\"#7201a8\"],[0.3333333333333333,\"#9c179e\"],[0.4444444444444444,\"#bd3786\"],[0.5555555555555556,\"#d8576b\"],[0.6666666666666666,\"#ed7953\"],[0.7777777777777778,\"#fb9f3a\"],[0.8888888888888888,\"#fdca26\"],[1.0,\"#f0f921\"]]}],\"surface\":[{\"type\":\"surface\",\"colorbar\":{\"outlinewidth\":0,\"ticks\":\"\"},\"colorscale\":[[0.0,\"#0d0887\"],[0.1111111111111111,\"#46039f\"],[0.2222222222222222,\"#7201a8\"],[0.3333333333333333,\"#9c179e\"],[0.4444444444444444,\"#bd3786\"],[0.5555555555555556,\"#d8576b\"],[0.6666666666666666,\"#ed7953\"],[0.7777777777777778,\"#fb9f3a\"],[0.8888888888888888,\"#fdca26\"],[1.0,\"#f0f921\"]]}],\"mesh3d\":[{\"type\":\"mesh3d\",\"colorbar\":{\"outlinewidth\":0,\"ticks\":\"\"}}],\"scatter\":[{\"fillpattern\":{\"fillmode\":\"overlay\",\"size\":10,\"solidity\":0.2},\"type\":\"scatter\"}],\"parcoords\":[{\"type\":\"parcoords\",\"line\":{\"colorbar\":{\"outlinewidth\":0,\"ticks\":\"\"}}}],\"scatterpolargl\":[{\"type\":\"scatterpolargl\",\"marker\":{\"colorbar\":{\"outlinewidth\":0,\"ticks\":\"\"}}}],\"bar\":[{\"error_x\":{\"color\":\"#2a3f5f\"},\"error_y\":{\"color\":\"#2a3f5f\"},\"marker\":{\"line\":{\"color\":\"#E5ECF6\",\"width\":0.5},\"pattern\":{\"fillmode\":\"overlay\",\"size\":10,\"solidity\":0.2}},\"type\":\"bar\"}],\"scattergeo\":[{\"type\":\"scattergeo\",\"marker\":{\"colorbar\":{\"outlinewidth\":0,\"ticks\":\"\"}}}],\"scatterpolar\":[{\"type\":\"scatterpolar\",\"marker\":{\"colorbar\":{\"outlinewidth\":0,\"ticks\":\"\"}}}],\"histogram\":[{\"marker\":{\"pattern\":{\"fillmode\":\"overlay\",\"size\":10,\"solidity\":0.2}},\"type\":\"histogram\"}],\"scattergl\":[{\"type\":\"scattergl\",\"marker\":{\"colorbar\":{\"outlinewidth\":0,\"ticks\":\"\"}}}],\"scatter3d\":[{\"type\":\"scatter3d\",\"line\":{\"colorbar\":{\"outlinewidth\":0,\"ticks\":\"\"}},\"marker\":{\"colorbar\":{\"outlinewidth\":0,\"ticks\":\"\"}}}],\"scattermapbox\":[{\"type\":\"scattermapbox\",\"marker\":{\"colorbar\":{\"outlinewidth\":0,\"ticks\":\"\"}}}],\"scatterternary\":[{\"type\":\"scatterternary\",\"marker\":{\"colorbar\":{\"outlinewidth\":0,\"ticks\":\"\"}}}],\"scattercarpet\":[{\"type\":\"scattercarpet\",\"marker\":{\"colorbar\":{\"outlinewidth\":0,\"ticks\":\"\"}}}],\"carpet\":[{\"aaxis\":{\"endlinecolor\":\"#2a3f5f\",\"gridcolor\":\"white\",\"linecolor\":\"white\",\"minorgridcolor\":\"white\",\"startlinecolor\":\"#2a3f5f\"},\"baxis\":{\"endlinecolor\":\"#2a3f5f\",\"gridcolor\":\"white\",\"linecolor\":\"white\",\"minorgridcolor\":\"white\",\"startlinecolor\":\"#2a3f5f\"},\"type\":\"carpet\"}],\"table\":[{\"cells\":{\"fill\":{\"color\":\"#EBF0F8\"},\"line\":{\"color\":\"white\"}},\"header\":{\"fill\":{\"color\":\"#C8D4E3\"},\"line\":{\"color\":\"white\"}},\"type\":\"table\"}],\"barpolar\":[{\"marker\":{\"line\":{\"color\":\"#E5ECF6\",\"width\":0.5},\"pattern\":{\"fillmode\":\"overlay\",\"size\":10,\"solidity\":0.2}},\"type\":\"barpolar\"}],\"pie\":[{\"automargin\":true,\"type\":\"pie\"}]},\"layout\":{\"autotypenumbers\":\"strict\",\"colorway\":[\"#636efa\",\"#EF553B\",\"#00cc96\",\"#ab63fa\",\"#FFA15A\",\"#19d3f3\",\"#FF6692\",\"#B6E880\",\"#FF97FF\",\"#FECB52\"],\"font\":{\"color\":\"#2a3f5f\"},\"hovermode\":\"closest\",\"hoverlabel\":{\"align\":\"left\"},\"paper_bgcolor\":\"white\",\"plot_bgcolor\":\"#E5ECF6\",\"polar\":{\"bgcolor\":\"#E5ECF6\",\"angularaxis\":{\"gridcolor\":\"white\",\"linecolor\":\"white\",\"ticks\":\"\"},\"radialaxis\":{\"gridcolor\":\"white\",\"linecolor\":\"white\",\"ticks\":\"\"}},\"ternary\":{\"bgcolor\":\"#E5ECF6\",\"aaxis\":{\"gridcolor\":\"white\",\"linecolor\":\"white\",\"ticks\":\"\"},\"baxis\":{\"gridcolor\":\"white\",\"linecolor\":\"white\",\"ticks\":\"\"},\"caxis\":{\"gridcolor\":\"white\",\"linecolor\":\"white\",\"ticks\":\"\"}},\"coloraxis\":{\"colorbar\":{\"outlinewidth\":0,\"ticks\":\"\"}},\"colorscale\":{\"sequential\":[[0.0,\"#0d0887\"],[0.1111111111111111,\"#46039f\"],[0.2222222222222222,\"#7201a8\"],[0.3333333333333333,\"#9c179e\"],[0.4444444444444444,\"#bd3786\"],[0.5555555555555556,\"#d8576b\"],[0.6666666666666666,\"#ed7953\"],[0.7777777777777778,\"#fb9f3a\"],[0.8888888888888888,\"#fdca26\"],[1.0,\"#f0f921\"]],\"sequentialminus\":[[0.0,\"#0d0887\"],[0.1111111111111111,\"#46039f\"],[0.2222222222222222,\"#7201a8\"],[0.3333333333333333,\"#9c179e\"],[0.4444444444444444,\"#bd3786\"],[0.5555555555555556,\"#d8576b\"],[0.6666666666666666,\"#ed7953\"],[0.7777777777777778,\"#fb9f3a\"],[0.8888888888888888,\"#fdca26\"],[1.0,\"#f0f921\"]],\"diverging\":[[0,\"#8e0152\"],[0.1,\"#c51b7d\"],[0.2,\"#de77ae\"],[0.3,\"#f1b6da\"],[0.4,\"#fde0ef\"],[0.5,\"#f7f7f7\"],[0.6,\"#e6f5d0\"],[0.7,\"#b8e186\"],[0.8,\"#7fbc41\"],[0.9,\"#4d9221\"],[1,\"#276419\"]]},\"xaxis\":{\"gridcolor\":\"white\",\"linecolor\":\"white\",\"ticks\":\"\",\"title\":{\"standoff\":15},\"zerolinecolor\":\"white\",\"automargin\":true,\"zerolinewidth\":2},\"yaxis\":{\"gridcolor\":\"white\",\"linecolor\":\"white\",\"ticks\":\"\",\"title\":{\"standoff\":15},\"zerolinecolor\":\"white\",\"automargin\":true,\"zerolinewidth\":2},\"scene\":{\"xaxis\":{\"backgroundcolor\":\"#E5ECF6\",\"gridcolor\":\"white\",\"linecolor\":\"white\",\"showbackground\":true,\"ticks\":\"\",\"zerolinecolor\":\"white\",\"gridwidth\":2},\"yaxis\":{\"backgroundcolor\":\"#E5ECF6\",\"gridcolor\":\"white\",\"linecolor\":\"white\",\"showbackground\":true,\"ticks\":\"\",\"zerolinecolor\":\"white\",\"gridwidth\":2},\"zaxis\":{\"backgroundcolor\":\"#E5ECF6\",\"gridcolor\":\"white\",\"linecolor\":\"white\",\"showbackground\":true,\"ticks\":\"\",\"zerolinecolor\":\"white\",\"gridwidth\":2}},\"shapedefaults\":{\"line\":{\"color\":\"#2a3f5f\"}},\"annotationdefaults\":{\"arrowcolor\":\"#2a3f5f\",\"arrowhead\":0,\"arrowwidth\":1},\"geo\":{\"bgcolor\":\"white\",\"landcolor\":\"#E5ECF6\",\"subunitcolor\":\"white\",\"showland\":true,\"showlakes\":true,\"lakecolor\":\"white\"},\"title\":{\"x\":0.05},\"mapbox\":{\"style\":\"light\"}}},\"xaxis\":{\"anchor\":\"y\",\"domain\":[0.0,1.0],\"title\":{\"text\":\"Token count\"}},\"yaxis\":{\"anchor\":\"x\",\"domain\":[0.0,1.0],\"title\":{\"text\":\"Number of tweets\"}},\"legend\":{\"tracegroupgap\":0},\"title\":{\"text\":\"Distribution of token counts\",\"font\":{\"family\":\"monospace\"}},\"barmode\":\"relative\",\"font\":{\"family\":\"monospace\"}},                        {\"responsive\": true}                    ).then(function(){\n",
       "                            \n",
       "var gd = document.getElementById('5df68657-d734-4e9c-b606-d8779f7bf3c9');\n",
       "var x = new MutationObserver(function (mutations, observer) {{\n",
       "        var display = window.getComputedStyle(gd).display;\n",
       "        if (!display || display === 'none') {{\n",
       "            console.log([gd, 'removed!']);\n",
       "            Plotly.purge(gd);\n",
       "            observer.disconnect();\n",
       "        }}\n",
       "}});\n",
       "\n",
       "// Listen for the removal of the full notebook cells\n",
       "var notebookContainer = gd.closest('#notebook-container');\n",
       "if (notebookContainer) {{\n",
       "    x.observe(notebookContainer, {childList: true});\n",
       "}}\n",
       "\n",
       "// Listen for the clearing of the current output cell\n",
       "var outputEl = gd.closest('.output');\n",
       "if (outputEl) {{\n",
       "    x.observe(outputEl, {childList: true});\n",
       "}}\n",
       "\n",
       "                        })                };                });            </script>        </div>"
      ]
     },
     "metadata": {},
     "output_type": "display_data"
    }
   ],
   "source": [
    "fig = px.histogram(\n",
    "    df, x=\"Token count\", nbins=40, text_auto=True, title=\"Distribution of token counts\"\n",
    ")\n",
    "fig.update_layout(\n",
    "    font_family=\"monospace\",\n",
    "    title_font_family=\"monospace\",\n",
    "    yaxis_title=\"Number of tweets\",\n",
    ")\n",
    "fig.show()"
   ]
  },
  {
   "attachments": {},
   "cell_type": "markdown",
   "metadata": {
    "id": "DVPIEUhYsjcl"
   },
   "source": [
    "Now it looks like a city background!"
   ]
  },
  {
   "attachments": {},
   "cell_type": "markdown",
   "metadata": {
    "id": "QsQhxcw5ZCdh"
   },
   "source": [
    "## Heat map: content type against engagements\n",
    "\n",
    "Let's look at the correlation matrix for the engagement counts (`Likes`, `Replies`, `Retweets`) and some of the content types (`Rational`, `Emotional`).\n",
    "\n",
    "First, let's make a mini DataFrame that contains only these columns and get its correlation matrix:"
   ]
  },
  {
   "cell_type": "code",
   "execution_count": null,
   "metadata": {
    "id": "XBBG7weVHDg2"
   },
   "outputs": [],
   "source": [
    "mini_df = df[\n",
    "    [\"Likes\", \"Replies\", \"Retweets\", \"Content is Rational\", \"Content is Emotional\"]\n",
    "]\n",
    "\n",
    "mini_corr = mini_df.corr(numeric_only=True).round(2)"
   ]
  },
  {
   "attachments": {},
   "cell_type": "markdown",
   "metadata": {
    "id": "J4XCKyc-KWMU"
   },
   "source": [
    "Great! Let's turn this into a heatmap using `plotly`'s `imshow` function:"
   ]
  },
  {
   "cell_type": "code",
   "execution_count": null,
   "metadata": {
    "colab": {
     "base_uri": "https://localhost:8080/",
     "height": 542
    },
    "id": "uqe7SEVGKhFQ",
    "outputId": "849b40ea-6e06-45dd-8b70-6feae19e75e8"
   },
   "outputs": [
    {
     "data": {
      "text/html": [
       "<div>                            <div id=\"3d1b42ab-a8c5-488b-9d52-bee71595043c\" class=\"plotly-graph-div\" style=\"height:525px; width:100%;\"></div>            <script type=\"text/javascript\">                require([\"plotly\"], function(Plotly) {                    window.PLOTLYENV=window.PLOTLYENV || {};                                    if (document.getElementById(\"3d1b42ab-a8c5-488b-9d52-bee71595043c\")) {                    Plotly.newPlot(                        \"3d1b42ab-a8c5-488b-9d52-bee71595043c\",                        [{\"coloraxis\":\"coloraxis\",\"name\":\"0\",\"texttemplate\":\"%{z}\",\"x\":[\"Likes\",\"Replies\",\"Retweets\",\"Content is Rational\",\"Content is Emotional\"],\"y\":[\"Likes\",\"Replies\",\"Retweets\",\"Content is Rational\",\"Content is Emotional\"],\"z\":[[1.0,0.87,0.92,0.09,-0.08],[0.87,1.0,0.8,0.1,-0.09],[0.92,0.8,1.0,0.09,-0.1],[0.09,0.1,0.09,1.0,-0.71],[-0.08,-0.09,-0.1,-0.71,1.0]],\"type\":\"heatmap\",\"xaxis\":\"x\",\"yaxis\":\"y\",\"hovertemplate\":\"x: %{x}<br>y: %{y}<br>color: %{z}<extra></extra>\"}],                        {\"template\":{\"data\":{\"histogram2dcontour\":[{\"type\":\"histogram2dcontour\",\"colorbar\":{\"outlinewidth\":0,\"ticks\":\"\"},\"colorscale\":[[0.0,\"#0d0887\"],[0.1111111111111111,\"#46039f\"],[0.2222222222222222,\"#7201a8\"],[0.3333333333333333,\"#9c179e\"],[0.4444444444444444,\"#bd3786\"],[0.5555555555555556,\"#d8576b\"],[0.6666666666666666,\"#ed7953\"],[0.7777777777777778,\"#fb9f3a\"],[0.8888888888888888,\"#fdca26\"],[1.0,\"#f0f921\"]]}],\"choropleth\":[{\"type\":\"choropleth\",\"colorbar\":{\"outlinewidth\":0,\"ticks\":\"\"}}],\"histogram2d\":[{\"type\":\"histogram2d\",\"colorbar\":{\"outlinewidth\":0,\"ticks\":\"\"},\"colorscale\":[[0.0,\"#0d0887\"],[0.1111111111111111,\"#46039f\"],[0.2222222222222222,\"#7201a8\"],[0.3333333333333333,\"#9c179e\"],[0.4444444444444444,\"#bd3786\"],[0.5555555555555556,\"#d8576b\"],[0.6666666666666666,\"#ed7953\"],[0.7777777777777778,\"#fb9f3a\"],[0.8888888888888888,\"#fdca26\"],[1.0,\"#f0f921\"]]}],\"heatmap\":[{\"type\":\"heatmap\",\"colorbar\":{\"outlinewidth\":0,\"ticks\":\"\"},\"colorscale\":[[0.0,\"#0d0887\"],[0.1111111111111111,\"#46039f\"],[0.2222222222222222,\"#7201a8\"],[0.3333333333333333,\"#9c179e\"],[0.4444444444444444,\"#bd3786\"],[0.5555555555555556,\"#d8576b\"],[0.6666666666666666,\"#ed7953\"],[0.7777777777777778,\"#fb9f3a\"],[0.8888888888888888,\"#fdca26\"],[1.0,\"#f0f921\"]]}],\"heatmapgl\":[{\"type\":\"heatmapgl\",\"colorbar\":{\"outlinewidth\":0,\"ticks\":\"\"},\"colorscale\":[[0.0,\"#0d0887\"],[0.1111111111111111,\"#46039f\"],[0.2222222222222222,\"#7201a8\"],[0.3333333333333333,\"#9c179e\"],[0.4444444444444444,\"#bd3786\"],[0.5555555555555556,\"#d8576b\"],[0.6666666666666666,\"#ed7953\"],[0.7777777777777778,\"#fb9f3a\"],[0.8888888888888888,\"#fdca26\"],[1.0,\"#f0f921\"]]}],\"contourcarpet\":[{\"type\":\"contourcarpet\",\"colorbar\":{\"outlinewidth\":0,\"ticks\":\"\"}}],\"contour\":[{\"type\":\"contour\",\"colorbar\":{\"outlinewidth\":0,\"ticks\":\"\"},\"colorscale\":[[0.0,\"#0d0887\"],[0.1111111111111111,\"#46039f\"],[0.2222222222222222,\"#7201a8\"],[0.3333333333333333,\"#9c179e\"],[0.4444444444444444,\"#bd3786\"],[0.5555555555555556,\"#d8576b\"],[0.6666666666666666,\"#ed7953\"],[0.7777777777777778,\"#fb9f3a\"],[0.8888888888888888,\"#fdca26\"],[1.0,\"#f0f921\"]]}],\"surface\":[{\"type\":\"surface\",\"colorbar\":{\"outlinewidth\":0,\"ticks\":\"\"},\"colorscale\":[[0.0,\"#0d0887\"],[0.1111111111111111,\"#46039f\"],[0.2222222222222222,\"#7201a8\"],[0.3333333333333333,\"#9c179e\"],[0.4444444444444444,\"#bd3786\"],[0.5555555555555556,\"#d8576b\"],[0.6666666666666666,\"#ed7953\"],[0.7777777777777778,\"#fb9f3a\"],[0.8888888888888888,\"#fdca26\"],[1.0,\"#f0f921\"]]}],\"mesh3d\":[{\"type\":\"mesh3d\",\"colorbar\":{\"outlinewidth\":0,\"ticks\":\"\"}}],\"scatter\":[{\"fillpattern\":{\"fillmode\":\"overlay\",\"size\":10,\"solidity\":0.2},\"type\":\"scatter\"}],\"parcoords\":[{\"type\":\"parcoords\",\"line\":{\"colorbar\":{\"outlinewidth\":0,\"ticks\":\"\"}}}],\"scatterpolargl\":[{\"type\":\"scatterpolargl\",\"marker\":{\"colorbar\":{\"outlinewidth\":0,\"ticks\":\"\"}}}],\"bar\":[{\"error_x\":{\"color\":\"#2a3f5f\"},\"error_y\":{\"color\":\"#2a3f5f\"},\"marker\":{\"line\":{\"color\":\"#E5ECF6\",\"width\":0.5},\"pattern\":{\"fillmode\":\"overlay\",\"size\":10,\"solidity\":0.2}},\"type\":\"bar\"}],\"scattergeo\":[{\"type\":\"scattergeo\",\"marker\":{\"colorbar\":{\"outlinewidth\":0,\"ticks\":\"\"}}}],\"scatterpolar\":[{\"type\":\"scatterpolar\",\"marker\":{\"colorbar\":{\"outlinewidth\":0,\"ticks\":\"\"}}}],\"histogram\":[{\"marker\":{\"pattern\":{\"fillmode\":\"overlay\",\"size\":10,\"solidity\":0.2}},\"type\":\"histogram\"}],\"scattergl\":[{\"type\":\"scattergl\",\"marker\":{\"colorbar\":{\"outlinewidth\":0,\"ticks\":\"\"}}}],\"scatter3d\":[{\"type\":\"scatter3d\",\"line\":{\"colorbar\":{\"outlinewidth\":0,\"ticks\":\"\"}},\"marker\":{\"colorbar\":{\"outlinewidth\":0,\"ticks\":\"\"}}}],\"scattermapbox\":[{\"type\":\"scattermapbox\",\"marker\":{\"colorbar\":{\"outlinewidth\":0,\"ticks\":\"\"}}}],\"scatterternary\":[{\"type\":\"scatterternary\",\"marker\":{\"colorbar\":{\"outlinewidth\":0,\"ticks\":\"\"}}}],\"scattercarpet\":[{\"type\":\"scattercarpet\",\"marker\":{\"colorbar\":{\"outlinewidth\":0,\"ticks\":\"\"}}}],\"carpet\":[{\"aaxis\":{\"endlinecolor\":\"#2a3f5f\",\"gridcolor\":\"white\",\"linecolor\":\"white\",\"minorgridcolor\":\"white\",\"startlinecolor\":\"#2a3f5f\"},\"baxis\":{\"endlinecolor\":\"#2a3f5f\",\"gridcolor\":\"white\",\"linecolor\":\"white\",\"minorgridcolor\":\"white\",\"startlinecolor\":\"#2a3f5f\"},\"type\":\"carpet\"}],\"table\":[{\"cells\":{\"fill\":{\"color\":\"#EBF0F8\"},\"line\":{\"color\":\"white\"}},\"header\":{\"fill\":{\"color\":\"#C8D4E3\"},\"line\":{\"color\":\"white\"}},\"type\":\"table\"}],\"barpolar\":[{\"marker\":{\"line\":{\"color\":\"#E5ECF6\",\"width\":0.5},\"pattern\":{\"fillmode\":\"overlay\",\"size\":10,\"solidity\":0.2}},\"type\":\"barpolar\"}],\"pie\":[{\"automargin\":true,\"type\":\"pie\"}]},\"layout\":{\"autotypenumbers\":\"strict\",\"colorway\":[\"#636efa\",\"#EF553B\",\"#00cc96\",\"#ab63fa\",\"#FFA15A\",\"#19d3f3\",\"#FF6692\",\"#B6E880\",\"#FF97FF\",\"#FECB52\"],\"font\":{\"color\":\"#2a3f5f\"},\"hovermode\":\"closest\",\"hoverlabel\":{\"align\":\"left\"},\"paper_bgcolor\":\"white\",\"plot_bgcolor\":\"#E5ECF6\",\"polar\":{\"bgcolor\":\"#E5ECF6\",\"angularaxis\":{\"gridcolor\":\"white\",\"linecolor\":\"white\",\"ticks\":\"\"},\"radialaxis\":{\"gridcolor\":\"white\",\"linecolor\":\"white\",\"ticks\":\"\"}},\"ternary\":{\"bgcolor\":\"#E5ECF6\",\"aaxis\":{\"gridcolor\":\"white\",\"linecolor\":\"white\",\"ticks\":\"\"},\"baxis\":{\"gridcolor\":\"white\",\"linecolor\":\"white\",\"ticks\":\"\"},\"caxis\":{\"gridcolor\":\"white\",\"linecolor\":\"white\",\"ticks\":\"\"}},\"coloraxis\":{\"colorbar\":{\"outlinewidth\":0,\"ticks\":\"\"}},\"colorscale\":{\"sequential\":[[0.0,\"#0d0887\"],[0.1111111111111111,\"#46039f\"],[0.2222222222222222,\"#7201a8\"],[0.3333333333333333,\"#9c179e\"],[0.4444444444444444,\"#bd3786\"],[0.5555555555555556,\"#d8576b\"],[0.6666666666666666,\"#ed7953\"],[0.7777777777777778,\"#fb9f3a\"],[0.8888888888888888,\"#fdca26\"],[1.0,\"#f0f921\"]],\"sequentialminus\":[[0.0,\"#0d0887\"],[0.1111111111111111,\"#46039f\"],[0.2222222222222222,\"#7201a8\"],[0.3333333333333333,\"#9c179e\"],[0.4444444444444444,\"#bd3786\"],[0.5555555555555556,\"#d8576b\"],[0.6666666666666666,\"#ed7953\"],[0.7777777777777778,\"#fb9f3a\"],[0.8888888888888888,\"#fdca26\"],[1.0,\"#f0f921\"]],\"diverging\":[[0,\"#8e0152\"],[0.1,\"#c51b7d\"],[0.2,\"#de77ae\"],[0.3,\"#f1b6da\"],[0.4,\"#fde0ef\"],[0.5,\"#f7f7f7\"],[0.6,\"#e6f5d0\"],[0.7,\"#b8e186\"],[0.8,\"#7fbc41\"],[0.9,\"#4d9221\"],[1,\"#276419\"]]},\"xaxis\":{\"gridcolor\":\"white\",\"linecolor\":\"white\",\"ticks\":\"\",\"title\":{\"standoff\":15},\"zerolinecolor\":\"white\",\"automargin\":true,\"zerolinewidth\":2},\"yaxis\":{\"gridcolor\":\"white\",\"linecolor\":\"white\",\"ticks\":\"\",\"title\":{\"standoff\":15},\"zerolinecolor\":\"white\",\"automargin\":true,\"zerolinewidth\":2},\"scene\":{\"xaxis\":{\"backgroundcolor\":\"#E5ECF6\",\"gridcolor\":\"white\",\"linecolor\":\"white\",\"showbackground\":true,\"ticks\":\"\",\"zerolinecolor\":\"white\",\"gridwidth\":2},\"yaxis\":{\"backgroundcolor\":\"#E5ECF6\",\"gridcolor\":\"white\",\"linecolor\":\"white\",\"showbackground\":true,\"ticks\":\"\",\"zerolinecolor\":\"white\",\"gridwidth\":2},\"zaxis\":{\"backgroundcolor\":\"#E5ECF6\",\"gridcolor\":\"white\",\"linecolor\":\"white\",\"showbackground\":true,\"ticks\":\"\",\"zerolinecolor\":\"white\",\"gridwidth\":2}},\"shapedefaults\":{\"line\":{\"color\":\"#2a3f5f\"}},\"annotationdefaults\":{\"arrowcolor\":\"#2a3f5f\",\"arrowhead\":0,\"arrowwidth\":1},\"geo\":{\"bgcolor\":\"white\",\"landcolor\":\"#E5ECF6\",\"subunitcolor\":\"white\",\"showland\":true,\"showlakes\":true,\"lakecolor\":\"white\"},\"title\":{\"x\":0.05},\"mapbox\":{\"style\":\"light\"}}},\"xaxis\":{\"anchor\":\"y\",\"domain\":[0.0,1.0],\"scaleanchor\":\"y\",\"constrain\":\"domain\"},\"yaxis\":{\"anchor\":\"x\",\"domain\":[0.0,1.0],\"autorange\":\"reversed\",\"constrain\":\"domain\"},\"coloraxis\":{\"colorscale\":[[0.0,\"#0d0887\"],[0.1111111111111111,\"#46039f\"],[0.2222222222222222,\"#7201a8\"],[0.3333333333333333,\"#9c179e\"],[0.4444444444444444,\"#bd3786\"],[0.5555555555555556,\"#d8576b\"],[0.6666666666666666,\"#ed7953\"],[0.7777777777777778,\"#fb9f3a\"],[0.8888888888888888,\"#fdca26\"],[1.0,\"#f0f921\"]]},\"margin\":{\"t\":60},\"font\":{\"family\":\"monospace\"},\"title\":{\"text\":\"Correlation matrix of content types and engagement counts\",\"font\":{\"family\":\"monospace\"}}},                        {\"responsive\": true}                    ).then(function(){\n",
       "                            \n",
       "var gd = document.getElementById('3d1b42ab-a8c5-488b-9d52-bee71595043c');\n",
       "var x = new MutationObserver(function (mutations, observer) {{\n",
       "        var display = window.getComputedStyle(gd).display;\n",
       "        if (!display || display === 'none') {{\n",
       "            console.log([gd, 'removed!']);\n",
       "            Plotly.purge(gd);\n",
       "            observer.disconnect();\n",
       "        }}\n",
       "}});\n",
       "\n",
       "// Listen for the removal of the full notebook cells\n",
       "var notebookContainer = gd.closest('#notebook-container');\n",
       "if (notebookContainer) {{\n",
       "    x.observe(notebookContainer, {childList: true});\n",
       "}}\n",
       "\n",
       "// Listen for the clearing of the current output cell\n",
       "var outputEl = gd.closest('.output');\n",
       "if (outputEl) {{\n",
       "    x.observe(outputEl, {childList: true});\n",
       "}}\n",
       "\n",
       "                        })                };                });            </script>        </div>"
      ]
     },
     "metadata": {},
     "output_type": "display_data"
    }
   ],
   "source": [
    "fig = px.imshow(mini_corr, text_auto=True)\n",
    "fig.update_layout(\n",
    "    title=\"Correlation matrix of content types and engagement counts\",\n",
    "    font_family=\"monospace\",\n",
    "    title_font_family=\"monospace\",\n",
    ")\n",
    "fig.show()"
   ]
  },
  {
   "attachments": {},
   "cell_type": "markdown",
   "metadata": {
    "id": "zhNl6-7PLWyQ"
   },
   "source": [
    "Interesting: correlations seem to be stronger *within* content types and engagement counts rather than *between* them..."
   ]
  },
  {
   "attachments": {},
   "cell_type": "markdown",
   "metadata": {
    "id": "BnffNGBlZISf"
   },
   "source": [
    "## Violin plot: tweet type and likes\n",
    "\n",
    "How is like count distributed across tweet types? Let's find out! To accomplish this, we'll use a **violin plot**; it's like a box plot, but there's a kernel density plot (read: distribution) surrounding it.\n",
    "\n",
    "First, since a row in our original DataFrame can have multiple tweet types, let's make an equivalent dataframe that has one row per tweet type per tweet:"
   ]
  },
  {
   "cell_type": "code",
   "execution_count": null,
   "metadata": {
    "id": "kFRuG_UBRL6j"
   },
   "outputs": [],
   "source": [
    "new_df = pd.DataFrame()\n",
    "\n",
    "for _, row in df.iterrows():\n",
    "    tweet_types = row[\"Tweet Type\"].replace(\" \", \"\").split(\",\")\n",
    "    for tweet_type in tweet_types:\n",
    "        new_row = pd.Series({\"Likes\": row[\"Likes\"], \"Tweet Type\": tweet_type})\n",
    "        new_df = pd.concat([new_df, new_row.to_frame().T], ignore_index=True)"
   ]
  },
  {
   "attachments": {},
   "cell_type": "markdown",
   "metadata": {
    "id": "sEq-vZGSROq3"
   },
   "source": [
    "Now let's turn it into a violin plot!"
   ]
  },
  {
   "cell_type": "code",
   "execution_count": null,
   "metadata": {
    "colab": {
     "base_uri": "https://localhost:8080/",
     "height": 542
    },
    "id": "QX5P2F-cMowK",
    "outputId": "cab535af-6a3d-4cb8-b7e5-b8747fca6ca3"
   },
   "outputs": [
    {
     "data": {
      "text/html": [
       "<div>                            <div id=\"d0be9433-ceb9-409d-9ea1-8477040893b5\" class=\"plotly-graph-div\" style=\"height:525px; width:100%;\"></div>            <script type=\"text/javascript\">                require([\"plotly\"], function(Plotly) {                    window.PLOTLYENV=window.PLOTLYENV || {};                                    if (document.getElementById(\"d0be9433-ceb9-409d-9ea1-8477040893b5\")) {                    Plotly.newPlot(                        \"d0be9433-ceb9-409d-9ea1-8477040893b5\",                        [{\"alignmentgroup\":\"True\",\"box\":{\"visible\":false},\"hovertemplate\":\"Tweet Type=%{x}<br>Likes=%{y}<extra></extra>\",\"legendgroup\":\"\",\"marker\":{\"color\":\"#636efa\"},\"name\":\"\",\"offsetgroup\":\"\",\"orientation\":\"v\",\"scalegroup\":\"True\",\"showlegend\":false,\"x\":[\"Text\",\"Reply\",\"Text\",\"Text\",\"Reply\",\"Text\",\"Reply\",\"Text\",\"Reply\",\"Text\",\"Image\",\"Reply\",\"Text\",\"Image\",\"Text\",\"Reply\",\"Text\",\"Text\",\"Reply\",\"Text\",\"Reply\",\"Text\",\"Reply\",\"Text\",\"Reply\",\"Text\",\"Reply\",\"Text\",\"Reply\",\"Text\",\"Reply\",\"Text\",\"Reply\",\"Text\",\"URL\",\"Text\",\"Reply\",\"Text\",\"Reply\",\"Text\",\"Reply\",\"Text\",\"URL\",\"Text\",\"Reply\",\"Text\",\"Reply\",\"Text\",\"Image\",\"Text\",\"Reply\",\"Text\",\"Image\",\"Reply\",\"Text\",\"Text\",\"Reply\",\"Text\",\"Image\",\"Reply\",\"Text\",\"Reply\",\"Text\",\"Reply\",\"Text\",\"Reply\",\"Text\",\"QuoteTweet\",\"Text\",\"Reply\",\"Text\",\"Reply\",\"Text\",\"Reply\",\"Text\",\"Reply\",\"Text\",\"Reply\",\"Text\",\"Reply\",\"Text\",\"Text\",\"Reply\",\"Text\",\"Reply\",\"Text\",\"Reply\",\"Text\",\"Image\",\"Text\",\"Reply\",\"Text\",\"Reply\",\"Text\",\"Reply\",\"Text\",\"Reply\",\"Text\",\"Reply\",\"Text\",\"QuoteTweet\",\"Text\",\"Text\",\"Text\",\"Image\",\"Text\",\"Image\",\"Reply\",\"Text\",\"Reply\",\"Text\",\"Image\",\"Reply\",\"Text\",\"Image\",\"Text\",\"Image\",\"Text\",\"Image\",\"Text\",\"Reply\",\"Text\",\"Reply\",\"Text\",\"Video\",\"Text\",\"Text\",\"Text\",\"QuoteTweet\",\"Text\",\"QuoteTweet\",\"Text\",\"QuoteTweet\",\"Text\",\"QuoteTweet\",\"Text\",\"Image\",\"Text\",\"QuoteTweet\",\"Text\",\"Image\",\"Text\",\"Text\",\"Text\",\"Reply\",\"Text\",\"Image\",\"Reply\",\"Text\",\"Reply\",\"Text\",\"Reply\",\"Text\",\"Image\",\"Text\",\"Reply\",\"Text\",\"Image\",\"Text\",\"Video\",\"Text\",\"Reply\",\"Text\",\"QuoteTweet\",\"Text\",\"Reply\",\"Text\",\"Reply\",\"Text\",\"Reply\",\"Text\",\"Reply\",\"Text\",\"Reply\",\"Text\",\"QuoteTweet\",\"Text\",\"Reply\",\"Text\",\"Image\",\"Text\",\"Image\",\"Reply\",\"Text\",\"Video\",\"Text\",\"Image\",\"Text\",\"Image\",\"Reply\",\"Text\",\"Reply\",\"Text\",\"Image\",\"Reply\",\"Text\",\"Reply\",\"Text\",\"QuoteTweet\",\"Text\",\"QuoteTweet\",\"Text\",\"URL\",\"Text\",\"URL\",\"Text\",\"URL\",\"Text\",\"Reply\",\"Text\",\"Text\",\"Text\",\"Image\",\"Reply\",\"Text\",\"Text\",\"Reply\",\"Text\",\"QuoteTweet\",\"Text\",\"Reply\",\"Text\",\"Text\",\"Video\",\"Text\",\"Reply\",\"Text\",\"Reply\",\"Text\",\"Image\",\"Reply\",\"Text\",\"Text\",\"Reply\",\"Text\",\"Image\",\"Reply\",\"Text\",\"QuoteTweet\",\"Text\",\"QuoteTweet\",\"Text\",\"Reply\",\"Text\",\"Reply\",\"Text\",\"Video\",\"Text\",\"Reply\",\"Text\",\"Reply\",\"Text\",\"Reply\",\"Text\",\"Reply\",\"Text\",\"Reply\",\"Text\",\"Reply\",\"Text\",\"Reply\",\"Text\",\"Image\",\"Reply\",\"Text\",\"Reply\",\"Text\",\"Video\",\"Text\",\"Text\",\"Text\",\"Reply\",\"Text\",\"Reply\",\"Text\",\"Text\",\"Text\",\"QuoteTweet\",\"Text\",\"Reply\",\"Text\",\"Image\",\"Text\",\"Reply\",\"Text\",\"Reply\",\"Text\",\"Reply\",\"Text\",\"Reply\",\"Text\",\"Image\",\"Text\",\"Text\",\"Text\",\"Reply(Comment)\",\"Reply(Quotetweet)\",\"Reply(Quotetweet)\",\"Reply(Quotetweet)\",\"Text\",\"Image\",\"Text\",\"URL\",\"Text\",\"Image\",\"Text\",\"Text\",\"URL\",\"Text\",\"Text\",\"picture\",\"Reply(comment)\",\"Reply(comment)\",\"Reply(Comment)\",\"Reply(Comment)\",\"Text\",\"Image\",\"Reply(Comment)\",\"Reply(Quotetweet)\",\"Text\",\"Text\",\"picture\",\"Reply(comment)\",\"Text\",\"Text\",\"Reply(comment)\",\"Reply(comment)\",\"Reply(comment)\",\"Text\",\"video\",\"Text\",\"Image\",\"Reply(Comment)\",\"Reply(Comment)\",\"Text\",\"Reply(Comment)\",\"Reply(Comment)\",\"Text\",\"Reply(Quotetweet)\",\"Reply(Comment)\",\"Text\",\"Text\",\"URL\",\"Reply(quotetweet)\",\"Text\",\"picture\",\"Reply(comment)\",\"Text\",\"picture\",\"Text\",\"picture\",\"Reply(comment)\",\"Text\",\"URL\",\"Picture\",\"Text\",\"Reply(Comment)\",\"Text\",\"Reply(Comment)\",\"Text\",\"Text\",\"Reply(Comment)\",\"Text\",\"Reply(Comment)\",\"Reply(Comment)\",\"Text\",\"Text\",\"Image\",\"Text\",\"Reply\",\"Text\",\"Reply\",\"Image\",\"Text\",\"Reply\",\"Text\",\"Reply\",\"Text\",\"Reply\",\"Text\",\"URL\",\"Text\",\"Reply\",\"Text\",\"Reply\",\"Text\",\"Reply\",\"Text\",\"Reply\",\"Text\",\"Reply\",\"Text\",\"Text\",\"Reply\",\"Text\",\"Reply\",\"Text\",\"Reply\",\"Text\",\"Reply\",\"Text\",\"Text\",\"Reply\",\"Text\",\"Reply\",\"Text\",\"Text\",\"Reply\",\"Text\",\"Image\",\"Text\",\"Reply\",\"Text\",\"Reply\",\"Text\",\"Reply\",\"Text\",\"Text\",\"Text\",\"Text\",\"Reply\",\"Quotetweet\",\"Text\",\"Reply\",\"Text\",\"Text\",\"Reply\",\"Text\",\"URL\",\"Text\",\"Text\",\"Reply\",\"Text\",\"Image\",\"Text\",\"Quotetweet\",\"Text\",\"Quotetweet\",\"Text\",\"Reply\",\"Text\",\"Quotetweet\",\"Text\",\"Text\",\"URL\",\"Text\",\"URL\",\"Text\",\"Reply\",\"Text\",\"Image\",\"Quotetweet\",\"Text\",\"Reply\",\"Text\",\"Reply\",\"Text\",\"Reply\",\"Text\",\"Image\",\"Text\",\"Reply\",\"Text\",\"Reply\",\"Image\",\"Text\",\"Reply\",\"Video\",\"Text\",\"Text\",\"Reply\",\"Text\",\"Reply\",\"Text\",\"Text\",\"Reply\",\"Text\",\"Reply\",\"Text\",\"Reply\",\"Text\",\"Text\",\"Reply\",\"Text\",\"Reply\",\"Text\",\"Reply\",\"Text\",\"Reply\",\"Text\",\"Reply\",\"Text\",\"Reply\",\"Text\",\"Reply\",\"Text\",\"Image\",\"Text\",\"Image\",\"Text\",\"Reply\",\"Text\",\"Reply\",\"Text\",\"Reply\",\"Text\",\"Reply\",\"Text\",\"Reply\",\"Text\",\"Reply\",\"Text\",\"Reply\",\"Text\",\"Reply\",\"Text\",\"Image\",\"URL\",\"Text\",\"Reply\",\"Text\",\"Reply\",\"Text\",\"Reply\",\"Text\",\"Text\",\"Text\",\"Reply\",\"Text\",\"Reply\",\"Text\",\"Reply\",\"Text\",\"Reply\",\"Text\",\"Image\",\"Text\",\"Image\",\"Text\",\"Reply\",\"Text\",\"Reply\",\"Text\",\"Reply\",\"Image\",\"Text\",\"Reply\",\"Image\",\"Text\",\"Reply\",\"Image\",\"Text\",\"URL\",\"Text\",\"Text\",\"Text\",\"Reply\",\"Text\",\"Text\",\"Reply\",\"Text\",\"Text\",\"Reply\",\"Text\",\"Text\",\"Reply\",\"Text\",\"Reply\",\"Text\",\"Reply\",\"Text\",\"Reply\",\"Text\",\"Reply\",\"Text\",\"Reply\",\"Text\",\"Reply\",\"Text\",\"Reply\",\"Text\",\"Text\",\"URL\",\"Text\",\"Text\",\"Text\",\"Reply\",\"Text\",\"Text\",\"Reply\",\"Image\",\"Text\",\"Reply\",\"Text\",\"Reply\",\"Text\",\"Text\",\"Reply\",\"Text\",\"Reply\",\"Text\",\"Reply\",\"Text\",\"Reply\",\"Text\",\"Reply\",\"Text\",\"Reply\",\"Text\",\"Reply\",\"Text\",\"Text\",\"Quotetweet\",\"Text\",\"Reply\",\"Text\",\"Reply\",\"Text\",\"Text\",\"Reply\",\"Text\",\"Reply\",\"Text\",\"Reply\",\"Text\",\"Reply\",\"Text\",\"Reply\",\"Text\",\"Reply\",\"Text\",\"Reply\",\"Text\",\"Reply\",\"Text\",\"Reply\",\"Text\",\"Reply\",\"Text\",\"Reply\",\"Text\",\"Text\",\"Reply(QuoteTweet)\",\"Text\",\"Text\",\"Reply(comment)\",\"Text\",\"Image\",\"Text\",\"Text\",\"Video\",\"Text\",\"Reply(comment)\",\"Text\",\"Text\",\"Reply(comment)\",\"Text\",\"Reply(comment)\",\"Text\",\"Reply(comment)\",\"Text\",\"Image\",\"Text\",\"Image(throughQuoteTweet)\",\"Text\",\"Image\",\"Tweet\",\"Reply(QuoteTweet)\",\"Tweet\",\"Reply(comment)\",\"Tweet\",\"Image\",\"Tweet\",\"Reply(comment)\",\"Tweet\",\"Reply(comment)\",\"Text\",\"Text\",\"Reply\",\"Text\",\"Reply\",\"Text\",\"Reply\",\"Text\",\"Reply\",\"Text\",\"Reply\",\"Text\",\"Reply\",\"Text\",\"Reply\",\"Text\",\"Reply\",\"Text\",\"Reply\",\"Image\",\"Text\",\"Reply\",\"Text\",\"Reply\",\"Image\",\"Text\",\"QuotedTweet\",\"Text\",\"Text\",\"Video\",\"Text\",\"Reply\",\"Text\",\"Reply\",\"Text\",\"Reply\",\"Text\",\"Image\",\"Text\",\"Image\",\"URL\",\"Text\",\"Video\"],\"x0\":\" \",\"xaxis\":\"x\",\"y\":[0.0,0.0,612.0,2.0,2.0,1.0,1.0,1.0,1.0,0.0,0.0,0.0,6.0,6.0,0.0,0.0,0.0,0.0,0.0,1.0,1.0,0.0,0.0,1.0,1.0,2.0,2.0,0.0,0.0,0.0,0.0,2.0,2.0,0.0,0.0,5.0,5.0,1.0,1.0,4.0,4.0,0.0,0.0,0.0,0.0,1.0,1.0,1.0,1.0,0.0,0.0,2.0,2.0,2.0,1.0,5.0,5.0,4.0,4.0,4.0,1.0,1.0,0.0,0.0,0.0,0.0,9.0,9.0,3.0,3.0,0.0,0.0,0.0,0.0,0.0,0.0,2.0,2.0,2.0,2.0,1.0,0.0,0.0,0.0,0.0,0.0,0.0,0.0,0.0,0.0,0.0,0.0,0.0,0.0,0.0,0.0,0.0,1.0,1.0,2.0,2.0,8.0,1.0,0.0,0.0,0.0,0.0,0.0,3.0,3.0,0.0,0.0,0.0,5.0,5.0,22.0,22.0,10.0,10.0,4.0,4.0,0.0,0.0,7.0,7.0,1.0,0.0,0.0,0.0,0.0,0.0,3.0,3.0,2.0,2.0,2.0,2.0,0.0,0.0,5.0,5.0,0.0,0.0,0.0,0.0,2.0,2.0,2.0,0.0,0.0,0.0,0.0,0.0,0.0,0.0,0.0,2.0,2.0,3.0,3.0,0.0,0.0,0.0,0.0,0.0,0.0,0.0,0.0,0.0,0.0,2.0,2.0,0.0,0.0,0.0,0.0,0.0,0.0,0.0,0.0,1.0,1.0,1.0,1.0,1.0,0.0,0.0,5.0,5.0,5.0,0.0,0.0,0.0,0.0,0.0,1.0,1.0,0.0,0.0,1.0,1.0,5.0,5.0,2.0,2.0,4.0,4.0,7.0,7.0,0.0,0.0,0.0,0.0,0.0,0.0,0.0,0.0,0.0,0.0,0.0,0.0,0.0,0.0,0.0,0.0,0.0,0.0,0.0,0.0,0.0,0.0,0.0,0.0,0.0,0.0,0.0,0.0,6.0,6.0,0.0,0.0,3.0,3.0,0.0,0.0,0.0,0.0,0.0,0.0,1.0,1.0,0.0,0.0,1.0,1.0,1.0,1.0,54.0,54.0,4.0,4.0,1.0,1.0,1.0,0.0,0.0,0.0,0.0,0.0,371.0,0.0,0.0,3.0,3.0,10.0,0.0,3.0,3.0,0.0,0.0,9.0,9.0,0.0,0.0,1.0,1.0,0.0,0.0,0.0,0.0,163.0,163.0,8.0,16.0,37.0,0.0,3.0,23.0,13.0,2.0,2.0,166.0,166.0,177.0,177.0,2.0,45.0,45.0,1.0,192.0,192.0,0.0,3.0,0.0,0.0,4.0,4.0,13.0,5.0,55.0,142.0,142.0,2.0,0.0,0.0,1.0,0.0,0.0,0.0,0.0,0.0,0.0,2.0,0.0,0.0,1.0,2.0,1.0,1.0,0.0,30.0,12.0,12.0,5.0,0.0,0.0,8.0,25.0,25.0,24.0,24.0,0.0,8.0,8.0,8.0,0.0,0.0,0.0,0.0,8.0,57.0,4.0,147.0,0.0,0.0,6.0,0.0,0.0,1.0,1.0,0.0,0.0,0.0,1.0,1.0,0.0,0.0,1.0,1.0,0.0,0.0,0.0,0.0,0.0,0.0,2.0,2.0,2.0,2.0,0.0,0.0,0.0,0.0,0.0,1.0,1.0,0.0,0.0,1.0,1.0,23.0,0.0,0.0,3.0,3.0,0.0,3.0,3.0,18.0,18.0,0.0,0.0,0.0,0.0,0.0,0.0,0.0,0.0,0.0,0.0,0.0,0.0,0.0,0.0,0.0,0.0,0.0,0.0,0.0,0.0,0.0,0.0,0.0,0.0,0.0,0.0,0.0,1.0,1.0,1.0,0.0,0.0,0.0,1.0,1.0,1.0,1.0,0.0,0.0,1.0,1.0,0.0,0.0,0.0,3.0,3.0,0.0,0.0,0.0,0.0,1.0,1.0,0.0,0.0,0.0,0.0,0.0,0.0,0.0,1.0,1.0,4.0,4.0,0.0,0.0,0.0,0.0,0.0,0.0,0.0,0.0,0.0,0.0,0.0,0.0,5.0,5.0,0.0,0.0,0.0,0.0,0.0,0.0,0.0,0.0,0.0,0.0,0.0,0.0,2.0,2.0,0.0,0.0,0.0,0.0,0.0,0.0,0.0,0.0,0.0,0.0,0.0,0.0,0.0,0.0,2.0,2.0,2.0,13.0,13.0,0.0,0.0,2.0,2.0,0.0,0.0,0.0,0.0,0.0,0.0,0.0,0.0,0.0,0.0,14.0,14.0,0.0,0.0,0.0,0.0,0.0,0.0,1.0,1.0,1.0,1.0,1.0,1.0,1.0,1.0,1.0,1.0,1.0,0.0,0.0,2.0,2.0,0.0,0.0,0.0,0.0,0.0,0.0,0.0,0.0,0.0,0.0,0.0,3.0,3.0,2.0,2.0,0.0,0.0,3.0,3.0,2.0,2.0,4.0,4.0,0.0,1.0,1.0,0.0,0.0,0.0,0.0,0.0,0.0,0.0,0.0,1.0,1.0,1.0,1.0,0.0,1.0,1.0,0.0,0.0,0.0,0.0,0.0,0.0,0.0,0.0,0.0,0.0,0.0,0.0,0.0,41.0,41.0,0.0,0.0,2.0,2.0,0.0,0.0,0.0,6.0,6.0,6.0,6.0,0.0,0.0,0.0,0.0,6.0,6.0,0.0,0.0,0.0,0.0,0.0,0.0,1.0,1.0,7.0,7.0,721.0,0.0,0.0,51.0,0.0,0.0,6.0,6.0,0.0,3.0,3.0,0.0,0.0,16.0,0.0,0.0,0.0,0.0,3.0,3.0,52.0,52.0,5.0,5.0,738.0,738.0,3.0,3.0,0.0,0.0,633.0,633.0,0.0,0.0,0.0,0.0,19.0,1.0,1.0,0.0,0.0,0.0,0.0,0.0,0.0,0.0,0.0,0.0,0.0,0.0,0.0,0.0,0.0,1.0,1.0,1.0,1.0,1.0,1.0,1.0,1.0,1.0,1.0,0.0,11.0,11.0,1.0,1.0,2.0,2.0,0.0,0.0,0.0,0.0,93.0,93.0,93.0,123.0,123.0],\"y0\":\" \",\"yaxis\":\"y\",\"type\":\"violin\"}],                        {\"template\":{\"data\":{\"histogram2dcontour\":[{\"type\":\"histogram2dcontour\",\"colorbar\":{\"outlinewidth\":0,\"ticks\":\"\"},\"colorscale\":[[0.0,\"#0d0887\"],[0.1111111111111111,\"#46039f\"],[0.2222222222222222,\"#7201a8\"],[0.3333333333333333,\"#9c179e\"],[0.4444444444444444,\"#bd3786\"],[0.5555555555555556,\"#d8576b\"],[0.6666666666666666,\"#ed7953\"],[0.7777777777777778,\"#fb9f3a\"],[0.8888888888888888,\"#fdca26\"],[1.0,\"#f0f921\"]]}],\"choropleth\":[{\"type\":\"choropleth\",\"colorbar\":{\"outlinewidth\":0,\"ticks\":\"\"}}],\"histogram2d\":[{\"type\":\"histogram2d\",\"colorbar\":{\"outlinewidth\":0,\"ticks\":\"\"},\"colorscale\":[[0.0,\"#0d0887\"],[0.1111111111111111,\"#46039f\"],[0.2222222222222222,\"#7201a8\"],[0.3333333333333333,\"#9c179e\"],[0.4444444444444444,\"#bd3786\"],[0.5555555555555556,\"#d8576b\"],[0.6666666666666666,\"#ed7953\"],[0.7777777777777778,\"#fb9f3a\"],[0.8888888888888888,\"#fdca26\"],[1.0,\"#f0f921\"]]}],\"heatmap\":[{\"type\":\"heatmap\",\"colorbar\":{\"outlinewidth\":0,\"ticks\":\"\"},\"colorscale\":[[0.0,\"#0d0887\"],[0.1111111111111111,\"#46039f\"],[0.2222222222222222,\"#7201a8\"],[0.3333333333333333,\"#9c179e\"],[0.4444444444444444,\"#bd3786\"],[0.5555555555555556,\"#d8576b\"],[0.6666666666666666,\"#ed7953\"],[0.7777777777777778,\"#fb9f3a\"],[0.8888888888888888,\"#fdca26\"],[1.0,\"#f0f921\"]]}],\"heatmapgl\":[{\"type\":\"heatmapgl\",\"colorbar\":{\"outlinewidth\":0,\"ticks\":\"\"},\"colorscale\":[[0.0,\"#0d0887\"],[0.1111111111111111,\"#46039f\"],[0.2222222222222222,\"#7201a8\"],[0.3333333333333333,\"#9c179e\"],[0.4444444444444444,\"#bd3786\"],[0.5555555555555556,\"#d8576b\"],[0.6666666666666666,\"#ed7953\"],[0.7777777777777778,\"#fb9f3a\"],[0.8888888888888888,\"#fdca26\"],[1.0,\"#f0f921\"]]}],\"contourcarpet\":[{\"type\":\"contourcarpet\",\"colorbar\":{\"outlinewidth\":0,\"ticks\":\"\"}}],\"contour\":[{\"type\":\"contour\",\"colorbar\":{\"outlinewidth\":0,\"ticks\":\"\"},\"colorscale\":[[0.0,\"#0d0887\"],[0.1111111111111111,\"#46039f\"],[0.2222222222222222,\"#7201a8\"],[0.3333333333333333,\"#9c179e\"],[0.4444444444444444,\"#bd3786\"],[0.5555555555555556,\"#d8576b\"],[0.6666666666666666,\"#ed7953\"],[0.7777777777777778,\"#fb9f3a\"],[0.8888888888888888,\"#fdca26\"],[1.0,\"#f0f921\"]]}],\"surface\":[{\"type\":\"surface\",\"colorbar\":{\"outlinewidth\":0,\"ticks\":\"\"},\"colorscale\":[[0.0,\"#0d0887\"],[0.1111111111111111,\"#46039f\"],[0.2222222222222222,\"#7201a8\"],[0.3333333333333333,\"#9c179e\"],[0.4444444444444444,\"#bd3786\"],[0.5555555555555556,\"#d8576b\"],[0.6666666666666666,\"#ed7953\"],[0.7777777777777778,\"#fb9f3a\"],[0.8888888888888888,\"#fdca26\"],[1.0,\"#f0f921\"]]}],\"mesh3d\":[{\"type\":\"mesh3d\",\"colorbar\":{\"outlinewidth\":0,\"ticks\":\"\"}}],\"scatter\":[{\"fillpattern\":{\"fillmode\":\"overlay\",\"size\":10,\"solidity\":0.2},\"type\":\"scatter\"}],\"parcoords\":[{\"type\":\"parcoords\",\"line\":{\"colorbar\":{\"outlinewidth\":0,\"ticks\":\"\"}}}],\"scatterpolargl\":[{\"type\":\"scatterpolargl\",\"marker\":{\"colorbar\":{\"outlinewidth\":0,\"ticks\":\"\"}}}],\"bar\":[{\"error_x\":{\"color\":\"#2a3f5f\"},\"error_y\":{\"color\":\"#2a3f5f\"},\"marker\":{\"line\":{\"color\":\"#E5ECF6\",\"width\":0.5},\"pattern\":{\"fillmode\":\"overlay\",\"size\":10,\"solidity\":0.2}},\"type\":\"bar\"}],\"scattergeo\":[{\"type\":\"scattergeo\",\"marker\":{\"colorbar\":{\"outlinewidth\":0,\"ticks\":\"\"}}}],\"scatterpolar\":[{\"type\":\"scatterpolar\",\"marker\":{\"colorbar\":{\"outlinewidth\":0,\"ticks\":\"\"}}}],\"histogram\":[{\"marker\":{\"pattern\":{\"fillmode\":\"overlay\",\"size\":10,\"solidity\":0.2}},\"type\":\"histogram\"}],\"scattergl\":[{\"type\":\"scattergl\",\"marker\":{\"colorbar\":{\"outlinewidth\":0,\"ticks\":\"\"}}}],\"scatter3d\":[{\"type\":\"scatter3d\",\"line\":{\"colorbar\":{\"outlinewidth\":0,\"ticks\":\"\"}},\"marker\":{\"colorbar\":{\"outlinewidth\":0,\"ticks\":\"\"}}}],\"scattermapbox\":[{\"type\":\"scattermapbox\",\"marker\":{\"colorbar\":{\"outlinewidth\":0,\"ticks\":\"\"}}}],\"scatterternary\":[{\"type\":\"scatterternary\",\"marker\":{\"colorbar\":{\"outlinewidth\":0,\"ticks\":\"\"}}}],\"scattercarpet\":[{\"type\":\"scattercarpet\",\"marker\":{\"colorbar\":{\"outlinewidth\":0,\"ticks\":\"\"}}}],\"carpet\":[{\"aaxis\":{\"endlinecolor\":\"#2a3f5f\",\"gridcolor\":\"white\",\"linecolor\":\"white\",\"minorgridcolor\":\"white\",\"startlinecolor\":\"#2a3f5f\"},\"baxis\":{\"endlinecolor\":\"#2a3f5f\",\"gridcolor\":\"white\",\"linecolor\":\"white\",\"minorgridcolor\":\"white\",\"startlinecolor\":\"#2a3f5f\"},\"type\":\"carpet\"}],\"table\":[{\"cells\":{\"fill\":{\"color\":\"#EBF0F8\"},\"line\":{\"color\":\"white\"}},\"header\":{\"fill\":{\"color\":\"#C8D4E3\"},\"line\":{\"color\":\"white\"}},\"type\":\"table\"}],\"barpolar\":[{\"marker\":{\"line\":{\"color\":\"#E5ECF6\",\"width\":0.5},\"pattern\":{\"fillmode\":\"overlay\",\"size\":10,\"solidity\":0.2}},\"type\":\"barpolar\"}],\"pie\":[{\"automargin\":true,\"type\":\"pie\"}]},\"layout\":{\"autotypenumbers\":\"strict\",\"colorway\":[\"#636efa\",\"#EF553B\",\"#00cc96\",\"#ab63fa\",\"#FFA15A\",\"#19d3f3\",\"#FF6692\",\"#B6E880\",\"#FF97FF\",\"#FECB52\"],\"font\":{\"color\":\"#2a3f5f\"},\"hovermode\":\"closest\",\"hoverlabel\":{\"align\":\"left\"},\"paper_bgcolor\":\"white\",\"plot_bgcolor\":\"#E5ECF6\",\"polar\":{\"bgcolor\":\"#E5ECF6\",\"angularaxis\":{\"gridcolor\":\"white\",\"linecolor\":\"white\",\"ticks\":\"\"},\"radialaxis\":{\"gridcolor\":\"white\",\"linecolor\":\"white\",\"ticks\":\"\"}},\"ternary\":{\"bgcolor\":\"#E5ECF6\",\"aaxis\":{\"gridcolor\":\"white\",\"linecolor\":\"white\",\"ticks\":\"\"},\"baxis\":{\"gridcolor\":\"white\",\"linecolor\":\"white\",\"ticks\":\"\"},\"caxis\":{\"gridcolor\":\"white\",\"linecolor\":\"white\",\"ticks\":\"\"}},\"coloraxis\":{\"colorbar\":{\"outlinewidth\":0,\"ticks\":\"\"}},\"colorscale\":{\"sequential\":[[0.0,\"#0d0887\"],[0.1111111111111111,\"#46039f\"],[0.2222222222222222,\"#7201a8\"],[0.3333333333333333,\"#9c179e\"],[0.4444444444444444,\"#bd3786\"],[0.5555555555555556,\"#d8576b\"],[0.6666666666666666,\"#ed7953\"],[0.7777777777777778,\"#fb9f3a\"],[0.8888888888888888,\"#fdca26\"],[1.0,\"#f0f921\"]],\"sequentialminus\":[[0.0,\"#0d0887\"],[0.1111111111111111,\"#46039f\"],[0.2222222222222222,\"#7201a8\"],[0.3333333333333333,\"#9c179e\"],[0.4444444444444444,\"#bd3786\"],[0.5555555555555556,\"#d8576b\"],[0.6666666666666666,\"#ed7953\"],[0.7777777777777778,\"#fb9f3a\"],[0.8888888888888888,\"#fdca26\"],[1.0,\"#f0f921\"]],\"diverging\":[[0,\"#8e0152\"],[0.1,\"#c51b7d\"],[0.2,\"#de77ae\"],[0.3,\"#f1b6da\"],[0.4,\"#fde0ef\"],[0.5,\"#f7f7f7\"],[0.6,\"#e6f5d0\"],[0.7,\"#b8e186\"],[0.8,\"#7fbc41\"],[0.9,\"#4d9221\"],[1,\"#276419\"]]},\"xaxis\":{\"gridcolor\":\"white\",\"linecolor\":\"white\",\"ticks\":\"\",\"title\":{\"standoff\":15},\"zerolinecolor\":\"white\",\"automargin\":true,\"zerolinewidth\":2},\"yaxis\":{\"gridcolor\":\"white\",\"linecolor\":\"white\",\"ticks\":\"\",\"title\":{\"standoff\":15},\"zerolinecolor\":\"white\",\"automargin\":true,\"zerolinewidth\":2},\"scene\":{\"xaxis\":{\"backgroundcolor\":\"#E5ECF6\",\"gridcolor\":\"white\",\"linecolor\":\"white\",\"showbackground\":true,\"ticks\":\"\",\"zerolinecolor\":\"white\",\"gridwidth\":2},\"yaxis\":{\"backgroundcolor\":\"#E5ECF6\",\"gridcolor\":\"white\",\"linecolor\":\"white\",\"showbackground\":true,\"ticks\":\"\",\"zerolinecolor\":\"white\",\"gridwidth\":2},\"zaxis\":{\"backgroundcolor\":\"#E5ECF6\",\"gridcolor\":\"white\",\"linecolor\":\"white\",\"showbackground\":true,\"ticks\":\"\",\"zerolinecolor\":\"white\",\"gridwidth\":2}},\"shapedefaults\":{\"line\":{\"color\":\"#2a3f5f\"}},\"annotationdefaults\":{\"arrowcolor\":\"#2a3f5f\",\"arrowhead\":0,\"arrowwidth\":1},\"geo\":{\"bgcolor\":\"white\",\"landcolor\":\"#E5ECF6\",\"subunitcolor\":\"white\",\"showland\":true,\"showlakes\":true,\"lakecolor\":\"white\"},\"title\":{\"x\":0.05},\"mapbox\":{\"style\":\"light\"}}},\"xaxis\":{\"anchor\":\"y\",\"domain\":[0.0,1.0],\"title\":{\"text\":\"Tweet Type\"}},\"yaxis\":{\"anchor\":\"x\",\"domain\":[0.0,1.0],\"title\":{\"text\":\"Likes\"}},\"legend\":{\"tracegroupgap\":0},\"title\":{\"text\":\"Distribution of like counts per tweet type\",\"font\":{\"family\":\"monospace\"}},\"violinmode\":\"group\",\"font\":{\"family\":\"monospace\"}},                        {\"responsive\": true}                    ).then(function(){\n",
       "                            \n",
       "var gd = document.getElementById('d0be9433-ceb9-409d-9ea1-8477040893b5');\n",
       "var x = new MutationObserver(function (mutations, observer) {{\n",
       "        var display = window.getComputedStyle(gd).display;\n",
       "        if (!display || display === 'none') {{\n",
       "            console.log([gd, 'removed!']);\n",
       "            Plotly.purge(gd);\n",
       "            observer.disconnect();\n",
       "        }}\n",
       "}});\n",
       "\n",
       "// Listen for the removal of the full notebook cells\n",
       "var notebookContainer = gd.closest('#notebook-container');\n",
       "if (notebookContainer) {{\n",
       "    x.observe(notebookContainer, {childList: true});\n",
       "}}\n",
       "\n",
       "// Listen for the clearing of the current output cell\n",
       "var outputEl = gd.closest('.output');\n",
       "if (outputEl) {{\n",
       "    x.observe(outputEl, {childList: true});\n",
       "}}\n",
       "\n",
       "                        })                };                });            </script>        </div>"
      ]
     },
     "metadata": {},
     "output_type": "display_data"
    }
   ],
   "source": [
    "fig = px.violin(\n",
    "    new_df,\n",
    "    y=\"Likes\",\n",
    "    x=\"Tweet Type\",\n",
    "    title=\"Distribution of like counts per tweet type\",\n",
    ")\n",
    "fig.update_layout(font_family=\"monospace\", title_font_family=\"monospace\")\n",
    "fig.show()"
   ]
  },
  {
   "attachments": {},
   "cell_type": "markdown",
   "metadata": {
    "id": "0SUpCX30ZM65"
   },
   "source": [
    "## Line graph: tweet counts over the years\n",
    "\n",
    "How many tweets do we have for each year from 2016 to 2022? Let's use a line graph to find out!\n",
    "\n",
    "First, we need to group our tweets by year:"
   ]
  },
  {
   "cell_type": "code",
   "execution_count": null,
   "metadata": {
    "colab": {
     "base_uri": "https://localhost:8080/",
     "height": 244
    },
    "id": "tmsMXuDY7ZS7",
    "outputId": "8bc61bce-39d9-41ec-c364-6c88d771d145"
   },
   "outputs": [
    {
     "ename": "IndexError",
     "evalue": "ignored",
     "output_type": "error",
     "traceback": [
      "\u001b[0;31m---------------------------------------------------------------------------\u001b[0m",
      "\u001b[0;31mIndexError\u001b[0m                                Traceback (most recent call last)",
      "\u001b[0;32m<ipython-input-58-4e898458ce81>\u001b[0m in \u001b[0;36m<cell line: 4>\u001b[0;34m()\u001b[0m\n\u001b[1;32m      5\u001b[0m     \u001b[0mdate_posted\u001b[0m \u001b[0;34m=\u001b[0m \u001b[0mrow\u001b[0m\u001b[0;34m[\u001b[0m\u001b[0;34m\"Date posted\"\u001b[0m\u001b[0;34m]\u001b[0m\u001b[0;34m\u001b[0m\u001b[0;34m\u001b[0m\u001b[0m\n\u001b[1;32m      6\u001b[0m     \u001b[0myear_posted\u001b[0m \u001b[0;34m=\u001b[0m \u001b[0mint\u001b[0m\u001b[0;34m(\u001b[0m\u001b[0;34mf\"20{re.split(r'/| |:', date_posted)[2]}\"\u001b[0m\u001b[0;34m)\u001b[0m\u001b[0;34m\u001b[0m\u001b[0;34m\u001b[0m\u001b[0m\n\u001b[0;32m----> 7\u001b[0;31m     \u001b[0mcounts\u001b[0m\u001b[0;34m[\u001b[0m\u001b[0myear_posted\u001b[0m \u001b[0;34m-\u001b[0m \u001b[0;36m2016\u001b[0m\u001b[0;34m]\u001b[0m \u001b[0;34m+=\u001b[0m \u001b[0;36m1\u001b[0m\u001b[0;34m\u001b[0m\u001b[0;34m\u001b[0m\u001b[0m\n\u001b[0m\u001b[1;32m      8\u001b[0m \u001b[0;34m\u001b[0m\u001b[0m\n\u001b[1;32m      9\u001b[0m \u001b[0mfig\u001b[0m \u001b[0;34m=\u001b[0m \u001b[0mpx\u001b[0m\u001b[0;34m.\u001b[0m\u001b[0mline\u001b[0m\u001b[0;34m(\u001b[0m\u001b[0mx\u001b[0m\u001b[0;34m=\u001b[0m\u001b[0myears\u001b[0m\u001b[0;34m,\u001b[0m \u001b[0my\u001b[0m\u001b[0;34m=\u001b[0m\u001b[0mcounts\u001b[0m\u001b[0;34m,\u001b[0m \u001b[0mtitle\u001b[0m\u001b[0;34m=\u001b[0m\u001b[0;34m\"Number of tweets per year\"\u001b[0m\u001b[0;34m,\u001b[0m \u001b[0mtext\u001b[0m\u001b[0;34m=\u001b[0m\u001b[0mcounts\u001b[0m\u001b[0;34m)\u001b[0m\u001b[0;34m\u001b[0m\u001b[0;34m\u001b[0m\u001b[0m\n",
      "\u001b[0;31mIndexError\u001b[0m: list index out of range"
     ]
    }
   ],
   "source": [
    "years = [year for year in range(2016, 2023)]\n",
    "counts = [0 for _ in range(7)]\n",
    "\n",
    "for _, row in df.iterrows():\n",
    "    date_posted = row[\"Date posted\"]\n",
    "    year_posted = int(f\"20{re.split(r'/| |:', date_posted)[2]}\")\n",
    "    counts[year_posted - 2016] += 1\n",
    "\n",
    "fig = px.line(x=years, y=counts, title=\"Number of tweets per year\", text=counts)\n",
    "fig.update_layout(\n",
    "    xaxis_title=\"Year\",\n",
    "    yaxis_title=\"Number of tweets\",\n",
    "    font_family=\"monospace\",\n",
    "    title_font_family=\"monospace\",\n",
    ")\n",
    "fig.update_traces(textposition=\"top left\")\n",
    "fig.show()"
   ]
  },
  {
   "attachments": {},
   "cell_type": "markdown",
   "metadata": {
    "id": "jY544Ocj-4UT"
   },
   "source": [
    "This is actually not too surprising: our scraper for data collection was originally programmed to yoink recent tweets, which explains the spike for the later years."
   ]
  },
  {
   "attachments": {},
   "cell_type": "markdown",
   "metadata": {
    "id": "QFIDTAL4m6xL"
   },
   "source": [
    "## 3D: engagement z-scores\n",
    "\n",
    "Back when we were preprocessing, we added columns for the z-scores of likes, replies, and retweets. Given that triples of these values are usually in the range $[-3, 3]^3$, a 3D scatter plot of these triples may be insightful:"
   ]
  },
  {
   "cell_type": "code",
   "execution_count": null,
   "metadata": {
    "id": "Z0WJCxYE5pbQ"
   },
   "outputs": [],
   "source": [
    "fig = px.scatter_3d(\n",
    "    df,\n",
    "    x=\"Likes (z-scores)\",\n",
    "    y=\"Replies (z-scores)\",\n",
    "    z=\"Retweets (z-scores)\",\n",
    "    title=\"Likes z-score vs. Replies z-score vs. Retweets z-score\",\n",
    ")\n",
    "fig.update_layout(\n",
    "    font_family=\"monospace\",\n",
    "    title_font_family=\"monospace\",\n",
    ")\n",
    "fig.show()"
   ]
  },
  {
   "attachments": {},
   "cell_type": "markdown",
   "metadata": {
    "id": "rVmJt0kF5p2H"
   },
   "source": [
    "Here's another 3D scatter plot, which only includes non-outliers:"
   ]
  },
  {
   "cell_type": "code",
   "execution_count": null,
   "metadata": {
    "id": "Jv79aMZi3Jy0"
   },
   "outputs": [],
   "source": [
    "fig = px.scatter_3d(\n",
    "    df,\n",
    "    x=\"Likes (z-scores)\",\n",
    "    y=\"Replies (z-scores)\",\n",
    "    z=\"Retweets (z-scores)\",\n",
    "    title=\"Likes z-score vs. Replies z-score vs. Retweets z-score\",\n",
    ")\n",
    "fig.update_layout(\n",
    "    scene=dict(\n",
    "        xaxis=dict(nticks=4, range=[-3, 3]),\n",
    "        yaxis=dict(nticks=4, range=[-3, 3]),\n",
    "        zaxis=dict(nticks=4, range=[-3, 3]),\n",
    "    ),\n",
    "    font_family=\"monospace\",\n",
    "    title_font_family=\"monospace\",\n",
    ")\n",
    "fig.show()"
   ]
  },
  {
   "attachments": {},
   "cell_type": "markdown",
   "metadata": {
    "id": "RpkIIacW6__e"
   },
   "source": [
    "The triples still look close together!"
   ]
  },
  {
   "attachments": {},
   "cell_type": "markdown",
   "metadata": {
    "id": "Vspx3_rrnmMB"
   },
   "source": [
    "# Features\n",
    "\n",
    "This section will be relatively short; that's because we've actually already done most of the work for this section in previous sections.\n",
    "\n",
    "For the last two subsections of this tour, we'll highlight how some of our actions during preprocessing and visualization will help us for the modeling phase in the future."
   ]
  },
  {
   "attachments": {},
   "cell_type": "markdown",
   "metadata": {
    "id": "kKNRM2KynybC"
   },
   "source": [
    "## Feature selection\n",
    "\n",
    "At the start of `Preprocessing`, we mentioned dropping some columns because they were irrelevant (e.g., optional columns during data collection, name of data collector).\n",
    "\n",
    "Removing these columns reflects the spirit of *feature selection*: once we start training ML models using our data, we want to make sure that the columns we're feeding into our models will actually help them make more accurate decisions.\n",
    "\n",
    "For example, suppose we didn't drop the `Collector` column. For all we know, our model will end up basing its judgments on whether Westin collected the data or not; that would be bad!"
   ]
  },
  {
   "attachments": {},
   "cell_type": "markdown",
   "metadata": {
    "id": "a-U7WvDhnz49"
   },
   "source": [
    "## Feature generation\n",
    "\n",
    "Sometimes, the columns we have aren't enough to help our future models make accurate predictions. To remedy this is what *feature generation*.\n",
    "\n",
    "It feels like the opposite of feature selection, but the idea is that the feature selection is negative × negative (remove bad stuff) while feature generation is a positive × positive (add good stuff).\n",
    "\n",
    "There are a few places where we introduced some new columns partly to incorporate feature generation:\n",
    "\n",
    "- The first is when we added columns of z-scores for different engagement types (likes, replies, retweets). This was done more for the purpose of standardization itself, but it could be helpful to our models.\n",
    "\n",
    "- The second is when we did categorial data encoding. Our models will appreciate it if we feed them numerical data, as that's what they're good at crunching, so bridging the gap between categories and numbers should prove helpful during the modeling phase.\n",
    "\n",
    "- The third is when we introduced the token length column during visualization. This is a case where we extracted a *property* of some column and turned that into another column (as opposed to standardization or encoding). These property-based new features could potentially provide more context to our models."
   ]
  },
  {
   "attachments": {},
   "cell_type": "markdown",
   "metadata": {
    "id": "k3ePAqar7DEk"
   },
   "source": [
    "# Goodbye!\n",
    "\n",
    "That wraps up our journey through the Group 9 dataset. We hope you enjoyed seeing the process evolve, and feel free to apply some of the ideas here in your own future works.\n",
    "\n",
    "That's all from `<Team Name>` for now. Until next time! 👋"
   ]
  }
 ],
 "metadata": {
  "colab": {
   "provenance": [],
   "toc_visible": true
  },
  "kernelspec": {
   "display_name": "Python 3",
   "name": "python3"
  },
  "language_info": {
   "codemirror_mode": {
    "name": "ipython",
    "version": 3
   },
   "file_extension": ".py",
   "mimetype": "text/x-python",
   "name": "python",
   "nbconvert_exporter": "python",
   "pygments_lexer": "ipython3",
   "version": "3.11.0"
  }
 },
 "nbformat": 4,
 "nbformat_minor": 0
}
