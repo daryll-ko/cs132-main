{
  "cells": [
    {
      "cell_type": "code",
      "execution_count": 14,
      "metadata": {},
      "outputs": [],
      "source": [
        "import pandas as pd\n",
        "import os"
      ]
    },
    {
      "cell_type": "code",
      "execution_count": 15,
      "metadata": {},
      "outputs": [],
      "source": [
        "DATA_PATH = os.path.join(os.path.curdir, \"data\")\n",
        "\n",
        "FIRST_CSV_PATH = os.path.join(DATA_PATH, \"data_001-100.csv\")\n",
        "SECOND_CSV_PATH = os.path.join(DATA_PATH, \"data_101-150.csv\")\n"
      ]
    },
    {
      "cell_type": "code",
      "execution_count": 16,
      "metadata": {
        "id": "A1u5NXvICuU9"
      },
      "outputs": [],
      "source": [
        "df1 = pd.read_csv(FIRST_CSV_PATH)\n",
        "df2 = pd.read_csv(SECOND_CSV_PATH)"
      ]
    }
  ],
  "metadata": {
    "colab": {
      "provenance": []
    },
    "kernelspec": {
      "display_name": "Python 3",
      "name": "python3"
    },
    "language_info": {
      "codemirror_mode": {
        "name": "ipython",
        "version": 3
      },
      "file_extension": ".py",
      "mimetype": "text/x-python",
      "name": "python",
      "nbconvert_exporter": "python",
      "pygments_lexer": "ipython3",
      "version": "3.11.0"
    }
  },
  "nbformat": 4,
  "nbformat_minor": 0
}
